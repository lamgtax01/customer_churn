{
 "cells": [
  {
   "cell_type": "markdown",
   "id": "3ac61368-9730-4dd3-a571-48d9d94ec839",
   "metadata": {},
   "source": [
    "# XGBoost SageMaker Pipeline with EMR"
   ]
  },
  {
   "cell_type": "code",
   "execution_count": 353,
   "id": "43098e5b-249d-41cb-ae8a-ffc690c7e305",
   "metadata": {},
   "outputs": [],
   "source": [
    "import sagemaker\n",
    "from sagemaker import image_uris\n",
    "from sagemaker.workflow.pipeline import Pipeline\n",
    "from sagemaker.workflow.steps import CacheConfig, ProcessingStep, TrainingStep\n",
    "from sagemaker.processing import ScriptProcessor\n",
    "from sagemaker.workflow.pipeline_context import PipelineSession"
   ]
  },
  {
   "cell_type": "code",
   "execution_count": 354,
   "id": "735cbe76-d018-43d8-b495-bd27c9993238",
   "metadata": {},
   "outputs": [],
   "source": [
    "sagemaker_role = sagemaker.get_execution_role()\n",
    "sagemaker_session = sagemaker.Session()\n",
    "pipeline_session = PipelineSession()\n",
    "aws_region = sagemaker_session.boto_session.region_name\n",
    "emr_role = \"arn:aws:iam::047922237497:role/EMRServerlessExecutionRole-01\""
   ]
  },
  {
   "cell_type": "code",
   "execution_count": 355,
   "id": "ce23b784-e948-41cc-82d4-d836c6a4c2bc",
   "metadata": {},
   "outputs": [],
   "source": [
    "s3_bucket = \"aamlops2024\"\n",
    "s3_prefix = \"xgboost-pipeline-emr\"\n",
    "app_info_key = f\"{s3_prefix}/emr-tracking/app_info.json\"\n",
    "script_uri = f\"s3://{s3_bucket}/{s3_prefix}\"\n"
   ]
  },
  {
   "cell_type": "code",
   "execution_count": 356,
   "id": "da23c688-3715-4f91-b104-5337827dc370",
   "metadata": {},
   "outputs": [
    {
     "name": "stderr",
     "output_type": "stream",
     "text": [
      "INFO:sagemaker.image_uris:Ignoring unnecessary Python version: py3.\n",
      "INFO:sagemaker.image_uris:Ignoring unnecessary instance type: None.\n"
     ]
    },
    {
     "data": {
      "text/plain": [
       "'683313688378.dkr.ecr.us-east-1.amazonaws.com/sagemaker-xgboost:1.5-1'"
      ]
     },
     "execution_count": 356,
     "metadata": {},
     "output_type": "execute_result"
    }
   ],
   "source": [
    "image_uri = image_uris.retrieve(\n",
    "    framework=\"xgboost\",          # Framework name\n",
    "    region=aws_region,            # Region (defaults to the region of the session)\n",
    "    version=\"1.5-1\",              # Container version\n",
    "    # instance_type=\"ml.m5.large\",  # Instance type (optional, used for multi-model endpoints)\n",
    "    py_version=\"py3\"              # Python version (optional, default is \"py3\")\n",
    ")\n",
    "image_uri"
   ]
  },
  {
   "cell_type": "code",
   "execution_count": 357,
   "id": "5a4dc04e-f8c5-4d66-9bb1-cf6b0abd6d3e",
   "metadata": {},
   "outputs": [
    {
     "data": {
      "text/plain": [
       "'763104351884.dkr.ecr.us-east-1.amazonaws.com/sagemaker-processing-container:latest'"
      ]
     },
     "execution_count": 357,
     "metadata": {},
     "output_type": "execute_result"
    }
   ],
   "source": [
    "image_uri=\"763104351884.dkr.ecr.us-east-1.amazonaws.com/sagemaker-processing-container:latest\"\n",
    "image_uri"
   ]
  },
  {
   "cell_type": "code",
   "execution_count": 358,
   "id": "2096e51a-75d0-4556-9429-390eea8da685",
   "metadata": {},
   "outputs": [
    {
     "name": "stderr",
     "output_type": "stream",
     "text": [
      "INFO:sagemaker.image_uris:Defaulting to only available Python version: py3\n"
     ]
    },
    {
     "data": {
      "text/plain": [
       "'683313688378.dkr.ecr.us-east-1.amazonaws.com/sagemaker-scikit-learn:1.2-1-cpu-py3'"
      ]
     },
     "execution_count": 358,
     "metadata": {},
     "output_type": "execute_result"
    }
   ],
   "source": [
    "image_uri=sagemaker.image_uris.retrieve(\n",
    "        framework=\"sklearn\",\n",
    "        region=\"us-east-1\",\n",
    "        version=\"1.2-1\",  # ✅ You can also try \"1.2-1\"\n",
    "        instance_type=\"ml.m5.large\"\n",
    "    )\n",
    "image_uri"
   ]
  },
  {
   "cell_type": "code",
   "execution_count": 359,
   "id": "26b38ee2-6694-41ef-9049-224de2286414",
   "metadata": {},
   "outputs": [],
   "source": [
    "# Define cache configuration\n",
    "cache_config = CacheConfig(\n",
    "    enable_caching=True,             # Enable caching\n",
    "    expire_after=\"P30D\"              # Cache expiry in ISO 8601 duration format (e.g., P30D = 30 days)\n",
    ")"
   ]
  },
  {
   "cell_type": "markdown",
   "id": "3de57615-9c7d-4001-aae6-73d5cccd306a",
   "metadata": {},
   "source": [
    "## 0. Create EMR Application step"
   ]
  },
  {
   "cell_type": "code",
   "execution_count": 360,
   "id": "f0272328-b5f3-41ef-82d4-88503aa8bddb",
   "metadata": {},
   "outputs": [],
   "source": [
    "script_processor = ScriptProcessor(\n",
    "    image_uri=image_uri,\n",
    "    command=[\"python3\"],\n",
    "    instance_type=\"ml.m5.large\",\n",
    "    instance_count=1,\n",
    "    role=sagemaker_role,\n",
    "    sagemaker_session=pipeline_session,\n",
    "    base_job_name=\"xgb_pipeline_emr\",\n",
    "    env={\n",
    "        \"S3_BUCKET\": s3_bucket,\n",
    "        \"S3_KEY\": app_info_key\n",
    "    }\n",
    ")"
   ]
  },
  {
   "cell_type": "code",
   "execution_count": 375,
   "id": "b3ea083d-a89a-4259-8931-e80edc3069da",
   "metadata": {},
   "outputs": [],
   "source": [
    "create_emr_app_step = ProcessingStep(\n",
    "    name=\"Create_EMR_Application\",\n",
    "    processor=script_processor,\n",
    "    code=\"./code/create_emr_app.py\",\n",
    "    cache_config=cache_config\n",
    ")"
   ]
  },
  {
   "cell_type": "code",
   "execution_count": null,
   "id": "ce748e09-ecc6-4171-80cf-0d5f1789cd12",
   "metadata": {},
   "outputs": [],
   "source": []
  },
  {
   "cell_type": "markdown",
   "id": "238a25a7-ed22-43b5-8fe8-bcbcccbb8087",
   "metadata": {},
   "source": [
    "## 1. Preprocessing"
   ]
  },
  {
   "cell_type": "markdown",
   "id": "a7b0cb25-b41d-4917-975c-f7c7b071e290",
   "metadata": {},
   "source": [
    "### 1.1 Submit_Preprocessing_Job"
   ]
  },
  {
   "cell_type": "code",
   "execution_count": 362,
   "id": "ddee8474-8c32-4650-a353-94ab48fb4d41",
   "metadata": {},
   "outputs": [
    {
     "data": {
      "text/plain": [
       "'s3://aamlops2024/xgboost-pipeline-emr/code/spark_preprocessing.py'"
      ]
     },
     "execution_count": 362,
     "metadata": {},
     "output_type": "execute_result"
    }
   ],
   "source": [
    "local_path = \"./code/spark_preprocessing.py\"\n",
    "destination_path = f\"s3://{s3_bucket}/{s3_prefix}/code\"\n",
    "preprocessing_entry_point_s3uri = sagemaker.s3.S3Uploader.upload(\n",
    "    local_path=local_path,\n",
    "    desired_s3_uri=destination_path\n",
    ")\n",
    "preprocessing_entry_point_s3uri"
   ]
  },
  {
   "cell_type": "code",
   "execution_count": 363,
   "id": "2d0947af-3aac-48ec-a890-7422a7ae45a5",
   "metadata": {},
   "outputs": [],
   "source": [
    "script_processor = ScriptProcessor(\n",
    "    image_uri=image_uri,\n",
    "    command=[\"python3\"],\n",
    "    instance_type=\"ml.m5.large\",\n",
    "    instance_count=1,\n",
    "    role=sagemaker_role,\n",
    "    sagemaker_session=pipeline_session,\n",
    "    base_job_name=\"xgb_pipeline_emr_submit_job\",\n",
    "    env={\n",
    "        # \"APP_INFO_KEY\": f\"{s3_prefix}/emr-tracking/app_info.json\",\n",
    "        \"APP_INFO_KEY\": app_info_key,\n",
    "        \"S3_BUCKET\": s3_bucket,\n",
    "        \"S3_PREFIX\": s3_prefix,\n",
    "        \"ENTRY_POINT\": preprocessing_entry_point_s3uri,\n",
    "        \"EMR_ROLE\": emr_role,\n",
    "        \"JOB_TYPE\": \"preprocessing\"\n",
    "    }\n",
    ")"
   ]
  },
  {
   "cell_type": "code",
   "execution_count": 364,
   "id": "d5b23135-7f9b-4617-a2e4-38e22ecbbae1",
   "metadata": {},
   "outputs": [],
   "source": [
    "submit_preprocess_step = ProcessingStep(\n",
    "    name=\"xgb-emr-Submit_Preprocessing\",\n",
    "    processor=script_processor,\n",
    "    code=\"code/submit_emr_job_preprocessing.py\",\n",
    "    job_arguments=[\n",
    "        \"--region\", \"us-east-1\",\n",
    "    ],\n",
    ")\n",
    "submit_preprocess_step.add_depends_on([create_emr_app_step])"
   ]
  },
  {
   "cell_type": "code",
   "execution_count": null,
   "id": "c4b50fbc-0e0d-4dee-ae4d-9a6b96c0c566",
   "metadata": {},
   "outputs": [],
   "source": []
  },
  {
   "cell_type": "markdown",
   "id": "84d3c716-6340-4aad-8be8-2a01a6d313d1",
   "metadata": {},
   "source": [
    "## 1.2  Wait for Preprocessing Completion"
   ]
  },
  {
   "cell_type": "code",
   "execution_count": 365,
   "id": "b6c78e8f-326c-475a-8f18-3b4d9b04731a",
   "metadata": {},
   "outputs": [],
   "source": [
    "script_processor = ScriptProcessor(\n",
    "    image_uri=image_uri,\n",
    "    command=[\"python3\"],\n",
    "    instance_type=\"ml.m5.large\",\n",
    "    instance_count=1,\n",
    "    role=sagemaker_role,\n",
    "    sagemaker_session=pipeline_session,\n",
    "    base_job_name=\"xgb_pipeline_emr_submit_job\",\n",
    "    env={\n",
    "        \"APP_INFO_KEY\": app_info_key,\n",
    "        \"S3_BUCKET\": s3_bucket,\n",
    "        \"S3_PREFIX\": s3_prefix,\n",
    "        \"JOB_TYPE\": \"preprocessing\"\n",
    "    }\n",
    ")"
   ]
  },
  {
   "cell_type": "code",
   "execution_count": 366,
   "id": "b456845d-ff5d-486e-a589-a937f51815d6",
   "metadata": {},
   "outputs": [],
   "source": [
    "wait_preprocess_step = ProcessingStep(\n",
    "    name=\"Wait_Preprocessing_Job\",\n",
    "    processor=script_processor,\n",
    "    code=\"code/wait_for_emr_job.py\",\n",
    "    job_arguments=[\n",
    "        \"--region\", \"us-east-1\",\n",
    "    ],\n",
    ")\n",
    "wait_preprocess_step.add_depends_on([submit_preprocess_step])"
   ]
  },
  {
   "cell_type": "markdown",
   "id": "b65ea90b-1b9f-4d42-8ef9-2913d69db8c3",
   "metadata": {},
   "source": [
    "## 2 Model Training"
   ]
  },
  {
   "cell_type": "markdown",
   "id": "324a2998-5f43-435d-a59b-5b7fd0a58bc2",
   "metadata": {},
   "source": [
    "### 2.1 Submit Training Job"
   ]
  },
  {
   "cell_type": "code",
   "execution_count": 367,
   "id": "61dfe743-8326-438f-b222-678763d3645d",
   "metadata": {},
   "outputs": [
    {
     "data": {
      "text/plain": [
       "'s3://aamlops2024/xgboost-pipeline-emr/code/spark_training.py'"
      ]
     },
     "execution_count": 367,
     "metadata": {},
     "output_type": "execute_result"
    }
   ],
   "source": [
    "local_path = \"./code/spark_training.py\"\n",
    "destination_path = f\"s3://{s3_bucket}/{s3_prefix}/code\"\n",
    "training_entry_point_s3uri = sagemaker.s3.S3Uploader.upload(\n",
    "    local_path=local_path,\n",
    "    desired_s3_uri=destination_path\n",
    ")\n",
    "training_entry_point_s3uri"
   ]
  },
  {
   "cell_type": "code",
   "execution_count": 368,
   "id": "ea6e9b9c-fc19-4acd-a934-dee4f586b2cc",
   "metadata": {},
   "outputs": [],
   "source": [
    "script_processor = ScriptProcessor(\n",
    "    image_uri=image_uri,\n",
    "    command=[\"python3\"],\n",
    "    instance_type=\"ml.m5.large\",\n",
    "    instance_count=1,\n",
    "    role=sagemaker_role,\n",
    "    sagemaker_session=pipeline_session,\n",
    "    base_job_name=\"xgb_pipeline_emr_submit_job\",\n",
    "    env={\n",
    "        \"APP_INFO_KEY\": app_info_key,\n",
    "        \"EMR_ROLE\": emr_role,\n",
    "        \"ENTRY_POINT\": training_entry_point_s3uri,\n",
    "        \"S3_BUCKET\": s3_bucket,\n",
    "        \"S3_PREFIX\": s3_prefix,\n",
    "        \"JOB_TYPE\": \"training\"\n",
    "    }\n",
    ")\n"
   ]
  },
  {
   "cell_type": "code",
   "execution_count": 369,
   "id": "b8018ff2-af9a-4761-9095-3f68ac7cd3a8",
   "metadata": {},
   "outputs": [],
   "source": [
    "submit_train_step = ProcessingStep(\n",
    "    name=\"Submit_Training_Job\",\n",
    "    processor=script_processor,\n",
    "    code=\"code/submit_emr_job_training.py\",\n",
    "    job_arguments=[\n",
    "        \"--region\", \"us-east-1\",\n",
    "    ],\n",
    ")\n",
    "submit_train_step.add_depends_on([wait_preprocess_step])"
   ]
  },
  {
   "cell_type": "markdown",
   "id": "33c2f557-57a0-4087-ae2a-63c22d96bfbd",
   "metadata": {},
   "source": [
    "### 2.1 Wait for Training Completion"
   ]
  },
  {
   "cell_type": "code",
   "execution_count": 370,
   "id": "58ac1795-434f-4782-aaf6-ed498fa76b78",
   "metadata": {},
   "outputs": [],
   "source": [
    "script_processor = ScriptProcessor(\n",
    "    image_uri=image_uri,\n",
    "    command=[\"python3\"],\n",
    "    instance_type=\"ml.m5.large\",\n",
    "    instance_count=1,\n",
    "    role=sagemaker_role,\n",
    "    sagemaker_session=pipeline_session,\n",
    "    base_job_name=\"xgb_pipeline_emr_submit_job\",\n",
    "    env={\n",
    "        \"APP_INFO_KEY\": app_info_key,\n",
    "        \"S3_BUCKET\": s3_bucket,\n",
    "        \"S3_PREFIX\": s3_prefix,\n",
    "        \"JOB_TYPE\": \"training\"\n",
    "    }\n",
    ")"
   ]
  },
  {
   "cell_type": "code",
   "execution_count": 371,
   "id": "6ce0abba-e48a-41df-acfd-78239e5e0343",
   "metadata": {},
   "outputs": [],
   "source": [
    "wait_train_step = ProcessingStep(\n",
    "    name=\"Wait_Training_Job\",\n",
    "    processor=script_processor,\n",
    "    code=\"./code/wait_for_emr_job.py\",\n",
    "    job_arguments=[\n",
    "        \"--region\", \"us-east-1\",\n",
    "    ],\n",
    "    cache_config=cache_config\n",
    ")\n",
    "wait_train_step.add_depends_on([submit_train_step])"
   ]
  },
  {
   "cell_type": "code",
   "execution_count": null,
   "id": "3fa57d8a-eab1-423e-b2b1-1d6b80e346b8",
   "metadata": {},
   "outputs": [],
   "source": []
  },
  {
   "cell_type": "markdown",
   "id": "0665a904-4927-40d1-8bed-8408eff8d564",
   "metadata": {},
   "source": [
    "## 6. Pipeline"
   ]
  },
  {
   "cell_type": "code",
   "execution_count": 372,
   "id": "f2395286-12d4-416c-aa79-7ec39ec64a06",
   "metadata": {},
   "outputs": [],
   "source": [
    "pipeline = Pipeline(\n",
    "    name=\"xgboost-pipeline-emr-v1-0\",\n",
    "    steps=[\n",
    "        create_emr_app_step,\n",
    "        submit_preprocess_step,\n",
    "        wait_preprocess_step,\n",
    "        submit_train_step,\n",
    "        wait_train_step\n",
    "    ]\n",
    ")"
   ]
  },
  {
   "cell_type": "code",
   "execution_count": 373,
   "id": "615fb6a2-a30f-4119-8905-e7a3f4fc51c7",
   "metadata": {},
   "outputs": [
    {
     "name": "stderr",
     "output_type": "stream",
     "text": [
      "WARNING:sagemaker.workflow.utilities:Popping out 'ProcessingJobName' from the pipeline definition by default since it will be overridden at pipeline execution time. Please utilize the PipelineDefinitionConfig to persist this field in the pipeline definition if desired.\n",
      "WARNING:sagemaker.workflow.utilities:Popping out 'ProcessingJobName' from the pipeline definition by default since it will be overridden at pipeline execution time. Please utilize the PipelineDefinitionConfig to persist this field in the pipeline definition if desired.\n",
      "WARNING:sagemaker.workflow.utilities:Popping out 'ProcessingJobName' from the pipeline definition by default since it will be overridden at pipeline execution time. Please utilize the PipelineDefinitionConfig to persist this field in the pipeline definition if desired.\n",
      "WARNING:sagemaker.workflow.utilities:Popping out 'ProcessingJobName' from the pipeline definition by default since it will be overridden at pipeline execution time. Please utilize the PipelineDefinitionConfig to persist this field in the pipeline definition if desired.\n",
      "WARNING:sagemaker.workflow.utilities:Popping out 'ProcessingJobName' from the pipeline definition by default since it will be overridden at pipeline execution time. Please utilize the PipelineDefinitionConfig to persist this field in the pipeline definition if desired.\n",
      "WARNING:sagemaker.workflow.utilities:Popping out 'ProcessingJobName' from the pipeline definition by default since it will be overridden at pipeline execution time. Please utilize the PipelineDefinitionConfig to persist this field in the pipeline definition if desired.\n",
      "WARNING:sagemaker.workflow.utilities:Popping out 'ProcessingJobName' from the pipeline definition by default since it will be overridden at pipeline execution time. Please utilize the PipelineDefinitionConfig to persist this field in the pipeline definition if desired.\n",
      "WARNING:sagemaker.workflow.utilities:Popping out 'ProcessingJobName' from the pipeline definition by default since it will be overridden at pipeline execution time. Please utilize the PipelineDefinitionConfig to persist this field in the pipeline definition if desired.\n",
      "WARNING:sagemaker.workflow.utilities:Popping out 'ProcessingJobName' from the pipeline definition by default since it will be overridden at pipeline execution time. Please utilize the PipelineDefinitionConfig to persist this field in the pipeline definition if desired.\n",
      "WARNING:sagemaker.workflow.utilities:Popping out 'ProcessingJobName' from the pipeline definition by default since it will be overridden at pipeline execution time. Please utilize the PipelineDefinitionConfig to persist this field in the pipeline definition if desired.\n"
     ]
    },
    {
     "data": {
      "text/plain": [
       "{'PipelineArn': 'arn:aws:sagemaker:us-east-1:047922237497:pipeline/xgboost-pipeline-emr-v1-0',\n",
       " 'ResponseMetadata': {'RequestId': 'fe13a818-1b00-4419-892a-5b0d1a2a09af',\n",
       "  'HTTPStatusCode': 200,\n",
       "  'HTTPHeaders': {'x-amzn-requestid': 'fe13a818-1b00-4419-892a-5b0d1a2a09af',\n",
       "   'content-type': 'application/x-amz-json-1.1',\n",
       "   'content-length': '93',\n",
       "   'date': 'Fri, 04 Apr 2025 05:51:52 GMT'},\n",
       "  'RetryAttempts': 0}}"
      ]
     },
     "execution_count": 373,
     "metadata": {},
     "output_type": "execute_result"
    }
   ],
   "source": [
    "pipeline.upsert(role_arn=sagemaker_role)"
   ]
  },
  {
   "cell_type": "code",
   "execution_count": 374,
   "id": "db14c863-f805-488c-951d-2df8d8350877",
   "metadata": {},
   "outputs": [
    {
     "data": {
      "text/plain": [
       "_PipelineExecution(arn='arn:aws:sagemaker:us-east-1:047922237497:pipeline/xgboost-pipeline-emr-v1-0/execution/7tgthtxh17em', sagemaker_session=<sagemaker.session.Session object at 0x7ff20730eb10>)"
      ]
     },
     "execution_count": 374,
     "metadata": {},
     "output_type": "execute_result"
    }
   ],
   "source": [
    "pipeline.start()"
   ]
  },
  {
   "cell_type": "code",
   "execution_count": null,
   "id": "9f56d3fb-bd6d-4220-92ca-8b7114d5d7f1",
   "metadata": {},
   "outputs": [],
   "source": []
  },
  {
   "cell_type": "code",
   "execution_count": null,
   "id": "4e876ee2-3fc7-4c49-84cd-aed5dbc8484b",
   "metadata": {},
   "outputs": [],
   "source": []
  }
 ],
 "metadata": {
  "kernelspec": {
   "display_name": "Python 3 (ipykernel)",
   "language": "python",
   "name": "python3"
  },
  "language_info": {
   "codemirror_mode": {
    "name": "ipython",
    "version": 3
   },
   "file_extension": ".py",
   "mimetype": "text/x-python",
   "name": "python",
   "nbconvert_exporter": "python",
   "pygments_lexer": "ipython3",
   "version": "3.11.10"
  }
 },
 "nbformat": 4,
 "nbformat_minor": 5
}
