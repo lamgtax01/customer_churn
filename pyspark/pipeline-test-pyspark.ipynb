{
 "cells": [
  {
   "cell_type": "markdown",
   "id": "256570b7-21e6-4a34-91f3-270ec93ef8ad",
   "metadata": {},
   "source": [
    "# SageMaker Pipeline"
   ]
  },
  {
   "cell_type": "markdown",
   "id": "bac78252-bb85-484b-8106-88a412f1497a",
   "metadata": {},
   "source": [
    "### Define Libraries"
   ]
  },
  {
   "cell_type": "code",
   "execution_count": 6,
   "id": "e07637e9-ad0e-499e-92e2-1112d16c1f86",
   "metadata": {},
   "outputs": [],
   "source": [
    "import sagemaker\n",
    "from sagemaker.estimator import Estimator as xgb_Estimator\n",
    "from sagemaker import image_uris\n",
    "from sagemaker.inputs import TrainingInput\n",
    "from sagemaker.processing import ScriptProcessor, ProcessingInput, ProcessingOutput\n",
    "from sagemaker.workflow.steps import CacheConfig, ProcessingStep, TrainingStep\n",
    "from sagemaker.workflow.pipeline import Pipeline\n",
    "from sagemaker.workflow.pipeline_context import PipelineSession\n",
    "from sagemaker.workflow.parameters import ParameterString, ParameterInteger, ParameterFloat\n",
    "from sagemaker.workflow.properties import PropertyFile\n",
    "from sagemaker.workflow.condition_step import ConditionStep\n",
    "from sagemaker.workflow.conditions import ConditionGreaterThan\n",
    "from sagemaker.workflow.step_collections import RegisterModel\n",
    "from sagemaker.workflow.functions import Join\n",
    "from sagemaker.workflow.functions import JsonGet\n",
    "from sagemaker.workflow.fail_step import FailStep\n",
    "\n",
    "from sagemaker.sklearn.processing import SKLearnProcessor\n",
    "\n",
    "import os"
   ]
  },
  {
   "cell_type": "markdown",
   "id": "1a107db6-dedc-4d12-845f-52e258f8c323",
   "metadata": {},
   "source": [
    "### Define variables"
   ]
  },
  {
   "cell_type": "code",
   "execution_count": 7,
   "id": "08a0b358-8a54-4c5f-a13d-ead598e14cc5",
   "metadata": {},
   "outputs": [
    {
     "data": {
      "text/html": [
       "<pre style=\"white-space:pre;overflow-x:auto;line-height:normal;font-family:Menlo,'DejaVu Sans Mono',consolas,'Courier New',monospace\"><span style=\"color: #7fbfbf; text-decoration-color: #7fbfbf\">[11/27/24 19:51:52] </span><span style=\"color: #0069ff; text-decoration-color: #0069ff; font-weight: bold\">INFO    </span> Ignoring unnecessary Python version: py3.                            <a href=\"file:///opt/conda/lib/python3.11/site-packages/sagemaker/image_uris.py\" target=\"_blank\"><span style=\"color: #7f7f7f; text-decoration-color: #7f7f7f\">image_uris.py</span></a><span style=\"color: #7f7f7f; text-decoration-color: #7f7f7f\">:</span><a href=\"file:///opt/conda/lib/python3.11/site-packages/sagemaker/image_uris.py#596\" target=\"_blank\"><span style=\"color: #7f7f7f; text-decoration-color: #7f7f7f\">596</span></a>\n",
       "</pre>\n"
      ],
      "text/plain": [
       "\u001b[2;36m[11/27/24 19:51:52]\u001b[0m\u001b[2;36m \u001b[0m\u001b[1;38;2;0;105;255mINFO    \u001b[0m Ignoring unnecessary Python version: py3.                            \u001b]8;id=596619;file:///opt/conda/lib/python3.11/site-packages/sagemaker/image_uris.py\u001b\\\u001b[2mimage_uris.py\u001b[0m\u001b]8;;\u001b\\\u001b[2m:\u001b[0m\u001b]8;id=660063;file:///opt/conda/lib/python3.11/site-packages/sagemaker/image_uris.py#596\u001b\\\u001b[2m596\u001b[0m\u001b]8;;\u001b\\\n"
      ]
     },
     "metadata": {},
     "output_type": "display_data"
    },
    {
     "data": {
      "text/html": [
       "<pre style=\"white-space:pre;overflow-x:auto;line-height:normal;font-family:Menlo,'DejaVu Sans Mono',consolas,'Courier New',monospace\"><span style=\"color: #7fbfbf; text-decoration-color: #7fbfbf\">                    </span><span style=\"color: #0069ff; text-decoration-color: #0069ff; font-weight: bold\">INFO    </span> Ignoring unnecessary instance type: <span style=\"color: #e100e1; text-decoration-color: #e100e1; font-style: italic\">None</span>.                            <a href=\"file:///opt/conda/lib/python3.11/site-packages/sagemaker/image_uris.py\" target=\"_blank\"><span style=\"color: #7f7f7f; text-decoration-color: #7f7f7f\">image_uris.py</span></a><span style=\"color: #7f7f7f; text-decoration-color: #7f7f7f\">:</span><a href=\"file:///opt/conda/lib/python3.11/site-packages/sagemaker/image_uris.py#523\" target=\"_blank\"><span style=\"color: #7f7f7f; text-decoration-color: #7f7f7f\">523</span></a>\n",
       "</pre>\n"
      ],
      "text/plain": [
       "\u001b[2;36m                   \u001b[0m\u001b[2;36m \u001b[0m\u001b[1;38;2;0;105;255mINFO    \u001b[0m Ignoring unnecessary instance type: \u001b[3;38;2;225;0;225mNone\u001b[0m.                            \u001b]8;id=516608;file:///opt/conda/lib/python3.11/site-packages/sagemaker/image_uris.py\u001b\\\u001b[2mimage_uris.py\u001b[0m\u001b]8;;\u001b\\\u001b[2m:\u001b[0m\u001b]8;id=609709;file:///opt/conda/lib/python3.11/site-packages/sagemaker/image_uris.py#523\u001b\\\u001b[2m523\u001b[0m\u001b]8;;\u001b\\\n"
      ]
     },
     "metadata": {},
     "output_type": "display_data"
    },
    {
     "data": {
      "text/plain": [
       "('aamlops2024',\n",
       " 'xgb-pipeline-lam-01',\n",
       " 's3://aamlops2024/xgb-pipeline-lam-01',\n",
       " 'us-east-1',\n",
       " '683313688378.dkr.ecr.us-east-1.amazonaws.com/sagemaker-xgboost:1.5-1')"
      ]
     },
     "execution_count": 7,
     "metadata": {},
     "output_type": "execute_result"
    }
   ],
   "source": [
    "sagemaker_role = sagemaker.get_execution_role()\n",
    "sagemaker_session = sagemaker.Session()\n",
    "pipeline_session = PipelineSession()\n",
    "\n",
    "aws_region = sagemaker_session.boto_session.region_name\n",
    "\n",
    "image_uri = image_uris.retrieve(\n",
    "    framework=\"xgboost\",          # Framework name\n",
    "    region=aws_region,            # Region (defaults to the region of the session)\n",
    "    version=\"1.5-1\",              # Container version\n",
    "    #instance_type=\"ml.m5.large\",  # Instance type (optional, used for multi-model endpoints)\n",
    "    py_version=\"py3\"              # Python version (optional, default is \"py3\")\n",
    ")\n",
    "\n",
    "# s3_bucket = sagemaker_session.default_bucket()\n",
    "s3_bucket = \"aamlops2024\"\n",
    "s3_prefix = \"xgb-pipeline-lam-01\"\n",
    "s3_base_url = f\"s3://{s3_bucket}/{s3_prefix}\"\n",
    "s3_bucket, s3_prefix, s3_base_url, aws_region, image_uri"
   ]
  },
  {
   "cell_type": "code",
   "execution_count": null,
   "id": "a3234bb9-e17d-476a-88a7-85ade20566c9",
   "metadata": {},
   "outputs": [],
   "source": []
  },
  {
   "cell_type": "markdown",
   "id": "e5c07cb7-b9d9-4ed8-a5ab-1a7f7a33a6dc",
   "metadata": {},
   "source": [
    "### Define the pipeline parameters"
   ]
  },
  {
   "cell_type": "code",
   "execution_count": 8,
   "id": "a8f6f496-3b83-406d-b580-1575935aca70",
   "metadata": {},
   "outputs": [],
   "source": [
    "processing_instance_type = ParameterString(name=\"ProcessingInstanceType\", default_value=\"ml.m5.xlarge\")\n",
    "processing_instance_count = ParameterInteger(name=\"ProcessingInstanceCount\", default_value=1)\n",
    "instance_type = ParameterString(name=\"TrainingInstanceType\", default_value=\"ml.m5.xlarge\")\n",
    "training_instance_type = ParameterString(name=\"TrainingInstanceType\", default_value=\"ml.m5.xlarge\")\n",
    "batch_instance_type = ParameterString(name=\"BatchInstanceType\", default_value=\"ml.m5.xlarge\")\n",
    "model_approval_status = ParameterString(name=\"ModelApprovalStatus\", default_value=\"PendingManualApproval\")\n",
    "input_data_uri = ParameterString(name=\"InputDataUri\", default_value=f\"s3://{s3_bucket}/{s3_prefix}/data/data.csv\")\n",
    "output_path = ParameterString(name=\"OutputPath\", default_value=f\"s3://{s3_bucket}/{s3_prefix}/output\")\n",
    "accuracy_threshold = ParameterFloat(name=\"AccuracyThreshold\", default_value=0.85)\n",
    "model_package_group_name=\"xgb-Model-01\""
   ]
  },
  {
   "cell_type": "markdown",
   "id": "47399c55-3e74-4614-b78e-b06d7320f942",
   "metadata": {},
   "source": [
    "### Step 0: Get Data"
   ]
  },
  {
   "cell_type": "code",
   "execution_count": 9,
   "id": "0bf65e55-5d46-492a-91b9-7a19dccc4668",
   "metadata": {},
   "outputs": [],
   "source": [
    "import boto3\n",
    "s3 = boto3.client(\"s3\")\n",
    "s3.download_file(\n",
    "    f\"sagemaker-example-files-prod-{sagemaker_session.boto_region_name}\",\n",
    "    \"datasets/tabular/synthetic/churn.txt\",\n",
    "    \"data/churn.txt\",\n",
    ")"
   ]
  },
  {
   "cell_type": "code",
   "execution_count": null,
   "id": "e47fd99f-ccba-4a89-8f85-e34bb1b1da14",
   "metadata": {},
   "outputs": [],
   "source": []
  },
  {
   "cell_type": "code",
   "execution_count": 10,
   "id": "dc92247e-252e-4759-96e9-2c20e440b693",
   "metadata": {},
   "outputs": [],
   "source": [
    "import pandas as pd\n",
    "data = pd.read_csv(\"./data/churn.txt\")"
   ]
  },
  {
   "cell_type": "code",
   "execution_count": 11,
   "id": "2cee367d-79aa-46d4-9ce0-bb6dbf069275",
   "metadata": {},
   "outputs": [],
   "source": [
    "data.to_csv(\"./data/data.csv\")"
   ]
  },
  {
   "cell_type": "code",
   "execution_count": 12,
   "id": "cad6b16a-bc2d-41c7-8a28-6aeeaa825d6b",
   "metadata": {
    "scrolled": true
   },
   "outputs": [
    {
     "data": {
      "text/plain": [
       "'s3://aamlops2024/xgb-pipeline-lam-01/data/data.csv'"
      ]
     },
     "execution_count": 12,
     "metadata": {},
     "output_type": "execute_result"
    }
   ],
   "source": [
    "# Mode data to S3\n",
    "local_path = \"./data/data.csv\"\n",
    "destination_path = os.path.join(s3_base_url, \"data\")\n",
    "s3_input_data_uri = sagemaker.s3.S3Uploader.upload(\n",
    "    local_path=local_path,\n",
    "    desired_s3_uri=destination_path\n",
    ")\n",
    "s3_input_data_uri"
   ]
  },
  {
   "cell_type": "code",
   "execution_count": null,
   "id": "36b30bba-d619-4f47-b3dd-0701074e848a",
   "metadata": {},
   "outputs": [],
   "source": []
  },
  {
   "cell_type": "code",
   "execution_count": 13,
   "id": "c50446c2-e2dc-4d67-a556-725c1484d7b3",
   "metadata": {},
   "outputs": [
    {
     "data": {
      "text/plain": [
       "ParameterString(name='InputDataUri', parameter_type=<ParameterTypeEnum.STRING: 'String'>, default_value='s3://aamlops2024/xgb-pipeline-lam-01/data/data.csv')"
      ]
     },
     "execution_count": 13,
     "metadata": {},
     "output_type": "execute_result"
    }
   ],
   "source": [
    "input_data_uri"
   ]
  },
  {
   "cell_type": "code",
   "execution_count": null,
   "id": "553723b4-a42f-42d3-b135-467b213dea3f",
   "metadata": {},
   "outputs": [],
   "source": []
  },
  {
   "cell_type": "code",
   "execution_count": 14,
   "id": "fa663a5f-ca5e-4e55-96a1-a59f007a72c6",
   "metadata": {},
   "outputs": [],
   "source": [
    "# Define cache configuration\n",
    "cache_config = CacheConfig(\n",
    "    enable_caching=True,             # Enable caching\n",
    "    expire_after=\"P30D\"              # Cache expiry in ISO 8601 duration format (e.g., P30D = 30 days)\n",
    ")"
   ]
  },
  {
   "cell_type": "code",
   "execution_count": null,
   "id": "e87ad718-102a-4ae5-ad92-4aab81e9b700",
   "metadata": {},
   "outputs": [],
   "source": []
  },
  {
   "cell_type": "markdown",
   "id": "311ca8dd-5336-4b19-a800-6e0bc5a08450",
   "metadata": {},
   "source": [
    "### Step 2: Data Preprocessing"
   ]
  },
  {
   "cell_type": "code",
   "execution_count": 15,
   "id": "3ea2ed72-8225-4282-83e4-6f5ee4098117",
   "metadata": {},
   "outputs": [
    {
     "data": {
      "text/html": [
       "<pre style=\"white-space:pre;overflow-x:auto;line-height:normal;font-family:Menlo,'DejaVu Sans Mono',consolas,'Courier New',monospace\"><span style=\"color: #7fbfbf; text-decoration-color: #7fbfbf\">[11/27/24 19:51:53] </span><span style=\"color: #d7af00; text-decoration-color: #d7af00; font-weight: bold\">WARNING </span> The input argument instance_type of function                          <a href=\"file:///opt/conda/lib/python3.11/site-packages/sagemaker/workflow/utilities.py\" target=\"_blank\"><span style=\"color: #7f7f7f; text-decoration-color: #7f7f7f\">utilities.py</span></a><span style=\"color: #7f7f7f; text-decoration-color: #7f7f7f\">:</span><a href=\"file:///opt/conda/lib/python3.11/site-packages/sagemaker/workflow/utilities.py#422\" target=\"_blank\"><span style=\"color: #7f7f7f; text-decoration-color: #7f7f7f\">422</span></a>\n",
       "<span style=\"color: #7fbfbf; text-decoration-color: #7fbfbf\">                    </span>         <span style=\"font-weight: bold\">(</span>sagemaker.image_uris.retrieve<span style=\"font-weight: bold\">)</span> is a pipeline variable <span style=\"font-weight: bold\">(&lt;</span><span style=\"color: #e100e1; text-decoration-color: #e100e1; font-weight: bold\">class</span><span style=\"color: #000000; text-decoration-color: #000000\"> </span>       <span style=\"color: #7f7f7f; text-decoration-color: #7f7f7f\">                </span>\n",
       "<span style=\"color: #7fbfbf; text-decoration-color: #7fbfbf\">                    </span>         <span style=\"color: #008700; text-decoration-color: #008700\">'sagemaker.workflow.parameters.ParameterString'</span><span style=\"font-weight: bold\">&gt;)</span>, which is           <span style=\"color: #7f7f7f; text-decoration-color: #7f7f7f\">                </span>\n",
       "<span style=\"color: #7fbfbf; text-decoration-color: #7fbfbf\">                    </span>         interpreted in pipeline execution time only. As the function needs to <span style=\"color: #7f7f7f; text-decoration-color: #7f7f7f\">                </span>\n",
       "<span style=\"color: #7fbfbf; text-decoration-color: #7fbfbf\">                    </span>         evaluate the argument value in SDK compile time, the default_value of <span style=\"color: #7f7f7f; text-decoration-color: #7f7f7f\">                </span>\n",
       "<span style=\"color: #7fbfbf; text-decoration-color: #7fbfbf\">                    </span>         this Parameter object will be used to override it. Please make sure   <span style=\"color: #7f7f7f; text-decoration-color: #7f7f7f\">                </span>\n",
       "<span style=\"color: #7fbfbf; text-decoration-color: #7fbfbf\">                    </span>         the default_value is valid.                                           <span style=\"color: #7f7f7f; text-decoration-color: #7f7f7f\">                </span>\n",
       "</pre>\n"
      ],
      "text/plain": [
       "\u001b[2;36m[11/27/24 19:51:53]\u001b[0m\u001b[2;36m \u001b[0m\u001b[1;38;2;215;175;0mWARNING \u001b[0m The input argument instance_type of function                          \u001b]8;id=87155;file:///opt/conda/lib/python3.11/site-packages/sagemaker/workflow/utilities.py\u001b\\\u001b[2mutilities.py\u001b[0m\u001b]8;;\u001b\\\u001b[2m:\u001b[0m\u001b]8;id=199173;file:///opt/conda/lib/python3.11/site-packages/sagemaker/workflow/utilities.py#422\u001b\\\u001b[2m422\u001b[0m\u001b]8;;\u001b\\\n",
       "\u001b[2;36m                    \u001b[0m         \u001b[1m(\u001b[0msagemaker.image_uris.retrieve\u001b[1m)\u001b[0m is a pipeline variable \u001b[1m(\u001b[0m\u001b[1m<\u001b[0m\u001b[1;38;2;225;0;225mclass\u001b[0m\u001b[39m \u001b[0m       \u001b[2m                \u001b[0m\n",
       "\u001b[2;36m                    \u001b[0m         \u001b[38;2;0;135;0m'sagemaker.workflow.parameters.ParameterString'\u001b[0m\u001b[1m>\u001b[0m\u001b[1m)\u001b[0m, which is           \u001b[2m                \u001b[0m\n",
       "\u001b[2;36m                    \u001b[0m         interpreted in pipeline execution time only. As the function needs to \u001b[2m                \u001b[0m\n",
       "\u001b[2;36m                    \u001b[0m         evaluate the argument value in SDK compile time, the default_value of \u001b[2m                \u001b[0m\n",
       "\u001b[2;36m                    \u001b[0m         this Parameter object will be used to override it. Please make sure   \u001b[2m                \u001b[0m\n",
       "\u001b[2;36m                    \u001b[0m         the default_value is valid.                                           \u001b[2m                \u001b[0m\n"
      ]
     },
     "metadata": {},
     "output_type": "display_data"
    },
    {
     "data": {
      "text/html": [
       "<pre style=\"white-space:pre;overflow-x:auto;line-height:normal;font-family:Menlo,'DejaVu Sans Mono',consolas,'Courier New',monospace\"><span style=\"color: #7fbfbf; text-decoration-color: #7fbfbf\">                    </span><span style=\"color: #0069ff; text-decoration-color: #0069ff; font-weight: bold\">INFO    </span> Defaulting to only available Python version: py3                     <a href=\"file:///opt/conda/lib/python3.11/site-packages/sagemaker/image_uris.py\" target=\"_blank\"><span style=\"color: #7f7f7f; text-decoration-color: #7f7f7f\">image_uris.py</span></a><span style=\"color: #7f7f7f; text-decoration-color: #7f7f7f\">:</span><a href=\"file:///opt/conda/lib/python3.11/site-packages/sagemaker/image_uris.py#603\" target=\"_blank\"><span style=\"color: #7f7f7f; text-decoration-color: #7f7f7f\">603</span></a>\n",
       "</pre>\n"
      ],
      "text/plain": [
       "\u001b[2;36m                   \u001b[0m\u001b[2;36m \u001b[0m\u001b[1;38;2;0;105;255mINFO    \u001b[0m Defaulting to only available Python version: py3                     \u001b]8;id=990375;file:///opt/conda/lib/python3.11/site-packages/sagemaker/image_uris.py\u001b\\\u001b[2mimage_uris.py\u001b[0m\u001b]8;;\u001b\\\u001b[2m:\u001b[0m\u001b]8;id=217541;file:///opt/conda/lib/python3.11/site-packages/sagemaker/image_uris.py#603\u001b\\\u001b[2m603\u001b[0m\u001b]8;;\u001b\\\n"
      ]
     },
     "metadata": {},
     "output_type": "display_data"
    }
   ],
   "source": [
    "sklearn_processor = SKLearnProcessor(\n",
    "    framework_version=\"1.2-1\",\n",
    "    instance_type=processing_instance_type,\n",
    "    instance_count=1,\n",
    "    role=sagemaker_role,\n",
    "    sagemaker_session=pipeline_session,\n",
    "    base_job_name=\"xgb_pipeline\",\n",
    ")"
   ]
  },
  {
   "cell_type": "code",
   "execution_count": 16,
   "id": "64a81167-6a6b-496e-837f-07df0ec09ad5",
   "metadata": {},
   "outputs": [],
   "source": [
    "# procesor_args = sklearn_processor.run (\n",
    "#     inputs=[\n",
    "#         ProcessingInput(source=input_data_uri, destination=\"/opt/ml/processing/input\")\n",
    "#     ],\n",
    "#     outputs=[\n",
    "#         ProcessingOutput(output_name=\"train\", source=\"/opt/ml/processing/train\", destination=f\"s3://{s3_bucket}/{s3_prefix}/processing\"),\n",
    "#         ProcessingOutput(output_name=\"validation\", source=\"/opt/ml/processing/validation\", destination=f\"s3://{s3_bucket}/{s3_prefix}/processing\"),\n",
    "#         ProcessingOutput(output_name=\"test\", source=\"/opt/ml/processing/test\", destination=f\"s3://{s3_bucket}/{s3_prefix}/processing\"),\n",
    "#     ],\n",
    "#     code=\"./code/preprocess.py\",  # your custom preprocessing script\n",
    "# )\n",
    "\n",
    "# step_process = ProcessingStep (name=\"PreprocessData\", step_args=procesor_args, cache_config=cache_config)"
   ]
  },
  {
   "cell_type": "code",
   "execution_count": 17,
   "id": "e49944fe-376b-4107-b200-065698d78352",
   "metadata": {},
   "outputs": [],
   "source": [
    "# !pip install -U sagemaker"
   ]
  },
  {
   "cell_type": "code",
   "execution_count": 18,
   "id": "6858314c-b671-4ec8-861b-2e3961dd3bd6",
   "metadata": {},
   "outputs": [
    {
     "data": {
      "text/html": [
       "<pre style=\"white-space:pre;overflow-x:auto;line-height:normal;font-family:Menlo,'DejaVu Sans Mono',consolas,'Courier New',monospace\"><span style=\"color: #7fbfbf; text-decoration-color: #7fbfbf\">                    </span><span style=\"color: #0069ff; text-decoration-color: #0069ff; font-weight: bold\">INFO    </span> Defaulting to only supported image scope: cpu.                       <a href=\"file:///opt/conda/lib/python3.11/site-packages/sagemaker/image_uris.py\" target=\"_blank\"><span style=\"color: #7f7f7f; text-decoration-color: #7f7f7f\">image_uris.py</span></a><span style=\"color: #7f7f7f; text-decoration-color: #7f7f7f\">:</span><a href=\"file:///opt/conda/lib/python3.11/site-packages/sagemaker/image_uris.py#527\" target=\"_blank\"><span style=\"color: #7f7f7f; text-decoration-color: #7f7f7f\">527</span></a>\n",
       "</pre>\n"
      ],
      "text/plain": [
       "\u001b[2;36m                   \u001b[0m\u001b[2;36m \u001b[0m\u001b[1;38;2;0;105;255mINFO    \u001b[0m Defaulting to only supported image scope: cpu.                       \u001b]8;id=204559;file:///opt/conda/lib/python3.11/site-packages/sagemaker/image_uris.py\u001b\\\u001b[2mimage_uris.py\u001b[0m\u001b]8;;\u001b\\\u001b[2m:\u001b[0m\u001b]8;id=474822;file:///opt/conda/lib/python3.11/site-packages/sagemaker/image_uris.py#527\u001b\\\u001b[2m527\u001b[0m\u001b]8;;\u001b\\\n"
      ]
     },
     "metadata": {},
     "output_type": "display_data"
    },
    {
     "data": {
      "text/plain": [
       "'173754725891.dkr.ecr.us-east-1.amazonaws.com/sagemaker-spark-processing:2.4-cpu-py37'"
      ]
     },
     "execution_count": 18,
     "metadata": {},
     "output_type": "execute_result"
    }
   ],
   "source": [
    "image_uri_pyspark = sagemaker.image_uris.retrieve(\n",
    "        framework=\"spark\",\n",
    "        region=aws_region,\n",
    "        version=\"2.4\",\n",
    "        py_version=\"py37\")\n",
    "image_uri_pyspark"
   ]
  },
  {
   "cell_type": "code",
   "execution_count": 19,
   "id": "ce719a2d-a7f1-4ac7-8a09-a33d4ae8ebc3",
   "metadata": {},
   "outputs": [],
   "source": [
    "spark_processor = ScriptProcessor(\n",
    "    image_uri=image_uri_pyspark,\n",
    "    command=[\"/opt/program/submit\"],\n",
    "    role=sagemaker_role,\n",
    "    instance_type=processing_instance_type,\n",
    "    instance_count=1,\n",
    "    sagemaker_session=pipeline_session,\n",
    "    base_job_name= \"Xgb_PySpark\",\n",
    ")"
   ]
  },
  {
   "cell_type": "code",
   "execution_count": 20,
   "id": "41409891-6cfc-43b3-9ca6-a871da4e18ca",
   "metadata": {},
   "outputs": [
    {
     "name": "stderr",
     "output_type": "stream",
     "text": [
      "/opt/conda/lib/python3.11/site-packages/sagemaker/workflow/pipeline_context.py:332: UserWarning: Running within a PipelineSession, there will be No Wait, No Logs, and No Job being started.\n",
      "  warnings.warn(\n"
     ]
    }
   ],
   "source": [
    "procesor_args = spark_processor.run(\n",
    "    inputs=[\n",
    "        ProcessingInput(source=input_data_uri, destination=\"/opt/ml/processing/input\")\n",
    "    ],\n",
    "    outputs=[\n",
    "        ProcessingOutput(output_name=\"train\", source=\"/opt/ml/processing/train\", destination=f\"s3://{s3_bucket}/{s3_prefix}/processing\"),\n",
    "        ProcessingOutput(output_name=\"validation\", source=\"/opt/ml/processing/validation\", destination=f\"s3://{s3_bucket}/{s3_prefix}/processing\"),\n",
    "        ProcessingOutput(output_name=\"test\", source=\"/opt/ml/processing/test\", destination=f\"s3://{s3_bucket}/{s3_prefix}/processing\"),\n",
    "    ],\n",
    "    code=\"./code/preprocesspyspark.py\",\n",
    "    arguments=[\"--input_data\", input_data_uri, \"--output\", input_data_uri],\n",
    ")\n",
    "\n",
    "step_process = ProcessingStep(name=\"PreprocessData\", step_args=procesor_args, cache_config=cache_config)\n",
    "\n",
    "# step_process = ProcessingStep(\n",
    "#     name=\"PreprocessData\",\n",
    "#     processor=script_processor_lineage,\n",
    "#     inputs=[\n",
    "#         ProcessingInput(source=input_data_uri, destination=\"/opt/ml/processing/input\")\n",
    "#     ],\n",
    "#     outputs=[\n",
    "#         ProcessingOutput(output_name=\"train\", source=\"/opt/ml/processing/train\", destination=f\"s3://{s3_bucket}/{s3_prefix}/processing\"),\n",
    "#         ProcessingOutput(output_name=\"validation\", source=\"/opt/ml/processing/validation\", destination=f\"s3://{s3_bucket}/{s3_prefix}/processing\"),\n",
    "#         ProcessingOutput(output_name=\"test\", source=\"/opt/ml/processing/test\", destination=f\"s3://{s3_bucket}/{s3_prefix}/processing\"),\n",
    "#     ],\n",
    "#     code=\"./code/preprocesspyspark.py\",\n",
    "#     cache_config=cache_config\n",
    "# )"
   ]
  },
  {
   "cell_type": "markdown",
   "id": "82c6032e-0a60-45d1-982e-32606a540b00",
   "metadata": {},
   "source": [
    "### Step 2: Training"
   ]
  },
  {
   "cell_type": "code",
   "execution_count": 21,
   "id": "6ab84baa-ed03-4c68-b8cb-c3feb0743b9e",
   "metadata": {},
   "outputs": [
    {
     "data": {
      "text/html": [
       "<pre style=\"white-space:pre;overflow-x:auto;line-height:normal;font-family:Menlo,'DejaVu Sans Mono',consolas,'Courier New',monospace\"><span style=\"color: #7fbfbf; text-decoration-color: #7fbfbf\">                    </span><span style=\"color: #0069ff; text-decoration-color: #0069ff; font-weight: bold\">INFO    </span> Ignoring unnecessary instance type: <span style=\"color: #e100e1; text-decoration-color: #e100e1; font-style: italic\">None</span>.                            <a href=\"file:///opt/conda/lib/python3.11/site-packages/sagemaker/image_uris.py\" target=\"_blank\"><span style=\"color: #7f7f7f; text-decoration-color: #7f7f7f\">image_uris.py</span></a><span style=\"color: #7f7f7f; text-decoration-color: #7f7f7f\">:</span><a href=\"file:///opt/conda/lib/python3.11/site-packages/sagemaker/image_uris.py#523\" target=\"_blank\"><span style=\"color: #7f7f7f; text-decoration-color: #7f7f7f\">523</span></a>\n",
       "</pre>\n"
      ],
      "text/plain": [
       "\u001b[2;36m                   \u001b[0m\u001b[2;36m \u001b[0m\u001b[1;38;2;0;105;255mINFO    \u001b[0m Ignoring unnecessary instance type: \u001b[3;38;2;225;0;225mNone\u001b[0m.                            \u001b]8;id=89647;file:///opt/conda/lib/python3.11/site-packages/sagemaker/image_uris.py\u001b\\\u001b[2mimage_uris.py\u001b[0m\u001b]8;;\u001b\\\u001b[2m:\u001b[0m\u001b]8;id=954204;file:///opt/conda/lib/python3.11/site-packages/sagemaker/image_uris.py#523\u001b\\\u001b[2m523\u001b[0m\u001b]8;;\u001b\\\n"
      ]
     },
     "metadata": {},
     "output_type": "display_data"
    }
   ],
   "source": [
    "xgb_estimator = xgb_Estimator(\n",
    "    image_uri=sagemaker.image_uris.retrieve(framework=\"xgboost\", region=pipeline_session.boto_session.region_name, version=\"1.5-1\"),\n",
    "    entry_point=\"code/train.py\",  # your custom training script\n",
    "    instance_type=training_instance_type,\n",
    "    instance_count=1,\n",
    "    role=sagemaker_role,\n",
    "    output_path=output_path,\n",
    "    sagemaker_session=pipeline_session,\n",
    "    base_job_name=\"TrainXGBoostModel\",\n",
    "    hyperparameters={\n",
    "        \"objective\": \"binary:logistic\",\n",
    "        # \"num_round\": 100,\n",
    "        \"num_round\": 5,\n",
    "        \"max_depth\": 5,\n",
    "        \"eta\": 0.2,\n",
    "        \"gamma\": 4,\n",
    "        \"min_child_weight\": 6,\n",
    "        \"subsample\": 0.8\n",
    "    }\n",
    ")\n",
    "\n",
    "train_args = xgb_estimator.fit(\n",
    "    inputs={\n",
    "        \"train\": TrainingInput(step_process.properties.ProcessingOutputConfig.Outputs[\"train\"].S3Output.S3Uri, content_type=\"text/csv\"),\n",
    "        \"validation\": TrainingInput(step_process.properties.ProcessingOutputConfig.Outputs[\"validation\"].S3Output.S3Uri, content_type=\"text/csv\"),\n",
    "    }\n",
    ")\n",
    "\n",
    "step_train = TrainingStep (name=\"TrainXGBoostModel\", step_args=train_args, cache_config=cache_config)"
   ]
  },
  {
   "cell_type": "markdown",
   "id": "5a00693a-efaa-4462-a709-febb774e3294",
   "metadata": {},
   "source": [
    "### Step 3: Model Evaluation"
   ]
  },
  {
   "cell_type": "code",
   "execution_count": 22,
   "id": "39e7766a-75e7-48ee-af43-1759fdb1d0a5",
   "metadata": {},
   "outputs": [],
   "source": [
    "script_processor_eval = ScriptProcessor(\n",
    "    image_uri=image_uri,  # Correct URI for us-east-1\n",
    "    command=[\"python3\"],\n",
    "    role=sagemaker_role,\n",
    "    instance_type=processing_instance_type,  # Choose the instance type\n",
    "    instance_count=1,\n",
    "    sagemaker_session=pipeline_session,\n",
    "    base_job_name= \"Xgb_Evaluation\",\n",
    ")"
   ]
  },
  {
   "cell_type": "code",
   "execution_count": 23,
   "id": "8c40ff5b-2ebf-45a6-b51d-82c8f1c71bf9",
   "metadata": {},
   "outputs": [],
   "source": [
    "eval_args = script_processor_eval.run(\n",
    "    inputs=[\n",
    "        ProcessingInput(source=step_train.properties.ModelArtifacts.S3ModelArtifacts, destination=\"/opt/ml/processing/model\" ),\n",
    "        ProcessingInput(source=step_process.properties.ProcessingOutputConfig.Outputs[\"test\"].S3Output.S3Uri, destination=\"/opt/ml/processing/test\"),\n",
    "    ],\n",
    "    outputs=[ProcessingOutput(output_name=\"evaluation\", source=\"/opt/ml/processing/evaluation\", destination=f\"s3://{s3_bucket}/{s3_prefix}/evaluation\")],\n",
    "    code=\"code/evaluate.py\"  # your custom evaluation script\n",
    ")\n",
    "\n",
    "evaluation_report = PropertyFile(\n",
    "    name=\"EvaluationReport\", output_name=\"evaluation\", path=\"evaluation.json\",\n",
    ")\n",
    "\n",
    "step_eval = ProcessingStep(name=\"EvaluateModel\", step_args=eval_args, property_files=[evaluation_report], cache_config=cache_config )"
   ]
  },
  {
   "cell_type": "code",
   "execution_count": null,
   "id": "dc9b6960-586e-4ed5-bc44-f61585aca670",
   "metadata": {},
   "outputs": [],
   "source": []
  },
  {
   "cell_type": "markdown",
   "id": "ee33b78b-f968-4a2a-86ed-0847398cf640",
   "metadata": {},
   "source": [
    "### Model Registey Step"
   ]
  },
  {
   "cell_type": "code",
   "execution_count": 24,
   "id": "17b47922-8ed0-4583-a6f5-12817c9dc31d",
   "metadata": {},
   "outputs": [
    {
     "data": {
      "text/html": [
       "<pre style=\"white-space:pre;overflow-x:auto;line-height:normal;font-family:Menlo,'DejaVu Sans Mono',consolas,'Courier New',monospace\"><span style=\"color: #7fbfbf; text-decoration-color: #7fbfbf\">[11/27/24 19:51:54] </span><span style=\"color: #d7af00; text-decoration-color: #d7af00; font-weight: bold\">WARNING </span> Popping out <span style=\"color: #008700; text-decoration-color: #008700\">'ProcessingJobName'</span> from the pipeline definition by       <a href=\"file:///opt/conda/lib/python3.11/site-packages/sagemaker/workflow/utilities.py\" target=\"_blank\"><span style=\"color: #7f7f7f; text-decoration-color: #7f7f7f\">utilities.py</span></a><span style=\"color: #7f7f7f; text-decoration-color: #7f7f7f\">:</span><a href=\"file:///opt/conda/lib/python3.11/site-packages/sagemaker/workflow/utilities.py#465\" target=\"_blank\"><span style=\"color: #7f7f7f; text-decoration-color: #7f7f7f\">465</span></a>\n",
       "<span style=\"color: #7fbfbf; text-decoration-color: #7fbfbf\">                    </span>         default since it will be overridden at pipeline execution time.       <span style=\"color: #7f7f7f; text-decoration-color: #7f7f7f\">                </span>\n",
       "<span style=\"color: #7fbfbf; text-decoration-color: #7fbfbf\">                    </span>         Please utilize the PipelineDefinitionConfig to persist this field in  <span style=\"color: #7f7f7f; text-decoration-color: #7f7f7f\">                </span>\n",
       "<span style=\"color: #7fbfbf; text-decoration-color: #7fbfbf\">                    </span>         the pipeline definition if desired.                                   <span style=\"color: #7f7f7f; text-decoration-color: #7f7f7f\">                </span>\n",
       "</pre>\n"
      ],
      "text/plain": [
       "\u001b[2;36m[11/27/24 19:51:54]\u001b[0m\u001b[2;36m \u001b[0m\u001b[1;38;2;215;175;0mWARNING \u001b[0m Popping out \u001b[38;2;0;135;0m'ProcessingJobName'\u001b[0m from the pipeline definition by       \u001b]8;id=964704;file:///opt/conda/lib/python3.11/site-packages/sagemaker/workflow/utilities.py\u001b\\\u001b[2mutilities.py\u001b[0m\u001b]8;;\u001b\\\u001b[2m:\u001b[0m\u001b]8;id=472319;file:///opt/conda/lib/python3.11/site-packages/sagemaker/workflow/utilities.py#465\u001b\\\u001b[2m465\u001b[0m\u001b]8;;\u001b\\\n",
       "\u001b[2;36m                    \u001b[0m         default since it will be overridden at pipeline execution time.       \u001b[2m                \u001b[0m\n",
       "\u001b[2;36m                    \u001b[0m         Please utilize the PipelineDefinitionConfig to persist this field in  \u001b[2m                \u001b[0m\n",
       "\u001b[2;36m                    \u001b[0m         the pipeline definition if desired.                                   \u001b[2m                \u001b[0m\n"
      ]
     },
     "metadata": {},
     "output_type": "display_data"
    }
   ],
   "source": [
    "from sagemaker.model_metrics import ModelMetrics\n",
    "from sagemaker.model_metrics import MetricsSource\n",
    "\n",
    "model_metrics = ModelMetrics(\n",
    "  model_statistics=MetricsSource(\n",
    "    s3_uri=\"{}/evaluation.json\".format(\n",
    "      step_eval.arguments[\"ProcessingOutputConfig\"][\"Outputs\"][0][\"S3Output\"][\"S3Uri\"]\n",
    "    ),\n",
    "    content_type=\"application/json\"\n",
    "  )\n",
    ")"
   ]
  },
  {
   "cell_type": "code",
   "execution_count": 25,
   "id": "6b6abaee-ac4c-405d-a2a7-f1b6008bf273",
   "metadata": {},
   "outputs": [],
   "source": [
    "step_register = RegisterModel(\n",
    "    name=\"MyModel\",\n",
    "    estimator=xgb_estimator,\n",
    "    model_data=step_train.properties.ModelArtifacts.S3ModelArtifacts,\n",
    "    content_types=[\"text/csv\"],\n",
    "    response_types=[\"text/csv\"],\n",
    "    inference_instances=[\"ml.t2.medium\", \"ml.t2.medium\"],    \n",
    "    model_package_group_name=model_package_group_name,\n",
    "    approval_status=model_approval_status,\n",
    "    model_metrics=model_metrics,\n",
    "    depends_on=[step_eval]\n",
    ")"
   ]
  },
  {
   "cell_type": "code",
   "execution_count": null,
   "id": "0a2f7382-930f-47bc-83af-f321765b24ae",
   "metadata": {},
   "outputs": [],
   "source": [
    "\n",
    "\n",
    "\n"
   ]
  },
  {
   "cell_type": "markdown",
   "id": "92c227b2-2a0b-4863-9768-9d1a1dd7f7e8",
   "metadata": {},
   "source": [
    "### Model Lineage"
   ]
  },
  {
   "cell_type": "code",
   "execution_count": 26,
   "id": "d5bc9716-4878-4ecc-b9e1-c8bbf0d3e0f8",
   "metadata": {},
   "outputs": [],
   "source": [
    "script_processor_lineage = ScriptProcessor(\n",
    "    image_uri=image_uri, \n",
    "    command=[\"python3\"],\n",
    "    role=sagemaker_role,\n",
    "    instance_type=processing_instance_type,\n",
    "    instance_count=1,\n",
    "    sagemaker_session=pipeline_session,\n",
    "    base_job_name= \"Xgb_Lineage\",\n",
    ")"
   ]
  },
  {
   "cell_type": "code",
   "execution_count": 27,
   "id": "a5af8b5f-e66e-44b3-b0aa-cd92e313659c",
   "metadata": {},
   "outputs": [],
   "source": [
    "lineage_args = script_processor_lineage.run(\n",
    "    inputs=[\n",
    "        ProcessingInput(\n",
    "            source=step_eval.properties.ProcessingOutputConfig.Outputs[\"evaluation\"].S3Output.S3Uri,\n",
    "            destination=\"/opt/ml/processing/evaluation\",\n",
    "        ),\n",
    "    ],\n",
    "    code=\"code/lineage.py\",\n",
    "    arguments=[\n",
    "        \"--evaluation-uri\",\n",
    "        step_eval.properties.ProcessingOutputConfig.Outputs[\"evaluation\"].S3Output.S3Uri,\n",
    "        \"--model-package-arn\",\n",
    "        step_register.properties.ModelPackageArn,\n",
    "        \"--region\",\n",
    "        \"us-east-1\",  # Pass your desired AWS region here\n",
    "        \"--model-artifact-url\",\n",
    "        step_train.properties.ModelArtifacts.S3ModelArtifacts,\n",
    "    ],\n",
    ")\n",
    "\n",
    "step_lineage = ProcessingStep(name=\"EvaluationLineage\", step_args=lineage_args)"
   ]
  },
  {
   "cell_type": "code",
   "execution_count": null,
   "id": "d3a8db45-ffa8-404b-8340-630b43d05672",
   "metadata": {},
   "outputs": [],
   "source": []
  },
  {
   "cell_type": "code",
   "execution_count": null,
   "id": "c16547f8-f69c-4a42-9dd2-84c4edb00ea7",
   "metadata": {},
   "outputs": [],
   "source": []
  },
  {
   "cell_type": "markdown",
   "id": "72db5b2a-0b58-42ca-85f7-11719ed3a579",
   "metadata": {},
   "source": [
    "### Condition Step"
   ]
  },
  {
   "cell_type": "code",
   "execution_count": 28,
   "id": "52027562-d4c0-41aa-a749-7ee9361b0e1a",
   "metadata": {},
   "outputs": [],
   "source": [
    "step_fail = FailStep(\n",
    "    name=\"AccuracyFailed\",\n",
    "    error_message=Join(on=\" \", values=[\"Execution failed due to model accuracy < \", accuracy_threshold ]),\n",
    ")"
   ]
  },
  {
   "cell_type": "code",
   "execution_count": 29,
   "id": "8a8cd371-ec2d-4cfd-8f5a-60f90b709837",
   "metadata": {},
   "outputs": [],
   "source": [
    "cond_lte = ConditionGreaterThan(  # You can change the condition here\n",
    "    left=JsonGet(\n",
    "        step_name=step_eval.name,\n",
    "        property_file=evaluation_report,\n",
    "        json_path=\"binary_classification_metrics.accuracy.value\"  # This should follow the structure of your report_dict defined in the evaluate.py file.\n",
    "    ),\n",
    "    right=accuracy_threshold,  # You can change the threshold here\n",
    ")"
   ]
  },
  {
   "cell_type": "code",
   "execution_count": 30,
   "id": "4e51fbb1-a3aa-49de-a25f-4d9300628900",
   "metadata": {},
   "outputs": [],
   "source": [
    "step_cond = ConditionStep(\n",
    "    name=\"Check-Accuracy\",\n",
    "    conditions=[cond_lte],\n",
    "    if_steps=[step_register],\n",
    "    else_steps=[step_fail]\n",
    ")"
   ]
  },
  {
   "cell_type": "code",
   "execution_count": null,
   "id": "3e99161d-de66-4cdc-8db1-5ef770e563ef",
   "metadata": {},
   "outputs": [],
   "source": []
  },
  {
   "cell_type": "markdown",
   "id": "7d751f6b-9ed7-48b7-a6c5-ee94fe1807ea",
   "metadata": {},
   "source": [
    "### Define Pipeline Parameters, Steps and Conditions"
   ]
  },
  {
   "cell_type": "code",
   "execution_count": 31,
   "id": "74a13c3a-fc04-4685-97e2-23fc33b392cd",
   "metadata": {},
   "outputs": [],
   "source": [
    "pipeline = Pipeline(\n",
    "    name=\"xgb-pipeline\",\n",
    "    sagemaker_session=sagemaker_session,\n",
    "    parameters=[\n",
    "                processing_instance_type,\n",
    "                instance_type, \n",
    "                model_approval_status,\n",
    "                input_data_uri,\n",
    "                output_path,\n",
    "                accuracy_threshold,\n",
    "               ],\n",
    "    steps=[step_process, step_train, step_eval, step_cond, step_lineage]\n",
    ")"
   ]
  },
  {
   "cell_type": "code",
   "execution_count": null,
   "id": "473692b1-e42a-4899-8f89-eb0ca8cbba08",
   "metadata": {},
   "outputs": [],
   "source": []
  },
  {
   "cell_type": "code",
   "execution_count": 32,
   "id": "ebaeb0da-9d54-4cc7-8da4-7ea7b579afba",
   "metadata": {},
   "outputs": [
    {
     "data": {
      "text/html": [
       "<pre style=\"white-space:pre;overflow-x:auto;line-height:normal;font-family:Menlo,'DejaVu Sans Mono',consolas,'Courier New',monospace\"><span style=\"color: #7fbfbf; text-decoration-color: #7fbfbf\">                    </span><span style=\"color: #d7af00; text-decoration-color: #d7af00; font-weight: bold\">WARNING </span> Popping out <span style=\"color: #008700; text-decoration-color: #008700\">'ProcessingJobName'</span> from the pipeline definition by       <a href=\"file:///opt/conda/lib/python3.11/site-packages/sagemaker/workflow/utilities.py\" target=\"_blank\"><span style=\"color: #7f7f7f; text-decoration-color: #7f7f7f\">utilities.py</span></a><span style=\"color: #7f7f7f; text-decoration-color: #7f7f7f\">:</span><a href=\"file:///opt/conda/lib/python3.11/site-packages/sagemaker/workflow/utilities.py#465\" target=\"_blank\"><span style=\"color: #7f7f7f; text-decoration-color: #7f7f7f\">465</span></a>\n",
       "<span style=\"color: #7fbfbf; text-decoration-color: #7fbfbf\">                    </span>         default since it will be overridden at pipeline execution time.       <span style=\"color: #7f7f7f; text-decoration-color: #7f7f7f\">                </span>\n",
       "<span style=\"color: #7fbfbf; text-decoration-color: #7fbfbf\">                    </span>         Please utilize the PipelineDefinitionConfig to persist this field in  <span style=\"color: #7f7f7f; text-decoration-color: #7f7f7f\">                </span>\n",
       "<span style=\"color: #7fbfbf; text-decoration-color: #7fbfbf\">                    </span>         the pipeline definition if desired.                                   <span style=\"color: #7f7f7f; text-decoration-color: #7f7f7f\">                </span>\n",
       "</pre>\n"
      ],
      "text/plain": [
       "\u001b[2;36m                   \u001b[0m\u001b[2;36m \u001b[0m\u001b[1;38;2;215;175;0mWARNING \u001b[0m Popping out \u001b[38;2;0;135;0m'ProcessingJobName'\u001b[0m from the pipeline definition by       \u001b]8;id=217082;file:///opt/conda/lib/python3.11/site-packages/sagemaker/workflow/utilities.py\u001b\\\u001b[2mutilities.py\u001b[0m\u001b]8;;\u001b\\\u001b[2m:\u001b[0m\u001b]8;id=874321;file:///opt/conda/lib/python3.11/site-packages/sagemaker/workflow/utilities.py#465\u001b\\\u001b[2m465\u001b[0m\u001b]8;;\u001b\\\n",
       "\u001b[2;36m                    \u001b[0m         default since it will be overridden at pipeline execution time.       \u001b[2m                \u001b[0m\n",
       "\u001b[2;36m                    \u001b[0m         Please utilize the PipelineDefinitionConfig to persist this field in  \u001b[2m                \u001b[0m\n",
       "\u001b[2;36m                    \u001b[0m         the pipeline definition if desired.                                   \u001b[2m                \u001b[0m\n"
      ]
     },
     "metadata": {},
     "output_type": "display_data"
    },
    {
     "data": {
      "text/html": [
       "<pre style=\"white-space:pre;overflow-x:auto;line-height:normal;font-family:Menlo,'DejaVu Sans Mono',consolas,'Courier New',monospace\"><span style=\"color: #7fbfbf; text-decoration-color: #7fbfbf\">                    </span><span style=\"color: #d7af00; text-decoration-color: #d7af00; font-weight: bold\">WARNING </span> Popping out <span style=\"color: #008700; text-decoration-color: #008700\">'TrainingJobName'</span> from the pipeline definition by default <a href=\"file:///opt/conda/lib/python3.11/site-packages/sagemaker/workflow/utilities.py\" target=\"_blank\"><span style=\"color: #7f7f7f; text-decoration-color: #7f7f7f\">utilities.py</span></a><span style=\"color: #7f7f7f; text-decoration-color: #7f7f7f\">:</span><a href=\"file:///opt/conda/lib/python3.11/site-packages/sagemaker/workflow/utilities.py#465\" target=\"_blank\"><span style=\"color: #7f7f7f; text-decoration-color: #7f7f7f\">465</span></a>\n",
       "<span style=\"color: #7fbfbf; text-decoration-color: #7fbfbf\">                    </span>         since it will be overridden at pipeline execution time. Please        <span style=\"color: #7f7f7f; text-decoration-color: #7f7f7f\">                </span>\n",
       "<span style=\"color: #7fbfbf; text-decoration-color: #7fbfbf\">                    </span>         utilize the PipelineDefinitionConfig to persist this field in the     <span style=\"color: #7f7f7f; text-decoration-color: #7f7f7f\">                </span>\n",
       "<span style=\"color: #7fbfbf; text-decoration-color: #7fbfbf\">                    </span>         pipeline definition if desired.                                       <span style=\"color: #7f7f7f; text-decoration-color: #7f7f7f\">                </span>\n",
       "</pre>\n"
      ],
      "text/plain": [
       "\u001b[2;36m                   \u001b[0m\u001b[2;36m \u001b[0m\u001b[1;38;2;215;175;0mWARNING \u001b[0m Popping out \u001b[38;2;0;135;0m'TrainingJobName'\u001b[0m from the pipeline definition by default \u001b]8;id=430804;file:///opt/conda/lib/python3.11/site-packages/sagemaker/workflow/utilities.py\u001b\\\u001b[2mutilities.py\u001b[0m\u001b]8;;\u001b\\\u001b[2m:\u001b[0m\u001b]8;id=109624;file:///opt/conda/lib/python3.11/site-packages/sagemaker/workflow/utilities.py#465\u001b\\\u001b[2m465\u001b[0m\u001b]8;;\u001b\\\n",
       "\u001b[2;36m                    \u001b[0m         since it will be overridden at pipeline execution time. Please        \u001b[2m                \u001b[0m\n",
       "\u001b[2;36m                    \u001b[0m         utilize the PipelineDefinitionConfig to persist this field in the     \u001b[2m                \u001b[0m\n",
       "\u001b[2;36m                    \u001b[0m         pipeline definition if desired.                                       \u001b[2m                \u001b[0m\n"
      ]
     },
     "metadata": {},
     "output_type": "display_data"
    },
    {
     "data": {
      "text/html": [
       "<pre style=\"white-space:pre;overflow-x:auto;line-height:normal;font-family:Menlo,'DejaVu Sans Mono',consolas,'Courier New',monospace\"><span style=\"color: #7fbfbf; text-decoration-color: #7fbfbf\">                    </span><span style=\"color: #d7af00; text-decoration-color: #d7af00; font-weight: bold\">WARNING </span> Popping out <span style=\"color: #008700; text-decoration-color: #008700\">'ProcessingJobName'</span> from the pipeline definition by       <a href=\"file:///opt/conda/lib/python3.11/site-packages/sagemaker/workflow/utilities.py\" target=\"_blank\"><span style=\"color: #7f7f7f; text-decoration-color: #7f7f7f\">utilities.py</span></a><span style=\"color: #7f7f7f; text-decoration-color: #7f7f7f\">:</span><a href=\"file:///opt/conda/lib/python3.11/site-packages/sagemaker/workflow/utilities.py#465\" target=\"_blank\"><span style=\"color: #7f7f7f; text-decoration-color: #7f7f7f\">465</span></a>\n",
       "<span style=\"color: #7fbfbf; text-decoration-color: #7fbfbf\">                    </span>         default since it will be overridden at pipeline execution time.       <span style=\"color: #7f7f7f; text-decoration-color: #7f7f7f\">                </span>\n",
       "<span style=\"color: #7fbfbf; text-decoration-color: #7fbfbf\">                    </span>         Please utilize the PipelineDefinitionConfig to persist this field in  <span style=\"color: #7f7f7f; text-decoration-color: #7f7f7f\">                </span>\n",
       "<span style=\"color: #7fbfbf; text-decoration-color: #7fbfbf\">                    </span>         the pipeline definition if desired.                                   <span style=\"color: #7f7f7f; text-decoration-color: #7f7f7f\">                </span>\n",
       "</pre>\n"
      ],
      "text/plain": [
       "\u001b[2;36m                   \u001b[0m\u001b[2;36m \u001b[0m\u001b[1;38;2;215;175;0mWARNING \u001b[0m Popping out \u001b[38;2;0;135;0m'ProcessingJobName'\u001b[0m from the pipeline definition by       \u001b]8;id=223065;file:///opt/conda/lib/python3.11/site-packages/sagemaker/workflow/utilities.py\u001b\\\u001b[2mutilities.py\u001b[0m\u001b]8;;\u001b\\\u001b[2m:\u001b[0m\u001b]8;id=514538;file:///opt/conda/lib/python3.11/site-packages/sagemaker/workflow/utilities.py#465\u001b\\\u001b[2m465\u001b[0m\u001b]8;;\u001b\\\n",
       "\u001b[2;36m                    \u001b[0m         default since it will be overridden at pipeline execution time.       \u001b[2m                \u001b[0m\n",
       "\u001b[2;36m                    \u001b[0m         Please utilize the PipelineDefinitionConfig to persist this field in  \u001b[2m                \u001b[0m\n",
       "\u001b[2;36m                    \u001b[0m         the pipeline definition if desired.                                   \u001b[2m                \u001b[0m\n"
      ]
     },
     "metadata": {},
     "output_type": "display_data"
    },
    {
     "data": {
      "text/html": [
       "<pre style=\"white-space:pre;overflow-x:auto;line-height:normal;font-family:Menlo,'DejaVu Sans Mono',consolas,'Courier New',monospace\"><span style=\"color: #7fbfbf; text-decoration-color: #7fbfbf\">                    </span><span style=\"color: #d7af00; text-decoration-color: #d7af00; font-weight: bold\">WARNING </span> No finished training job found associated with this estimator.       <a href=\"file:///opt/conda/lib/python3.11/site-packages/sagemaker/estimator.py\" target=\"_blank\"><span style=\"color: #7f7f7f; text-decoration-color: #7f7f7f\">estimator.py</span></a><span style=\"color: #7f7f7f; text-decoration-color: #7f7f7f\">:</span><a href=\"file:///opt/conda/lib/python3.11/site-packages/sagemaker/estimator.py#1909\" target=\"_blank\"><span style=\"color: #7f7f7f; text-decoration-color: #7f7f7f\">1909</span></a>\n",
       "<span style=\"color: #7fbfbf; text-decoration-color: #7fbfbf\">                    </span>         Please make sure this estimator is only used for building workflow   <span style=\"color: #7f7f7f; text-decoration-color: #7f7f7f\">                 </span>\n",
       "<span style=\"color: #7fbfbf; text-decoration-color: #7fbfbf\">                    </span>         config                                                               <span style=\"color: #7f7f7f; text-decoration-color: #7f7f7f\">                 </span>\n",
       "</pre>\n"
      ],
      "text/plain": [
       "\u001b[2;36m                   \u001b[0m\u001b[2;36m \u001b[0m\u001b[1;38;2;215;175;0mWARNING \u001b[0m No finished training job found associated with this estimator.       \u001b]8;id=254292;file:///opt/conda/lib/python3.11/site-packages/sagemaker/estimator.py\u001b\\\u001b[2mestimator.py\u001b[0m\u001b]8;;\u001b\\\u001b[2m:\u001b[0m\u001b]8;id=527487;file:///opt/conda/lib/python3.11/site-packages/sagemaker/estimator.py#1909\u001b\\\u001b[2m1909\u001b[0m\u001b]8;;\u001b\\\n",
       "\u001b[2;36m                    \u001b[0m         Please make sure this estimator is only used for building workflow   \u001b[2m                 \u001b[0m\n",
       "\u001b[2;36m                    \u001b[0m         config                                                               \u001b[2m                 \u001b[0m\n"
      ]
     },
     "metadata": {},
     "output_type": "display_data"
    },
    {
     "data": {
      "text/html": [
       "<pre style=\"white-space:pre;overflow-x:auto;line-height:normal;font-family:Menlo,'DejaVu Sans Mono',consolas,'Courier New',monospace\"><span style=\"color: #7fbfbf; text-decoration-color: #7fbfbf\">                    </span><span style=\"color: #d7af00; text-decoration-color: #d7af00; font-weight: bold\">WARNING </span> Popping out <span style=\"color: #008700; text-decoration-color: #008700\">'CertifyForMarketplace'</span> from the pipeline definition since   <a href=\"file:///opt/conda/lib/python3.11/site-packages/sagemaker/workflow/_utils.py\" target=\"_blank\"><span style=\"color: #7f7f7f; text-decoration-color: #7f7f7f\">_utils.py</span></a><span style=\"color: #7f7f7f; text-decoration-color: #7f7f7f\">:</span><a href=\"file:///opt/conda/lib/python3.11/site-packages/sagemaker/workflow/_utils.py#515\" target=\"_blank\"><span style=\"color: #7f7f7f; text-decoration-color: #7f7f7f\">515</span></a>\n",
       "<span style=\"color: #7fbfbf; text-decoration-color: #7fbfbf\">                    </span>         it will be overridden in pipeline execution time.                        <span style=\"color: #7f7f7f; text-decoration-color: #7f7f7f\">             </span>\n",
       "</pre>\n"
      ],
      "text/plain": [
       "\u001b[2;36m                   \u001b[0m\u001b[2;36m \u001b[0m\u001b[1;38;2;215;175;0mWARNING \u001b[0m Popping out \u001b[38;2;0;135;0m'CertifyForMarketplace'\u001b[0m from the pipeline definition since   \u001b]8;id=548681;file:///opt/conda/lib/python3.11/site-packages/sagemaker/workflow/_utils.py\u001b\\\u001b[2m_utils.py\u001b[0m\u001b]8;;\u001b\\\u001b[2m:\u001b[0m\u001b]8;id=881913;file:///opt/conda/lib/python3.11/site-packages/sagemaker/workflow/_utils.py#515\u001b\\\u001b[2m515\u001b[0m\u001b]8;;\u001b\\\n",
       "\u001b[2;36m                    \u001b[0m         it will be overridden in pipeline execution time.                        \u001b[2m             \u001b[0m\n"
      ]
     },
     "metadata": {},
     "output_type": "display_data"
    },
    {
     "data": {
      "text/html": [
       "<pre style=\"white-space:pre;overflow-x:auto;line-height:normal;font-family:Menlo,'DejaVu Sans Mono',consolas,'Courier New',monospace\"><span style=\"color: #7fbfbf; text-decoration-color: #7fbfbf\">                    </span><span style=\"color: #d7af00; text-decoration-color: #d7af00; font-weight: bold\">WARNING </span> Popping out <span style=\"color: #008700; text-decoration-color: #008700\">'ModelPackageName'</span> from the pipeline definition by        <a href=\"file:///opt/conda/lib/python3.11/site-packages/sagemaker/workflow/utilities.py\" target=\"_blank\"><span style=\"color: #7f7f7f; text-decoration-color: #7f7f7f\">utilities.py</span></a><span style=\"color: #7f7f7f; text-decoration-color: #7f7f7f\">:</span><a href=\"file:///opt/conda/lib/python3.11/site-packages/sagemaker/workflow/utilities.py#465\" target=\"_blank\"><span style=\"color: #7f7f7f; text-decoration-color: #7f7f7f\">465</span></a>\n",
       "<span style=\"color: #7fbfbf; text-decoration-color: #7fbfbf\">                    </span>         default since it will be overridden at pipeline execution time.       <span style=\"color: #7f7f7f; text-decoration-color: #7f7f7f\">                </span>\n",
       "<span style=\"color: #7fbfbf; text-decoration-color: #7fbfbf\">                    </span>         Please utilize the PipelineDefinitionConfig to persist this field in  <span style=\"color: #7f7f7f; text-decoration-color: #7f7f7f\">                </span>\n",
       "<span style=\"color: #7fbfbf; text-decoration-color: #7fbfbf\">                    </span>         the pipeline definition if desired.                                   <span style=\"color: #7f7f7f; text-decoration-color: #7f7f7f\">                </span>\n",
       "</pre>\n"
      ],
      "text/plain": [
       "\u001b[2;36m                   \u001b[0m\u001b[2;36m \u001b[0m\u001b[1;38;2;215;175;0mWARNING \u001b[0m Popping out \u001b[38;2;0;135;0m'ModelPackageName'\u001b[0m from the pipeline definition by        \u001b]8;id=83770;file:///opt/conda/lib/python3.11/site-packages/sagemaker/workflow/utilities.py\u001b\\\u001b[2mutilities.py\u001b[0m\u001b]8;;\u001b\\\u001b[2m:\u001b[0m\u001b]8;id=906033;file:///opt/conda/lib/python3.11/site-packages/sagemaker/workflow/utilities.py#465\u001b\\\u001b[2m465\u001b[0m\u001b]8;;\u001b\\\n",
       "\u001b[2;36m                    \u001b[0m         default since it will be overridden at pipeline execution time.       \u001b[2m                \u001b[0m\n",
       "\u001b[2;36m                    \u001b[0m         Please utilize the PipelineDefinitionConfig to persist this field in  \u001b[2m                \u001b[0m\n",
       "\u001b[2;36m                    \u001b[0m         the pipeline definition if desired.                                   \u001b[2m                \u001b[0m\n"
      ]
     },
     "metadata": {},
     "output_type": "display_data"
    },
    {
     "data": {
      "text/html": [
       "<pre style=\"white-space:pre;overflow-x:auto;line-height:normal;font-family:Menlo,'DejaVu Sans Mono',consolas,'Courier New',monospace\"><span style=\"color: #7fbfbf; text-decoration-color: #7fbfbf\">                    </span><span style=\"color: #d7af00; text-decoration-color: #d7af00; font-weight: bold\">WARNING </span> Popping out <span style=\"color: #008700; text-decoration-color: #008700\">'ProcessingJobName'</span> from the pipeline definition by       <a href=\"file:///opt/conda/lib/python3.11/site-packages/sagemaker/workflow/utilities.py\" target=\"_blank\"><span style=\"color: #7f7f7f; text-decoration-color: #7f7f7f\">utilities.py</span></a><span style=\"color: #7f7f7f; text-decoration-color: #7f7f7f\">:</span><a href=\"file:///opt/conda/lib/python3.11/site-packages/sagemaker/workflow/utilities.py#465\" target=\"_blank\"><span style=\"color: #7f7f7f; text-decoration-color: #7f7f7f\">465</span></a>\n",
       "<span style=\"color: #7fbfbf; text-decoration-color: #7fbfbf\">                    </span>         default since it will be overridden at pipeline execution time.       <span style=\"color: #7f7f7f; text-decoration-color: #7f7f7f\">                </span>\n",
       "<span style=\"color: #7fbfbf; text-decoration-color: #7fbfbf\">                    </span>         Please utilize the PipelineDefinitionConfig to persist this field in  <span style=\"color: #7f7f7f; text-decoration-color: #7f7f7f\">                </span>\n",
       "<span style=\"color: #7fbfbf; text-decoration-color: #7fbfbf\">                    </span>         the pipeline definition if desired.                                   <span style=\"color: #7f7f7f; text-decoration-color: #7f7f7f\">                </span>\n",
       "</pre>\n"
      ],
      "text/plain": [
       "\u001b[2;36m                   \u001b[0m\u001b[2;36m \u001b[0m\u001b[1;38;2;215;175;0mWARNING \u001b[0m Popping out \u001b[38;2;0;135;0m'ProcessingJobName'\u001b[0m from the pipeline definition by       \u001b]8;id=293667;file:///opt/conda/lib/python3.11/site-packages/sagemaker/workflow/utilities.py\u001b\\\u001b[2mutilities.py\u001b[0m\u001b]8;;\u001b\\\u001b[2m:\u001b[0m\u001b]8;id=726173;file:///opt/conda/lib/python3.11/site-packages/sagemaker/workflow/utilities.py#465\u001b\\\u001b[2m465\u001b[0m\u001b]8;;\u001b\\\n",
       "\u001b[2;36m                    \u001b[0m         default since it will be overridden at pipeline execution time.       \u001b[2m                \u001b[0m\n",
       "\u001b[2;36m                    \u001b[0m         Please utilize the PipelineDefinitionConfig to persist this field in  \u001b[2m                \u001b[0m\n",
       "\u001b[2;36m                    \u001b[0m         the pipeline definition if desired.                                   \u001b[2m                \u001b[0m\n"
      ]
     },
     "metadata": {},
     "output_type": "display_data"
    },
    {
     "data": {
      "text/html": [
       "<pre style=\"white-space:pre;overflow-x:auto;line-height:normal;font-family:Menlo,'DejaVu Sans Mono',consolas,'Courier New',monospace\"><span style=\"color: #7fbfbf; text-decoration-color: #7fbfbf\">[11/27/24 19:51:55] </span><span style=\"color: #d7af00; text-decoration-color: #d7af00; font-weight: bold\">WARNING </span> Popping out <span style=\"color: #008700; text-decoration-color: #008700\">'ProcessingJobName'</span> from the pipeline definition by       <a href=\"file:///opt/conda/lib/python3.11/site-packages/sagemaker/workflow/utilities.py\" target=\"_blank\"><span style=\"color: #7f7f7f; text-decoration-color: #7f7f7f\">utilities.py</span></a><span style=\"color: #7f7f7f; text-decoration-color: #7f7f7f\">:</span><a href=\"file:///opt/conda/lib/python3.11/site-packages/sagemaker/workflow/utilities.py#465\" target=\"_blank\"><span style=\"color: #7f7f7f; text-decoration-color: #7f7f7f\">465</span></a>\n",
       "<span style=\"color: #7fbfbf; text-decoration-color: #7fbfbf\">                    </span>         default since it will be overridden at pipeline execution time.       <span style=\"color: #7f7f7f; text-decoration-color: #7f7f7f\">                </span>\n",
       "<span style=\"color: #7fbfbf; text-decoration-color: #7fbfbf\">                    </span>         Please utilize the PipelineDefinitionConfig to persist this field in  <span style=\"color: #7f7f7f; text-decoration-color: #7f7f7f\">                </span>\n",
       "<span style=\"color: #7fbfbf; text-decoration-color: #7fbfbf\">                    </span>         the pipeline definition if desired.                                   <span style=\"color: #7f7f7f; text-decoration-color: #7f7f7f\">                </span>\n",
       "</pre>\n"
      ],
      "text/plain": [
       "\u001b[2;36m[11/27/24 19:51:55]\u001b[0m\u001b[2;36m \u001b[0m\u001b[1;38;2;215;175;0mWARNING \u001b[0m Popping out \u001b[38;2;0;135;0m'ProcessingJobName'\u001b[0m from the pipeline definition by       \u001b]8;id=99823;file:///opt/conda/lib/python3.11/site-packages/sagemaker/workflow/utilities.py\u001b\\\u001b[2mutilities.py\u001b[0m\u001b]8;;\u001b\\\u001b[2m:\u001b[0m\u001b]8;id=824196;file:///opt/conda/lib/python3.11/site-packages/sagemaker/workflow/utilities.py#465\u001b\\\u001b[2m465\u001b[0m\u001b]8;;\u001b\\\n",
       "\u001b[2;36m                    \u001b[0m         default since it will be overridden at pipeline execution time.       \u001b[2m                \u001b[0m\n",
       "\u001b[2;36m                    \u001b[0m         Please utilize the PipelineDefinitionConfig to persist this field in  \u001b[2m                \u001b[0m\n",
       "\u001b[2;36m                    \u001b[0m         the pipeline definition if desired.                                   \u001b[2m                \u001b[0m\n"
      ]
     },
     "metadata": {},
     "output_type": "display_data"
    },
    {
     "data": {
      "text/html": [
       "<pre style=\"white-space:pre;overflow-x:auto;line-height:normal;font-family:Menlo,'DejaVu Sans Mono',consolas,'Courier New',monospace\"><span style=\"color: #7fbfbf; text-decoration-color: #7fbfbf\">                    </span><span style=\"color: #d7af00; text-decoration-color: #d7af00; font-weight: bold\">WARNING </span> Popping out <span style=\"color: #008700; text-decoration-color: #008700\">'TrainingJobName'</span> from the pipeline definition by default <a href=\"file:///opt/conda/lib/python3.11/site-packages/sagemaker/workflow/utilities.py\" target=\"_blank\"><span style=\"color: #7f7f7f; text-decoration-color: #7f7f7f\">utilities.py</span></a><span style=\"color: #7f7f7f; text-decoration-color: #7f7f7f\">:</span><a href=\"file:///opt/conda/lib/python3.11/site-packages/sagemaker/workflow/utilities.py#465\" target=\"_blank\"><span style=\"color: #7f7f7f; text-decoration-color: #7f7f7f\">465</span></a>\n",
       "<span style=\"color: #7fbfbf; text-decoration-color: #7fbfbf\">                    </span>         since it will be overridden at pipeline execution time. Please        <span style=\"color: #7f7f7f; text-decoration-color: #7f7f7f\">                </span>\n",
       "<span style=\"color: #7fbfbf; text-decoration-color: #7fbfbf\">                    </span>         utilize the PipelineDefinitionConfig to persist this field in the     <span style=\"color: #7f7f7f; text-decoration-color: #7f7f7f\">                </span>\n",
       "<span style=\"color: #7fbfbf; text-decoration-color: #7fbfbf\">                    </span>         pipeline definition if desired.                                       <span style=\"color: #7f7f7f; text-decoration-color: #7f7f7f\">                </span>\n",
       "</pre>\n"
      ],
      "text/plain": [
       "\u001b[2;36m                   \u001b[0m\u001b[2;36m \u001b[0m\u001b[1;38;2;215;175;0mWARNING \u001b[0m Popping out \u001b[38;2;0;135;0m'TrainingJobName'\u001b[0m from the pipeline definition by default \u001b]8;id=595785;file:///opt/conda/lib/python3.11/site-packages/sagemaker/workflow/utilities.py\u001b\\\u001b[2mutilities.py\u001b[0m\u001b]8;;\u001b\\\u001b[2m:\u001b[0m\u001b]8;id=475474;file:///opt/conda/lib/python3.11/site-packages/sagemaker/workflow/utilities.py#465\u001b\\\u001b[2m465\u001b[0m\u001b]8;;\u001b\\\n",
       "\u001b[2;36m                    \u001b[0m         since it will be overridden at pipeline execution time. Please        \u001b[2m                \u001b[0m\n",
       "\u001b[2;36m                    \u001b[0m         utilize the PipelineDefinitionConfig to persist this field in the     \u001b[2m                \u001b[0m\n",
       "\u001b[2;36m                    \u001b[0m         pipeline definition if desired.                                       \u001b[2m                \u001b[0m\n"
      ]
     },
     "metadata": {},
     "output_type": "display_data"
    },
    {
     "data": {
      "text/html": [
       "<pre style=\"white-space:pre;overflow-x:auto;line-height:normal;font-family:Menlo,'DejaVu Sans Mono',consolas,'Courier New',monospace\"><span style=\"color: #7fbfbf; text-decoration-color: #7fbfbf\">                    </span><span style=\"color: #d7af00; text-decoration-color: #d7af00; font-weight: bold\">WARNING </span> Popping out <span style=\"color: #008700; text-decoration-color: #008700\">'ProcessingJobName'</span> from the pipeline definition by       <a href=\"file:///opt/conda/lib/python3.11/site-packages/sagemaker/workflow/utilities.py\" target=\"_blank\"><span style=\"color: #7f7f7f; text-decoration-color: #7f7f7f\">utilities.py</span></a><span style=\"color: #7f7f7f; text-decoration-color: #7f7f7f\">:</span><a href=\"file:///opt/conda/lib/python3.11/site-packages/sagemaker/workflow/utilities.py#465\" target=\"_blank\"><span style=\"color: #7f7f7f; text-decoration-color: #7f7f7f\">465</span></a>\n",
       "<span style=\"color: #7fbfbf; text-decoration-color: #7fbfbf\">                    </span>         default since it will be overridden at pipeline execution time.       <span style=\"color: #7f7f7f; text-decoration-color: #7f7f7f\">                </span>\n",
       "<span style=\"color: #7fbfbf; text-decoration-color: #7fbfbf\">                    </span>         Please utilize the PipelineDefinitionConfig to persist this field in  <span style=\"color: #7f7f7f; text-decoration-color: #7f7f7f\">                </span>\n",
       "<span style=\"color: #7fbfbf; text-decoration-color: #7fbfbf\">                    </span>         the pipeline definition if desired.                                   <span style=\"color: #7f7f7f; text-decoration-color: #7f7f7f\">                </span>\n",
       "</pre>\n"
      ],
      "text/plain": [
       "\u001b[2;36m                   \u001b[0m\u001b[2;36m \u001b[0m\u001b[1;38;2;215;175;0mWARNING \u001b[0m Popping out \u001b[38;2;0;135;0m'ProcessingJobName'\u001b[0m from the pipeline definition by       \u001b]8;id=840279;file:///opt/conda/lib/python3.11/site-packages/sagemaker/workflow/utilities.py\u001b\\\u001b[2mutilities.py\u001b[0m\u001b]8;;\u001b\\\u001b[2m:\u001b[0m\u001b]8;id=564756;file:///opt/conda/lib/python3.11/site-packages/sagemaker/workflow/utilities.py#465\u001b\\\u001b[2m465\u001b[0m\u001b]8;;\u001b\\\n",
       "\u001b[2;36m                    \u001b[0m         default since it will be overridden at pipeline execution time.       \u001b[2m                \u001b[0m\n",
       "\u001b[2;36m                    \u001b[0m         Please utilize the PipelineDefinitionConfig to persist this field in  \u001b[2m                \u001b[0m\n",
       "\u001b[2;36m                    \u001b[0m         the pipeline definition if desired.                                   \u001b[2m                \u001b[0m\n"
      ]
     },
     "metadata": {},
     "output_type": "display_data"
    },
    {
     "data": {
      "text/html": [
       "<pre style=\"white-space:pre;overflow-x:auto;line-height:normal;font-family:Menlo,'DejaVu Sans Mono',consolas,'Courier New',monospace\"><span style=\"color: #7fbfbf; text-decoration-color: #7fbfbf\">                    </span><span style=\"color: #d7af00; text-decoration-color: #d7af00; font-weight: bold\">WARNING </span> No finished training job found associated with this estimator.       <a href=\"file:///opt/conda/lib/python3.11/site-packages/sagemaker/estimator.py\" target=\"_blank\"><span style=\"color: #7f7f7f; text-decoration-color: #7f7f7f\">estimator.py</span></a><span style=\"color: #7f7f7f; text-decoration-color: #7f7f7f\">:</span><a href=\"file:///opt/conda/lib/python3.11/site-packages/sagemaker/estimator.py#1909\" target=\"_blank\"><span style=\"color: #7f7f7f; text-decoration-color: #7f7f7f\">1909</span></a>\n",
       "<span style=\"color: #7fbfbf; text-decoration-color: #7fbfbf\">                    </span>         Please make sure this estimator is only used for building workflow   <span style=\"color: #7f7f7f; text-decoration-color: #7f7f7f\">                 </span>\n",
       "<span style=\"color: #7fbfbf; text-decoration-color: #7fbfbf\">                    </span>         config                                                               <span style=\"color: #7f7f7f; text-decoration-color: #7f7f7f\">                 </span>\n",
       "</pre>\n"
      ],
      "text/plain": [
       "\u001b[2;36m                   \u001b[0m\u001b[2;36m \u001b[0m\u001b[1;38;2;215;175;0mWARNING \u001b[0m No finished training job found associated with this estimator.       \u001b]8;id=49249;file:///opt/conda/lib/python3.11/site-packages/sagemaker/estimator.py\u001b\\\u001b[2mestimator.py\u001b[0m\u001b]8;;\u001b\\\u001b[2m:\u001b[0m\u001b]8;id=624121;file:///opt/conda/lib/python3.11/site-packages/sagemaker/estimator.py#1909\u001b\\\u001b[2m1909\u001b[0m\u001b]8;;\u001b\\\n",
       "\u001b[2;36m                    \u001b[0m         Please make sure this estimator is only used for building workflow   \u001b[2m                 \u001b[0m\n",
       "\u001b[2;36m                    \u001b[0m         config                                                               \u001b[2m                 \u001b[0m\n"
      ]
     },
     "metadata": {},
     "output_type": "display_data"
    },
    {
     "data": {
      "text/html": [
       "<pre style=\"white-space:pre;overflow-x:auto;line-height:normal;font-family:Menlo,'DejaVu Sans Mono',consolas,'Courier New',monospace\"><span style=\"color: #7fbfbf; text-decoration-color: #7fbfbf\">                    </span><span style=\"color: #d7af00; text-decoration-color: #d7af00; font-weight: bold\">WARNING </span> Popping out <span style=\"color: #008700; text-decoration-color: #008700\">'CertifyForMarketplace'</span> from the pipeline definition since   <a href=\"file:///opt/conda/lib/python3.11/site-packages/sagemaker/workflow/_utils.py\" target=\"_blank\"><span style=\"color: #7f7f7f; text-decoration-color: #7f7f7f\">_utils.py</span></a><span style=\"color: #7f7f7f; text-decoration-color: #7f7f7f\">:</span><a href=\"file:///opt/conda/lib/python3.11/site-packages/sagemaker/workflow/_utils.py#515\" target=\"_blank\"><span style=\"color: #7f7f7f; text-decoration-color: #7f7f7f\">515</span></a>\n",
       "<span style=\"color: #7fbfbf; text-decoration-color: #7fbfbf\">                    </span>         it will be overridden in pipeline execution time.                        <span style=\"color: #7f7f7f; text-decoration-color: #7f7f7f\">             </span>\n",
       "</pre>\n"
      ],
      "text/plain": [
       "\u001b[2;36m                   \u001b[0m\u001b[2;36m \u001b[0m\u001b[1;38;2;215;175;0mWARNING \u001b[0m Popping out \u001b[38;2;0;135;0m'CertifyForMarketplace'\u001b[0m from the pipeline definition since   \u001b]8;id=821756;file:///opt/conda/lib/python3.11/site-packages/sagemaker/workflow/_utils.py\u001b\\\u001b[2m_utils.py\u001b[0m\u001b]8;;\u001b\\\u001b[2m:\u001b[0m\u001b]8;id=579058;file:///opt/conda/lib/python3.11/site-packages/sagemaker/workflow/_utils.py#515\u001b\\\u001b[2m515\u001b[0m\u001b]8;;\u001b\\\n",
       "\u001b[2;36m                    \u001b[0m         it will be overridden in pipeline execution time.                        \u001b[2m             \u001b[0m\n"
      ]
     },
     "metadata": {},
     "output_type": "display_data"
    },
    {
     "data": {
      "text/html": [
       "<pre style=\"white-space:pre;overflow-x:auto;line-height:normal;font-family:Menlo,'DejaVu Sans Mono',consolas,'Courier New',monospace\"><span style=\"color: #7fbfbf; text-decoration-color: #7fbfbf\">                    </span><span style=\"color: #d7af00; text-decoration-color: #d7af00; font-weight: bold\">WARNING </span> Popping out <span style=\"color: #008700; text-decoration-color: #008700\">'ModelPackageName'</span> from the pipeline definition by        <a href=\"file:///opt/conda/lib/python3.11/site-packages/sagemaker/workflow/utilities.py\" target=\"_blank\"><span style=\"color: #7f7f7f; text-decoration-color: #7f7f7f\">utilities.py</span></a><span style=\"color: #7f7f7f; text-decoration-color: #7f7f7f\">:</span><a href=\"file:///opt/conda/lib/python3.11/site-packages/sagemaker/workflow/utilities.py#465\" target=\"_blank\"><span style=\"color: #7f7f7f; text-decoration-color: #7f7f7f\">465</span></a>\n",
       "<span style=\"color: #7fbfbf; text-decoration-color: #7fbfbf\">                    </span>         default since it will be overridden at pipeline execution time.       <span style=\"color: #7f7f7f; text-decoration-color: #7f7f7f\">                </span>\n",
       "<span style=\"color: #7fbfbf; text-decoration-color: #7fbfbf\">                    </span>         Please utilize the PipelineDefinitionConfig to persist this field in  <span style=\"color: #7f7f7f; text-decoration-color: #7f7f7f\">                </span>\n",
       "<span style=\"color: #7fbfbf; text-decoration-color: #7fbfbf\">                    </span>         the pipeline definition if desired.                                   <span style=\"color: #7f7f7f; text-decoration-color: #7f7f7f\">                </span>\n",
       "</pre>\n"
      ],
      "text/plain": [
       "\u001b[2;36m                   \u001b[0m\u001b[2;36m \u001b[0m\u001b[1;38;2;215;175;0mWARNING \u001b[0m Popping out \u001b[38;2;0;135;0m'ModelPackageName'\u001b[0m from the pipeline definition by        \u001b]8;id=535916;file:///opt/conda/lib/python3.11/site-packages/sagemaker/workflow/utilities.py\u001b\\\u001b[2mutilities.py\u001b[0m\u001b]8;;\u001b\\\u001b[2m:\u001b[0m\u001b]8;id=625878;file:///opt/conda/lib/python3.11/site-packages/sagemaker/workflow/utilities.py#465\u001b\\\u001b[2m465\u001b[0m\u001b]8;;\u001b\\\n",
       "\u001b[2;36m                    \u001b[0m         default since it will be overridden at pipeline execution time.       \u001b[2m                \u001b[0m\n",
       "\u001b[2;36m                    \u001b[0m         Please utilize the PipelineDefinitionConfig to persist this field in  \u001b[2m                \u001b[0m\n",
       "\u001b[2;36m                    \u001b[0m         the pipeline definition if desired.                                   \u001b[2m                \u001b[0m\n"
      ]
     },
     "metadata": {},
     "output_type": "display_data"
    },
    {
     "data": {
      "text/html": [
       "<pre style=\"white-space:pre;overflow-x:auto;line-height:normal;font-family:Menlo,'DejaVu Sans Mono',consolas,'Courier New',monospace\"><span style=\"color: #7fbfbf; text-decoration-color: #7fbfbf\">                    </span><span style=\"color: #d7af00; text-decoration-color: #d7af00; font-weight: bold\">WARNING </span> Popping out <span style=\"color: #008700; text-decoration-color: #008700\">'ProcessingJobName'</span> from the pipeline definition by       <a href=\"file:///opt/conda/lib/python3.11/site-packages/sagemaker/workflow/utilities.py\" target=\"_blank\"><span style=\"color: #7f7f7f; text-decoration-color: #7f7f7f\">utilities.py</span></a><span style=\"color: #7f7f7f; text-decoration-color: #7f7f7f\">:</span><a href=\"file:///opt/conda/lib/python3.11/site-packages/sagemaker/workflow/utilities.py#465\" target=\"_blank\"><span style=\"color: #7f7f7f; text-decoration-color: #7f7f7f\">465</span></a>\n",
       "<span style=\"color: #7fbfbf; text-decoration-color: #7fbfbf\">                    </span>         default since it will be overridden at pipeline execution time.       <span style=\"color: #7f7f7f; text-decoration-color: #7f7f7f\">                </span>\n",
       "<span style=\"color: #7fbfbf; text-decoration-color: #7fbfbf\">                    </span>         Please utilize the PipelineDefinitionConfig to persist this field in  <span style=\"color: #7f7f7f; text-decoration-color: #7f7f7f\">                </span>\n",
       "<span style=\"color: #7fbfbf; text-decoration-color: #7fbfbf\">                    </span>         the pipeline definition if desired.                                   <span style=\"color: #7f7f7f; text-decoration-color: #7f7f7f\">                </span>\n",
       "</pre>\n"
      ],
      "text/plain": [
       "\u001b[2;36m                   \u001b[0m\u001b[2;36m \u001b[0m\u001b[1;38;2;215;175;0mWARNING \u001b[0m Popping out \u001b[38;2;0;135;0m'ProcessingJobName'\u001b[0m from the pipeline definition by       \u001b]8;id=625202;file:///opt/conda/lib/python3.11/site-packages/sagemaker/workflow/utilities.py\u001b\\\u001b[2mutilities.py\u001b[0m\u001b]8;;\u001b\\\u001b[2m:\u001b[0m\u001b]8;id=241513;file:///opt/conda/lib/python3.11/site-packages/sagemaker/workflow/utilities.py#465\u001b\\\u001b[2m465\u001b[0m\u001b]8;;\u001b\\\n",
       "\u001b[2;36m                    \u001b[0m         default since it will be overridden at pipeline execution time.       \u001b[2m                \u001b[0m\n",
       "\u001b[2;36m                    \u001b[0m         Please utilize the PipelineDefinitionConfig to persist this field in  \u001b[2m                \u001b[0m\n",
       "\u001b[2;36m                    \u001b[0m         the pipeline definition if desired.                                   \u001b[2m                \u001b[0m\n"
      ]
     },
     "metadata": {},
     "output_type": "display_data"
    },
    {
     "data": {
      "text/plain": [
       "{'PipelineArn': 'arn:aws:sagemaker:us-east-1:047922237497:pipeline/xgb-pipeline',\n",
       " 'ResponseMetadata': {'RequestId': '17e49ff9-6d37-4953-b503-ef591de3324b',\n",
       "  'HTTPStatusCode': 200,\n",
       "  'HTTPHeaders': {'x-amzn-requestid': '17e49ff9-6d37-4953-b503-ef591de3324b',\n",
       "   'content-type': 'application/x-amz-json-1.1',\n",
       "   'content-length': '80',\n",
       "   'date': 'Wed, 27 Nov 2024 19:51:54 GMT'},\n",
       "  'RetryAttempts': 0}}"
      ]
     },
     "execution_count": 32,
     "metadata": {},
     "output_type": "execute_result"
    }
   ],
   "source": [
    "pipeline.upsert(role_arn=sagemaker_role)"
   ]
  },
  {
   "cell_type": "code",
   "execution_count": 33,
   "id": "ff4dc474-bb58-42f4-bf31-bc1c7bcdfb86",
   "metadata": {},
   "outputs": [
    {
     "data": {
      "text/plain": [
       "_PipelineExecution(arn='arn:aws:sagemaker:us-east-1:047922237497:pipeline/xgb-pipeline/execution/lxgx9ohsz5fl', sagemaker_session=<sagemaker.session.Session object at 0x7f5c7f588550>)"
      ]
     },
     "execution_count": 33,
     "metadata": {},
     "output_type": "execute_result"
    }
   ],
   "source": [
    "pipeline.start()"
   ]
  },
  {
   "cell_type": "code",
   "execution_count": null,
   "id": "40550891-6ebe-4b51-a52f-86a47ad62d45",
   "metadata": {},
   "outputs": [],
   "source": []
  },
  {
   "cell_type": "code",
   "execution_count": 34,
   "id": "97b01eab-8344-472e-ab68-21ff16a13fef",
   "metadata": {},
   "outputs": [
    {
     "name": "stdout",
     "output_type": "stream",
     "text": [
      "download: s3://aamlops2024/xgb-pipeline-lam-01/evaluation/evaluation.json to ./evaluation.json\n"
     ]
    }
   ],
   "source": [
    "!aws s3 cp s3://aamlops2024/xgb-pipeline-lam-01/evaluation/evaluation.json ."
   ]
  },
  {
   "cell_type": "code",
   "execution_count": 35,
   "id": "423f3d8d-2405-4905-ad90-9b81a335537c",
   "metadata": {},
   "outputs": [
    {
     "name": "stdout",
     "output_type": "stream",
     "text": [
      "173754725891.dkr.ecr.us-east-1.amazonaws.com/sagemaker-spark-processing:2.4-cpu-py37\n"
     ]
    }
   ],
   "source": [
    "from sagemaker import image_uris\n",
    "\n",
    "image_uri_pyspark = image_uris.retrieve(\n",
    "    framework=\"spark\",\n",
    "    region=\"us-east-1\",  # Replace with your region\n",
    "    version=\"2.4\",\n",
    "    py_version=\"py37\",\n",
    "    instance_type=\"ml.m5.xlarge\",  # Adjust instance type as needed\n",
    ")\n",
    "print(image_uri_pyspark)"
   ]
  },
  {
   "cell_type": "code",
   "execution_count": null,
   "id": "35aa8740-55f9-4481-9fea-6e1384aa8d32",
   "metadata": {},
   "outputs": [],
   "source": []
  }
 ],
 "metadata": {
  "availableInstances": [
   {
    "_defaultOrder": 0,
    "_isFastLaunch": true,
    "category": "General purpose",
    "gpuNum": 0,
    "hideHardwareSpecs": false,
    "memoryGiB": 4,
    "name": "ml.t3.medium",
    "vcpuNum": 2
   },
   {
    "_defaultOrder": 1,
    "_isFastLaunch": false,
    "category": "General purpose",
    "gpuNum": 0,
    "hideHardwareSpecs": false,
    "memoryGiB": 8,
    "name": "ml.t3.large",
    "vcpuNum": 2
   },
   {
    "_defaultOrder": 2,
    "_isFastLaunch": false,
    "category": "General purpose",
    "gpuNum": 0,
    "hideHardwareSpecs": false,
    "memoryGiB": 16,
    "name": "ml.t3.xlarge",
    "vcpuNum": 4
   },
   {
    "_defaultOrder": 3,
    "_isFastLaunch": false,
    "category": "General purpose",
    "gpuNum": 0,
    "hideHardwareSpecs": false,
    "memoryGiB": 32,
    "name": "ml.t3.2xlarge",
    "vcpuNum": 8
   },
   {
    "_defaultOrder": 4,
    "_isFastLaunch": true,
    "category": "General purpose",
    "gpuNum": 0,
    "hideHardwareSpecs": false,
    "memoryGiB": 8,
    "name": "ml.m5.large",
    "vcpuNum": 2
   },
   {
    "_defaultOrder": 5,
    "_isFastLaunch": false,
    "category": "General purpose",
    "gpuNum": 0,
    "hideHardwareSpecs": false,
    "memoryGiB": 16,
    "name": "ml.m5.xlarge",
    "vcpuNum": 4
   },
   {
    "_defaultOrder": 6,
    "_isFastLaunch": false,
    "category": "General purpose",
    "gpuNum": 0,
    "hideHardwareSpecs": false,
    "memoryGiB": 32,
    "name": "ml.m5.2xlarge",
    "vcpuNum": 8
   },
   {
    "_defaultOrder": 7,
    "_isFastLaunch": false,
    "category": "General purpose",
    "gpuNum": 0,
    "hideHardwareSpecs": false,
    "memoryGiB": 64,
    "name": "ml.m5.4xlarge",
    "vcpuNum": 16
   },
   {
    "_defaultOrder": 8,
    "_isFastLaunch": false,
    "category": "General purpose",
    "gpuNum": 0,
    "hideHardwareSpecs": false,
    "memoryGiB": 128,
    "name": "ml.m5.8xlarge",
    "vcpuNum": 32
   },
   {
    "_defaultOrder": 9,
    "_isFastLaunch": false,
    "category": "General purpose",
    "gpuNum": 0,
    "hideHardwareSpecs": false,
    "memoryGiB": 192,
    "name": "ml.m5.12xlarge",
    "vcpuNum": 48
   },
   {
    "_defaultOrder": 10,
    "_isFastLaunch": false,
    "category": "General purpose",
    "gpuNum": 0,
    "hideHardwareSpecs": false,
    "memoryGiB": 256,
    "name": "ml.m5.16xlarge",
    "vcpuNum": 64
   },
   {
    "_defaultOrder": 11,
    "_isFastLaunch": false,
    "category": "General purpose",
    "gpuNum": 0,
    "hideHardwareSpecs": false,
    "memoryGiB": 384,
    "name": "ml.m5.24xlarge",
    "vcpuNum": 96
   },
   {
    "_defaultOrder": 12,
    "_isFastLaunch": false,
    "category": "General purpose",
    "gpuNum": 0,
    "hideHardwareSpecs": false,
    "memoryGiB": 8,
    "name": "ml.m5d.large",
    "vcpuNum": 2
   },
   {
    "_defaultOrder": 13,
    "_isFastLaunch": false,
    "category": "General purpose",
    "gpuNum": 0,
    "hideHardwareSpecs": false,
    "memoryGiB": 16,
    "name": "ml.m5d.xlarge",
    "vcpuNum": 4
   },
   {
    "_defaultOrder": 14,
    "_isFastLaunch": false,
    "category": "General purpose",
    "gpuNum": 0,
    "hideHardwareSpecs": false,
    "memoryGiB": 32,
    "name": "ml.m5d.2xlarge",
    "vcpuNum": 8
   },
   {
    "_defaultOrder": 15,
    "_isFastLaunch": false,
    "category": "General purpose",
    "gpuNum": 0,
    "hideHardwareSpecs": false,
    "memoryGiB": 64,
    "name": "ml.m5d.4xlarge",
    "vcpuNum": 16
   },
   {
    "_defaultOrder": 16,
    "_isFastLaunch": false,
    "category": "General purpose",
    "gpuNum": 0,
    "hideHardwareSpecs": false,
    "memoryGiB": 128,
    "name": "ml.m5d.8xlarge",
    "vcpuNum": 32
   },
   {
    "_defaultOrder": 17,
    "_isFastLaunch": false,
    "category": "General purpose",
    "gpuNum": 0,
    "hideHardwareSpecs": false,
    "memoryGiB": 192,
    "name": "ml.m5d.12xlarge",
    "vcpuNum": 48
   },
   {
    "_defaultOrder": 18,
    "_isFastLaunch": false,
    "category": "General purpose",
    "gpuNum": 0,
    "hideHardwareSpecs": false,
    "memoryGiB": 256,
    "name": "ml.m5d.16xlarge",
    "vcpuNum": 64
   },
   {
    "_defaultOrder": 19,
    "_isFastLaunch": false,
    "category": "General purpose",
    "gpuNum": 0,
    "hideHardwareSpecs": false,
    "memoryGiB": 384,
    "name": "ml.m5d.24xlarge",
    "vcpuNum": 96
   },
   {
    "_defaultOrder": 20,
    "_isFastLaunch": false,
    "category": "General purpose",
    "gpuNum": 0,
    "hideHardwareSpecs": true,
    "memoryGiB": 0,
    "name": "ml.geospatial.interactive",
    "supportedImageNames": [
     "sagemaker-geospatial-v1-0"
    ],
    "vcpuNum": 0
   },
   {
    "_defaultOrder": 21,
    "_isFastLaunch": true,
    "category": "Compute optimized",
    "gpuNum": 0,
    "hideHardwareSpecs": false,
    "memoryGiB": 4,
    "name": "ml.c5.large",
    "vcpuNum": 2
   },
   {
    "_defaultOrder": 22,
    "_isFastLaunch": false,
    "category": "Compute optimized",
    "gpuNum": 0,
    "hideHardwareSpecs": false,
    "memoryGiB": 8,
    "name": "ml.c5.xlarge",
    "vcpuNum": 4
   },
   {
    "_defaultOrder": 23,
    "_isFastLaunch": false,
    "category": "Compute optimized",
    "gpuNum": 0,
    "hideHardwareSpecs": false,
    "memoryGiB": 16,
    "name": "ml.c5.2xlarge",
    "vcpuNum": 8
   },
   {
    "_defaultOrder": 24,
    "_isFastLaunch": false,
    "category": "Compute optimized",
    "gpuNum": 0,
    "hideHardwareSpecs": false,
    "memoryGiB": 32,
    "name": "ml.c5.4xlarge",
    "vcpuNum": 16
   },
   {
    "_defaultOrder": 25,
    "_isFastLaunch": false,
    "category": "Compute optimized",
    "gpuNum": 0,
    "hideHardwareSpecs": false,
    "memoryGiB": 72,
    "name": "ml.c5.9xlarge",
    "vcpuNum": 36
   },
   {
    "_defaultOrder": 26,
    "_isFastLaunch": false,
    "category": "Compute optimized",
    "gpuNum": 0,
    "hideHardwareSpecs": false,
    "memoryGiB": 96,
    "name": "ml.c5.12xlarge",
    "vcpuNum": 48
   },
   {
    "_defaultOrder": 27,
    "_isFastLaunch": false,
    "category": "Compute optimized",
    "gpuNum": 0,
    "hideHardwareSpecs": false,
    "memoryGiB": 144,
    "name": "ml.c5.18xlarge",
    "vcpuNum": 72
   },
   {
    "_defaultOrder": 28,
    "_isFastLaunch": false,
    "category": "Compute optimized",
    "gpuNum": 0,
    "hideHardwareSpecs": false,
    "memoryGiB": 192,
    "name": "ml.c5.24xlarge",
    "vcpuNum": 96
   },
   {
    "_defaultOrder": 29,
    "_isFastLaunch": true,
    "category": "Accelerated computing",
    "gpuNum": 1,
    "hideHardwareSpecs": false,
    "memoryGiB": 16,
    "name": "ml.g4dn.xlarge",
    "vcpuNum": 4
   },
   {
    "_defaultOrder": 30,
    "_isFastLaunch": false,
    "category": "Accelerated computing",
    "gpuNum": 1,
    "hideHardwareSpecs": false,
    "memoryGiB": 32,
    "name": "ml.g4dn.2xlarge",
    "vcpuNum": 8
   },
   {
    "_defaultOrder": 31,
    "_isFastLaunch": false,
    "category": "Accelerated computing",
    "gpuNum": 1,
    "hideHardwareSpecs": false,
    "memoryGiB": 64,
    "name": "ml.g4dn.4xlarge",
    "vcpuNum": 16
   },
   {
    "_defaultOrder": 32,
    "_isFastLaunch": false,
    "category": "Accelerated computing",
    "gpuNum": 1,
    "hideHardwareSpecs": false,
    "memoryGiB": 128,
    "name": "ml.g4dn.8xlarge",
    "vcpuNum": 32
   },
   {
    "_defaultOrder": 33,
    "_isFastLaunch": false,
    "category": "Accelerated computing",
    "gpuNum": 4,
    "hideHardwareSpecs": false,
    "memoryGiB": 192,
    "name": "ml.g4dn.12xlarge",
    "vcpuNum": 48
   },
   {
    "_defaultOrder": 34,
    "_isFastLaunch": false,
    "category": "Accelerated computing",
    "gpuNum": 1,
    "hideHardwareSpecs": false,
    "memoryGiB": 256,
    "name": "ml.g4dn.16xlarge",
    "vcpuNum": 64
   },
   {
    "_defaultOrder": 35,
    "_isFastLaunch": false,
    "category": "Accelerated computing",
    "gpuNum": 1,
    "hideHardwareSpecs": false,
    "memoryGiB": 61,
    "name": "ml.p3.2xlarge",
    "vcpuNum": 8
   },
   {
    "_defaultOrder": 36,
    "_isFastLaunch": false,
    "category": "Accelerated computing",
    "gpuNum": 4,
    "hideHardwareSpecs": false,
    "memoryGiB": 244,
    "name": "ml.p3.8xlarge",
    "vcpuNum": 32
   },
   {
    "_defaultOrder": 37,
    "_isFastLaunch": false,
    "category": "Accelerated computing",
    "gpuNum": 8,
    "hideHardwareSpecs": false,
    "memoryGiB": 488,
    "name": "ml.p3.16xlarge",
    "vcpuNum": 64
   },
   {
    "_defaultOrder": 38,
    "_isFastLaunch": false,
    "category": "Accelerated computing",
    "gpuNum": 8,
    "hideHardwareSpecs": false,
    "memoryGiB": 768,
    "name": "ml.p3dn.24xlarge",
    "vcpuNum": 96
   },
   {
    "_defaultOrder": 39,
    "_isFastLaunch": false,
    "category": "Memory Optimized",
    "gpuNum": 0,
    "hideHardwareSpecs": false,
    "memoryGiB": 16,
    "name": "ml.r5.large",
    "vcpuNum": 2
   },
   {
    "_defaultOrder": 40,
    "_isFastLaunch": false,
    "category": "Memory Optimized",
    "gpuNum": 0,
    "hideHardwareSpecs": false,
    "memoryGiB": 32,
    "name": "ml.r5.xlarge",
    "vcpuNum": 4
   },
   {
    "_defaultOrder": 41,
    "_isFastLaunch": false,
    "category": "Memory Optimized",
    "gpuNum": 0,
    "hideHardwareSpecs": false,
    "memoryGiB": 64,
    "name": "ml.r5.2xlarge",
    "vcpuNum": 8
   },
   {
    "_defaultOrder": 42,
    "_isFastLaunch": false,
    "category": "Memory Optimized",
    "gpuNum": 0,
    "hideHardwareSpecs": false,
    "memoryGiB": 128,
    "name": "ml.r5.4xlarge",
    "vcpuNum": 16
   },
   {
    "_defaultOrder": 43,
    "_isFastLaunch": false,
    "category": "Memory Optimized",
    "gpuNum": 0,
    "hideHardwareSpecs": false,
    "memoryGiB": 256,
    "name": "ml.r5.8xlarge",
    "vcpuNum": 32
   },
   {
    "_defaultOrder": 44,
    "_isFastLaunch": false,
    "category": "Memory Optimized",
    "gpuNum": 0,
    "hideHardwareSpecs": false,
    "memoryGiB": 384,
    "name": "ml.r5.12xlarge",
    "vcpuNum": 48
   },
   {
    "_defaultOrder": 45,
    "_isFastLaunch": false,
    "category": "Memory Optimized",
    "gpuNum": 0,
    "hideHardwareSpecs": false,
    "memoryGiB": 512,
    "name": "ml.r5.16xlarge",
    "vcpuNum": 64
   },
   {
    "_defaultOrder": 46,
    "_isFastLaunch": false,
    "category": "Memory Optimized",
    "gpuNum": 0,
    "hideHardwareSpecs": false,
    "memoryGiB": 768,
    "name": "ml.r5.24xlarge",
    "vcpuNum": 96
   },
   {
    "_defaultOrder": 47,
    "_isFastLaunch": false,
    "category": "Accelerated computing",
    "gpuNum": 1,
    "hideHardwareSpecs": false,
    "memoryGiB": 16,
    "name": "ml.g5.xlarge",
    "vcpuNum": 4
   },
   {
    "_defaultOrder": 48,
    "_isFastLaunch": false,
    "category": "Accelerated computing",
    "gpuNum": 1,
    "hideHardwareSpecs": false,
    "memoryGiB": 32,
    "name": "ml.g5.2xlarge",
    "vcpuNum": 8
   },
   {
    "_defaultOrder": 49,
    "_isFastLaunch": false,
    "category": "Accelerated computing",
    "gpuNum": 1,
    "hideHardwareSpecs": false,
    "memoryGiB": 64,
    "name": "ml.g5.4xlarge",
    "vcpuNum": 16
   },
   {
    "_defaultOrder": 50,
    "_isFastLaunch": false,
    "category": "Accelerated computing",
    "gpuNum": 1,
    "hideHardwareSpecs": false,
    "memoryGiB": 128,
    "name": "ml.g5.8xlarge",
    "vcpuNum": 32
   },
   {
    "_defaultOrder": 51,
    "_isFastLaunch": false,
    "category": "Accelerated computing",
    "gpuNum": 1,
    "hideHardwareSpecs": false,
    "memoryGiB": 256,
    "name": "ml.g5.16xlarge",
    "vcpuNum": 64
   },
   {
    "_defaultOrder": 52,
    "_isFastLaunch": false,
    "category": "Accelerated computing",
    "gpuNum": 4,
    "hideHardwareSpecs": false,
    "memoryGiB": 192,
    "name": "ml.g5.12xlarge",
    "vcpuNum": 48
   },
   {
    "_defaultOrder": 53,
    "_isFastLaunch": false,
    "category": "Accelerated computing",
    "gpuNum": 4,
    "hideHardwareSpecs": false,
    "memoryGiB": 384,
    "name": "ml.g5.24xlarge",
    "vcpuNum": 96
   },
   {
    "_defaultOrder": 54,
    "_isFastLaunch": false,
    "category": "Accelerated computing",
    "gpuNum": 8,
    "hideHardwareSpecs": false,
    "memoryGiB": 768,
    "name": "ml.g5.48xlarge",
    "vcpuNum": 192
   },
   {
    "_defaultOrder": 55,
    "_isFastLaunch": false,
    "category": "Accelerated computing",
    "gpuNum": 8,
    "hideHardwareSpecs": false,
    "memoryGiB": 1152,
    "name": "ml.p4d.24xlarge",
    "vcpuNum": 96
   },
   {
    "_defaultOrder": 56,
    "_isFastLaunch": false,
    "category": "Accelerated computing",
    "gpuNum": 8,
    "hideHardwareSpecs": false,
    "memoryGiB": 1152,
    "name": "ml.p4de.24xlarge",
    "vcpuNum": 96
   },
   {
    "_defaultOrder": 57,
    "_isFastLaunch": false,
    "category": "Accelerated computing",
    "gpuNum": 0,
    "hideHardwareSpecs": false,
    "memoryGiB": 32,
    "name": "ml.trn1.2xlarge",
    "vcpuNum": 8
   },
   {
    "_defaultOrder": 58,
    "_isFastLaunch": false,
    "category": "Accelerated computing",
    "gpuNum": 0,
    "hideHardwareSpecs": false,
    "memoryGiB": 512,
    "name": "ml.trn1.32xlarge",
    "vcpuNum": 128
   },
   {
    "_defaultOrder": 59,
    "_isFastLaunch": false,
    "category": "Accelerated computing",
    "gpuNum": 0,
    "hideHardwareSpecs": false,
    "memoryGiB": 512,
    "name": "ml.trn1n.32xlarge",
    "vcpuNum": 128
   }
  ],
  "kernelspec": {
   "display_name": "Python 3 (ipykernel)",
   "language": "python",
   "name": "python3"
  },
  "language_info": {
   "codemirror_mode": {
    "name": "ipython",
    "version": 3
   },
   "file_extension": ".py",
   "mimetype": "text/x-python",
   "name": "python",
   "nbconvert_exporter": "python",
   "pygments_lexer": "ipython3",
   "version": "3.11.10"
  },
  "toc-autonumbering": true
 },
 "nbformat": 4,
 "nbformat_minor": 5
}
