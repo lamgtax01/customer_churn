{
 "cells": [
  {
   "cell_type": "code",
   "execution_count": 7,
   "id": "bfc16b10-d2cf-45d6-b99b-6c43ee70740a",
   "metadata": {},
   "outputs": [],
   "source": [
    "import sagemaker\n",
    "from sagemaker import image_uris\n",
    "from sagemaker.workflow.steps import ProcessingStep, TrainingStep, CacheConfig\n",
    "from sagemaker.workflow.pipeline import Pipeline\n",
    "from sagemaker.workflow.pipeline_context import PipelineSession\n",
    "from sagemaker.workflow.step_collections import RegisterModel\n",
    "from sagemaker.workflow.conditions import ConditionGreaterThanOrEqualTo\n",
    "from sagemaker.workflow.condition_step import ConditionStep\n",
    "from sagemaker.workflow.parameters import ParameterString, ParameterFloat\n",
    "from sagemaker.sklearn.processing import SKLearnProcessor\n",
    "from sagemaker.huggingface import HuggingFace\n",
    "from sagemaker.processing import ProcessingInput, ProcessingOutput\n",
    "from sagemaker.workflow.functions import JsonGet\n",
    "from sagemaker.processing import ScriptProcessor\n",
    "from sagemaker.workflow.properties import PropertyFile\n"
   ]
  },
  {
   "cell_type": "code",
   "execution_count": 32,
   "id": "2239e2ec-0b7a-4b9f-8ed7-904de52759b4",
   "metadata": {},
   "outputs": [],
   "source": [
    "# AWS setup\n",
    "sagemaker_session = sagemaker.session.Session()\n",
    "role = sagemaker.get_execution_role()"
   ]
  },
  {
   "cell_type": "code",
   "execution_count": 64,
   "id": "f1eb23a6-d270-43f6-9d80-884376e09f96",
   "metadata": {},
   "outputs": [
    {
     "data": {
      "text/plain": [
       "('aamlops2024',\n",
       " 'transaction-HuggingFace-pipeline-v01',\n",
       " 's3://aamlops2024/transaction-HuggingFace-pipeline-v01',\n",
       " 'us-east-1')"
      ]
     },
     "execution_count": 64,
     "metadata": {},
     "output_type": "execute_result"
    }
   ],
   "source": [
    "sagemaker_role = sagemaker.get_execution_role()\n",
    "sagemaker_session = sagemaker.Session()\n",
    "pipeline_session = PipelineSession()\n",
    "\n",
    "aws_region = sagemaker_session.boto_session.region_name\n",
    "\n",
    "# s3_bucket = sagemaker_session.default_bucket()\n",
    "s3_bucket = \"aamlops2024\"\n",
    "s3_prefix = \"transaction-HuggingFace-pipeline-v01\"\n",
    "s3_base_url = f\"s3://{s3_bucket}/{s3_prefix}\"\n",
    "s3_bucket, s3_prefix, s3_base_url, aws_region"
   ]
  },
  {
   "cell_type": "code",
   "execution_count": null,
   "id": "e20cb6e9-4c1c-42ac-a5a2-613cec949b93",
   "metadata": {},
   "outputs": [],
   "source": []
  },
  {
   "cell_type": "code",
   "execution_count": 92,
   "id": "25d78092-329a-4b1f-8843-02fbeec57c90",
   "metadata": {},
   "outputs": [],
   "source": [
    "# Parameters\n",
    "input_data = ParameterString(name=\"InputData\", default_value=\"s3://aamlops2024/transaction-HuggingFace-pipeline-v01/data/ccdata.parquet\")\n",
    "model_approval_status = ParameterString(name=\"ModelApprovalStatus\", default_value=\"PendingManualApproval\")\n",
    "accuracy_threshold = ParameterFloat(name=\"AccuracyThreshold\", default_value=0.85)\n",
    "output_path = ParameterString(name=\"OutputPath\", default_value=f\"s3://{s3_bucket}/{s3_prefix}/archives\")\n",
    "output_path = f\"s3://{s3_bucket}/{s3_prefix}/archives\""
   ]
  },
  {
   "cell_type": "code",
   "execution_count": 93,
   "id": "15e6c2d2-2a90-479c-8e46-ca5bfea6aa69",
   "metadata": {},
   "outputs": [],
   "source": [
    "# Define cache configuration\n",
    "cache_config = CacheConfig(\n",
    "    enable_caching=True,             # Enable caching\n",
    "    expire_after=\"P30D\"              # Cache expiry in ISO 8601 duration format (e.g., P30D = 30 days)\n",
    ")"
   ]
  },
  {
   "cell_type": "code",
   "execution_count": 94,
   "id": "80313e1c-6659-4c65-9966-c56db68c2d91",
   "metadata": {},
   "outputs": [
    {
     "data": {
      "text/html": [
       "<pre style=\"white-space:pre;overflow-x:auto;line-height:normal;font-family:Menlo,'DejaVu Sans Mono',consolas,'Courier New',monospace\"><span style=\"color: #7fbfbf; text-decoration-color: #7fbfbf\">[04/21/25 01:17:29] </span><span style=\"color: #0069ff; text-decoration-color: #0069ff; font-weight: bold\">INFO    </span> Defaulting to only available Python version: py3                     <a href=\"file:///opt/conda/lib/python3.11/site-packages/sagemaker/image_uris.py\" target=\"_blank\"><span style=\"color: #7f7f7f; text-decoration-color: #7f7f7f\">image_uris.py</span></a><span style=\"color: #7f7f7f; text-decoration-color: #7f7f7f\">:</span><a href=\"file:///opt/conda/lib/python3.11/site-packages/sagemaker/image_uris.py#610\" target=\"_blank\"><span style=\"color: #7f7f7f; text-decoration-color: #7f7f7f\">610</span></a>\n",
       "</pre>\n"
      ],
      "text/plain": [
       "\u001b[2;36m[04/21/25 01:17:29]\u001b[0m\u001b[2;36m \u001b[0m\u001b[1;38;2;0;105;255mINFO    \u001b[0m Defaulting to only available Python version: py3                     \u001b]8;id=644341;file:///opt/conda/lib/python3.11/site-packages/sagemaker/image_uris.py\u001b\\\u001b[2mimage_uris.py\u001b[0m\u001b]8;;\u001b\\\u001b[2m:\u001b[0m\u001b]8;id=777622;file:///opt/conda/lib/python3.11/site-packages/sagemaker/image_uris.py#610\u001b\\\u001b[2m610\u001b[0m\u001b]8;;\u001b\\\n"
      ]
     },
     "metadata": {},
     "output_type": "display_data"
    }
   ],
   "source": [
    "# SKLearn Preprocessing\n",
    "sklearn_processor = SKLearnProcessor(\n",
    "    framework_version=\"1.2-1\",\n",
    "    role=role,\n",
    "    instance_type=\"ml.m5.large\",\n",
    "    instance_count=1,\n",
    "    base_job_name=\"preprocessing\"\n",
    ")"
   ]
  },
  {
   "cell_type": "code",
   "execution_count": 95,
   "id": "065fa5e2-d2e2-4bcb-ad9d-66aadbe1ccc6",
   "metadata": {},
   "outputs": [],
   "source": [
    "processing_step = ProcessingStep(\n",
    "    name=\"PreprocessData\",\n",
    "    processor=sklearn_processor,\n",
    "    inputs=[\n",
    "        ProcessingInput(source=input_data, destination=\"/opt/ml/processing/input\")\n",
    "    ],\n",
    "    outputs=[\n",
    "        ProcessingOutput(output_name=\"train\", source=\"/opt/ml/processing/train\", destination=f\"s3://{s3_bucket}/{s3_prefix}/processing\"),\n",
    "        ProcessingOutput(output_name=\"validation\", source=\"/opt/ml/processing/validation\", destination=f\"s3://{s3_bucket}/{s3_prefix}/processing\"),\n",
    "        ProcessingOutput(output_name=\"test\", source=\"/opt/ml/processing/test\", destination=f\"s3://{s3_bucket}/{s3_prefix}/processing\"),\n",
    "    ],\n",
    "    code=\"./code/preprocessing.py\",\n",
    "    cache_config=cache_config\n",
    ")"
   ]
  },
  {
   "cell_type": "code",
   "execution_count": null,
   "id": "804dff6d-b618-4732-90ea-76b34c3794a8",
   "metadata": {},
   "outputs": [],
   "source": []
  },
  {
   "cell_type": "markdown",
   "id": "616b4bb2-0ede-4afe-861d-27fa316de562",
   "metadata": {},
   "source": [
    "### Training"
   ]
  },
  {
   "cell_type": "code",
   "execution_count": 101,
   "id": "b0612fc0-d796-419d-a978-e8a93fa57343",
   "metadata": {},
   "outputs": [],
   "source": [
    "# Hugging Face Training\n",
    "huggingface_estimator = HuggingFace(\n",
    "    entry_point=\"./code/train.py\",\n",
    "    # source_dir=\"./\",\n",
    "    base_job_name=\"hf-train\",\n",
    "    instance_type=\"ml.p3.2xlarge\",\n",
    "    instance_count=1,\n",
    "    role=role,\n",
    "    sagemaker_session=pipeline_session,\n",
    "    transformers_version=\"4.26\",\n",
    "    pytorch_version=\"1.13\",\n",
    "    py_version=\"py39\",\n",
    "    output_path=output_path,\n",
    "    hyperparameters={\n",
    "        \"epochs\": 3,\n",
    "        \"per_device_train_batch_size\": 16,\n",
    "        \"per_device_eval_batch_size\": 32,\n",
    "        \"model_name\": \"bert-base-uncased\"\n",
    "    }\n",
    ")"
   ]
  },
  {
   "cell_type": "code",
   "execution_count": 102,
   "id": "d7fb7d60-1883-4657-b470-f2c9e0d17075",
   "metadata": {},
   "outputs": [],
   "source": [
    "training_step = TrainingStep(\n",
    "    name=\"TrainModel\",\n",
    "    estimator=huggingface_estimator,\n",
    "    inputs={\n",
    "        \"train\": processing_step.properties.ProcessingOutputConfig.Outputs[\"train\"].S3Output.S3Uri,\n",
    "        \"validation\": processing_step.properties.ProcessingOutputConfig.Outputs[\"validation\"].S3Output.S3Uri\n",
    "    },\n",
    "    # cache_config=CacheConfig(enable_caching=True)\n",
    ")"
   ]
  },
  {
   "cell_type": "code",
   "execution_count": null,
   "id": "fefab68d-4acb-428e-9008-3b1aad03c54e",
   "metadata": {},
   "outputs": [],
   "source": []
  },
  {
   "cell_type": "markdown",
   "id": "094cddbb-b3d0-474d-bebb-0fc2f3af872e",
   "metadata": {},
   "source": [
    "## 6. Pipeline"
   ]
  },
  {
   "cell_type": "code",
   "execution_count": 103,
   "id": "95caa405-06f1-40e1-9ff2-bb0e533bdfc2",
   "metadata": {},
   "outputs": [],
   "source": [
    "# Final pipeline\n",
    "pipeline = Pipeline(\n",
    "    name=\"CreditCardTransactionCategorization\",\n",
    "    sagemaker_session=sagemaker_session,\n",
    "    parameters=[input_data, model_approval_status, accuracy_threshold],\n",
    "    steps=[\n",
    "        processing_step,\n",
    "        training_step,\n",
    "        # evaluation_step,\n",
    "        # cond_step\n",
    "    ],\n",
    ")"
   ]
  },
  {
   "cell_type": "code",
   "execution_count": 104,
   "id": "c9db0b26-de1c-417e-a27d-11717e2bb728",
   "metadata": {},
   "outputs": [
    {
     "data": {
      "text/html": [
       "<pre style=\"white-space:pre;overflow-x:auto;line-height:normal;font-family:Menlo,'DejaVu Sans Mono',consolas,'Courier New',monospace\"><span style=\"color: #7fbfbf; text-decoration-color: #7fbfbf\">[04/21/25 01:32:42] </span><span style=\"color: #d7af00; text-decoration-color: #d7af00; font-weight: bold\">WARNING </span> Popping out <span style=\"color: #008700; text-decoration-color: #008700\">'ProcessingJobName'</span> from the pipeline definition by       <a href=\"file:///opt/conda/lib/python3.11/site-packages/sagemaker/workflow/utilities.py\" target=\"_blank\"><span style=\"color: #7f7f7f; text-decoration-color: #7f7f7f\">utilities.py</span></a><span style=\"color: #7f7f7f; text-decoration-color: #7f7f7f\">:</span><a href=\"file:///opt/conda/lib/python3.11/site-packages/sagemaker/workflow/utilities.py#465\" target=\"_blank\"><span style=\"color: #7f7f7f; text-decoration-color: #7f7f7f\">465</span></a>\n",
       "<span style=\"color: #7fbfbf; text-decoration-color: #7fbfbf\">                    </span>         default since it will be overridden at pipeline execution time.       <span style=\"color: #7f7f7f; text-decoration-color: #7f7f7f\">                </span>\n",
       "<span style=\"color: #7fbfbf; text-decoration-color: #7fbfbf\">                    </span>         Please utilize the PipelineDefinitionConfig to persist this field in  <span style=\"color: #7f7f7f; text-decoration-color: #7f7f7f\">                </span>\n",
       "<span style=\"color: #7fbfbf; text-decoration-color: #7fbfbf\">                    </span>         the pipeline definition if desired.                                   <span style=\"color: #7f7f7f; text-decoration-color: #7f7f7f\">                </span>\n",
       "</pre>\n"
      ],
      "text/plain": [
       "\u001b[2;36m[04/21/25 01:32:42]\u001b[0m\u001b[2;36m \u001b[0m\u001b[1;38;2;215;175;0mWARNING \u001b[0m Popping out \u001b[38;2;0;135;0m'ProcessingJobName'\u001b[0m from the pipeline definition by       \u001b]8;id=560216;file:///opt/conda/lib/python3.11/site-packages/sagemaker/workflow/utilities.py\u001b\\\u001b[2mutilities.py\u001b[0m\u001b]8;;\u001b\\\u001b[2m:\u001b[0m\u001b]8;id=727679;file:///opt/conda/lib/python3.11/site-packages/sagemaker/workflow/utilities.py#465\u001b\\\u001b[2m465\u001b[0m\u001b]8;;\u001b\\\n",
       "\u001b[2;36m                    \u001b[0m         default since it will be overridden at pipeline execution time.       \u001b[2m                \u001b[0m\n",
       "\u001b[2;36m                    \u001b[0m         Please utilize the PipelineDefinitionConfig to persist this field in  \u001b[2m                \u001b[0m\n",
       "\u001b[2;36m                    \u001b[0m         the pipeline definition if desired.                                   \u001b[2m                \u001b[0m\n"
      ]
     },
     "metadata": {},
     "output_type": "display_data"
    },
    {
     "data": {
      "text/html": [
       "<pre style=\"white-space:pre;overflow-x:auto;line-height:normal;font-family:Menlo,'DejaVu Sans Mono',consolas,'Courier New',monospace\"><span style=\"color: #7fbfbf; text-decoration-color: #7fbfbf\">                    </span><span style=\"color: #0069ff; text-decoration-color: #0069ff; font-weight: bold\">INFO    </span> image_uri is not presented, retrieving image_uri based on            <a href=\"file:///opt/conda/lib/python3.11/site-packages/sagemaker/image_uris.py\" target=\"_blank\"><span style=\"color: #7f7f7f; text-decoration-color: #7f7f7f\">image_uris.py</span></a><span style=\"color: #7f7f7f; text-decoration-color: #7f7f7f\">:</span><a href=\"file:///opt/conda/lib/python3.11/site-packages/sagemaker/image_uris.py#681\" target=\"_blank\"><span style=\"color: #7f7f7f; text-decoration-color: #7f7f7f\">681</span></a>\n",
       "<span style=\"color: #7fbfbf; text-decoration-color: #7fbfbf\">                    </span>         instance_type, framework etc.                                        <span style=\"color: #7f7f7f; text-decoration-color: #7f7f7f\">                 </span>\n",
       "</pre>\n"
      ],
      "text/plain": [
       "\u001b[2;36m                   \u001b[0m\u001b[2;36m \u001b[0m\u001b[1;38;2;0;105;255mINFO    \u001b[0m image_uri is not presented, retrieving image_uri based on            \u001b]8;id=321373;file:///opt/conda/lib/python3.11/site-packages/sagemaker/image_uris.py\u001b\\\u001b[2mimage_uris.py\u001b[0m\u001b]8;;\u001b\\\u001b[2m:\u001b[0m\u001b]8;id=22187;file:///opt/conda/lib/python3.11/site-packages/sagemaker/image_uris.py#681\u001b\\\u001b[2m681\u001b[0m\u001b]8;;\u001b\\\n",
       "\u001b[2;36m                    \u001b[0m         instance_type, framework etc.                                        \u001b[2m                 \u001b[0m\n"
      ]
     },
     "metadata": {},
     "output_type": "display_data"
    },
    {
     "data": {
      "text/html": [
       "<pre style=\"white-space:pre;overflow-x:auto;line-height:normal;font-family:Menlo,'DejaVu Sans Mono',consolas,'Courier New',monospace\"><span style=\"color: #7fbfbf; text-decoration-color: #7fbfbf\">                    </span><span style=\"color: #d7af00; text-decoration-color: #d7af00; font-weight: bold\">WARNING </span> Popping out <span style=\"color: #008700; text-decoration-color: #008700\">'TrainingJobName'</span> from the pipeline definition by default <a href=\"file:///opt/conda/lib/python3.11/site-packages/sagemaker/workflow/utilities.py\" target=\"_blank\"><span style=\"color: #7f7f7f; text-decoration-color: #7f7f7f\">utilities.py</span></a><span style=\"color: #7f7f7f; text-decoration-color: #7f7f7f\">:</span><a href=\"file:///opt/conda/lib/python3.11/site-packages/sagemaker/workflow/utilities.py#465\" target=\"_blank\"><span style=\"color: #7f7f7f; text-decoration-color: #7f7f7f\">465</span></a>\n",
       "<span style=\"color: #7fbfbf; text-decoration-color: #7fbfbf\">                    </span>         since it will be overridden at pipeline execution time. Please        <span style=\"color: #7f7f7f; text-decoration-color: #7f7f7f\">                </span>\n",
       "<span style=\"color: #7fbfbf; text-decoration-color: #7fbfbf\">                    </span>         utilize the PipelineDefinitionConfig to persist this field in the     <span style=\"color: #7f7f7f; text-decoration-color: #7f7f7f\">                </span>\n",
       "<span style=\"color: #7fbfbf; text-decoration-color: #7fbfbf\">                    </span>         pipeline definition if desired.                                       <span style=\"color: #7f7f7f; text-decoration-color: #7f7f7f\">                </span>\n",
       "</pre>\n"
      ],
      "text/plain": [
       "\u001b[2;36m                   \u001b[0m\u001b[2;36m \u001b[0m\u001b[1;38;2;215;175;0mWARNING \u001b[0m Popping out \u001b[38;2;0;135;0m'TrainingJobName'\u001b[0m from the pipeline definition by default \u001b]8;id=535036;file:///opt/conda/lib/python3.11/site-packages/sagemaker/workflow/utilities.py\u001b\\\u001b[2mutilities.py\u001b[0m\u001b]8;;\u001b\\\u001b[2m:\u001b[0m\u001b]8;id=964599;file:///opt/conda/lib/python3.11/site-packages/sagemaker/workflow/utilities.py#465\u001b\\\u001b[2m465\u001b[0m\u001b]8;;\u001b\\\n",
       "\u001b[2;36m                    \u001b[0m         since it will be overridden at pipeline execution time. Please        \u001b[2m                \u001b[0m\n",
       "\u001b[2;36m                    \u001b[0m         utilize the PipelineDefinitionConfig to persist this field in the     \u001b[2m                \u001b[0m\n",
       "\u001b[2;36m                    \u001b[0m         pipeline definition if desired.                                       \u001b[2m                \u001b[0m\n"
      ]
     },
     "metadata": {},
     "output_type": "display_data"
    },
    {
     "data": {
      "text/html": [
       "<pre style=\"white-space:pre;overflow-x:auto;line-height:normal;font-family:Menlo,'DejaVu Sans Mono',consolas,'Courier New',monospace\"><span style=\"color: #7fbfbf; text-decoration-color: #7fbfbf\">                    </span><span style=\"color: #d7af00; text-decoration-color: #d7af00; font-weight: bold\">WARNING </span> Popping out <span style=\"color: #008700; text-decoration-color: #008700\">'ProcessingJobName'</span> from the pipeline definition by       <a href=\"file:///opt/conda/lib/python3.11/site-packages/sagemaker/workflow/utilities.py\" target=\"_blank\"><span style=\"color: #7f7f7f; text-decoration-color: #7f7f7f\">utilities.py</span></a><span style=\"color: #7f7f7f; text-decoration-color: #7f7f7f\">:</span><a href=\"file:///opt/conda/lib/python3.11/site-packages/sagemaker/workflow/utilities.py#465\" target=\"_blank\"><span style=\"color: #7f7f7f; text-decoration-color: #7f7f7f\">465</span></a>\n",
       "<span style=\"color: #7fbfbf; text-decoration-color: #7fbfbf\">                    </span>         default since it will be overridden at pipeline execution time.       <span style=\"color: #7f7f7f; text-decoration-color: #7f7f7f\">                </span>\n",
       "<span style=\"color: #7fbfbf; text-decoration-color: #7fbfbf\">                    </span>         Please utilize the PipelineDefinitionConfig to persist this field in  <span style=\"color: #7f7f7f; text-decoration-color: #7f7f7f\">                </span>\n",
       "<span style=\"color: #7fbfbf; text-decoration-color: #7fbfbf\">                    </span>         the pipeline definition if desired.                                   <span style=\"color: #7f7f7f; text-decoration-color: #7f7f7f\">                </span>\n",
       "</pre>\n"
      ],
      "text/plain": [
       "\u001b[2;36m                   \u001b[0m\u001b[2;36m \u001b[0m\u001b[1;38;2;215;175;0mWARNING \u001b[0m Popping out \u001b[38;2;0;135;0m'ProcessingJobName'\u001b[0m from the pipeline definition by       \u001b]8;id=435749;file:///opt/conda/lib/python3.11/site-packages/sagemaker/workflow/utilities.py\u001b\\\u001b[2mutilities.py\u001b[0m\u001b]8;;\u001b\\\u001b[2m:\u001b[0m\u001b]8;id=746222;file:///opt/conda/lib/python3.11/site-packages/sagemaker/workflow/utilities.py#465\u001b\\\u001b[2m465\u001b[0m\u001b]8;;\u001b\\\n",
       "\u001b[2;36m                    \u001b[0m         default since it will be overridden at pipeline execution time.       \u001b[2m                \u001b[0m\n",
       "\u001b[2;36m                    \u001b[0m         Please utilize the PipelineDefinitionConfig to persist this field in  \u001b[2m                \u001b[0m\n",
       "\u001b[2;36m                    \u001b[0m         the pipeline definition if desired.                                   \u001b[2m                \u001b[0m\n"
      ]
     },
     "metadata": {},
     "output_type": "display_data"
    },
    {
     "data": {
      "text/html": [
       "<pre style=\"white-space:pre;overflow-x:auto;line-height:normal;font-family:Menlo,'DejaVu Sans Mono',consolas,'Courier New',monospace\"><span style=\"color: #7fbfbf; text-decoration-color: #7fbfbf\">                    </span><span style=\"color: #0069ff; text-decoration-color: #0069ff; font-weight: bold\">INFO    </span> image_uri is not presented, retrieving image_uri based on            <a href=\"file:///opt/conda/lib/python3.11/site-packages/sagemaker/image_uris.py\" target=\"_blank\"><span style=\"color: #7f7f7f; text-decoration-color: #7f7f7f\">image_uris.py</span></a><span style=\"color: #7f7f7f; text-decoration-color: #7f7f7f\">:</span><a href=\"file:///opt/conda/lib/python3.11/site-packages/sagemaker/image_uris.py#681\" target=\"_blank\"><span style=\"color: #7f7f7f; text-decoration-color: #7f7f7f\">681</span></a>\n",
       "<span style=\"color: #7fbfbf; text-decoration-color: #7fbfbf\">                    </span>         instance_type, framework etc.                                        <span style=\"color: #7f7f7f; text-decoration-color: #7f7f7f\">                 </span>\n",
       "</pre>\n"
      ],
      "text/plain": [
       "\u001b[2;36m                   \u001b[0m\u001b[2;36m \u001b[0m\u001b[1;38;2;0;105;255mINFO    \u001b[0m image_uri is not presented, retrieving image_uri based on            \u001b]8;id=84744;file:///opt/conda/lib/python3.11/site-packages/sagemaker/image_uris.py\u001b\\\u001b[2mimage_uris.py\u001b[0m\u001b]8;;\u001b\\\u001b[2m:\u001b[0m\u001b]8;id=546091;file:///opt/conda/lib/python3.11/site-packages/sagemaker/image_uris.py#681\u001b\\\u001b[2m681\u001b[0m\u001b]8;;\u001b\\\n",
       "\u001b[2;36m                    \u001b[0m         instance_type, framework etc.                                        \u001b[2m                 \u001b[0m\n"
      ]
     },
     "metadata": {},
     "output_type": "display_data"
    },
    {
     "data": {
      "text/html": [
       "<pre style=\"white-space:pre;overflow-x:auto;line-height:normal;font-family:Menlo,'DejaVu Sans Mono',consolas,'Courier New',monospace\"><span style=\"color: #7fbfbf; text-decoration-color: #7fbfbf\">                    </span><span style=\"color: #d7af00; text-decoration-color: #d7af00; font-weight: bold\">WARNING </span> Popping out <span style=\"color: #008700; text-decoration-color: #008700\">'TrainingJobName'</span> from the pipeline definition by default <a href=\"file:///opt/conda/lib/python3.11/site-packages/sagemaker/workflow/utilities.py\" target=\"_blank\"><span style=\"color: #7f7f7f; text-decoration-color: #7f7f7f\">utilities.py</span></a><span style=\"color: #7f7f7f; text-decoration-color: #7f7f7f\">:</span><a href=\"file:///opt/conda/lib/python3.11/site-packages/sagemaker/workflow/utilities.py#465\" target=\"_blank\"><span style=\"color: #7f7f7f; text-decoration-color: #7f7f7f\">465</span></a>\n",
       "<span style=\"color: #7fbfbf; text-decoration-color: #7fbfbf\">                    </span>         since it will be overridden at pipeline execution time. Please        <span style=\"color: #7f7f7f; text-decoration-color: #7f7f7f\">                </span>\n",
       "<span style=\"color: #7fbfbf; text-decoration-color: #7fbfbf\">                    </span>         utilize the PipelineDefinitionConfig to persist this field in the     <span style=\"color: #7f7f7f; text-decoration-color: #7f7f7f\">                </span>\n",
       "<span style=\"color: #7fbfbf; text-decoration-color: #7fbfbf\">                    </span>         pipeline definition if desired.                                       <span style=\"color: #7f7f7f; text-decoration-color: #7f7f7f\">                </span>\n",
       "</pre>\n"
      ],
      "text/plain": [
       "\u001b[2;36m                   \u001b[0m\u001b[2;36m \u001b[0m\u001b[1;38;2;215;175;0mWARNING \u001b[0m Popping out \u001b[38;2;0;135;0m'TrainingJobName'\u001b[0m from the pipeline definition by default \u001b]8;id=968402;file:///opt/conda/lib/python3.11/site-packages/sagemaker/workflow/utilities.py\u001b\\\u001b[2mutilities.py\u001b[0m\u001b]8;;\u001b\\\u001b[2m:\u001b[0m\u001b]8;id=811638;file:///opt/conda/lib/python3.11/site-packages/sagemaker/workflow/utilities.py#465\u001b\\\u001b[2m465\u001b[0m\u001b]8;;\u001b\\\n",
       "\u001b[2;36m                    \u001b[0m         since it will be overridden at pipeline execution time. Please        \u001b[2m                \u001b[0m\n",
       "\u001b[2;36m                    \u001b[0m         utilize the PipelineDefinitionConfig to persist this field in the     \u001b[2m                \u001b[0m\n",
       "\u001b[2;36m                    \u001b[0m         pipeline definition if desired.                                       \u001b[2m                \u001b[0m\n"
      ]
     },
     "metadata": {},
     "output_type": "display_data"
    },
    {
     "data": {
      "text/plain": [
       "{'PipelineArn': 'arn:aws:sagemaker:us-east-1:047922237497:pipeline/CreditCardTransactionCategorization',\n",
       " 'ResponseMetadata': {'RequestId': '3f07b451-fdab-4d2e-bf8b-8315c45c9e13',\n",
       "  'HTTPStatusCode': 200,\n",
       "  'HTTPHeaders': {'x-amzn-requestid': '3f07b451-fdab-4d2e-bf8b-8315c45c9e13',\n",
       "   'content-type': 'application/x-amz-json-1.1',\n",
       "   'content-length': '103',\n",
       "   'date': 'Mon, 21 Apr 2025 01:32:43 GMT'},\n",
       "  'RetryAttempts': 0}}"
      ]
     },
     "execution_count": 104,
     "metadata": {},
     "output_type": "execute_result"
    }
   ],
   "source": [
    "pipeline.upsert(role_arn=sagemaker_role)"
   ]
  },
  {
   "cell_type": "code",
   "execution_count": 105,
   "id": "9b84a280-5d20-4846-b7b4-ee485e44eaa4",
   "metadata": {},
   "outputs": [
    {
     "data": {
      "text/plain": [
       "_PipelineExecution(arn='arn:aws:sagemaker:us-east-1:047922237497:pipeline/CreditCardTransactionCategorization/execution/24ze6btqfxn1', sagemaker_session=<sagemaker.session.Session object at 0x7fb42feed0d0>)"
      ]
     },
     "execution_count": 105,
     "metadata": {},
     "output_type": "execute_result"
    }
   ],
   "source": [
    "pipeline.start()"
   ]
  },
  {
   "cell_type": "code",
   "execution_count": null,
   "id": "61961768-bec0-4bec-8694-b2172e69d638",
   "metadata": {},
   "outputs": [],
   "source": []
  },
  {
   "cell_type": "code",
   "execution_count": null,
   "id": "8f61a79d-e9e2-428c-875f-0a335b5261db",
   "metadata": {},
   "outputs": [],
   "source": []
  },
  {
   "cell_type": "code",
   "execution_count": 13,
   "id": "0c4e9a1f-47b1-452f-a90f-30b5f16377d8",
   "metadata": {},
   "outputs": [
    {
     "name": "stdout",
     "output_type": "stream",
     "text": [
      "upload: data/ccdata.csv to s3://aamlops2024/transaction-HuggingFace-pipeline-v01/ccdata.csv\n"
     ]
    }
   ],
   "source": [
    "!aws s3 cp ./data/ccdata.csv s3://aamlops2024/transaction-HuggingFace-pipeline-v01/ccdata.csv"
   ]
  },
  {
   "cell_type": "code",
   "execution_count": 60,
   "id": "74121423-8268-4160-8009-e04ab2c30d21",
   "metadata": {},
   "outputs": [],
   "source": [
    "import pandas as pd\n",
    "data = pd.read_csv(\"./data/ccdata.csv\")"
   ]
  },
  {
   "cell_type": "code",
   "execution_count": 61,
   "id": "1654b7d0-6e7b-4bfa-9109-ed9d157d3729",
   "metadata": {},
   "outputs": [
    {
     "data": {
      "text/html": [
       "<div>\n",
       "<style scoped>\n",
       "    .dataframe tbody tr th:only-of-type {\n",
       "        vertical-align: middle;\n",
       "    }\n",
       "\n",
       "    .dataframe tbody tr th {\n",
       "        vertical-align: top;\n",
       "    }\n",
       "\n",
       "    .dataframe thead th {\n",
       "        text-align: right;\n",
       "    }\n",
       "</style>\n",
       "<table border=\"1\" class=\"dataframe\">\n",
       "  <thead>\n",
       "    <tr style=\"text-align: right;\">\n",
       "      <th></th>\n",
       "      <th>amount</th>\n",
       "      <th>merchant</th>\n",
       "      <th>location</th>\n",
       "      <th>datetime</th>\n",
       "      <th>description</th>\n",
       "      <th>category</th>\n",
       "    </tr>\n",
       "  </thead>\n",
       "  <tbody>\n",
       "    <tr>\n",
       "      <th>0</th>\n",
       "      <td>13.50</td>\n",
       "      <td>Starbucks</td>\n",
       "      <td>New York, NY</td>\n",
       "      <td>4/16/2025 8:15</td>\n",
       "      <td>Coffee</td>\n",
       "      <td>Food</td>\n",
       "    </tr>\n",
       "    <tr>\n",
       "      <th>1</th>\n",
       "      <td>251.00</td>\n",
       "      <td>Delta Airlines</td>\n",
       "      <td>Atlanta, GA</td>\n",
       "      <td>4/15/2025 17:45</td>\n",
       "      <td>Flight to Chicago</td>\n",
       "      <td>Travel</td>\n",
       "    </tr>\n",
       "    <tr>\n",
       "      <th>2</th>\n",
       "      <td>90.99</td>\n",
       "      <td>Amazon</td>\n",
       "      <td>Seattle, WA</td>\n",
       "      <td>4/14/2025 12:22</td>\n",
       "      <td>Electronics purchase</td>\n",
       "      <td>Shopping</td>\n",
       "    </tr>\n",
       "    <tr>\n",
       "      <th>3</th>\n",
       "      <td>44.20</td>\n",
       "      <td>Whole Foods</td>\n",
       "      <td>Boston, MA</td>\n",
       "      <td>4/13/2025 14:33</td>\n",
       "      <td>Grocery</td>\n",
       "      <td>Food</td>\n",
       "    </tr>\n",
       "    <tr>\n",
       "      <th>4</th>\n",
       "      <td>121.00</td>\n",
       "      <td>Shell</td>\n",
       "      <td>Dallas, TX</td>\n",
       "      <td>4/12/2025 10:00</td>\n",
       "      <td>Gas refill</td>\n",
       "      <td>Utilities</td>\n",
       "    </tr>\n",
       "    <tr>\n",
       "      <th>...</th>\n",
       "      <td>...</td>\n",
       "      <td>...</td>\n",
       "      <td>...</td>\n",
       "      <td>...</td>\n",
       "      <td>...</td>\n",
       "      <td>...</td>\n",
       "    </tr>\n",
       "    <tr>\n",
       "      <th>95</th>\n",
       "      <td>89.90</td>\n",
       "      <td>Walgreens</td>\n",
       "      <td>Houston, TX</td>\n",
       "      <td>4/1/2025 12:12</td>\n",
       "      <td>Prescription refill</td>\n",
       "      <td>Health</td>\n",
       "    </tr>\n",
       "    <tr>\n",
       "      <th>96</th>\n",
       "      <td>13.39</td>\n",
       "      <td>Panera Bread</td>\n",
       "      <td>Nashville, TN</td>\n",
       "      <td>3/31/2025 9:30</td>\n",
       "      <td>Lunch combo</td>\n",
       "      <td>Food</td>\n",
       "    </tr>\n",
       "    <tr>\n",
       "      <th>97</th>\n",
       "      <td>397.90</td>\n",
       "      <td>American Airlines</td>\n",
       "      <td>Miami, FL</td>\n",
       "      <td>3/30/2025 18:20</td>\n",
       "      <td>Round-trip ticket</td>\n",
       "      <td>Travel</td>\n",
       "    </tr>\n",
       "    <tr>\n",
       "      <th>98</th>\n",
       "      <td>97.85</td>\n",
       "      <td>Home Depot</td>\n",
       "      <td>Sacramento, CA</td>\n",
       "      <td>3/29/2025 10:05</td>\n",
       "      <td>Home improvement tools</td>\n",
       "      <td>Utilities</td>\n",
       "    </tr>\n",
       "    <tr>\n",
       "      <th>99</th>\n",
       "      <td>18.90</td>\n",
       "      <td>GNC</td>\n",
       "      <td>Columbus, OH</td>\n",
       "      <td>3/28/2025 14:10</td>\n",
       "      <td>Protein bars</td>\n",
       "      <td>Health</td>\n",
       "    </tr>\n",
       "  </tbody>\n",
       "</table>\n",
       "<p>100 rows × 6 columns</p>\n",
       "</div>"
      ],
      "text/plain": [
       "    amount           merchant        location         datetime  \\\n",
       "0    13.50          Starbucks    New York, NY   4/16/2025 8:15   \n",
       "1   251.00     Delta Airlines     Atlanta, GA  4/15/2025 17:45   \n",
       "2    90.99             Amazon     Seattle, WA  4/14/2025 12:22   \n",
       "3    44.20        Whole Foods      Boston, MA  4/13/2025 14:33   \n",
       "4   121.00              Shell      Dallas, TX  4/12/2025 10:00   \n",
       "..     ...                ...             ...              ...   \n",
       "95   89.90          Walgreens     Houston, TX   4/1/2025 12:12   \n",
       "96   13.39       Panera Bread   Nashville, TN   3/31/2025 9:30   \n",
       "97  397.90  American Airlines       Miami, FL  3/30/2025 18:20   \n",
       "98   97.85         Home Depot  Sacramento, CA  3/29/2025 10:05   \n",
       "99   18.90                GNC    Columbus, OH  3/28/2025 14:10   \n",
       "\n",
       "               description   category  \n",
       "0                   Coffee       Food  \n",
       "1        Flight to Chicago     Travel  \n",
       "2     Electronics purchase   Shopping  \n",
       "3                  Grocery       Food  \n",
       "4               Gas refill  Utilities  \n",
       "..                     ...        ...  \n",
       "95     Prescription refill     Health  \n",
       "96             Lunch combo       Food  \n",
       "97       Round-trip ticket     Travel  \n",
       "98  Home improvement tools  Utilities  \n",
       "99            Protein bars     Health  \n",
       "\n",
       "[100 rows x 6 columns]"
      ]
     },
     "execution_count": 61,
     "metadata": {},
     "output_type": "execute_result"
    }
   ],
   "source": [
    "data"
   ]
  },
  {
   "cell_type": "code",
   "execution_count": 6,
   "id": "19cbc4af-9703-4413-b213-61bcabdababc",
   "metadata": {},
   "outputs": [],
   "source": [
    "# data.to_parquet(\"./data/ccdata.parquet\", index=False)"
   ]
  },
  {
   "cell_type": "code",
   "execution_count": 7,
   "id": "1f325df2-b248-4196-aa13-8234f0995d1f",
   "metadata": {},
   "outputs": [],
   "source": [
    "# !aws s3 cp ./data/ccdata.parquet s3://aamlops2024/transaction-HuggingFace-pipeline-v01/data/ccdata.parquet"
   ]
  },
  {
   "cell_type": "code",
   "execution_count": null,
   "id": "0a25c9cb-40be-475f-ac23-43c2b78a3b5b",
   "metadata": {},
   "outputs": [],
   "source": []
  },
  {
   "cell_type": "code",
   "execution_count": null,
   "id": "7ef31f62-f538-436f-8aa1-e47d8f9fd74e",
   "metadata": {},
   "outputs": [],
   "source": []
  },
  {
   "cell_type": "markdown",
   "id": "ba34ea4c-aeae-48a8-a812-884d385106de",
   "metadata": {},
   "source": [
    "### Step 1: Python Variable Reformulation"
   ]
  },
  {
   "cell_type": "code",
   "execution_count": 1,
   "id": "a8d9e7d3-bef2-4973-872d-1ad6226a2523",
   "metadata": {},
   "outputs": [],
   "source": [
    "import random\n",
    "import pandas as pd\n",
    "from datetime import datetime, timedelta\n",
    "\n",
    "# Range constraints\n",
    "AMOUNT_MIN = 5\n",
    "AMOUNT_MAX = 200\n",
    "\n",
    "# Time range\n",
    "START_DATE = datetime(2025, 1, 1, 0, 10)\n",
    "END_DATE = datetime(2025, 3, 31, 12, 50)\n",
    "\n",
    "# Locations\n",
    "LOCATIONS = [\"New York, NY\", \"Atlanta, GA\", \"Boston, MA\", \"Miami, FL\", \"Online\"]\n",
    "\n",
    "# Merchant, description, category mapping\n",
    "MERCHANT_INFO = [\n",
    "    (\"Delta Airlines\", \"Flight to destination\", \"Travel\"),\n",
    "    (\"Starbucks\", \"Coffee\", \"Food\"),\n",
    "    (\"Amazon\", \"Online purchase\", \"Shopping\"),\n",
    "    (\"Shell\", \"Gas refill\", \"Utilities\"),\n",
    "    (\"CVS Pharmacy\", \"Medicine purchase\", \"Health\"),\n",
    "    (\"Best Buy\", \"Electronics purchase\", \"Shopping\"),\n",
    "    (\"Uber\", \"Ride to location\", \"Travel\"),\n",
    "    (\"Apple Store\", \"Apple product purchase\", \"Shopping\"),\n",
    "    (\"Marriott Hotel\", \"Hotel booking\", \"Travel\"),\n",
    "    (\"Macy's\", \"Clothing\", \"Shopping\"),\n",
    "    (\"Walgreens\", \"Prescription refill\", \"Health\"),\n",
    "    (\"Panera Bread\", \"Meal\", \"Food\")\n",
    "]\n"
   ]
  },
  {
   "cell_type": "code",
   "execution_count": 2,
   "id": "36f8fc5b-40bb-4196-9d31-0dec9c925004",
   "metadata": {},
   "outputs": [],
   "source": [
    "def generate_credit_card_transactions(num_records=10) -> pd.DataFrame:\n",
    "    data = []\n",
    "\n",
    "    for _ in range(num_records):\n",
    "        # Random merchant\n",
    "        merchant, description, category = random.choice(MERCHANT_INFO)\n",
    "\n",
    "        # Random values\n",
    "        amount = round(random.uniform(AMOUNT_MIN, AMOUNT_MAX), 2)\n",
    "        location = random.choice(LOCATIONS)\n",
    "\n",
    "        # Random datetime between range\n",
    "        total_seconds = int((END_DATE - START_DATE).total_seconds())\n",
    "        rand_seconds = random.randint(0, total_seconds)\n",
    "        transaction_time = START_DATE + timedelta(seconds=rand_seconds)\n",
    "        transaction_time_str = transaction_time.strftime(\"%Y-%m-%d %H:%M:%S\")\n",
    "\n",
    "        data.append({\n",
    "            \"amount\": amount,\n",
    "            \"datetime\": transaction_time_str,\n",
    "            \"location\": location,\n",
    "            \"merchant\": merchant,\n",
    "            \"description\": description,\n",
    "            \"category\": category\n",
    "        })\n",
    "\n",
    "    df = pd.DataFrame(data)\n",
    "    return df"
   ]
  },
  {
   "cell_type": "code",
   "execution_count": 3,
   "id": "f498d3d6-243b-4863-8f07-0e598a87b93c",
   "metadata": {},
   "outputs": [],
   "source": [
    "df = generate_credit_card_transactions(20)"
   ]
  },
  {
   "cell_type": "code",
   "execution_count": 5,
   "id": "268711ce-e61e-43d1-8ac4-8d0038e9dc61",
   "metadata": {},
   "outputs": [],
   "source": [
    "# df"
   ]
  },
  {
   "cell_type": "code",
   "execution_count": null,
   "id": "0493a7f2-0247-4e4e-bfb1-e6190306d0d6",
   "metadata": {},
   "outputs": [],
   "source": []
  }
 ],
 "metadata": {
  "kernelspec": {
   "display_name": "Python 3 (ipykernel)",
   "language": "python",
   "name": "python3"
  },
  "language_info": {
   "codemirror_mode": {
    "name": "ipython",
    "version": 3
   },
   "file_extension": ".py",
   "mimetype": "text/x-python",
   "name": "python",
   "nbconvert_exporter": "python",
   "pygments_lexer": "ipython3",
   "version": "3.11.11"
  }
 },
 "nbformat": 4,
 "nbformat_minor": 5
}
