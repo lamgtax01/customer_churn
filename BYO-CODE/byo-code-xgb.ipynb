{
 "cells": [
  {
   "cell_type": "markdown",
   "id": "b1449d02-077f-43ef-ae9f-2784c9bd0e7d",
   "metadata": {},
   "source": [
    "# Bring Your Own XGBoost training code"
   ]
  },
  {
   "cell_type": "markdown",
   "id": "0f264938-85f5-43df-8e00-dce54ccc72da",
   "metadata": {},
   "source": [
    "### Configure Variables"
   ]
  },
  {
   "cell_type": "code",
   "execution_count": 1,
   "id": "c197893e-29c2-4506-bebc-65efe62fcdc5",
   "metadata": {},
   "outputs": [
    {
     "name": "stdout",
     "output_type": "stream",
     "text": [
      "sagemaker.config INFO - Not applying SDK defaults from location: /etc/xdg/sagemaker/config.yaml\n",
      "sagemaker.config INFO - Not applying SDK defaults from location: /home/sagemaker-user/.config/sagemaker/config.yaml\n"
     ]
    },
    {
     "name": "stderr",
     "output_type": "stream",
     "text": [
      "INFO:sagemaker.image_uris:Ignoring unnecessary instance type: None.\n"
     ]
    },
    {
     "name": "stdout",
     "output_type": "stream",
     "text": [
      "Looks like you already have a bucket of this name. That's good!\n"
     ]
    }
   ],
   "source": [
    "import pandas as pd\n",
    "import boto3\n",
    "import sagemaker\n",
    "from sagemaker.debugger import rule_configs, Rule, DebuggerHookConfig\n",
    "from sagemaker.experiments.run import Run, load_run\n",
    "sm_sess = sagemaker.session.Session()\n",
    "sm_exe_role = sagemaker.get_execution_role()\n",
    "\n",
    "boto3_sess = boto3.Session()\n",
    "sm_client = boto3_sess.client('sagemaker')\n",
    "\n",
    "aws_region = boto3_sess.region_name\n",
    "aws_account_id = boto3_sess.client('sts', region_name=aws_region).get_caller_identity()[\"Account\"]\n",
    "s3_bucket = 'bring-your-own-training-code-{}-{}'.format(aws_region, aws_account_id)\n",
    "s3_prefix = 'xgboost-churn'\n",
    "\n",
    "try:\n",
    "    if aws_region_name == \"us-east-1\":\n",
    "        boto3_sess.client('s3').create_bucket(Bucket=s3_bucket)\n",
    "    else:\n",
    "        boto3_sess.client('s3').create_bucket(Bucket=s3_bucket, \n",
    "                                        CreateBucketConfiguration={'LocationConstraint': aws_region})\n",
    "except Exception as e:\n",
    "    print(\"Looks like you already have a bucket of this name. That's good!\")\n",
    "\n",
    "sm_xgb_framework_version = '1.7-1'\n",
    "sm_xgb_image_name = sagemaker.image_uris.retrieve(framework='xgboost', region=aws_region, version=sm_xgb_framework_version)\n",
    "\n",
    "#print(\"Setting some useful environment variables (s3_bucket, s3_prefix, s3_region, sm_xgb_framework, sm_xgb_image_name)...\")\n",
    "# %store s3_bucket\n",
    "# %store s3_prefix\n",
    "# %store aws_region\n",
    "# %store sm_xgb_image_name\n",
    "# %store sm_xgb_framework_version"
   ]
  },
  {
   "cell_type": "markdown",
   "id": "1421ae15-2c67-4c1a-b128-30df8dd7b17f",
   "metadata": {},
   "source": [
    "### Download the data and upload to S3"
   ]
  },
  {
   "cell_type": "code",
   "execution_count": 2,
   "id": "b3ed98be-3af2-4faa-9d95-cc802961d09f",
   "metadata": {},
   "outputs": [
    {
     "name": "stdout",
     "output_type": "stream",
     "text": [
      "--2024-05-23 12:20:26--  https://higheredbcs.wiley.com/legacy/college/larose/0470908742/ds/data_sets.zip\n",
      "Resolving higheredbcs.wiley.com (higheredbcs.wiley.com)... 104.18.40.34, 172.64.147.222, 2606:4700:4400::6812:2822, ...\n",
      "Connecting to higheredbcs.wiley.com (higheredbcs.wiley.com)|104.18.40.34|:443... connected.\n",
      "WARNING: cannot verify higheredbcs.wiley.com's certificate, issued by ‘CN=E1,O=Let's Encrypt,C=US’:\n",
      "  Unable to locally verify the issuer's authority.\n",
      "HTTP request sent, awaiting response... 200 OK\n",
      "Length: 1003616 (980K) [application/zip]\n",
      "Saving to: ‘data_sets.zip’\n",
      "\n",
      "data_sets.zip       100%[===================>] 980.09K  --.-KB/s    in 0.03s   \n",
      "\n",
      "2024-05-23 12:20:26 (32.8 MB/s) - ‘data_sets.zip’ saved [1003616/1003616]\n",
      "\n",
      "Archive:  data_sets.zip\n",
      " extracting: Data sets/adult.zip     \n",
      "  inflating: Data sets/cars.txt      \n",
      "  inflating: Data sets/cars2.txt     \n",
      "  inflating: Data sets/cereals.CSV   \n",
      "  inflating: Data sets/churn.txt     \n",
      "  inflating: Data sets/ClassifyRisk  \n",
      "  inflating: Data sets/ClassifyRisk - Missing.txt  \n",
      " extracting: Data sets/DKD2e data sets.zip  \n",
      "  inflating: Data sets/nn1.txt       \n"
     ]
    }
   ],
   "source": [
    "!wget https://higheredbcs.wiley.com/legacy/college/larose/0470908742/ds/data_sets.zip --no-check-certificate\n",
    "!unzip -o data_sets.zip\n",
    "!mv \"Data sets\"/churn.txt .\n",
    "!rm -rf \"Data sets\" data_sets.zip"
   ]
  },
  {
   "cell_type": "code",
   "execution_count": 3,
   "id": "8654a762-0f75-4971-b8f9-0d27606b4bb9",
   "metadata": {},
   "outputs": [],
   "source": [
    "# Convert data to CSV\n",
    "import pandas as pd\n",
    "data = pd.read_csv('churn.txt')\n",
    "data.to_csv('churn.csv', index=False)"
   ]
  },
  {
   "cell_type": "code",
   "execution_count": 4,
   "id": "6e159f8a-1412-4d01-9f23-2cfb162ec8de",
   "metadata": {},
   "outputs": [
    {
     "data": {
      "text/plain": [
       "'s3://bring-your-own-training-code-us-east-1-047922237497/xgboost-churn/data/raw/churn.csv'"
      ]
     },
     "execution_count": 4,
     "metadata": {},
     "output_type": "execute_result"
    }
   ],
   "source": [
    "# Push to S3\n",
    "local_raw_path = \"churn.csv\"\n",
    "raw_dir = f\"{s3_prefix}/data/raw\"\n",
    "s3uri_raw = sagemaker.s3.S3Uploader.upload(local_raw_path, f's3://{s3_bucket}/{raw_dir}')\n",
    "## Store the variable\n",
    "# %store s3uri_raw\n",
    "s3uri_raw"
   ]
  },
  {
   "cell_type": "markdown",
   "id": "b62605da-af07-4324-a840-bbd89d78dfd3",
   "metadata": {},
   "source": [
    "### Import the libraries"
   ]
  },
  {
   "cell_type": "code",
   "execution_count": 5,
   "id": "0fda2e0c-1cab-4716-8863-8b05cad1a8a8",
   "metadata": {},
   "outputs": [],
   "source": [
    "import io\n",
    "import os\n",
    "import sys\n",
    "import time\n",
    "import json\n",
    "import re\n",
    "\n",
    "import pandas as pd\n",
    "import numpy as np\n",
    "import matplotlib.pyplot as plt\n",
    "\n",
    "from IPython.display import display as dis\n",
    "from time import strftime, gmtime\n",
    "from sagemaker.inputs import TrainingInput\n",
    "from sagemaker.serializers import CSVSerializer\n",
    "from IPython import display "
   ]
  },
  {
   "cell_type": "code",
   "execution_count": 6,
   "id": "98934e7b-3853-406e-8c3a-b7421c57cdcb",
   "metadata": {
    "scrolled": true
   },
   "outputs": [
    {
     "data": {
      "text/html": [
       "<div>\n",
       "<style scoped>\n",
       "    .dataframe tbody tr th:only-of-type {\n",
       "        vertical-align: middle;\n",
       "    }\n",
       "\n",
       "    .dataframe tbody tr th {\n",
       "        vertical-align: top;\n",
       "    }\n",
       "\n",
       "    .dataframe thead th {\n",
       "        text-align: right;\n",
       "    }\n",
       "</style>\n",
       "<table border=\"1\" class=\"dataframe\">\n",
       "  <thead>\n",
       "    <tr style=\"text-align: right;\">\n",
       "      <th></th>\n",
       "      <th>State</th>\n",
       "      <th>Account Length</th>\n",
       "      <th>Area Code</th>\n",
       "      <th>Phone</th>\n",
       "      <th>Int'l Plan</th>\n",
       "      <th>VMail Plan</th>\n",
       "      <th>VMail Message</th>\n",
       "      <th>Day Mins</th>\n",
       "      <th>Day Calls</th>\n",
       "      <th>Day Charge</th>\n",
       "      <th>Eve Mins</th>\n",
       "      <th>Eve Calls</th>\n",
       "      <th>Eve Charge</th>\n",
       "      <th>Night Mins</th>\n",
       "      <th>Night Calls</th>\n",
       "      <th>Night Charge</th>\n",
       "      <th>Intl Mins</th>\n",
       "      <th>Intl Calls</th>\n",
       "      <th>Intl Charge</th>\n",
       "      <th>CustServ Calls</th>\n",
       "      <th>Churn?</th>\n",
       "    </tr>\n",
       "  </thead>\n",
       "  <tbody>\n",
       "    <tr>\n",
       "      <th>0</th>\n",
       "      <td>KS</td>\n",
       "      <td>128</td>\n",
       "      <td>415</td>\n",
       "      <td>382-4657</td>\n",
       "      <td>no</td>\n",
       "      <td>yes</td>\n",
       "      <td>25</td>\n",
       "      <td>265.1</td>\n",
       "      <td>110</td>\n",
       "      <td>45.07</td>\n",
       "      <td>197.4</td>\n",
       "      <td>99</td>\n",
       "      <td>16.78</td>\n",
       "      <td>244.7</td>\n",
       "      <td>91</td>\n",
       "      <td>11.01</td>\n",
       "      <td>10.0</td>\n",
       "      <td>3</td>\n",
       "      <td>2.7</td>\n",
       "      <td>1</td>\n",
       "      <td>False.</td>\n",
       "    </tr>\n",
       "    <tr>\n",
       "      <th>1</th>\n",
       "      <td>OH</td>\n",
       "      <td>107</td>\n",
       "      <td>415</td>\n",
       "      <td>371-7191</td>\n",
       "      <td>no</td>\n",
       "      <td>yes</td>\n",
       "      <td>26</td>\n",
       "      <td>161.6</td>\n",
       "      <td>123</td>\n",
       "      <td>27.47</td>\n",
       "      <td>195.5</td>\n",
       "      <td>103</td>\n",
       "      <td>16.62</td>\n",
       "      <td>254.4</td>\n",
       "      <td>103</td>\n",
       "      <td>11.45</td>\n",
       "      <td>13.7</td>\n",
       "      <td>3</td>\n",
       "      <td>3.7</td>\n",
       "      <td>1</td>\n",
       "      <td>False.</td>\n",
       "    </tr>\n",
       "  </tbody>\n",
       "</table>\n",
       "</div>"
      ],
      "text/plain": [
       "  State  Account Length  Area Code     Phone Int'l Plan VMail Plan  \\\n",
       "0    KS             128        415  382-4657         no        yes   \n",
       "1    OH             107        415  371-7191         no        yes   \n",
       "\n",
       "   VMail Message  Day Mins  Day Calls  Day Charge  Eve Mins  Eve Calls  \\\n",
       "0             25     265.1        110       45.07     197.4         99   \n",
       "1             26     161.6        123       27.47     195.5        103   \n",
       "\n",
       "   Eve Charge  Night Mins  Night Calls  Night Charge  Intl Mins  Intl Calls  \\\n",
       "0       16.78       244.7           91         11.01       10.0           3   \n",
       "1       16.62       254.4          103         11.45       13.7           3   \n",
       "\n",
       "   Intl Charge  CustServ Calls  Churn?  \n",
       "0          2.7               1  False.  \n",
       "1          3.7               1  False.  "
      ]
     },
     "execution_count": 6,
     "metadata": {},
     "output_type": "execute_result"
    }
   ],
   "source": [
    "churn = pd.read_csv(\"./churn.csv\")\n",
    "pd.set_option(\"display.max_columns\", 500)\n",
    "churn.head(2)"
   ]
  },
  {
   "cell_type": "code",
   "execution_count": 7,
   "id": "197b207e-cd16-4c29-965e-dbee8858cec3",
   "metadata": {},
   "outputs": [
    {
     "data": {
      "text/plain": [
       "(3333, 21)"
      ]
     },
     "execution_count": 7,
     "metadata": {},
     "output_type": "execute_result"
    }
   ],
   "source": [
    "churn.shape"
   ]
  },
  {
   "cell_type": "markdown",
   "id": "6f2194cb-dc14-4336-a119-42a85a8e9a67",
   "metadata": {},
   "source": [
    "### Change \"Area Code\" type and Drop columns"
   ]
  },
  {
   "cell_type": "code",
   "execution_count": 8,
   "id": "f4c2ffca-dcca-4460-9f90-796465f6d26f",
   "metadata": {},
   "outputs": [],
   "source": [
    "churn[\"Area Code\"] = churn[\"Area Code\"].astype(object)\n",
    "churn = churn.drop([\"Phone\", \"Day Charge\", \"Eve Charge\", \"Night Charge\", \"Intl Charge\"], axis=1)"
   ]
  },
  {
   "cell_type": "markdown",
   "id": "59eab990-0fcd-4955-828f-68d2d0913ffd",
   "metadata": {},
   "source": [
    "### Convert our categorical features into numeric features and put Churn as the first column"
   ]
  },
  {
   "cell_type": "code",
   "execution_count": 9,
   "id": "5c507c16-29c6-4681-ab5a-22a2f2b08f62",
   "metadata": {},
   "outputs": [],
   "source": [
    "model_data = pd.get_dummies(churn)\n",
    "model_data = pd.concat(\n",
    "    [model_data[\"Churn?_True.\"], model_data.drop([\"Churn?_False.\", \"Churn?_True.\"], axis=1)], axis=1\n",
    ")\n",
    "model_data = model_data.astype(float)"
   ]
  },
  {
   "cell_type": "code",
   "execution_count": 10,
   "id": "63e62349-4069-4784-8f7d-7050d2a4ecb6",
   "metadata": {
    "scrolled": true
   },
   "outputs": [
    {
     "data": {
      "text/plain": [
       "(3333, 70)"
      ]
     },
     "execution_count": 10,
     "metadata": {},
     "output_type": "execute_result"
    }
   ],
   "source": [
    "model_data.shape"
   ]
  },
  {
   "cell_type": "code",
   "execution_count": 11,
   "id": "4cced061-489f-4e5d-a75e-64ce89a9c3ae",
   "metadata": {},
   "outputs": [
    {
     "data": {
      "text/html": [
       "<div>\n",
       "<style scoped>\n",
       "    .dataframe tbody tr th:only-of-type {\n",
       "        vertical-align: middle;\n",
       "    }\n",
       "\n",
       "    .dataframe tbody tr th {\n",
       "        vertical-align: top;\n",
       "    }\n",
       "\n",
       "    .dataframe thead th {\n",
       "        text-align: right;\n",
       "    }\n",
       "</style>\n",
       "<table border=\"1\" class=\"dataframe\">\n",
       "  <thead>\n",
       "    <tr style=\"text-align: right;\">\n",
       "      <th></th>\n",
       "      <th>Churn?_True.</th>\n",
       "      <th>Account Length</th>\n",
       "      <th>VMail Message</th>\n",
       "      <th>Day Mins</th>\n",
       "      <th>Day Calls</th>\n",
       "      <th>Eve Mins</th>\n",
       "      <th>Eve Calls</th>\n",
       "      <th>Night Mins</th>\n",
       "      <th>Night Calls</th>\n",
       "      <th>Intl Mins</th>\n",
       "      <th>Intl Calls</th>\n",
       "      <th>CustServ Calls</th>\n",
       "      <th>State_AK</th>\n",
       "      <th>State_AL</th>\n",
       "      <th>State_AR</th>\n",
       "      <th>State_AZ</th>\n",
       "      <th>State_CA</th>\n",
       "      <th>State_CO</th>\n",
       "      <th>State_CT</th>\n",
       "      <th>State_DC</th>\n",
       "      <th>State_DE</th>\n",
       "      <th>State_FL</th>\n",
       "      <th>State_GA</th>\n",
       "      <th>State_HI</th>\n",
       "      <th>State_IA</th>\n",
       "      <th>State_ID</th>\n",
       "      <th>State_IL</th>\n",
       "      <th>State_IN</th>\n",
       "      <th>State_KS</th>\n",
       "      <th>State_KY</th>\n",
       "      <th>State_LA</th>\n",
       "      <th>State_MA</th>\n",
       "      <th>State_MD</th>\n",
       "      <th>State_ME</th>\n",
       "      <th>State_MI</th>\n",
       "      <th>State_MN</th>\n",
       "      <th>State_MO</th>\n",
       "      <th>State_MS</th>\n",
       "      <th>State_MT</th>\n",
       "      <th>State_NC</th>\n",
       "      <th>State_ND</th>\n",
       "      <th>State_NE</th>\n",
       "      <th>State_NH</th>\n",
       "      <th>State_NJ</th>\n",
       "      <th>State_NM</th>\n",
       "      <th>State_NV</th>\n",
       "      <th>State_NY</th>\n",
       "      <th>State_OH</th>\n",
       "      <th>State_OK</th>\n",
       "      <th>State_OR</th>\n",
       "      <th>State_PA</th>\n",
       "      <th>State_RI</th>\n",
       "      <th>State_SC</th>\n",
       "      <th>State_SD</th>\n",
       "      <th>State_TN</th>\n",
       "      <th>State_TX</th>\n",
       "      <th>State_UT</th>\n",
       "      <th>State_VA</th>\n",
       "      <th>State_VT</th>\n",
       "      <th>State_WA</th>\n",
       "      <th>State_WI</th>\n",
       "      <th>State_WV</th>\n",
       "      <th>State_WY</th>\n",
       "      <th>Area Code_408</th>\n",
       "      <th>Area Code_415</th>\n",
       "      <th>Area Code_510</th>\n",
       "      <th>Int'l Plan_no</th>\n",
       "      <th>Int'l Plan_yes</th>\n",
       "      <th>VMail Plan_no</th>\n",
       "      <th>VMail Plan_yes</th>\n",
       "    </tr>\n",
       "  </thead>\n",
       "  <tbody>\n",
       "    <tr>\n",
       "      <th>0</th>\n",
       "      <td>0.0</td>\n",
       "      <td>128.0</td>\n",
       "      <td>25.0</td>\n",
       "      <td>265.1</td>\n",
       "      <td>110.0</td>\n",
       "      <td>197.4</td>\n",
       "      <td>99.0</td>\n",
       "      <td>244.7</td>\n",
       "      <td>91.0</td>\n",
       "      <td>10.0</td>\n",
       "      <td>3.0</td>\n",
       "      <td>1.0</td>\n",
       "      <td>0.0</td>\n",
       "      <td>0.0</td>\n",
       "      <td>0.0</td>\n",
       "      <td>0.0</td>\n",
       "      <td>0.0</td>\n",
       "      <td>0.0</td>\n",
       "      <td>0.0</td>\n",
       "      <td>0.0</td>\n",
       "      <td>0.0</td>\n",
       "      <td>0.0</td>\n",
       "      <td>0.0</td>\n",
       "      <td>0.0</td>\n",
       "      <td>0.0</td>\n",
       "      <td>0.0</td>\n",
       "      <td>0.0</td>\n",
       "      <td>0.0</td>\n",
       "      <td>1.0</td>\n",
       "      <td>0.0</td>\n",
       "      <td>0.0</td>\n",
       "      <td>0.0</td>\n",
       "      <td>0.0</td>\n",
       "      <td>0.0</td>\n",
       "      <td>0.0</td>\n",
       "      <td>0.0</td>\n",
       "      <td>0.0</td>\n",
       "      <td>0.0</td>\n",
       "      <td>0.0</td>\n",
       "      <td>0.0</td>\n",
       "      <td>0.0</td>\n",
       "      <td>0.0</td>\n",
       "      <td>0.0</td>\n",
       "      <td>0.0</td>\n",
       "      <td>0.0</td>\n",
       "      <td>0.0</td>\n",
       "      <td>0.0</td>\n",
       "      <td>0.0</td>\n",
       "      <td>0.0</td>\n",
       "      <td>0.0</td>\n",
       "      <td>0.0</td>\n",
       "      <td>0.0</td>\n",
       "      <td>0.0</td>\n",
       "      <td>0.0</td>\n",
       "      <td>0.0</td>\n",
       "      <td>0.0</td>\n",
       "      <td>0.0</td>\n",
       "      <td>0.0</td>\n",
       "      <td>0.0</td>\n",
       "      <td>0.0</td>\n",
       "      <td>0.0</td>\n",
       "      <td>0.0</td>\n",
       "      <td>0.0</td>\n",
       "      <td>0.0</td>\n",
       "      <td>1.0</td>\n",
       "      <td>0.0</td>\n",
       "      <td>1.0</td>\n",
       "      <td>0.0</td>\n",
       "      <td>0.0</td>\n",
       "      <td>1.0</td>\n",
       "    </tr>\n",
       "    <tr>\n",
       "      <th>1</th>\n",
       "      <td>0.0</td>\n",
       "      <td>107.0</td>\n",
       "      <td>26.0</td>\n",
       "      <td>161.6</td>\n",
       "      <td>123.0</td>\n",
       "      <td>195.5</td>\n",
       "      <td>103.0</td>\n",
       "      <td>254.4</td>\n",
       "      <td>103.0</td>\n",
       "      <td>13.7</td>\n",
       "      <td>3.0</td>\n",
       "      <td>1.0</td>\n",
       "      <td>0.0</td>\n",
       "      <td>0.0</td>\n",
       "      <td>0.0</td>\n",
       "      <td>0.0</td>\n",
       "      <td>0.0</td>\n",
       "      <td>0.0</td>\n",
       "      <td>0.0</td>\n",
       "      <td>0.0</td>\n",
       "      <td>0.0</td>\n",
       "      <td>0.0</td>\n",
       "      <td>0.0</td>\n",
       "      <td>0.0</td>\n",
       "      <td>0.0</td>\n",
       "      <td>0.0</td>\n",
       "      <td>0.0</td>\n",
       "      <td>0.0</td>\n",
       "      <td>0.0</td>\n",
       "      <td>0.0</td>\n",
       "      <td>0.0</td>\n",
       "      <td>0.0</td>\n",
       "      <td>0.0</td>\n",
       "      <td>0.0</td>\n",
       "      <td>0.0</td>\n",
       "      <td>0.0</td>\n",
       "      <td>0.0</td>\n",
       "      <td>0.0</td>\n",
       "      <td>0.0</td>\n",
       "      <td>0.0</td>\n",
       "      <td>0.0</td>\n",
       "      <td>0.0</td>\n",
       "      <td>0.0</td>\n",
       "      <td>0.0</td>\n",
       "      <td>0.0</td>\n",
       "      <td>0.0</td>\n",
       "      <td>0.0</td>\n",
       "      <td>1.0</td>\n",
       "      <td>0.0</td>\n",
       "      <td>0.0</td>\n",
       "      <td>0.0</td>\n",
       "      <td>0.0</td>\n",
       "      <td>0.0</td>\n",
       "      <td>0.0</td>\n",
       "      <td>0.0</td>\n",
       "      <td>0.0</td>\n",
       "      <td>0.0</td>\n",
       "      <td>0.0</td>\n",
       "      <td>0.0</td>\n",
       "      <td>0.0</td>\n",
       "      <td>0.0</td>\n",
       "      <td>0.0</td>\n",
       "      <td>0.0</td>\n",
       "      <td>0.0</td>\n",
       "      <td>1.0</td>\n",
       "      <td>0.0</td>\n",
       "      <td>1.0</td>\n",
       "      <td>0.0</td>\n",
       "      <td>0.0</td>\n",
       "      <td>1.0</td>\n",
       "    </tr>\n",
       "    <tr>\n",
       "      <th>2</th>\n",
       "      <td>0.0</td>\n",
       "      <td>137.0</td>\n",
       "      <td>0.0</td>\n",
       "      <td>243.4</td>\n",
       "      <td>114.0</td>\n",
       "      <td>121.2</td>\n",
       "      <td>110.0</td>\n",
       "      <td>162.6</td>\n",
       "      <td>104.0</td>\n",
       "      <td>12.2</td>\n",
       "      <td>5.0</td>\n",
       "      <td>0.0</td>\n",
       "      <td>0.0</td>\n",
       "      <td>0.0</td>\n",
       "      <td>0.0</td>\n",
       "      <td>0.0</td>\n",
       "      <td>0.0</td>\n",
       "      <td>0.0</td>\n",
       "      <td>0.0</td>\n",
       "      <td>0.0</td>\n",
       "      <td>0.0</td>\n",
       "      <td>0.0</td>\n",
       "      <td>0.0</td>\n",
       "      <td>0.0</td>\n",
       "      <td>0.0</td>\n",
       "      <td>0.0</td>\n",
       "      <td>0.0</td>\n",
       "      <td>0.0</td>\n",
       "      <td>0.0</td>\n",
       "      <td>0.0</td>\n",
       "      <td>0.0</td>\n",
       "      <td>0.0</td>\n",
       "      <td>0.0</td>\n",
       "      <td>0.0</td>\n",
       "      <td>0.0</td>\n",
       "      <td>0.0</td>\n",
       "      <td>0.0</td>\n",
       "      <td>0.0</td>\n",
       "      <td>0.0</td>\n",
       "      <td>0.0</td>\n",
       "      <td>0.0</td>\n",
       "      <td>0.0</td>\n",
       "      <td>0.0</td>\n",
       "      <td>1.0</td>\n",
       "      <td>0.0</td>\n",
       "      <td>0.0</td>\n",
       "      <td>0.0</td>\n",
       "      <td>0.0</td>\n",
       "      <td>0.0</td>\n",
       "      <td>0.0</td>\n",
       "      <td>0.0</td>\n",
       "      <td>0.0</td>\n",
       "      <td>0.0</td>\n",
       "      <td>0.0</td>\n",
       "      <td>0.0</td>\n",
       "      <td>0.0</td>\n",
       "      <td>0.0</td>\n",
       "      <td>0.0</td>\n",
       "      <td>0.0</td>\n",
       "      <td>0.0</td>\n",
       "      <td>0.0</td>\n",
       "      <td>0.0</td>\n",
       "      <td>0.0</td>\n",
       "      <td>0.0</td>\n",
       "      <td>1.0</td>\n",
       "      <td>0.0</td>\n",
       "      <td>1.0</td>\n",
       "      <td>0.0</td>\n",
       "      <td>1.0</td>\n",
       "      <td>0.0</td>\n",
       "    </tr>\n",
       "  </tbody>\n",
       "</table>\n",
       "</div>"
      ],
      "text/plain": [
       "   Churn?_True.  Account Length  VMail Message  Day Mins  Day Calls  Eve Mins  \\\n",
       "0           0.0           128.0           25.0     265.1      110.0     197.4   \n",
       "1           0.0           107.0           26.0     161.6      123.0     195.5   \n",
       "2           0.0           137.0            0.0     243.4      114.0     121.2   \n",
       "\n",
       "   Eve Calls  Night Mins  Night Calls  Intl Mins  Intl Calls  CustServ Calls  \\\n",
       "0       99.0       244.7         91.0       10.0         3.0             1.0   \n",
       "1      103.0       254.4        103.0       13.7         3.0             1.0   \n",
       "2      110.0       162.6        104.0       12.2         5.0             0.0   \n",
       "\n",
       "   State_AK  State_AL  State_AR  State_AZ  State_CA  State_CO  State_CT  \\\n",
       "0       0.0       0.0       0.0       0.0       0.0       0.0       0.0   \n",
       "1       0.0       0.0       0.0       0.0       0.0       0.0       0.0   \n",
       "2       0.0       0.0       0.0       0.0       0.0       0.0       0.0   \n",
       "\n",
       "   State_DC  State_DE  State_FL  State_GA  State_HI  State_IA  State_ID  \\\n",
       "0       0.0       0.0       0.0       0.0       0.0       0.0       0.0   \n",
       "1       0.0       0.0       0.0       0.0       0.0       0.0       0.0   \n",
       "2       0.0       0.0       0.0       0.0       0.0       0.0       0.0   \n",
       "\n",
       "   State_IL  State_IN  State_KS  State_KY  State_LA  State_MA  State_MD  \\\n",
       "0       0.0       0.0       1.0       0.0       0.0       0.0       0.0   \n",
       "1       0.0       0.0       0.0       0.0       0.0       0.0       0.0   \n",
       "2       0.0       0.0       0.0       0.0       0.0       0.0       0.0   \n",
       "\n",
       "   State_ME  State_MI  State_MN  State_MO  State_MS  State_MT  State_NC  \\\n",
       "0       0.0       0.0       0.0       0.0       0.0       0.0       0.0   \n",
       "1       0.0       0.0       0.0       0.0       0.0       0.0       0.0   \n",
       "2       0.0       0.0       0.0       0.0       0.0       0.0       0.0   \n",
       "\n",
       "   State_ND  State_NE  State_NH  State_NJ  State_NM  State_NV  State_NY  \\\n",
       "0       0.0       0.0       0.0       0.0       0.0       0.0       0.0   \n",
       "1       0.0       0.0       0.0       0.0       0.0       0.0       0.0   \n",
       "2       0.0       0.0       0.0       1.0       0.0       0.0       0.0   \n",
       "\n",
       "   State_OH  State_OK  State_OR  State_PA  State_RI  State_SC  State_SD  \\\n",
       "0       0.0       0.0       0.0       0.0       0.0       0.0       0.0   \n",
       "1       1.0       0.0       0.0       0.0       0.0       0.0       0.0   \n",
       "2       0.0       0.0       0.0       0.0       0.0       0.0       0.0   \n",
       "\n",
       "   State_TN  State_TX  State_UT  State_VA  State_VT  State_WA  State_WI  \\\n",
       "0       0.0       0.0       0.0       0.0       0.0       0.0       0.0   \n",
       "1       0.0       0.0       0.0       0.0       0.0       0.0       0.0   \n",
       "2       0.0       0.0       0.0       0.0       0.0       0.0       0.0   \n",
       "\n",
       "   State_WV  State_WY  Area Code_408  Area Code_415  Area Code_510  \\\n",
       "0       0.0       0.0            0.0            1.0            0.0   \n",
       "1       0.0       0.0            0.0            1.0            0.0   \n",
       "2       0.0       0.0            0.0            1.0            0.0   \n",
       "\n",
       "   Int'l Plan_no  Int'l Plan_yes  VMail Plan_no  VMail Plan_yes  \n",
       "0            1.0             0.0            0.0             1.0  \n",
       "1            1.0             0.0            0.0             1.0  \n",
       "2            1.0             0.0            1.0             0.0  "
      ]
     },
     "execution_count": 11,
     "metadata": {},
     "output_type": "execute_result"
    }
   ],
   "source": [
    "model_data.head(3)"
   ]
  },
  {
   "cell_type": "markdown",
   "id": "7c1fe4d1-0507-4051-a47c-d484d5da940a",
   "metadata": {},
   "source": [
    "### Split the data into training, validation, and test sets."
   ]
  },
  {
   "cell_type": "code",
   "execution_count": 12,
   "id": "e207c52a-b5d7-4689-9710-5dcb71f8a523",
   "metadata": {},
   "outputs": [
    {
     "name": "stderr",
     "output_type": "stream",
     "text": [
      "/opt/conda/lib/python3.10/site-packages/numpy/core/fromnumeric.py:59: FutureWarning: 'DataFrame.swapaxes' is deprecated and will be removed in a future version. Please use 'DataFrame.transpose' instead.\n",
      "  return bound(*args, **kwds)\n"
     ]
    },
    {
     "data": {
      "text/plain": [
       "((2333, 70), (666, 70), (334, 70))"
      ]
     },
     "execution_count": 12,
     "metadata": {},
     "output_type": "execute_result"
    }
   ],
   "source": [
    "train_data, validation_data, test_data = np.split(\n",
    "    model_data.sample(frac=1, random_state=1729),\n",
    "    [int(0.7 * len(model_data)), int(0.9 * len(model_data))],\n",
    ")\n",
    "train_data.to_csv(\"train.csv\", header=False, index=False)\n",
    "validation_data.to_csv(\"validation.csv\", header=False, index=False)\n",
    "test_data.to_csv(\"test.csv\", header=False, index=False)\n",
    "train_data.shape, validation_data.shape, test_data.shape"
   ]
  },
  {
   "cell_type": "markdown",
   "id": "edff5d75-d558-4cdb-9024-30daecd404de",
   "metadata": {},
   "source": [
    "### Upload these files to S3"
   ]
  },
  {
   "cell_type": "code",
   "execution_count": 13,
   "id": "b24e1656-165d-4c9a-9d20-acb82e4831f5",
   "metadata": {},
   "outputs": [],
   "source": [
    "boto3.Session().resource(\"s3\").Bucket(s3_bucket).Object(\n",
    "    os.path.join(s3_prefix, \"train/train.csv\")\n",
    ").upload_file(\"train.csv\")\n",
    "boto3.Session().resource(\"s3\").Bucket(s3_bucket).Object(\n",
    "    os.path.join(s3_prefix, \"validation/validation.csv\")\n",
    ").upload_file(\"validation.csv\")\n",
    "boto3.Session().resource(\"s3\").Bucket(s3_bucket).Object(\n",
    "    os.path.join(s3_prefix, \"test/test.csv\")\n",
    ").upload_file(\"test.csv\")"
   ]
  },
  {
   "cell_type": "markdown",
   "id": "411ceabf-d823-4854-b3ee-8c13acbdbfc6",
   "metadata": {},
   "source": [
    "### Specify TrainingInput Data"
   ]
  },
  {
   "cell_type": "code",
   "execution_count": 14,
   "id": "17dd2ad1-a0b3-4db3-9584-489ae181aac3",
   "metadata": {},
   "outputs": [],
   "source": [
    "s3_input_train = TrainingInput(s3_data=\"s3://{}/{}/train\".format(s3_bucket, s3_prefix), content_type=\"csv\")\n",
    "s3_input_validation = TrainingInput(s3_data=\"s3://{}/{}/validation/\".format(s3_bucket, s3_prefix), content_type=\"csv\")\n",
    "\n",
    "#Store variable\n",
    "# %store s3_input_train\n",
    "# %store s3_input_validation"
   ]
  },
  {
   "cell_type": "markdown",
   "id": "58eaa6a2-dc9b-44f1-8e22-cc80c71b6900",
   "metadata": {},
   "source": [
    "# Train the model"
   ]
  },
  {
   "cell_type": "code",
   "execution_count": 15,
   "id": "95c15507-b059-44a5-af84-42817b20f707",
   "metadata": {},
   "outputs": [],
   "source": [
    "# experiment_name\n",
    "create_date = lambda: strftime(\"%Y-%m-%d-%H-%M-%S\", gmtime())\n",
    "experiment_name=f\"byo-code-churn-prediction-xgboost-{create_date()}\""
   ]
  },
  {
   "cell_type": "code",
   "execution_count": 16,
   "id": "331a5ca5-af1c-4630-a8df-2500e52aea1b",
   "metadata": {},
   "outputs": [],
   "source": [
    "# Set Rules for SM Debugger\n",
    "debug_rules = [Rule.sagemaker(rule_configs.loss_not_decreasing()),\n",
    "               Rule.sagemaker(rule_configs.overtraining()),\n",
    "               Rule.sagemaker(rule_configs.overfit())\n",
    "              ]"
   ]
  },
  {
   "cell_type": "code",
   "execution_count": 17,
   "id": "cd5a5af9-46e1-4f1e-b077-21dfb18bd058",
   "metadata": {},
   "outputs": [],
   "source": [
    "#Set Hyperparameter\n",
    "hyperparams = {\"max_depth\":6,\n",
    "               \"subsample\":0.8,\n",
    "               \"num_round\":700,\n",
    "               \"eta\":0.2,\n",
    "               \"gamma\":4,\n",
    "               \"min_child_weight\":6,\n",
    "               \"objective\":'binary:logistic',\n",
    "               \"verbosity\": 0\n",
    "              }"
   ]
  },
  {
   "cell_type": "code",
   "execution_count": 18,
   "id": "fbd95126-3588-4432-94dc-c04dfe786d83",
   "metadata": {},
   "outputs": [],
   "source": [
    "from sagemaker.xgboost.estimator import XGBoost\n",
    "train_script_name = 'train.py'\n",
    "model_xgb = XGBoost(image_uri=sm_xgb_image_name,\n",
    "                        entry_point=train_script_name,\n",
    "                        role=sm_exe_role,\n",
    "                        framework_version=sm_xgb_framework_version,\n",
    "                        py_version=\"py3\",\n",
    "                        hyperparameters=hyperparams,\n",
    "                        instance_count=1, \n",
    "                        instance_type='ml.m4.xlarge',\n",
    "                        output_path=f's3://{s3_bucket}/{s3_prefix}/output',\n",
    "                        base_job_name='BYO-Code-xgboost-customer-churn',\n",
    "                        sagemaker_session=sm_sess,\n",
    "                        rules=debug_rules\n",
    "                        )\n"
   ]
  },
  {
   "cell_type": "code",
   "execution_count": 19,
   "id": "604e838f-8c32-40cb-9f6a-96c19cc5d507",
   "metadata": {},
   "outputs": [
    {
     "name": "stderr",
     "output_type": "stream",
     "text": [
      "INFO:sagemaker.image_uris:Defaulting to the only supported framework/algorithm version: latest.\n",
      "INFO:sagemaker.image_uris:Ignoring unnecessary instance type: None.\n",
      "INFO:sagemaker.image_uris:Defaulting to the only supported framework/algorithm version: latest.\n",
      "INFO:sagemaker.image_uris:Ignoring unnecessary instance type: None.\n",
      "INFO:sagemaker.image_uris:Defaulting to the only supported framework/algorithm version: latest.\n",
      "INFO:sagemaker.image_uris:Ignoring unnecessary instance type: None.\n",
      "INFO:sagemaker:Creating training-job with name: BYO-Code-xgboost-customer-churn-2024-05-23-12-21-15-728\n"
     ]
    },
    {
     "name": "stdout",
     "output_type": "stream",
     "text": [
      "2024-05-23 12:21:16 Starting - Starting the training job...\n",
      "2024-05-23 12:21:43 Starting - Preparing the instances for trainingLossNotDecreasing: InProgress\n",
      "Overtraining: InProgress\n",
      "Overfit: InProgress\n",
      "...\n",
      "2024-05-23 12:22:06 Downloading - Downloading input data...\n",
      "2024-05-23 12:22:46 Downloading - Downloading the training image......\n",
      "2024-05-23 12:23:44 Training - Training image download completed. Training in progress...\u001b[34m[2024-05-23 12:23:50.471 ip-10-0-230-50.ec2.internal:8 INFO utils.py:28] RULE_JOB_STOP_SIGNAL_FILENAME: None\u001b[0m\n",
      "\u001b[34m[2024-05-23 12:23:50.500 ip-10-0-230-50.ec2.internal:8 INFO profiler_config_parser.py:111] User has disabled profiler.\u001b[0m\n",
      "\u001b[34m[2024-05-23:12:23:50:INFO] Imported framework sagemaker_xgboost_container.training\u001b[0m\n",
      "\u001b[34m[2024-05-23:12:23:50:INFO] No GPUs detected (normal if no gpus installed)\u001b[0m\n",
      "\u001b[34m[2024-05-23:12:23:50:INFO] Invoking user training script.\u001b[0m\n",
      "\u001b[34m[2024-05-23:12:23:51:INFO] Module train does not provide a setup.py. \u001b[0m\n",
      "\u001b[34mGenerating setup.py\u001b[0m\n",
      "\u001b[34m[2024-05-23:12:23:51:INFO] Generating setup.cfg\u001b[0m\n",
      "\u001b[34m[2024-05-23:12:23:51:INFO] Generating MANIFEST.in\u001b[0m\n",
      "\u001b[34m[2024-05-23:12:23:51:INFO] Installing module with the following command:\u001b[0m\n",
      "\u001b[34m/miniconda3/bin/python3 -m pip install . \u001b[0m\n",
      "\u001b[34mProcessing /opt/ml/code\n",
      "  Preparing metadata (setup.py): started\n",
      "  Preparing metadata (setup.py): finished with status 'done'\u001b[0m\n",
      "\u001b[34mBuilding wheels for collected packages: train\n",
      "  Building wheel for train (setup.py): started\n",
      "  Building wheel for train (setup.py): finished with status 'done'\n",
      "  Created wheel for train: filename=train-1.0.0-py2.py3-none-any.whl size=4815 sha256=190f2893200e5493e063261401703cbbc0173125992fa5657ebafde9c6a9b93a\n",
      "  Stored in directory: /home/model-server/tmp/pip-ephem-wheel-cache-rmptqocb/wheels/f3/75/57/158162e9eab7af12b5c338c279b3a81f103b89d74eeb911c00\u001b[0m\n",
      "\u001b[34mSuccessfully built train\u001b[0m\n",
      "\u001b[34mInstalling collected packages: train\u001b[0m\n",
      "\u001b[34mSuccessfully installed train-1.0.0\u001b[0m\n",
      "\u001b[34mWARNING: Running pip as the 'root' user can result in broken permissions and conflicting behaviour with the system package manager. It is recommended to use a virtual environment instead: https://pip.pypa.io/warnings/venv\u001b[0m\n",
      "\u001b[34m[notice] A new release of pip is available: 23.3.2 -> 24.0\u001b[0m\n",
      "\u001b[34m[notice] To update, run: pip install --upgrade pip\u001b[0m\n",
      "\u001b[34m[2024-05-23:12:23:52:INFO] No GPUs detected (normal if no gpus installed)\u001b[0m\n",
      "\u001b[34m[2024-05-23:12:23:52:INFO] Invoking user script\u001b[0m\n",
      "\u001b[34mTraining Env:\u001b[0m\n",
      "\u001b[34m{\n",
      "    \"additional_framework_parameters\": {},\n",
      "    \"channel_input_dirs\": {\n",
      "        \"train\": \"/opt/ml/input/data/train\",\n",
      "        \"validation\": \"/opt/ml/input/data/validation\"\n",
      "    },\n",
      "    \"current_host\": \"algo-1\",\n",
      "    \"framework_module\": \"sagemaker_xgboost_container.training:main\",\n",
      "    \"hosts\": [\n",
      "        \"algo-1\"\n",
      "    ],\n",
      "    \"hyperparameters\": {\n",
      "        \"eta\": 0.2,\n",
      "        \"gamma\": 4,\n",
      "        \"max_depth\": 6,\n",
      "        \"min_child_weight\": 6,\n",
      "        \"num_round\": 700,\n",
      "        \"objective\": \"binary:logistic\",\n",
      "        \"subsample\": 0.8,\n",
      "        \"verbosity\": 0\n",
      "    },\n",
      "    \"input_config_dir\": \"/opt/ml/input/config\",\n",
      "    \"input_data_config\": {\n",
      "        \"train\": {\n",
      "            \"ContentType\": \"csv\",\n",
      "            \"TrainingInputMode\": \"File\",\n",
      "            \"S3DistributionType\": \"FullyReplicated\",\n",
      "            \"RecordWrapperType\": \"None\"\n",
      "        },\n",
      "        \"validation\": {\n",
      "            \"ContentType\": \"csv\",\n",
      "            \"TrainingInputMode\": \"File\",\n",
      "            \"S3DistributionType\": \"FullyReplicated\",\n",
      "            \"RecordWrapperType\": \"None\"\n",
      "        }\n",
      "    },\n",
      "    \"input_dir\": \"/opt/ml/input\",\n",
      "    \"is_master\": true,\n",
      "    \"job_name\": \"BYO-Code-xgboost-customer-churn-2024-05-23-12-21-15-728\",\n",
      "    \"log_level\": 20,\n",
      "    \"master_hostname\": \"algo-1\",\n",
      "    \"model_dir\": \"/opt/ml/model\",\n",
      "    \"module_dir\": \"s3://bring-your-own-training-code-us-east-1-047922237497/BYO-Code-xgboost-customer-churn-2024-05-23-12-21-15-728/source/sourcedir.tar.gz\",\n",
      "    \"module_name\": \"train\",\n",
      "    \"network_interface_name\": \"eth0\",\n",
      "    \"num_cpus\": 4,\n",
      "    \"num_gpus\": 0,\n",
      "    \"output_data_dir\": \"/opt/ml/output/data\",\n",
      "    \"output_dir\": \"/opt/ml/output\",\n",
      "    \"output_intermediate_dir\": \"/opt/ml/output/intermediate\",\n",
      "    \"resource_config\": {\n",
      "        \"current_host\": \"algo-1\",\n",
      "        \"current_instance_type\": \"ml.m4.xlarge\",\n",
      "        \"current_group_name\": \"homogeneousCluster\",\n",
      "        \"hosts\": [\n",
      "            \"algo-1\"\n",
      "        ],\n",
      "        \"instance_groups\": [\n",
      "            {\n",
      "                \"instance_group_name\": \"homogeneousCluster\",\n",
      "                \"instance_type\": \"ml.m4.xlarge\",\n",
      "                \"hosts\": [\n",
      "                    \"algo-1\"\n",
      "                ]\n",
      "            }\n",
      "        ],\n",
      "        \"network_interface_name\": \"eth0\"\n",
      "    },\n",
      "    \"user_entry_point\": \"train.py\"\u001b[0m\n",
      "\u001b[34m}\u001b[0m\n",
      "\u001b[34mEnvironment variables:\u001b[0m\n",
      "\u001b[34mSM_HOSTS=[\"algo-1\"]\u001b[0m\n",
      "\u001b[34mSM_NETWORK_INTERFACE_NAME=eth0\u001b[0m\n",
      "\u001b[34mSM_HPS={\"eta\":0.2,\"gamma\":4,\"max_depth\":6,\"min_child_weight\":6,\"num_round\":700,\"objective\":\"binary:logistic\",\"subsample\":0.8,\"verbosity\":0}\u001b[0m\n",
      "\u001b[34mSM_USER_ENTRY_POINT=train.py\u001b[0m\n",
      "\u001b[34mSM_FRAMEWORK_PARAMS={}\u001b[0m\n",
      "\u001b[34mSM_RESOURCE_CONFIG={\"current_group_name\":\"homogeneousCluster\",\"current_host\":\"algo-1\",\"current_instance_type\":\"ml.m4.xlarge\",\"hosts\":[\"algo-1\"],\"instance_groups\":[{\"hosts\":[\"algo-1\"],\"instance_group_name\":\"homogeneousCluster\",\"instance_type\":\"ml.m4.xlarge\"}],\"network_interface_name\":\"eth0\"}\u001b[0m\n",
      "\u001b[34mSM_INPUT_DATA_CONFIG={\"train\":{\"ContentType\":\"csv\",\"RecordWrapperType\":\"None\",\"S3DistributionType\":\"FullyReplicated\",\"TrainingInputMode\":\"File\"},\"validation\":{\"ContentType\":\"csv\",\"RecordWrapperType\":\"None\",\"S3DistributionType\":\"FullyReplicated\",\"TrainingInputMode\":\"File\"}}\u001b[0m\n",
      "\u001b[34mSM_OUTPUT_DATA_DIR=/opt/ml/output/data\u001b[0m\n",
      "\u001b[34mSM_CHANNELS=[\"train\",\"validation\"]\u001b[0m\n",
      "\u001b[34mSM_CURRENT_HOST=algo-1\u001b[0m\n",
      "\u001b[34mSM_MODULE_NAME=train\u001b[0m\n",
      "\u001b[34mSM_LOG_LEVEL=20\u001b[0m\n",
      "\u001b[34mSM_FRAMEWORK_MODULE=sagemaker_xgboost_container.training:main\u001b[0m\n",
      "\u001b[34mSM_INPUT_DIR=/opt/ml/input\u001b[0m\n",
      "\u001b[34mSM_INPUT_CONFIG_DIR=/opt/ml/input/config\u001b[0m\n",
      "\u001b[34mSM_OUTPUT_DIR=/opt/ml/output\u001b[0m\n",
      "\u001b[34mSM_NUM_CPUS=4\u001b[0m\n",
      "\u001b[34mSM_NUM_GPUS=0\u001b[0m\n",
      "\u001b[34mSM_MODEL_DIR=/opt/ml/model\u001b[0m\n",
      "\u001b[34mSM_MODULE_DIR=s3://bring-your-own-training-code-us-east-1-047922237497/BYO-Code-xgboost-customer-churn-2024-05-23-12-21-15-728/source/sourcedir.tar.gz\u001b[0m\n",
      "\u001b[34mSM_TRAINING_ENV={\"additional_framework_parameters\":{},\"channel_input_dirs\":{\"train\":\"/opt/ml/input/data/train\",\"validation\":\"/opt/ml/input/data/validation\"},\"current_host\":\"algo-1\",\"framework_module\":\"sagemaker_xgboost_container.training:main\",\"hosts\":[\"algo-1\"],\"hyperparameters\":{\"eta\":0.2,\"gamma\":4,\"max_depth\":6,\"min_child_weight\":6,\"num_round\":700,\"objective\":\"binary:logistic\",\"subsample\":0.8,\"verbosity\":0},\"input_config_dir\":\"/opt/ml/input/config\",\"input_data_config\":{\"train\":{\"ContentType\":\"csv\",\"RecordWrapperType\":\"None\",\"S3DistributionType\":\"FullyReplicated\",\"TrainingInputMode\":\"File\"},\"validation\":{\"ContentType\":\"csv\",\"RecordWrapperType\":\"None\",\"S3DistributionType\":\"FullyReplicated\",\"TrainingInputMode\":\"File\"}},\"input_dir\":\"/opt/ml/input\",\"is_master\":true,\"job_name\":\"BYO-Code-xgboost-customer-churn-2024-05-23-12-21-15-728\",\"log_level\":20,\"master_hostname\":\"algo-1\",\"model_dir\":\"/opt/ml/model\",\"module_dir\":\"s3://bring-your-own-training-code-us-east-1-047922237497/BYO-Code-xgboost-customer-churn-2024-05-23-12-21-15-728/source/sourcedir.tar.gz\",\"module_name\":\"train\",\"network_interface_name\":\"eth0\",\"num_cpus\":4,\"num_gpus\":0,\"output_data_dir\":\"/opt/ml/output/data\",\"output_dir\":\"/opt/ml/output\",\"output_intermediate_dir\":\"/opt/ml/output/intermediate\",\"resource_config\":{\"current_group_name\":\"homogeneousCluster\",\"current_host\":\"algo-1\",\"current_instance_type\":\"ml.m4.xlarge\",\"hosts\":[\"algo-1\"],\"instance_groups\":[{\"hosts\":[\"algo-1\"],\"instance_group_name\":\"homogeneousCluster\",\"instance_type\":\"ml.m4.xlarge\"}],\"network_interface_name\":\"eth0\"},\"user_entry_point\":\"train.py\"}\u001b[0m\n",
      "\u001b[34mSM_USER_ARGS=[\"--eta\",\"0.2\",\"--gamma\",\"4\",\"--max_depth\",\"6\",\"--min_child_weight\",\"6\",\"--num_round\",\"700\",\"--objective\",\"binary:logistic\",\"--subsample\",\"0.8\",\"--verbosity\",\"0\"]\u001b[0m\n",
      "\u001b[34mSM_OUTPUT_INTERMEDIATE_DIR=/opt/ml/output/intermediate\u001b[0m\n",
      "\u001b[34mSM_CHANNEL_TRAIN=/opt/ml/input/data/train\u001b[0m\n",
      "\u001b[34mSM_CHANNEL_VALIDATION=/opt/ml/input/data/validation\u001b[0m\n",
      "\u001b[34mSM_HP_ETA=0.2\u001b[0m\n",
      "\u001b[34mSM_HP_GAMMA=4\u001b[0m\n",
      "\u001b[34mSM_HP_MAX_DEPTH=6\u001b[0m\n",
      "\u001b[34mSM_HP_MIN_CHILD_WEIGHT=6\u001b[0m\n",
      "\u001b[34mSM_HP_NUM_ROUND=700\u001b[0m\n",
      "\u001b[34mSM_HP_OBJECTIVE=binary:logistic\u001b[0m\n",
      "\u001b[34mSM_HP_SUBSAMPLE=0.8\u001b[0m\n",
      "\u001b[34mSM_HP_VERBOSITY=0\u001b[0m\n",
      "\u001b[34mPYTHONPATH=/miniconda3/bin:/:/miniconda3/lib/python/site-packages/xgboost/dmlc-core/tracker:/miniconda3/lib/python38.zip:/miniconda3/lib/python3.8:/miniconda3/lib/python3.8/lib-dynload:/miniconda3/lib/python3.8/site-packages\u001b[0m\n",
      "\u001b[34mInvoking script with the following command:\u001b[0m\n",
      "\u001b[34m/miniconda3/bin/python3 -m train --eta 0.2 --gamma 4 --max_depth 6 --min_child_weight 6 --num_round 700 --objective binary:logistic --subsample 0.8 --verbosity 0\u001b[0m\n",
      "\u001b[34m[2024-05-23 12:23:53.710 ip-10-0-230-50.ec2.internal:32 INFO utils.py:28] RULE_JOB_STOP_SIGNAL_FILENAME: None\u001b[0m\n",
      "\u001b[34m[2024-05-23 12:23:53.740 ip-10-0-230-50.ec2.internal:32 INFO profiler_config_parser.py:111] User has disabled profiler.\u001b[0m\n",
      "\u001b[34mmax_depth: 6\u001b[0m\n",
      "\u001b[34mnum_round: 700\u001b[0m\n",
      "\u001b[34m[2024-05-23 12:23:53.782 ip-10-0-230-50.ec2.internal:32 INFO hook.py:206] tensorboard_dir has not been set for the hook. SMDebug will not be exporting tensorboard summaries.\u001b[0m\n",
      "\u001b[34m[2024-05-23 12:23:53.783 ip-10-0-230-50.ec2.internal:32 INFO hook.py:259] Saving to /opt/ml/output/tensors\u001b[0m\n",
      "\u001b[34m[2024-05-23 12:23:53.783 ip-10-0-230-50.ec2.internal:32 INFO state_store.py:77] The checkpoint config file /opt/ml/input/config/checkpointconfig.json does not exist.\u001b[0m\n",
      "\u001b[34m[2024-05-23 12:23:53.800 ip-10-0-230-50.ec2.internal:32 INFO hook.py:427] Monitoring the collections: metrics\u001b[0m\n",
      "\u001b[34m[2024-05-23 12:23:53.805 ip-10-0-230-50.ec2.internal:32 INFO hook.py:491] Hook is writing from the hook with pid: 32\u001b[0m\n",
      "\u001b[34m[0]#011train-logloss:0.55391#011validation-logloss:0.56351\u001b[0m\n",
      "\u001b[34m[1]#011train-logloss:0.45554#011validation-logloss:0.47604\u001b[0m\n",
      "\u001b[34m[2]#011train-logloss:0.38332#011validation-logloss:0.40943\u001b[0m\n",
      "\u001b[34m[3]#011train-logloss:0.32935#011validation-logloss:0.36271\u001b[0m\n",
      "\u001b[34m[4]#011train-logloss:0.29017#011validation-logloss:0.32814\u001b[0m\n",
      "\u001b[34m[5]#011train-logloss:0.25920#011validation-logloss:0.30272\u001b[0m\n",
      "\u001b[34m[6]#011train-logloss:0.23499#011validation-logloss:0.28291\u001b[0m\n",
      "\u001b[34m[7]#011train-logloss:0.21657#011validation-logloss:0.26686\u001b[0m\n",
      "\u001b[34m[8]#011train-logloss:0.20177#011validation-logloss:0.25629\u001b[0m\n",
      "\u001b[34m[9]#011train-logloss:0.19082#011validation-logloss:0.24937\u001b[0m\n",
      "\u001b[34m[10]#011train-logloss:0.18103#011validation-logloss:0.24386\u001b[0m\n",
      "\u001b[34m[11]#011train-logloss:0.17390#011validation-logloss:0.23827\u001b[0m\n",
      "\u001b[34m[12]#011train-logloss:0.16630#011validation-logloss:0.23310\u001b[0m\n",
      "\u001b[34m[13]#011train-logloss:0.16360#011validation-logloss:0.23388\u001b[0m\n",
      "\u001b[34m[14]#011train-logloss:0.16045#011validation-logloss:0.23397\u001b[0m\n",
      "\u001b[34m[15]#011train-logloss:0.15623#011validation-logloss:0.23248\u001b[0m\n",
      "\u001b[34m[16]#011train-logloss:0.15255#011validation-logloss:0.23118\u001b[0m\n",
      "\u001b[34m[17]#011train-logloss:0.15125#011validation-logloss:0.23140\u001b[0m\n",
      "\u001b[34m[18]#011train-logloss:0.14947#011validation-logloss:0.23183\u001b[0m\n",
      "\u001b[34m[19]#011train-logloss:0.14822#011validation-logloss:0.23273\u001b[0m\n",
      "\u001b[34m[20]#011train-logloss:0.14564#011validation-logloss:0.23214\u001b[0m\n",
      "\u001b[34m[21]#011train-logloss:0.14409#011validation-logloss:0.23248\u001b[0m\n",
      "\u001b[34m[22]#011train-logloss:0.14082#011validation-logloss:0.22908\u001b[0m\n",
      "\u001b[34m[23]#011train-logloss:0.14080#011validation-logloss:0.22933\u001b[0m\n",
      "\u001b[34m[24]#011train-logloss:0.14080#011validation-logloss:0.22926\u001b[0m\n",
      "\u001b[34m[25]#011train-logloss:0.14079#011validation-logloss:0.22948\u001b[0m\n",
      "\u001b[34m[26]#011train-logloss:0.14028#011validation-logloss:0.22887\u001b[0m\n",
      "\u001b[34m[27]#011train-logloss:0.13854#011validation-logloss:0.22848\u001b[0m\n",
      "\u001b[34m[28]#011train-logloss:0.13782#011validation-logloss:0.22765\u001b[0m\n",
      "\u001b[34m[29]#011train-logloss:0.13703#011validation-logloss:0.22790\u001b[0m\n",
      "\u001b[34m[30]#011train-logloss:0.13703#011validation-logloss:0.22767\u001b[0m\n",
      "\u001b[34m[31]#011train-logloss:0.13605#011validation-logloss:0.22687\u001b[0m\n",
      "\u001b[34m[32]#011train-logloss:0.13539#011validation-logloss:0.22758\u001b[0m\n",
      "\u001b[34m[33]#011train-logloss:0.13413#011validation-logloss:0.22760\u001b[0m\n",
      "\u001b[34m[34]#011train-logloss:0.13413#011validation-logloss:0.22749\u001b[0m\n",
      "\u001b[34m[35]#011train-logloss:0.13193#011validation-logloss:0.22820\u001b[0m\n",
      "\u001b[34m[36]#011train-logloss:0.13091#011validation-logloss:0.22864\u001b[0m\n",
      "\u001b[34m[37]#011train-logloss:0.13011#011validation-logloss:0.22886\u001b[0m\n",
      "\u001b[34m[38]#011train-logloss:0.12965#011validation-logloss:0.22787\u001b[0m\n",
      "\u001b[34m[39]#011train-logloss:0.12964#011validation-logloss:0.22797\u001b[0m\n",
      "\u001b[34m[40]#011train-logloss:0.12965#011validation-logloss:0.22785\u001b[0m\n",
      "\u001b[34m[41]#011train-logloss:0.12905#011validation-logloss:0.22834\u001b[0m\n",
      "\u001b[34m[42]#011train-logloss:0.12844#011validation-logloss:0.22833\u001b[0m\n",
      "\u001b[34m[43]#011train-logloss:0.12769#011validation-logloss:0.22883\u001b[0m\n",
      "\u001b[34m[44]#011train-logloss:0.12770#011validation-logloss:0.22874\u001b[0m\n",
      "\u001b[34m[45]#011train-logloss:0.12692#011validation-logloss:0.22883\u001b[0m\n",
      "\u001b[34m[46]#011train-logloss:0.12648#011validation-logloss:0.22936\u001b[0m\n",
      "\u001b[34m[47]#011train-logloss:0.12648#011validation-logloss:0.22948\u001b[0m\n",
      "\u001b[34m[48]#011train-logloss:0.12525#011validation-logloss:0.22889\u001b[0m\n",
      "\u001b[34m[49]#011train-logloss:0.12472#011validation-logloss:0.22945\u001b[0m\n",
      "\u001b[34m[50]#011train-logloss:0.12472#011validation-logloss:0.22945\u001b[0m\n",
      "\u001b[34m[51]#011train-logloss:0.12471#011validation-logloss:0.22941\u001b[0m\n",
      "\u001b[34m[52]#011train-logloss:0.12471#011validation-logloss:0.22924\u001b[0m\n",
      "\u001b[34m[53]#011train-logloss:0.12358#011validation-logloss:0.22816\u001b[0m\n",
      "\u001b[34m[54]#011train-logloss:0.12251#011validation-logloss:0.22803\u001b[0m\n",
      "\u001b[34m[55]#011train-logloss:0.12251#011validation-logloss:0.22821\u001b[0m\n",
      "\u001b[34m[56]#011train-logloss:0.12187#011validation-logloss:0.22799\u001b[0m\n",
      "\u001b[34m[57]#011train-logloss:0.12104#011validation-logloss:0.22834\u001b[0m\n",
      "\u001b[34m[58]#011train-logloss:0.12010#011validation-logloss:0.22995\u001b[0m\n",
      "\u001b[34m[59]#011train-logloss:0.12011#011validation-logloss:0.23019\u001b[0m\n",
      "\u001b[34m[60]#011train-logloss:0.11888#011validation-logloss:0.23008\u001b[0m\n",
      "\u001b[34m[61]#011train-logloss:0.11786#011validation-logloss:0.23060\u001b[0m\n",
      "\u001b[34m[62]#011train-logloss:0.11741#011validation-logloss:0.23078\u001b[0m\n",
      "\u001b[34m[63]#011train-logloss:0.11741#011validation-logloss:0.23060\u001b[0m\n",
      "\u001b[34m[64]#011train-logloss:0.11679#011validation-logloss:0.23127\u001b[0m\n",
      "\u001b[34m[65]#011train-logloss:0.11588#011validation-logloss:0.23211\u001b[0m\n",
      "\u001b[34m[66]#011train-logloss:0.11495#011validation-logloss:0.23068\u001b[0m\n",
      "\u001b[34m[67]#011train-logloss:0.11496#011validation-logloss:0.23043\u001b[0m\n",
      "\u001b[34m[68]#011train-logloss:0.11465#011validation-logloss:0.23061\u001b[0m\n",
      "\u001b[34m[69]#011train-logloss:0.11465#011validation-logloss:0.23072\u001b[0m\n",
      "\u001b[34m[70]#011train-logloss:0.11393#011validation-logloss:0.23048\u001b[0m\n",
      "\u001b[34m[71]#011train-logloss:0.11300#011validation-logloss:0.22921\u001b[0m\n",
      "\u001b[34m[72]#011train-logloss:0.11257#011validation-logloss:0.22932\u001b[0m\n",
      "\u001b[34m[73]#011train-logloss:0.11257#011validation-logloss:0.22949\u001b[0m\n",
      "\u001b[34m[74]#011train-logloss:0.11257#011validation-logloss:0.22936\u001b[0m\n",
      "\u001b[34m[75]#011train-logloss:0.11186#011validation-logloss:0.22888\u001b[0m\n",
      "\u001b[34m[76]#011train-logloss:0.11186#011validation-logloss:0.22883\u001b[0m\n",
      "\u001b[34m[77]#011train-logloss:0.11038#011validation-logloss:0.22865\u001b[0m\n",
      "\u001b[34m[78]#011train-logloss:0.11039#011validation-logloss:0.22918\u001b[0m\n",
      "\u001b[34m[79]#011train-logloss:0.10949#011validation-logloss:0.22988\u001b[0m\n",
      "\u001b[34m[80]#011train-logloss:0.10949#011validation-logloss:0.22948\u001b[0m\n",
      "\u001b[34m[81]#011train-logloss:0.10893#011validation-logloss:0.23040\u001b[0m\n",
      "\u001b[34m[82]#011train-logloss:0.10893#011validation-logloss:0.23029\u001b[0m\n",
      "\u001b[34m[83]#011train-logloss:0.10893#011validation-logloss:0.23039\u001b[0m\n",
      "\u001b[34m[84]#011train-logloss:0.10894#011validation-logloss:0.23071\u001b[0m\n",
      "\u001b[34m[85]#011train-logloss:0.10894#011validation-logloss:0.23086\u001b[0m\n",
      "\u001b[34m[86]#011train-logloss:0.10894#011validation-logloss:0.23074\u001b[0m\n",
      "\u001b[34m[87]#011train-logloss:0.10893#011validation-logloss:0.23068\u001b[0m\n",
      "\u001b[34m[88]#011train-logloss:0.10893#011validation-logloss:0.23036\u001b[0m\n",
      "\u001b[34m[89]#011train-logloss:0.10817#011validation-logloss:0.22923\u001b[0m\n",
      "\u001b[34m[90]#011train-logloss:0.10817#011validation-logloss:0.22966\u001b[0m\n",
      "\u001b[34m[91]#011train-logloss:0.10818#011validation-logloss:0.22974\u001b[0m\n",
      "\u001b[34m[92]#011train-logloss:0.10817#011validation-logloss:0.22940\u001b[0m\n",
      "\u001b[34m[93]#011train-logloss:0.10817#011validation-logloss:0.22970\u001b[0m\n",
      "\u001b[34m[94]#011train-logloss:0.10817#011validation-logloss:0.22962\u001b[0m\n",
      "\u001b[34m[95]#011train-logloss:0.10818#011validation-logloss:0.22980\u001b[0m\n",
      "\u001b[34m[96]#011train-logloss:0.10817#011validation-logloss:0.22953\u001b[0m\n",
      "\u001b[34m[97]#011train-logloss:0.10817#011validation-logloss:0.22930\u001b[0m\n",
      "\u001b[34m[98]#011train-logloss:0.10782#011validation-logloss:0.22993\u001b[0m\n",
      "\u001b[34m[99]#011train-logloss:0.10782#011validation-logloss:0.22980\u001b[0m\n",
      "\u001b[34m[100]#011train-logloss:0.10688#011validation-logloss:0.23010\u001b[0m\n",
      "\u001b[34m[101]#011train-logloss:0.10688#011validation-logloss:0.23022\u001b[0m\n",
      "\u001b[34m[102]#011train-logloss:0.10688#011validation-logloss:0.23002\u001b[0m\n",
      "\u001b[34m[103]#011train-logloss:0.10688#011validation-logloss:0.23009\u001b[0m\n",
      "\u001b[34m[104]#011train-logloss:0.10688#011validation-logloss:0.23004\u001b[0m\n",
      "\u001b[34m[105]#011train-logloss:0.10689#011validation-logloss:0.23047\u001b[0m\n",
      "\u001b[34m[106]#011train-logloss:0.10689#011validation-logloss:0.23068\u001b[0m\n",
      "\u001b[34m[107]#011train-logloss:0.10690#011validation-logloss:0.23072\u001b[0m\n",
      "\u001b[34m[108]#011train-logloss:0.10689#011validation-logloss:0.23052\u001b[0m\n",
      "\u001b[34m[109]#011train-logloss:0.10689#011validation-logloss:0.23048\u001b[0m\n",
      "\u001b[34m[110]#011train-logloss:0.10660#011validation-logloss:0.23046\u001b[0m\n",
      "\u001b[34m[111]#011train-logloss:0.10660#011validation-logloss:0.23069\u001b[0m\n",
      "\u001b[34m[112]#011train-logloss:0.10659#011validation-logloss:0.23039\u001b[0m\n",
      "\u001b[34m[113]#011train-logloss:0.10660#011validation-logloss:0.23055\u001b[0m\n",
      "\u001b[34m[114]#011train-logloss:0.10627#011validation-logloss:0.23169\u001b[0m\n",
      "\u001b[34m[115]#011train-logloss:0.10628#011validation-logloss:0.23177\u001b[0m\n",
      "\u001b[34m[116]#011train-logloss:0.10628#011validation-logloss:0.23176\u001b[0m\n",
      "\u001b[34m[117]#011train-logloss:0.10627#011validation-logloss:0.23141\u001b[0m\n",
      "\u001b[34m[118]#011train-logloss:0.10627#011validation-logloss:0.23152\u001b[0m\n",
      "\u001b[34m[119]#011train-logloss:0.10627#011validation-logloss:0.23130\u001b[0m\n",
      "\u001b[34m[120]#011train-logloss:0.10627#011validation-logloss:0.23130\u001b[0m\n",
      "\u001b[34m[121]#011train-logloss:0.10627#011validation-logloss:0.23131\u001b[0m\n",
      "\u001b[34m[122]#011train-logloss:0.10627#011validation-logloss:0.23154\u001b[0m\n",
      "\u001b[34m[123]#011train-logloss:0.10627#011validation-logloss:0.23135\u001b[0m\n",
      "\u001b[34m[124]#011train-logloss:0.10627#011validation-logloss:0.23133\u001b[0m\n",
      "\u001b[34m[125]#011train-logloss:0.10628#011validation-logloss:0.23108\u001b[0m\n",
      "\u001b[34m[126]#011train-logloss:0.10628#011validation-logloss:0.23101\u001b[0m\n",
      "\u001b[34m[127]#011train-logloss:0.10628#011validation-logloss:0.23111\u001b[0m\n",
      "\u001b[34m[128]#011train-logloss:0.10627#011validation-logloss:0.23132\u001b[0m\n",
      "\u001b[34m[129]#011train-logloss:0.10627#011validation-logloss:0.23124\u001b[0m\n",
      "\u001b[34m[130]#011train-logloss:0.10627#011validation-logloss:0.23130\u001b[0m\n",
      "\u001b[34m[131]#011train-logloss:0.10627#011validation-logloss:0.23152\u001b[0m\n",
      "\u001b[34m[132]#011train-logloss:0.10627#011validation-logloss:0.23161\u001b[0m\n",
      "\u001b[34m[133]#011train-logloss:0.10627#011validation-logloss:0.23166\u001b[0m\n",
      "\u001b[34m[134]#011train-logloss:0.10627#011validation-logloss:0.23133\u001b[0m\n",
      "\u001b[34m[135]#011train-logloss:0.10627#011validation-logloss:0.23136\u001b[0m\n",
      "\u001b[34m[136]#011train-logloss:0.10627#011validation-logloss:0.23132\u001b[0m\n",
      "\u001b[34m[137]#011train-logloss:0.10627#011validation-logloss:0.23133\u001b[0m\n",
      "\u001b[34m[138]#011train-logloss:0.10570#011validation-logloss:0.23202\u001b[0m\n",
      "\u001b[34m[139]#011train-logloss:0.10571#011validation-logloss:0.23164\u001b[0m\n",
      "\u001b[34m[140]#011train-logloss:0.10571#011validation-logloss:0.23156\u001b[0m\n",
      "\u001b[34m[141]#011train-logloss:0.10570#011validation-logloss:0.23176\u001b[0m\n",
      "\u001b[34m[142]#011train-logloss:0.10572#011validation-logloss:0.23146\u001b[0m\n",
      "\u001b[34m[143]#011train-logloss:0.10571#011validation-logloss:0.23151\u001b[0m\n",
      "\u001b[34m[144]#011train-logloss:0.10571#011validation-logloss:0.23148\u001b[0m\n",
      "\u001b[34m[145]#011train-logloss:0.10570#011validation-logloss:0.23192\u001b[0m\n",
      "\u001b[34m[146]#011train-logloss:0.10570#011validation-logloss:0.23202\u001b[0m\n",
      "\u001b[34m[147]#011train-logloss:0.10570#011validation-logloss:0.23215\u001b[0m\n",
      "\u001b[34m[148]#011train-logloss:0.10570#011validation-logloss:0.23170\u001b[0m\n",
      "\u001b[34m[149]#011train-logloss:0.10570#011validation-logloss:0.23178\u001b[0m\n",
      "\u001b[34m[150]#011train-logloss:0.10570#011validation-logloss:0.23196\u001b[0m\n",
      "\u001b[34m[151]#011train-logloss:0.10570#011validation-logloss:0.23225\u001b[0m\n",
      "\u001b[34m[152]#011train-logloss:0.10570#011validation-logloss:0.23255\u001b[0m\n",
      "\u001b[34m[153]#011train-logloss:0.10570#011validation-logloss:0.23233\u001b[0m\n",
      "\u001b[34m[154]#011train-logloss:0.10570#011validation-logloss:0.23254\u001b[0m\n",
      "\u001b[34m[155]#011train-logloss:0.10463#011validation-logloss:0.23194\u001b[0m\n",
      "\u001b[34m[156]#011train-logloss:0.10463#011validation-logloss:0.23188\u001b[0m\n",
      "\u001b[34m[157]#011train-logloss:0.10463#011validation-logloss:0.23182\u001b[0m\n",
      "\u001b[34m[158]#011train-logloss:0.10463#011validation-logloss:0.23188\u001b[0m\n",
      "\u001b[34m[159]#011train-logloss:0.10463#011validation-logloss:0.23209\u001b[0m\n",
      "\u001b[34m[160]#011train-logloss:0.10463#011validation-logloss:0.23202\u001b[0m\n",
      "\u001b[34m[161]#011train-logloss:0.10367#011validation-logloss:0.23288\u001b[0m\n",
      "\u001b[34m[162]#011train-logloss:0.10366#011validation-logloss:0.23281\u001b[0m\n",
      "\u001b[34m[163]#011train-logloss:0.10367#011validation-logloss:0.23289\u001b[0m\n",
      "\u001b[34m[164]#011train-logloss:0.10366#011validation-logloss:0.23277\u001b[0m\n",
      "\u001b[34m[165]#011train-logloss:0.10367#011validation-logloss:0.23282\u001b[0m\n",
      "\u001b[34m[166]#011train-logloss:0.10367#011validation-logloss:0.23288\u001b[0m\n",
      "\u001b[34m[167]#011train-logloss:0.10367#011validation-logloss:0.23288\u001b[0m\n",
      "\u001b[34m[168]#011train-logloss:0.10366#011validation-logloss:0.23279\u001b[0m\n",
      "\u001b[34m[169]#011train-logloss:0.10366#011validation-logloss:0.23257\u001b[0m\n",
      "\u001b[34m[170]#011train-logloss:0.10290#011validation-logloss:0.23218\u001b[0m\n",
      "\u001b[34m[171]#011train-logloss:0.10290#011validation-logloss:0.23211\u001b[0m\n",
      "\u001b[34m[172]#011train-logloss:0.10246#011validation-logloss:0.23072\u001b[0m\n",
      "\u001b[34m[173]#011train-logloss:0.10246#011validation-logloss:0.23101\u001b[0m\n",
      "\u001b[34m[174]#011train-logloss:0.10246#011validation-logloss:0.23101\u001b[0m\n",
      "\u001b[34m[175]#011train-logloss:0.10246#011validation-logloss:0.23113\u001b[0m\n",
      "\u001b[34m[176]#011train-logloss:0.10247#011validation-logloss:0.23140\u001b[0m\n",
      "\u001b[34m[177]#011train-logloss:0.10247#011validation-logloss:0.23138\u001b[0m\n",
      "\u001b[34m[178]#011train-logloss:0.10247#011validation-logloss:0.23124\u001b[0m\n",
      "\u001b[34m[179]#011train-logloss:0.10246#011validation-logloss:0.23099\u001b[0m\n",
      "\u001b[34m[180]#011train-logloss:0.10246#011validation-logloss:0.23068\u001b[0m\n",
      "\u001b[34m[181]#011train-logloss:0.10246#011validation-logloss:0.23100\u001b[0m\n",
      "\u001b[34m[182]#011train-logloss:0.10246#011validation-logloss:0.23080\u001b[0m\n",
      "\u001b[34m[183]#011train-logloss:0.10206#011validation-logloss:0.23127\u001b[0m\n",
      "\u001b[34m[184]#011train-logloss:0.10205#011validation-logloss:0.23144\u001b[0m\n",
      "\u001b[34m[185]#011train-logloss:0.10205#011validation-logloss:0.23131\u001b[0m\n",
      "\u001b[34m[186]#011train-logloss:0.10157#011validation-logloss:0.23217\u001b[0m\n",
      "\u001b[34m[187]#011train-logloss:0.10157#011validation-logloss:0.23220\u001b[0m\n",
      "\u001b[34m[188]#011train-logloss:0.10157#011validation-logloss:0.23210\u001b[0m\n",
      "\u001b[34m[189]#011train-logloss:0.10157#011validation-logloss:0.23212\u001b[0m\n",
      "\u001b[34m[190]#011train-logloss:0.10157#011validation-logloss:0.23197\u001b[0m\n",
      "\u001b[34m[191]#011train-logloss:0.10157#011validation-logloss:0.23209\u001b[0m\n",
      "\u001b[34m[192]#011train-logloss:0.10157#011validation-logloss:0.23193\u001b[0m\n",
      "\u001b[34m[193]#011train-logloss:0.10157#011validation-logloss:0.23180\u001b[0m\n",
      "\u001b[34m[194]#011train-logloss:0.10157#011validation-logloss:0.23187\u001b[0m\n",
      "\u001b[34m[195]#011train-logloss:0.10157#011validation-logloss:0.23177\u001b[0m\n",
      "\u001b[34m[196]#011train-logloss:0.10157#011validation-logloss:0.23197\u001b[0m\n",
      "\u001b[34m[197]#011train-logloss:0.10157#011validation-logloss:0.23171\u001b[0m\n",
      "\u001b[34m[198]#011train-logloss:0.10157#011validation-logloss:0.23179\u001b[0m\n",
      "\u001b[34m[199]#011train-logloss:0.10157#011validation-logloss:0.23201\u001b[0m\n",
      "\u001b[34m[200]#011train-logloss:0.10157#011validation-logloss:0.23168\u001b[0m\n",
      "\u001b[34m[201]#011train-logloss:0.10157#011validation-logloss:0.23169\u001b[0m\n",
      "\u001b[34m[202]#011train-logloss:0.10157#011validation-logloss:0.23178\u001b[0m\n",
      "\u001b[34m[203]#011train-logloss:0.10157#011validation-logloss:0.23170\u001b[0m\n",
      "\u001b[34m[204]#011train-logloss:0.10157#011validation-logloss:0.23190\u001b[0m\n",
      "\u001b[34m[205]#011train-logloss:0.10157#011validation-logloss:0.23177\u001b[0m\n",
      "\u001b[34m[206]#011train-logloss:0.10158#011validation-logloss:0.23156\u001b[0m\n",
      "\u001b[34m[207]#011train-logloss:0.10158#011validation-logloss:0.23147\u001b[0m\n",
      "\u001b[34m[208]#011train-logloss:0.10158#011validation-logloss:0.23157\u001b[0m\n",
      "\u001b[34m[209]#011train-logloss:0.10158#011validation-logloss:0.23164\u001b[0m\n",
      "\u001b[34m[210]#011train-logloss:0.10158#011validation-logloss:0.23148\u001b[0m\n",
      "\u001b[34m[211]#011train-logloss:0.10157#011validation-logloss:0.23170\u001b[0m\n",
      "\u001b[34m[212]#011train-logloss:0.10157#011validation-logloss:0.23181\u001b[0m\n",
      "\u001b[34m[213]#011train-logloss:0.10157#011validation-logloss:0.23189\u001b[0m\n",
      "\u001b[34m[214]#011train-logloss:0.10157#011validation-logloss:0.23177\u001b[0m\n",
      "\u001b[34m[215]#011train-logloss:0.10157#011validation-logloss:0.23192\u001b[0m\n",
      "\u001b[34m[216]#011train-logloss:0.10157#011validation-logloss:0.23201\u001b[0m\n",
      "\u001b[34m[217]#011train-logloss:0.10157#011validation-logloss:0.23212\u001b[0m\n",
      "\u001b[34m[218]#011train-logloss:0.10157#011validation-logloss:0.23197\u001b[0m\n",
      "\u001b[34m[219]#011train-logloss:0.10157#011validation-logloss:0.23198\u001b[0m\n",
      "\u001b[34m[220]#011train-logloss:0.10130#011validation-logloss:0.23254\u001b[0m\n",
      "\u001b[34m[221]#011train-logloss:0.10078#011validation-logloss:0.23208\u001b[0m\n",
      "\u001b[34m[222]#011train-logloss:0.10078#011validation-logloss:0.23207\u001b[0m\n",
      "\u001b[34m[223]#011train-logloss:0.10078#011validation-logloss:0.23208\u001b[0m\n",
      "\u001b[34m[224]#011train-logloss:0.10078#011validation-logloss:0.23221\u001b[0m\n",
      "\u001b[34m[225]#011train-logloss:0.10078#011validation-logloss:0.23233\u001b[0m\n",
      "\u001b[34m[226]#011train-logloss:0.10078#011validation-logloss:0.23220\u001b[0m\n",
      "\u001b[34m[227]#011train-logloss:0.10078#011validation-logloss:0.23247\u001b[0m\n",
      "\u001b[34m[228]#011train-logloss:0.10078#011validation-logloss:0.23226\u001b[0m\n",
      "\u001b[34m[229]#011train-logloss:0.10078#011validation-logloss:0.23236\u001b[0m\n",
      "\u001b[34m[230]#011train-logloss:0.10078#011validation-logloss:0.23226\u001b[0m\n",
      "\u001b[34m[231]#011train-logloss:0.10078#011validation-logloss:0.23215\u001b[0m\n",
      "\u001b[34m[232]#011train-logloss:0.10079#011validation-logloss:0.23181\u001b[0m\n",
      "\u001b[34m[233]#011train-logloss:0.10079#011validation-logloss:0.23191\u001b[0m\n",
      "\u001b[34m[234]#011train-logloss:0.10079#011validation-logloss:0.23176\u001b[0m\n",
      "\u001b[34m[235]#011train-logloss:0.10080#011validation-logloss:0.23165\u001b[0m\n",
      "\u001b[34m[236]#011train-logloss:0.10079#011validation-logloss:0.23187\u001b[0m\n",
      "\u001b[34m[237]#011train-logloss:0.10079#011validation-logloss:0.23197\u001b[0m\n",
      "\u001b[34m[238]#011train-logloss:0.10079#011validation-logloss:0.23183\u001b[0m\n",
      "\u001b[34m[239]#011train-logloss:0.10079#011validation-logloss:0.23198\u001b[0m\n",
      "\u001b[34m[240]#011train-logloss:0.10078#011validation-logloss:0.23205\u001b[0m\n",
      "\u001b[34m[241]#011train-logloss:0.10078#011validation-logloss:0.23232\u001b[0m\n",
      "\u001b[34m[242]#011train-logloss:0.10078#011validation-logloss:0.23228\u001b[0m\n",
      "\u001b[34m[243]#011train-logloss:0.10078#011validation-logloss:0.23211\u001b[0m\n",
      "\u001b[34m[244]#011train-logloss:0.10078#011validation-logloss:0.23234\u001b[0m\n",
      "\u001b[34m[245]#011train-logloss:0.10078#011validation-logloss:0.23240\u001b[0m\n",
      "\u001b[34m[246]#011train-logloss:0.10079#011validation-logloss:0.23268\u001b[0m\n",
      "\u001b[34m[247]#011train-logloss:0.10078#011validation-logloss:0.23239\u001b[0m\n",
      "\u001b[34m[248]#011train-logloss:0.10078#011validation-logloss:0.23241\u001b[0m\n",
      "\u001b[34m[249]#011train-logloss:0.10079#011validation-logloss:0.23263\u001b[0m\n",
      "\u001b[34m[250]#011train-logloss:0.10079#011validation-logloss:0.23260\u001b[0m\n",
      "\u001b[34m[251]#011train-logloss:0.10079#011validation-logloss:0.23273\u001b[0m\n",
      "\u001b[34m[252]#011train-logloss:0.10079#011validation-logloss:0.23263\u001b[0m\n",
      "\u001b[34m[253]#011train-logloss:0.10079#011validation-logloss:0.23262\u001b[0m\n",
      "\u001b[34m[254]#011train-logloss:0.10078#011validation-logloss:0.23242\u001b[0m\n",
      "\u001b[34m[255]#011train-logloss:0.10078#011validation-logloss:0.23240\u001b[0m\n",
      "\u001b[34m[256]#011train-logloss:0.10078#011validation-logloss:0.23218\u001b[0m\n",
      "\u001b[34m[257]#011train-logloss:0.10078#011validation-logloss:0.23243\u001b[0m\n",
      "\u001b[34m[258]#011train-logloss:0.10079#011validation-logloss:0.23257\u001b[0m\n",
      "\u001b[34m[259]#011train-logloss:0.10078#011validation-logloss:0.23254\u001b[0m\n",
      "\u001b[34m[260]#011train-logloss:0.10078#011validation-logloss:0.23243\u001b[0m\n",
      "\u001b[34m[261]#011train-logloss:0.10031#011validation-logloss:0.23278\u001b[0m\n",
      "\u001b[34m[262]#011train-logloss:0.10032#011validation-logloss:0.23248\u001b[0m\n",
      "\u001b[34m[263]#011train-logloss:0.10031#011validation-logloss:0.23273\u001b[0m\n",
      "\u001b[34m[264]#011train-logloss:0.10031#011validation-logloss:0.23275\u001b[0m\n",
      "\u001b[34m[265]#011train-logloss:0.10032#011validation-logloss:0.23304\u001b[0m\n",
      "\u001b[34m[266]#011train-logloss:0.09986#011validation-logloss:0.23232\u001b[0m\n",
      "\u001b[34m[267]#011train-logloss:0.09986#011validation-logloss:0.23236\u001b[0m\n",
      "\u001b[34m[268]#011train-logloss:0.09985#011validation-logloss:0.23220\u001b[0m\n",
      "\u001b[34m[269]#011train-logloss:0.09986#011validation-logloss:0.23231\u001b[0m\n",
      "\u001b[34m[270]#011train-logloss:0.09985#011validation-logloss:0.23222\u001b[0m\n",
      "\u001b[34m[271]#011train-logloss:0.09986#011validation-logloss:0.23237\u001b[0m\n",
      "\u001b[34m[272]#011train-logloss:0.09986#011validation-logloss:0.23232\u001b[0m\n",
      "\u001b[34m[273]#011train-logloss:0.09986#011validation-logloss:0.23252\u001b[0m\n",
      "\u001b[34m[274]#011train-logloss:0.09985#011validation-logloss:0.23225\u001b[0m\n",
      "\u001b[34m[275]#011train-logloss:0.09966#011validation-logloss:0.23323\u001b[0m\n",
      "\u001b[34m[276]#011train-logloss:0.09868#011validation-logloss:0.23288\u001b[0m\n",
      "\u001b[34m[277]#011train-logloss:0.09868#011validation-logloss:0.23306\u001b[0m\n",
      "\u001b[34m[278]#011train-logloss:0.09868#011validation-logloss:0.23301\u001b[0m\n",
      "\u001b[34m[279]#011train-logloss:0.09868#011validation-logloss:0.23315\u001b[0m\n",
      "\u001b[34m[280]#011train-logloss:0.09868#011validation-logloss:0.23275\u001b[0m\n",
      "\u001b[34m[281]#011train-logloss:0.09868#011validation-logloss:0.23288\u001b[0m\n",
      "\u001b[34m[282]#011train-logloss:0.09868#011validation-logloss:0.23291\u001b[0m\n",
      "\u001b[34m[283]#011train-logloss:0.09868#011validation-logloss:0.23288\u001b[0m\n",
      "\u001b[34m[284]#011train-logloss:0.09868#011validation-logloss:0.23273\u001b[0m\n",
      "\u001b[34m[285]#011train-logloss:0.09868#011validation-logloss:0.23298\u001b[0m\n",
      "\u001b[34m[286]#011train-logloss:0.09868#011validation-logloss:0.23303\u001b[0m\n",
      "\u001b[34m[287]#011train-logloss:0.09868#011validation-logloss:0.23288\u001b[0m\n",
      "\u001b[34m[288]#011train-logloss:0.09868#011validation-logloss:0.23262\u001b[0m\n",
      "\u001b[34m[289]#011train-logloss:0.09868#011validation-logloss:0.23288\u001b[0m\n",
      "\u001b[34m[290]#011train-logloss:0.09868#011validation-logloss:0.23277\u001b[0m\n",
      "\u001b[34m[291]#011train-logloss:0.09868#011validation-logloss:0.23273\u001b[0m\n",
      "\u001b[34m[292]#011train-logloss:0.09869#011validation-logloss:0.23252\u001b[0m\n",
      "\u001b[34m[293]#011train-logloss:0.09868#011validation-logloss:0.23269\u001b[0m\n",
      "\u001b[34m[294]#011train-logloss:0.09868#011validation-logloss:0.23273\u001b[0m\n",
      "\u001b[34m[295]#011train-logloss:0.09811#011validation-logloss:0.23201\u001b[0m\n",
      "\u001b[34m[296]#011train-logloss:0.09811#011validation-logloss:0.23217\u001b[0m\n",
      "\u001b[34m[297]#011train-logloss:0.09774#011validation-logloss:0.23182\u001b[0m\n",
      "\u001b[34m[298]#011train-logloss:0.09774#011validation-logloss:0.23185\u001b[0m\n",
      "\u001b[34m[299]#011train-logloss:0.09774#011validation-logloss:0.23184\u001b[0m\n",
      "\u001b[34m[300]#011train-logloss:0.09774#011validation-logloss:0.23178\u001b[0m\n",
      "\u001b[34m[301]#011train-logloss:0.09705#011validation-logloss:0.23104\u001b[0m\n",
      "\u001b[34m[302]#011train-logloss:0.09705#011validation-logloss:0.23101\u001b[0m\n",
      "\u001b[34m[303]#011train-logloss:0.09705#011validation-logloss:0.23105\u001b[0m\n",
      "\u001b[34m[304]#011train-logloss:0.09705#011validation-logloss:0.23106\u001b[0m\n",
      "\u001b[34m[305]#011train-logloss:0.09706#011validation-logloss:0.23138\u001b[0m\n",
      "\u001b[34m[306]#011train-logloss:0.09706#011validation-logloss:0.23142\u001b[0m\n",
      "\u001b[34m[307]#011train-logloss:0.09625#011validation-logloss:0.23185\u001b[0m\n",
      "\u001b[34m[308]#011train-logloss:0.09625#011validation-logloss:0.23158\u001b[0m\n",
      "\u001b[34m[309]#011train-logloss:0.09625#011validation-logloss:0.23140\u001b[0m\n",
      "\u001b[34m[310]#011train-logloss:0.09625#011validation-logloss:0.23144\u001b[0m\n",
      "\u001b[34m[311]#011train-logloss:0.09625#011validation-logloss:0.23166\u001b[0m\n",
      "\u001b[34m[312]#011train-logloss:0.09625#011validation-logloss:0.23169\u001b[0m\n",
      "\u001b[34m[313]#011train-logloss:0.09625#011validation-logloss:0.23181\u001b[0m\n",
      "\u001b[34m[314]#011train-logloss:0.09625#011validation-logloss:0.23198\u001b[0m\n",
      "\u001b[34m[315]#011train-logloss:0.09625#011validation-logloss:0.23197\u001b[0m\n",
      "\u001b[34m[316]#011train-logloss:0.09600#011validation-logloss:0.23222\u001b[0m\n",
      "\u001b[34m[317]#011train-logloss:0.09599#011validation-logloss:0.23206\u001b[0m\n",
      "\u001b[34m[318]#011train-logloss:0.09599#011validation-logloss:0.23206\u001b[0m\n",
      "\u001b[34m[319]#011train-logloss:0.09599#011validation-logloss:0.23183\u001b[0m\n",
      "\u001b[34m[320]#011train-logloss:0.09599#011validation-logloss:0.23173\u001b[0m\n",
      "\u001b[34m[321]#011train-logloss:0.09599#011validation-logloss:0.23176\u001b[0m\n",
      "\u001b[34m[322]#011train-logloss:0.09599#011validation-logloss:0.23172\u001b[0m\n",
      "\u001b[34m[323]#011train-logloss:0.09599#011validation-logloss:0.23167\u001b[0m\n",
      "\u001b[34m[324]#011train-logloss:0.09599#011validation-logloss:0.23184\u001b[0m\n",
      "\n",
      "2024-05-23 12:24:17 Uploading - Uploading generated training model\u001b[34m[325]#011train-logloss:0.09571#011validation-logloss:0.23261\u001b[0m\n",
      "\u001b[34m[326]#011train-logloss:0.09571#011validation-logloss:0.23269\u001b[0m\n",
      "\u001b[34m[327]#011train-logloss:0.09571#011validation-logloss:0.23251\u001b[0m\n",
      "\u001b[34m[328]#011train-logloss:0.09571#011validation-logloss:0.23254\u001b[0m\n",
      "\u001b[34m[329]#011train-logloss:0.09570#011validation-logloss:0.23227\u001b[0m\n",
      "\u001b[34m[330]#011train-logloss:0.09570#011validation-logloss:0.23200\u001b[0m\n",
      "\u001b[34m[331]#011train-logloss:0.09570#011validation-logloss:0.23194\u001b[0m\n",
      "\u001b[34m[332]#011train-logloss:0.09570#011validation-logloss:0.23199\u001b[0m\n",
      "\u001b[34m[333]#011train-logloss:0.09570#011validation-logloss:0.23201\u001b[0m\n",
      "\u001b[34m[334]#011train-logloss:0.09570#011validation-logloss:0.23180\u001b[0m\n",
      "\u001b[34m[335]#011train-logloss:0.09571#011validation-logloss:0.23165\u001b[0m\n",
      "\u001b[34m[336]#011train-logloss:0.09571#011validation-logloss:0.23162\u001b[0m\n",
      "\u001b[34m[337]#011train-logloss:0.09570#011validation-logloss:0.23181\u001b[0m\n",
      "\u001b[34m[338]#011train-logloss:0.09570#011validation-logloss:0.23196\u001b[0m\n",
      "\u001b[34m[339]#011train-logloss:0.09531#011validation-logloss:0.23260\u001b[0m\n",
      "\u001b[34m[340]#011train-logloss:0.09531#011validation-logloss:0.23278\u001b[0m\n",
      "\u001b[34m[341]#011train-logloss:0.09532#011validation-logloss:0.23292\u001b[0m\n",
      "\u001b[34m[342]#011train-logloss:0.09531#011validation-logloss:0.23270\u001b[0m\n",
      "\u001b[34m[343]#011train-logloss:0.09531#011validation-logloss:0.23254\u001b[0m\n",
      "\u001b[34m[344]#011train-logloss:0.09531#011validation-logloss:0.23277\u001b[0m\n",
      "\u001b[34m[345]#011train-logloss:0.09531#011validation-logloss:0.23238\u001b[0m\n",
      "\u001b[34m[346]#011train-logloss:0.09531#011validation-logloss:0.23240\u001b[0m\n",
      "\u001b[34m[347]#011train-logloss:0.09532#011validation-logloss:0.23234\u001b[0m\n",
      "\u001b[34m[348]#011train-logloss:0.09532#011validation-logloss:0.23233\u001b[0m\n",
      "\u001b[34m[349]#011train-logloss:0.09531#011validation-logloss:0.23246\u001b[0m\n",
      "\u001b[34m[350]#011train-logloss:0.09531#011validation-logloss:0.23254\u001b[0m\n",
      "\u001b[34m[351]#011train-logloss:0.09531#011validation-logloss:0.23262\u001b[0m\n",
      "\u001b[34m[352]#011train-logloss:0.09531#011validation-logloss:0.23254\u001b[0m\n",
      "\u001b[34m[353]#011train-logloss:0.09531#011validation-logloss:0.23268\u001b[0m\n",
      "\u001b[34m[354]#011train-logloss:0.09532#011validation-logloss:0.23296\u001b[0m\n",
      "\u001b[34m[355]#011train-logloss:0.09531#011validation-logloss:0.23278\u001b[0m\n",
      "\u001b[34m[356]#011train-logloss:0.09531#011validation-logloss:0.23266\u001b[0m\n",
      "\u001b[34m[357]#011train-logloss:0.09469#011validation-logloss:0.23299\u001b[0m\n",
      "\u001b[34m[358]#011train-logloss:0.09469#011validation-logloss:0.23295\u001b[0m\n",
      "\u001b[34m[359]#011train-logloss:0.09469#011validation-logloss:0.23267\u001b[0m\n",
      "\u001b[34m[360]#011train-logloss:0.09469#011validation-logloss:0.23265\u001b[0m\n",
      "\u001b[34m[361]#011train-logloss:0.09469#011validation-logloss:0.23256\u001b[0m\n",
      "\u001b[34m[362]#011train-logloss:0.09438#011validation-logloss:0.23261\u001b[0m\n",
      "\u001b[34m[363]#011train-logloss:0.09438#011validation-logloss:0.23269\u001b[0m\n",
      "\u001b[34m[364]#011train-logloss:0.09439#011validation-logloss:0.23311\u001b[0m\n",
      "\u001b[34m[365]#011train-logloss:0.09439#011validation-logloss:0.23322\u001b[0m\n",
      "\u001b[34m[366]#011train-logloss:0.09439#011validation-logloss:0.23317\u001b[0m\n",
      "\u001b[34m[367]#011train-logloss:0.09438#011validation-logloss:0.23306\u001b[0m\n",
      "\u001b[34m[368]#011train-logloss:0.09438#011validation-logloss:0.23290\u001b[0m\n",
      "\u001b[34m[369]#011train-logloss:0.09438#011validation-logloss:0.23293\u001b[0m\n",
      "\u001b[34m[370]#011train-logloss:0.09438#011validation-logloss:0.23285\u001b[0m\n",
      "\u001b[34m[371]#011train-logloss:0.09438#011validation-logloss:0.23272\u001b[0m\n",
      "\u001b[34m[372]#011train-logloss:0.09438#011validation-logloss:0.23305\u001b[0m\n",
      "\u001b[34m[373]#011train-logloss:0.09438#011validation-logloss:0.23289\u001b[0m\n",
      "\u001b[34m[374]#011train-logloss:0.09438#011validation-logloss:0.23302\u001b[0m\n",
      "\u001b[34m[375]#011train-logloss:0.09438#011validation-logloss:0.23262\u001b[0m\n",
      "\u001b[34m[376]#011train-logloss:0.09438#011validation-logloss:0.23256\u001b[0m\n",
      "\u001b[34m[377]#011train-logloss:0.09438#011validation-logloss:0.23247\u001b[0m\n",
      "\u001b[34m[378]#011train-logloss:0.09438#011validation-logloss:0.23252\u001b[0m\n",
      "\u001b[34m[379]#011train-logloss:0.09438#011validation-logloss:0.23259\u001b[0m\n",
      "\u001b[34m[380]#011train-logloss:0.09438#011validation-logloss:0.23256\u001b[0m\n",
      "\u001b[34m[381]#011train-logloss:0.09438#011validation-logloss:0.23273\u001b[0m\n",
      "\u001b[34m[382]#011train-logloss:0.09438#011validation-logloss:0.23278\u001b[0m\n",
      "\u001b[34m[383]#011train-logloss:0.09438#011validation-logloss:0.23283\u001b[0m\n",
      "\u001b[34m[384]#011train-logloss:0.09439#011validation-logloss:0.23313\u001b[0m\n",
      "\u001b[34m[385]#011train-logloss:0.09439#011validation-logloss:0.23310\u001b[0m\n",
      "\u001b[34m[386]#011train-logloss:0.09439#011validation-logloss:0.23334\u001b[0m\n",
      "\u001b[34m[387]#011train-logloss:0.09439#011validation-logloss:0.23327\u001b[0m\n",
      "\u001b[34m[388]#011train-logloss:0.09439#011validation-logloss:0.23314\u001b[0m\n",
      "\u001b[34m[389]#011train-logloss:0.09438#011validation-logloss:0.23271\u001b[0m\n",
      "\u001b[34m[390]#011train-logloss:0.09438#011validation-logloss:0.23274\u001b[0m\n",
      "\u001b[34m[391]#011train-logloss:0.09438#011validation-logloss:0.23275\u001b[0m\n",
      "\u001b[34m[392]#011train-logloss:0.09438#011validation-logloss:0.23273\u001b[0m\n",
      "\u001b[34m[393]#011train-logloss:0.09438#011validation-logloss:0.23264\u001b[0m\n",
      "\u001b[34m[394]#011train-logloss:0.09438#011validation-logloss:0.23270\u001b[0m\n",
      "\u001b[34m[395]#011train-logloss:0.09438#011validation-logloss:0.23273\u001b[0m\n",
      "\u001b[34m[396]#011train-logloss:0.09438#011validation-logloss:0.23261\u001b[0m\n",
      "\u001b[34m[397]#011train-logloss:0.09387#011validation-logloss:0.23334\u001b[0m\n",
      "\u001b[34m[398]#011train-logloss:0.09387#011validation-logloss:0.23367\u001b[0m\n",
      "\u001b[34m[399]#011train-logloss:0.09387#011validation-logloss:0.23380\u001b[0m\n",
      "\u001b[34m[400]#011train-logloss:0.09387#011validation-logloss:0.23387\u001b[0m\n",
      "\u001b[34m[401]#011train-logloss:0.09387#011validation-logloss:0.23381\u001b[0m\n",
      "\u001b[34m[402]#011train-logloss:0.09388#011validation-logloss:0.23397\u001b[0m\n",
      "\u001b[34m[403]#011train-logloss:0.09388#011validation-logloss:0.23409\u001b[0m\n",
      "\u001b[34m[404]#011train-logloss:0.09387#011validation-logloss:0.23382\u001b[0m\n",
      "\u001b[34m[405]#011train-logloss:0.09387#011validation-logloss:0.23344\u001b[0m\n",
      "\u001b[34m[406]#011train-logloss:0.09387#011validation-logloss:0.23348\u001b[0m\n",
      "\u001b[34m[407]#011train-logloss:0.09387#011validation-logloss:0.23350\u001b[0m\n",
      "\u001b[34m[408]#011train-logloss:0.09387#011validation-logloss:0.23352\u001b[0m\n",
      "\u001b[34m[409]#011train-logloss:0.09387#011validation-logloss:0.23354\u001b[0m\n",
      "\u001b[34m[410]#011train-logloss:0.09387#011validation-logloss:0.23379\u001b[0m\n",
      "\u001b[34m[411]#011train-logloss:0.09387#011validation-logloss:0.23362\u001b[0m\n",
      "\u001b[34m[412]#011train-logloss:0.09387#011validation-logloss:0.23344\u001b[0m\n",
      "\u001b[34m[413]#011train-logloss:0.09387#011validation-logloss:0.23356\u001b[0m\n",
      "\u001b[34m[414]#011train-logloss:0.09327#011validation-logloss:0.23408\u001b[0m\n",
      "\u001b[34m[415]#011train-logloss:0.09327#011validation-logloss:0.23389\u001b[0m\n",
      "\u001b[34m[416]#011train-logloss:0.09327#011validation-logloss:0.23407\u001b[0m\n",
      "\u001b[34m[417]#011train-logloss:0.09327#011validation-logloss:0.23418\u001b[0m\n",
      "\u001b[34m[418]#011train-logloss:0.09327#011validation-logloss:0.23433\u001b[0m\n",
      "\u001b[34m[419]#011train-logloss:0.09327#011validation-logloss:0.23430\u001b[0m\n",
      "\u001b[34m[420]#011train-logloss:0.09265#011validation-logloss:0.23494\u001b[0m\n",
      "\u001b[34m[421]#011train-logloss:0.09266#011validation-logloss:0.23505\u001b[0m\n",
      "\u001b[34m[422]#011train-logloss:0.09266#011validation-logloss:0.23518\u001b[0m\n",
      "\u001b[34m[423]#011train-logloss:0.09266#011validation-logloss:0.23506\u001b[0m\n",
      "\u001b[34m[424]#011train-logloss:0.09266#011validation-logloss:0.23503\u001b[0m\n",
      "\u001b[34m[425]#011train-logloss:0.09266#011validation-logloss:0.23501\u001b[0m\n",
      "\u001b[34m[426]#011train-logloss:0.09265#011validation-logloss:0.23493\u001b[0m\n",
      "\u001b[34m[427]#011train-logloss:0.09266#011validation-logloss:0.23512\u001b[0m\n",
      "\u001b[34m[428]#011train-logloss:0.09265#011validation-logloss:0.23477\u001b[0m\n",
      "\u001b[34m[429]#011train-logloss:0.09265#011validation-logloss:0.23488\u001b[0m\n",
      "\u001b[34m[430]#011train-logloss:0.09265#011validation-logloss:0.23490\u001b[0m\n",
      "\u001b[34m[431]#011train-logloss:0.09265#011validation-logloss:0.23494\u001b[0m\n",
      "\u001b[34m[432]#011train-logloss:0.09265#011validation-logloss:0.23466\u001b[0m\n",
      "\u001b[34m[433]#011train-logloss:0.09265#011validation-logloss:0.23475\u001b[0m\n",
      "\u001b[34m[434]#011train-logloss:0.09265#011validation-logloss:0.23467\u001b[0m\n",
      "\u001b[34m[435]#011train-logloss:0.09265#011validation-logloss:0.23459\u001b[0m\n",
      "\u001b[34m[436]#011train-logloss:0.09265#011validation-logloss:0.23456\u001b[0m\n",
      "\u001b[34m[437]#011train-logloss:0.09265#011validation-logloss:0.23469\u001b[0m\n",
      "\u001b[34m[438]#011train-logloss:0.09265#011validation-logloss:0.23476\u001b[0m\n",
      "\u001b[34m[439]#011train-logloss:0.09266#011validation-logloss:0.23509\u001b[0m\n",
      "\u001b[34m[440]#011train-logloss:0.09265#011validation-logloss:0.23487\u001b[0m\n",
      "\u001b[34m[441]#011train-logloss:0.09265#011validation-logloss:0.23478\u001b[0m\n",
      "\u001b[34m[442]#011train-logloss:0.09265#011validation-logloss:0.23462\u001b[0m\n",
      "\u001b[34m[443]#011train-logloss:0.09265#011validation-logloss:0.23472\u001b[0m\n",
      "\u001b[34m[444]#011train-logloss:0.09265#011validation-logloss:0.23459\u001b[0m\n",
      "\u001b[34m[445]#011train-logloss:0.09265#011validation-logloss:0.23441\u001b[0m\n",
      "\u001b[34m[446]#011train-logloss:0.09265#011validation-logloss:0.23442\u001b[0m\n",
      "\u001b[34m[447]#011train-logloss:0.09266#011validation-logloss:0.23416\u001b[0m\n",
      "\u001b[34m[448]#011train-logloss:0.09211#011validation-logloss:0.23422\u001b[0m\n",
      "\u001b[34m[449]#011train-logloss:0.09211#011validation-logloss:0.23427\u001b[0m\n",
      "\u001b[34m[450]#011train-logloss:0.09211#011validation-logloss:0.23416\u001b[0m\n",
      "\u001b[34m[451]#011train-logloss:0.09212#011validation-logloss:0.23408\u001b[0m\n",
      "\u001b[34m[452]#011train-logloss:0.09211#011validation-logloss:0.23431\u001b[0m\n",
      "\u001b[34m[453]#011train-logloss:0.09211#011validation-logloss:0.23416\u001b[0m\n",
      "\u001b[34m[454]#011train-logloss:0.09212#011validation-logloss:0.23406\u001b[0m\n",
      "\u001b[34m[455]#011train-logloss:0.09211#011validation-logloss:0.23424\u001b[0m\n",
      "\u001b[34m[456]#011train-logloss:0.09211#011validation-logloss:0.23426\u001b[0m\n",
      "\u001b[34m[457]#011train-logloss:0.09210#011validation-logloss:0.23451\u001b[0m\n",
      "\u001b[34m[458]#011train-logloss:0.09211#011validation-logloss:0.23437\u001b[0m\n",
      "\u001b[34m[459]#011train-logloss:0.09210#011validation-logloss:0.23466\u001b[0m\n",
      "\u001b[34m[460]#011train-logloss:0.09211#011validation-logloss:0.23442\u001b[0m\n",
      "\u001b[34m[461]#011train-logloss:0.09210#011validation-logloss:0.23445\u001b[0m\n",
      "\u001b[34m[462]#011train-logloss:0.09211#011validation-logloss:0.23441\u001b[0m\n",
      "\u001b[34m[463]#011train-logloss:0.09211#011validation-logloss:0.23429\u001b[0m\n",
      "\u001b[34m[464]#011train-logloss:0.09211#011validation-logloss:0.23420\u001b[0m\n",
      "\u001b[34m[465]#011train-logloss:0.09211#011validation-logloss:0.23410\u001b[0m\n",
      "\u001b[34m[466]#011train-logloss:0.09211#011validation-logloss:0.23421\u001b[0m\n",
      "\u001b[34m[467]#011train-logloss:0.09210#011validation-logloss:0.23450\u001b[0m\n",
      "\u001b[34m[468]#011train-logloss:0.09210#011validation-logloss:0.23468\u001b[0m\n",
      "\u001b[34m[469]#011train-logloss:0.09210#011validation-logloss:0.23454\u001b[0m\n",
      "\u001b[34m[470]#011train-logloss:0.09211#011validation-logloss:0.23497\u001b[0m\n",
      "\u001b[34m[471]#011train-logloss:0.09210#011validation-logloss:0.23477\u001b[0m\n",
      "\u001b[34m[472]#011train-logloss:0.09210#011validation-logloss:0.23447\u001b[0m\n",
      "\u001b[34m[473]#011train-logloss:0.09210#011validation-logloss:0.23462\u001b[0m\n",
      "\u001b[34m[474]#011train-logloss:0.09210#011validation-logloss:0.23465\u001b[0m\n",
      "\u001b[34m[475]#011train-logloss:0.09170#011validation-logloss:0.23536\u001b[0m\n",
      "\u001b[34m[476]#011train-logloss:0.09170#011validation-logloss:0.23532\u001b[0m\n",
      "\u001b[34m[477]#011train-logloss:0.09170#011validation-logloss:0.23530\u001b[0m\n",
      "\u001b[34m[478]#011train-logloss:0.09171#011validation-logloss:0.23547\u001b[0m\n",
      "\u001b[34m[479]#011train-logloss:0.09171#011validation-logloss:0.23545\u001b[0m\n",
      "\u001b[34m[480]#011train-logloss:0.09172#011validation-logloss:0.23576\u001b[0m\n",
      "\u001b[34m[481]#011train-logloss:0.09172#011validation-logloss:0.23586\u001b[0m\n",
      "\u001b[34m[482]#011train-logloss:0.09171#011validation-logloss:0.23563\u001b[0m\n",
      "\u001b[34m[483]#011train-logloss:0.09171#011validation-logloss:0.23551\u001b[0m\n",
      "\u001b[34m[484]#011train-logloss:0.09170#011validation-logloss:0.23537\u001b[0m\n",
      "\u001b[34m[485]#011train-logloss:0.09170#011validation-logloss:0.23524\u001b[0m\n",
      "\u001b[34m[486]#011train-logloss:0.09170#011validation-logloss:0.23527\u001b[0m\n",
      "\u001b[34m[487]#011train-logloss:0.09170#011validation-logloss:0.23526\u001b[0m\n",
      "\u001b[34m[488]#011train-logloss:0.09170#011validation-logloss:0.23519\u001b[0m\n",
      "\u001b[34m[489]#011train-logloss:0.09170#011validation-logloss:0.23528\u001b[0m\n",
      "\u001b[34m[490]#011train-logloss:0.09170#011validation-logloss:0.23508\u001b[0m\n",
      "\u001b[34m[491]#011train-logloss:0.09171#011validation-logloss:0.23468\u001b[0m\n",
      "\u001b[34m[492]#011train-logloss:0.09171#011validation-logloss:0.23459\u001b[0m\n",
      "\u001b[34m[493]#011train-logloss:0.09171#011validation-logloss:0.23456\u001b[0m\n",
      "\u001b[34m[494]#011train-logloss:0.09171#011validation-logloss:0.23467\u001b[0m\n",
      "\u001b[34m[495]#011train-logloss:0.09170#011validation-logloss:0.23484\u001b[0m\n",
      "\u001b[34m[496]#011train-logloss:0.09170#011validation-logloss:0.23511\u001b[0m\n",
      "\u001b[34m[497]#011train-logloss:0.09171#011validation-logloss:0.23552\u001b[0m\n",
      "\u001b[34m[498]#011train-logloss:0.09171#011validation-logloss:0.23544\u001b[0m\n",
      "\u001b[34m[499]#011train-logloss:0.09171#011validation-logloss:0.23547\u001b[0m\n",
      "\u001b[34m[500]#011train-logloss:0.09170#011validation-logloss:0.23535\u001b[0m\n",
      "\u001b[34m[501]#011train-logloss:0.09171#011validation-logloss:0.23553\u001b[0m\n",
      "\u001b[34m[502]#011train-logloss:0.09171#011validation-logloss:0.23542\u001b[0m\n",
      "\u001b[34m[503]#011train-logloss:0.09171#011validation-logloss:0.23548\u001b[0m\n",
      "\u001b[34m[504]#011train-logloss:0.09170#011validation-logloss:0.23525\u001b[0m\n",
      "\u001b[34m[505]#011train-logloss:0.09170#011validation-logloss:0.23517\u001b[0m\n",
      "\u001b[34m[506]#011train-logloss:0.09170#011validation-logloss:0.23535\u001b[0m\n",
      "\u001b[34m[507]#011train-logloss:0.09170#011validation-logloss:0.23526\u001b[0m\n",
      "\u001b[34m[508]#011train-logloss:0.09170#011validation-logloss:0.23505\u001b[0m\n",
      "\u001b[34m[509]#011train-logloss:0.09170#011validation-logloss:0.23507\u001b[0m\n",
      "\u001b[34m[510]#011train-logloss:0.09170#011validation-logloss:0.23531\u001b[0m\n",
      "\u001b[34m[511]#011train-logloss:0.09170#011validation-logloss:0.23530\u001b[0m\n",
      "\u001b[34m[512]#011train-logloss:0.09170#011validation-logloss:0.23510\u001b[0m\n",
      "\u001b[34m[513]#011train-logloss:0.09170#011validation-logloss:0.23514\u001b[0m\n",
      "\u001b[34m[514]#011train-logloss:0.09170#011validation-logloss:0.23506\u001b[0m\n",
      "\u001b[34m[515]#011train-logloss:0.09170#011validation-logloss:0.23527\u001b[0m\n",
      "\u001b[34m[516]#011train-logloss:0.09170#011validation-logloss:0.23520\u001b[0m\n",
      "\u001b[34m[517]#011train-logloss:0.09170#011validation-logloss:0.23513\u001b[0m\n",
      "\u001b[34m[518]#011train-logloss:0.09170#011validation-logloss:0.23526\u001b[0m\n",
      "\u001b[34m[519]#011train-logloss:0.09170#011validation-logloss:0.23510\u001b[0m\n",
      "\u001b[34m[520]#011train-logloss:0.09170#011validation-logloss:0.23498\u001b[0m\n",
      "\u001b[34m[521]#011train-logloss:0.09170#011validation-logloss:0.23484\u001b[0m\n",
      "\u001b[34m[522]#011train-logloss:0.09170#011validation-logloss:0.23507\u001b[0m\n",
      "\u001b[34m[523]#011train-logloss:0.09170#011validation-logloss:0.23500\u001b[0m\n",
      "\u001b[34m[524]#011train-logloss:0.09170#011validation-logloss:0.23510\u001b[0m\n",
      "\u001b[34m[525]#011train-logloss:0.09170#011validation-logloss:0.23526\u001b[0m\n",
      "\u001b[34m[526]#011train-logloss:0.09170#011validation-logloss:0.23508\u001b[0m\n",
      "\u001b[34m[527]#011train-logloss:0.09170#011validation-logloss:0.23524\u001b[0m\n",
      "\u001b[34m[528]#011train-logloss:0.09170#011validation-logloss:0.23520\u001b[0m\n",
      "\u001b[34m[529]#011train-logloss:0.09140#011validation-logloss:0.23497\u001b[0m\n",
      "\u001b[34m[530]#011train-logloss:0.09140#011validation-logloss:0.23485\u001b[0m\n",
      "\u001b[34m[531]#011train-logloss:0.09140#011validation-logloss:0.23501\u001b[0m\n",
      "\u001b[34m[532]#011train-logloss:0.09140#011validation-logloss:0.23491\u001b[0m\n",
      "\u001b[34m[533]#011train-logloss:0.09141#011validation-logloss:0.23473\u001b[0m\n",
      "\u001b[34m[534]#011train-logloss:0.09140#011validation-logloss:0.23506\u001b[0m\n",
      "\u001b[34m[535]#011train-logloss:0.09140#011validation-logloss:0.23516\u001b[0m\n",
      "\u001b[34m[536]#011train-logloss:0.09140#011validation-logloss:0.23510\u001b[0m\n",
      "\u001b[34m[537]#011train-logloss:0.09140#011validation-logloss:0.23508\u001b[0m\n",
      "\u001b[34m[538]#011train-logloss:0.09140#011validation-logloss:0.23526\u001b[0m\n",
      "\u001b[34m[539]#011train-logloss:0.09140#011validation-logloss:0.23515\u001b[0m\n",
      "\u001b[34m[540]#011train-logloss:0.09140#011validation-logloss:0.23504\u001b[0m\n",
      "\u001b[34m[541]#011train-logloss:0.09140#011validation-logloss:0.23555\u001b[0m\n",
      "\u001b[34m[542]#011train-logloss:0.09140#011validation-logloss:0.23548\u001b[0m\n",
      "\u001b[34m[543]#011train-logloss:0.09140#011validation-logloss:0.23559\u001b[0m\n",
      "\u001b[34m[544]#011train-logloss:0.09140#011validation-logloss:0.23562\u001b[0m\n",
      "\u001b[34m[545]#011train-logloss:0.09140#011validation-logloss:0.23545\u001b[0m\n",
      "\u001b[34m[546]#011train-logloss:0.09140#011validation-logloss:0.23558\u001b[0m\n",
      "\u001b[34m[547]#011train-logloss:0.09140#011validation-logloss:0.23545\u001b[0m\n",
      "\u001b[34m[548]#011train-logloss:0.09140#011validation-logloss:0.23549\u001b[0m\n",
      "\u001b[34m[549]#011train-logloss:0.09140#011validation-logloss:0.23536\u001b[0m\n",
      "\u001b[34m[550]#011train-logloss:0.09140#011validation-logloss:0.23525\u001b[0m\n",
      "\u001b[34m[551]#011train-logloss:0.09140#011validation-logloss:0.23562\u001b[0m\n",
      "\u001b[34m[552]#011train-logloss:0.09140#011validation-logloss:0.23562\u001b[0m\n",
      "\u001b[34m[553]#011train-logloss:0.09140#011validation-logloss:0.23568\u001b[0m\n",
      "\u001b[34m[554]#011train-logloss:0.09141#011validation-logloss:0.23577\u001b[0m\n",
      "\u001b[34m[555]#011train-logloss:0.09140#011validation-logloss:0.23567\u001b[0m\n",
      "\u001b[34m[556]#011train-logloss:0.09141#011validation-logloss:0.23587\u001b[0m\n",
      "\u001b[34m[557]#011train-logloss:0.09141#011validation-logloss:0.23587\u001b[0m\n",
      "\u001b[34m[558]#011train-logloss:0.09143#011validation-logloss:0.23616\u001b[0m\n",
      "\u001b[34m[559]#011train-logloss:0.09142#011validation-logloss:0.23611\u001b[0m\n",
      "\u001b[34m[560]#011train-logloss:0.09141#011validation-logloss:0.23589\u001b[0m\n",
      "\u001b[34m[561]#011train-logloss:0.09142#011validation-logloss:0.23598\u001b[0m\n",
      "\u001b[34m[562]#011train-logloss:0.09140#011validation-logloss:0.23571\u001b[0m\n",
      "\u001b[34m[563]#011train-logloss:0.09140#011validation-logloss:0.23567\u001b[0m\n",
      "\u001b[34m[564]#011train-logloss:0.09140#011validation-logloss:0.23527\u001b[0m\n",
      "\u001b[34m[565]#011train-logloss:0.09140#011validation-logloss:0.23538\u001b[0m\n",
      "\u001b[34m[566]#011train-logloss:0.09140#011validation-logloss:0.23500\u001b[0m\n",
      "\u001b[34m[567]#011train-logloss:0.09140#011validation-logloss:0.23497\u001b[0m\n",
      "\u001b[34m[568]#011train-logloss:0.09140#011validation-logloss:0.23538\u001b[0m\n",
      "\u001b[34m[569]#011train-logloss:0.09140#011validation-logloss:0.23515\u001b[0m\n",
      "\u001b[34m[570]#011train-logloss:0.09140#011validation-logloss:0.23522\u001b[0m\n",
      "\u001b[34m[571]#011train-logloss:0.09140#011validation-logloss:0.23522\u001b[0m\n",
      "\u001b[34m[572]#011train-logloss:0.09140#011validation-logloss:0.23517\u001b[0m\n",
      "\u001b[34m[573]#011train-logloss:0.09140#011validation-logloss:0.23522\u001b[0m\n",
      "\u001b[34m[574]#011train-logloss:0.09140#011validation-logloss:0.23507\u001b[0m\n",
      "\u001b[34m[575]#011train-logloss:0.09140#011validation-logloss:0.23526\u001b[0m\n",
      "\u001b[34m[576]#011train-logloss:0.09140#011validation-logloss:0.23561\u001b[0m\n",
      "\u001b[34m[577]#011train-logloss:0.09140#011validation-logloss:0.23532\u001b[0m\n",
      "\u001b[34m[578]#011train-logloss:0.09140#011validation-logloss:0.23535\u001b[0m\n",
      "\u001b[34m[579]#011train-logloss:0.09140#011validation-logloss:0.23537\u001b[0m\n",
      "\u001b[34m[580]#011train-logloss:0.09140#011validation-logloss:0.23488\u001b[0m\n",
      "\u001b[34m[581]#011train-logloss:0.09140#011validation-logloss:0.23511\u001b[0m\n",
      "\u001b[34m[582]#011train-logloss:0.09140#011validation-logloss:0.23520\u001b[0m\n",
      "\u001b[34m[583]#011train-logloss:0.09140#011validation-logloss:0.23507\u001b[0m\n",
      "\u001b[34m[584]#011train-logloss:0.09140#011validation-logloss:0.23515\u001b[0m\n",
      "\u001b[34m[585]#011train-logloss:0.09081#011validation-logloss:0.23676\u001b[0m\n",
      "\u001b[34m[586]#011train-logloss:0.09081#011validation-logloss:0.23693\u001b[0m\n",
      "\u001b[34m[587]#011train-logloss:0.09081#011validation-logloss:0.23684\u001b[0m\n",
      "\u001b[34m[588]#011train-logloss:0.09081#011validation-logloss:0.23673\u001b[0m\n",
      "\u001b[34m[589]#011train-logloss:0.09081#011validation-logloss:0.23662\u001b[0m\n",
      "\u001b[34m[590]#011train-logloss:0.09081#011validation-logloss:0.23654\u001b[0m\n",
      "\u001b[34m[591]#011train-logloss:0.09081#011validation-logloss:0.23649\u001b[0m\n",
      "\u001b[34m[592]#011train-logloss:0.09081#011validation-logloss:0.23642\u001b[0m\n",
      "\u001b[34m[593]#011train-logloss:0.09082#011validation-logloss:0.23623\u001b[0m\n",
      "\u001b[34m[594]#011train-logloss:0.09081#011validation-logloss:0.23654\u001b[0m\n",
      "\u001b[34m[595]#011train-logloss:0.09081#011validation-logloss:0.23642\u001b[0m\n",
      "\u001b[34m[596]#011train-logloss:0.09081#011validation-logloss:0.23659\u001b[0m\n",
      "\u001b[34m[597]#011train-logloss:0.09081#011validation-logloss:0.23646\u001b[0m\n",
      "\u001b[34m[598]#011train-logloss:0.09081#011validation-logloss:0.23661\u001b[0m\n",
      "\u001b[34m[599]#011train-logloss:0.09081#011validation-logloss:0.23679\u001b[0m\n",
      "\u001b[34m[600]#011train-logloss:0.09081#011validation-logloss:0.23685\u001b[0m\n",
      "\u001b[34m[601]#011train-logloss:0.09081#011validation-logloss:0.23684\u001b[0m\n",
      "\u001b[34m[602]#011train-logloss:0.09081#011validation-logloss:0.23665\u001b[0m\n",
      "\u001b[34m[603]#011train-logloss:0.09081#011validation-logloss:0.23648\u001b[0m\n",
      "\u001b[34m[604]#011train-logloss:0.09081#011validation-logloss:0.23643\u001b[0m\n",
      "\u001b[34m[605]#011train-logloss:0.09081#011validation-logloss:0.23633\u001b[0m\n",
      "\u001b[34m[606]#011train-logloss:0.09081#011validation-logloss:0.23658\u001b[0m\n",
      "\u001b[34m[607]#011train-logloss:0.09082#011validation-logloss:0.23628\u001b[0m\n",
      "\u001b[34m[608]#011train-logloss:0.09083#011validation-logloss:0.23596\u001b[0m\n",
      "\u001b[34m[609]#011train-logloss:0.09049#011validation-logloss:0.23571\u001b[0m\n",
      "\u001b[34m[610]#011train-logloss:0.09049#011validation-logloss:0.23575\u001b[0m\n",
      "\u001b[34m[611]#011train-logloss:0.09048#011validation-logloss:0.23598\u001b[0m\n",
      "\u001b[34m[612]#011train-logloss:0.09049#011validation-logloss:0.23572\u001b[0m\n",
      "\u001b[34m[613]#011train-logloss:0.09048#011validation-logloss:0.23585\u001b[0m\n",
      "\u001b[34m[614]#011train-logloss:0.09048#011validation-logloss:0.23600\u001b[0m\n",
      "\u001b[34m[615]#011train-logloss:0.09048#011validation-logloss:0.23615\u001b[0m\n",
      "\u001b[34m[616]#011train-logloss:0.09048#011validation-logloss:0.23639\u001b[0m\n",
      "\u001b[34m[617]#011train-logloss:0.09048#011validation-logloss:0.23637\u001b[0m\n",
      "\u001b[34m[618]#011train-logloss:0.09048#011validation-logloss:0.23656\u001b[0m\n",
      "\u001b[34m[619]#011train-logloss:0.09048#011validation-logloss:0.23638\u001b[0m\n",
      "\u001b[34m[620]#011train-logloss:0.09048#011validation-logloss:0.23652\u001b[0m\n",
      "\u001b[34m[621]#011train-logloss:0.09048#011validation-logloss:0.23660\u001b[0m\n",
      "\u001b[34m[622]#011train-logloss:0.09048#011validation-logloss:0.23658\u001b[0m\n",
      "\u001b[34m[623]#011train-logloss:0.09048#011validation-logloss:0.23649\u001b[0m\n",
      "\u001b[34m[624]#011train-logloss:0.09048#011validation-logloss:0.23643\u001b[0m\n",
      "\u001b[34m[625]#011train-logloss:0.09048#011validation-logloss:0.23641\u001b[0m\n",
      "\u001b[34m[626]#011train-logloss:0.09048#011validation-logloss:0.23616\u001b[0m\n",
      "\u001b[34m[627]#011train-logloss:0.09048#011validation-logloss:0.23623\u001b[0m\n",
      "\u001b[34m[628]#011train-logloss:0.09048#011validation-logloss:0.23608\u001b[0m\n",
      "\u001b[34m[629]#011train-logloss:0.09048#011validation-logloss:0.23627\u001b[0m\n",
      "\u001b[34m[630]#011train-logloss:0.09048#011validation-logloss:0.23615\u001b[0m\n",
      "\u001b[34m[631]#011train-logloss:0.09048#011validation-logloss:0.23646\u001b[0m\n",
      "\u001b[34m[632]#011train-logloss:0.09048#011validation-logloss:0.23652\u001b[0m\n",
      "\u001b[34m[633]#011train-logloss:0.09048#011validation-logloss:0.23661\u001b[0m\n",
      "\u001b[34m[634]#011train-logloss:0.09048#011validation-logloss:0.23660\u001b[0m\n",
      "\u001b[34m[635]#011train-logloss:0.09048#011validation-logloss:0.23651\u001b[0m\n",
      "\u001b[34m[636]#011train-logloss:0.09048#011validation-logloss:0.23638\u001b[0m\n",
      "\u001b[34m[637]#011train-logloss:0.09048#011validation-logloss:0.23642\u001b[0m\n",
      "\u001b[34m[638]#011train-logloss:0.09048#011validation-logloss:0.23639\u001b[0m\n",
      "\u001b[34m[639]#011train-logloss:0.09048#011validation-logloss:0.23640\u001b[0m\n",
      "\u001b[34m[640]#011train-logloss:0.09048#011validation-logloss:0.23633\u001b[0m\n",
      "\u001b[34m[641]#011train-logloss:0.09048#011validation-logloss:0.23671\u001b[0m\n",
      "\u001b[34m[642]#011train-logloss:0.09048#011validation-logloss:0.23636\u001b[0m\n",
      "\u001b[34m[643]#011train-logloss:0.09048#011validation-logloss:0.23647\u001b[0m\n",
      "\u001b[34m[644]#011train-logloss:0.09048#011validation-logloss:0.23645\u001b[0m\n",
      "\u001b[34m[645]#011train-logloss:0.09048#011validation-logloss:0.23673\u001b[0m\n",
      "\u001b[34m[646]#011train-logloss:0.09048#011validation-logloss:0.23634\u001b[0m\n",
      "\u001b[34m[647]#011train-logloss:0.09048#011validation-logloss:0.23621\u001b[0m\n",
      "\u001b[34m[648]#011train-logloss:0.09048#011validation-logloss:0.23610\u001b[0m\n",
      "\u001b[34m[649]#011train-logloss:0.09048#011validation-logloss:0.23622\u001b[0m\n",
      "\u001b[34m[650]#011train-logloss:0.09048#011validation-logloss:0.23624\u001b[0m\n",
      "\u001b[34m[651]#011train-logloss:0.09048#011validation-logloss:0.23654\u001b[0m\n",
      "\u001b[34m[652]#011train-logloss:0.09048#011validation-logloss:0.23679\u001b[0m\n",
      "\u001b[34m[653]#011train-logloss:0.09048#011validation-logloss:0.23669\u001b[0m\n",
      "\u001b[34m[654]#011train-logloss:0.09048#011validation-logloss:0.23645\u001b[0m\n",
      "\u001b[34m[655]#011train-logloss:0.09048#011validation-logloss:0.23652\u001b[0m\n",
      "\u001b[34m[656]#011train-logloss:0.09048#011validation-logloss:0.23638\u001b[0m\n",
      "\u001b[34m[657]#011train-logloss:0.09048#011validation-logloss:0.23625\u001b[0m\n",
      "\u001b[34m[658]#011train-logloss:0.09048#011validation-logloss:0.23633\u001b[0m\n",
      "\u001b[34m[659]#011train-logloss:0.09048#011validation-logloss:0.23647\u001b[0m\n",
      "\u001b[34m[660]#011train-logloss:0.09048#011validation-logloss:0.23650\u001b[0m\n",
      "\u001b[34m[661]#011train-logloss:0.09048#011validation-logloss:0.23643\u001b[0m\n",
      "\u001b[34m[662]#011train-logloss:0.09048#011validation-logloss:0.23647\u001b[0m\n",
      "\u001b[34m[663]#011train-logloss:0.09048#011validation-logloss:0.23645\u001b[0m\n",
      "\u001b[34m[664]#011train-logloss:0.09048#011validation-logloss:0.23644\u001b[0m\n",
      "\u001b[34m[665]#011train-logloss:0.09048#011validation-logloss:0.23639\u001b[0m\n",
      "\u001b[34m[666]#011train-logloss:0.09048#011validation-logloss:0.23629\u001b[0m\n",
      "\u001b[34m[667]#011train-logloss:0.09048#011validation-logloss:0.23623\u001b[0m\n",
      "\u001b[34m[668]#011train-logloss:0.09048#011validation-logloss:0.23649\u001b[0m\n",
      "\u001b[34m[669]#011train-logloss:0.09048#011validation-logloss:0.23623\u001b[0m\n",
      "\u001b[34m[670]#011train-logloss:0.09048#011validation-logloss:0.23611\u001b[0m\n",
      "\u001b[34m[671]#011train-logloss:0.09048#011validation-logloss:0.23629\u001b[0m\n",
      "\u001b[34m[672]#011train-logloss:0.09048#011validation-logloss:0.23639\u001b[0m\n",
      "\u001b[34m[673]#011train-logloss:0.09048#011validation-logloss:0.23603\u001b[0m\n",
      "\u001b[34m[674]#011train-logloss:0.09048#011validation-logloss:0.23623\u001b[0m\n",
      "\u001b[34m[675]#011train-logloss:0.09048#011validation-logloss:0.23627\u001b[0m\n",
      "\u001b[34m[676]#011train-logloss:0.09048#011validation-logloss:0.23616\u001b[0m\n",
      "\u001b[34m[677]#011train-logloss:0.09048#011validation-logloss:0.23644\u001b[0m\n",
      "\u001b[34m[678]#011train-logloss:0.09048#011validation-logloss:0.23659\u001b[0m\n",
      "\u001b[34m[679]#011train-logloss:0.09048#011validation-logloss:0.23650\u001b[0m\n",
      "\u001b[34m[680]#011train-logloss:0.09048#011validation-logloss:0.23627\u001b[0m\n",
      "\u001b[34m[681]#011train-logloss:0.09048#011validation-logloss:0.23634\u001b[0m\n",
      "\u001b[34m[682]#011train-logloss:0.09048#011validation-logloss:0.23640\u001b[0m\n",
      "\u001b[34m[683]#011train-logloss:0.09048#011validation-logloss:0.23657\u001b[0m\n",
      "\u001b[34m[684]#011train-logloss:0.09048#011validation-logloss:0.23638\u001b[0m\n",
      "\u001b[34m[685]#011train-logloss:0.09048#011validation-logloss:0.23652\u001b[0m\n",
      "\u001b[34m[686]#011train-logloss:0.09048#011validation-logloss:0.23642\u001b[0m\n",
      "\u001b[34m[687]#011train-logloss:0.09048#011validation-logloss:0.23623\u001b[0m\n",
      "\u001b[34m[688]#011train-logloss:0.09048#011validation-logloss:0.23620\u001b[0m\n",
      "\u001b[34m[689]#011train-logloss:0.09048#011validation-logloss:0.23623\u001b[0m\n",
      "\u001b[34m[690]#011train-logloss:0.09048#011validation-logloss:0.23619\u001b[0m\n",
      "\u001b[34m[691]#011train-logloss:0.09048#011validation-logloss:0.23611\u001b[0m\n",
      "\u001b[34m[692]#011train-logloss:0.09048#011validation-logloss:0.23614\u001b[0m\n",
      "\u001b[34m[693]#011train-logloss:0.09048#011validation-logloss:0.23617\u001b[0m\n",
      "\u001b[34m[694]#011train-logloss:0.09048#011validation-logloss:0.23626\u001b[0m\n",
      "\u001b[34m[695]#011train-logloss:0.09048#011validation-logloss:0.23636\u001b[0m\n",
      "\u001b[34m[696]#011train-logloss:0.09048#011validation-logloss:0.23626\u001b[0m\n",
      "\u001b[34m[697]#011train-logloss:0.09048#011validation-logloss:0.23642\u001b[0m\n",
      "\u001b[34m[698]#011train-logloss:0.09048#011validation-logloss:0.23627\u001b[0m\n",
      "\u001b[34m[699]#011train-logloss:0.09048#011validation-logloss:0.23602\u001b[0m\n",
      "\n",
      "2024-05-23 12:24:44 Completed - Training job completed\n",
      "Training seconds: 145\n",
      "Billable seconds: 145\n"
     ]
    }
   ],
   "source": [
    "with Run(\n",
    "    experiment_name=experiment_name,\n",
    "    run_name=f\"BYO-Code-03-framework-mode-run-{create_date()}\",\n",
    "    sagemaker_session=sm_sess,\n",
    ") as run:\n",
    "    run.log_parameters(hyperparams)\n",
    "    model_xgb.fit(inputs={\n",
    "                          'train': s3_input_train,\n",
    "                          'validation': s3_input_validation\n",
    "                             }\n",
    "                     )"
   ]
  },
  {
   "cell_type": "markdown",
   "id": "1ff635f5-4d97-41db-93bb-e52e6daa6438",
   "metadata": {},
   "source": [
    "# Model Evaluation"
   ]
  },
  {
   "cell_type": "code",
   "execution_count": 68,
   "id": "2f9cc580-2398-430b-8f09-4bbb3f752e8d",
   "metadata": {},
   "outputs": [],
   "source": [
    "import json\n",
    "import os\n",
    "import tarfile\n",
    "import logging\n",
    "\n",
    "import pandas as pd\n",
    "import xgboost as xgb\n",
    "\n",
    "from sklearn.metrics import classification_report, roc_auc_score, accuracy_score, f1_score, recall_score, precision_score, confusion_matrix, roc_curve\n"
   ]
  },
  {
   "cell_type": "markdown",
   "id": "32040eef-3e99-4766-ab38-51cea284bdbf",
   "metadata": {},
   "source": [
    "#### Get the last training Job"
   ]
  },
  {
   "cell_type": "code",
   "execution_count": 21,
   "id": "528e7c03-ceab-4e60-9494-a8eaf56586bf",
   "metadata": {},
   "outputs": [
    {
     "data": {
      "text/plain": [
       "'BYO-Code-xgboost-customer-churn-2024-05-23-12-21-15-728'"
      ]
     },
     "execution_count": 21,
     "metadata": {},
     "output_type": "execute_result"
    }
   ],
   "source": [
    "training_job_name = model_xgb.latest_training_job.job_name\n",
    "training_job_name"
   ]
  },
  {
   "cell_type": "markdown",
   "id": "3407c846-830d-47f3-92e6-952eaf57eaec",
   "metadata": {},
   "source": [
    "#### Download the weigths/file"
   ]
  },
  {
   "cell_type": "code",
   "execution_count": 22,
   "id": "9c0503a9-9612-4896-903b-026f3306fa28",
   "metadata": {},
   "outputs": [
    {
     "name": "stdout",
     "output_type": "stream",
     "text": [
      "\n",
      "2024-05-23 12:28:05 Starting - Preparing the instances for training\n",
      "2024-05-23 12:28:05 Downloading - Downloading the training image\n",
      "2024-05-23 12:28:05 Training - Training image download completed. Training in progress.\n",
      "2024-05-23 12:28:05 Uploading - Uploading generated training model\n",
      "2024-05-23 12:28:05 Completed - Training job completed\n",
      "\n",
      "s3uri_model = s3://bring-your-own-training-code-us-east-1-047922237497/xgboost-churn/output/BYO-Code-xgboost-customer-churn-2024-05-23-12-21-15-728/output/model.tar.gz\n"
     ]
    },
    {
     "data": {
      "text/plain": [
       "['./model.tar.gz']"
      ]
     },
     "execution_count": 22,
     "metadata": {},
     "output_type": "execute_result"
    }
   ],
   "source": [
    "estimator = sagemaker.estimator.Estimator.attach(training_job_name)\n",
    "s3uri_model = estimator.model_data\n",
    "print(\"\\ns3uri_model =\",s3uri_model)\n",
    "sagemaker.s3.S3Downloader.download(s3uri_model, \".\")"
   ]
  },
  {
   "cell_type": "code",
   "execution_count": 26,
   "id": "0912b480-6d57-4fae-9fc5-4546ee49aa08",
   "metadata": {},
   "outputs": [
    {
     "data": {
      "text/plain": [
       "'683313688378.dkr.ecr.us-east-1.amazonaws.com/sagemaker-xgboost:1.7-1'"
      ]
     },
     "execution_count": 26,
     "metadata": {},
     "output_type": "execute_result"
    }
   ],
   "source": [
    "# Container image used to train the model\n",
    "estimator.training_image_uri()"
   ]
  },
  {
   "cell_type": "markdown",
   "id": "2843997e-0981-4c0c-acc6-0b60cc583e20",
   "metadata": {},
   "source": [
    "#### Unzip the file"
   ]
  },
  {
   "cell_type": "code",
   "execution_count": 27,
   "id": "b0b3dcfc-45eb-44b5-89d2-cb572f8bf3ac",
   "metadata": {},
   "outputs": [],
   "source": [
    "model_zip_file = \"model.tar.gz\"\n",
    "with tarfile.open(model_zip_file) as tar:\n",
    "    tar.extractall(path=\".\")"
   ]
  },
  {
   "cell_type": "markdown",
   "id": "e7f08bae-986e-4141-bd0b-94f0f4a50043",
   "metadata": {},
   "source": [
    "#### Load the Model"
   ]
  },
  {
   "cell_type": "code",
   "execution_count": 28,
   "id": "4f7d7944-471f-45f0-8b15-8e80a66439cb",
   "metadata": {},
   "outputs": [
    {
     "name": "stdout",
     "output_type": "stream",
     "text": [
      "Loading xgboost model.\n"
     ]
    },
    {
     "data": {
      "text/plain": [
       "<xgboost.core.Booster at 0x7f6e881dbdf0>"
      ]
     },
     "execution_count": 28,
     "metadata": {},
     "output_type": "execute_result"
    }
   ],
   "source": [
    "import xgboost as xgb\n",
    "print(\"Loading xgboost model.\")\n",
    "xgb_model_file_path = \"xgboost-model.json\"\n",
    "xgb_model = xgb.Booster()\n",
    "xgb_model.load_model(xgb_model_file_path)\n",
    "xgb_model"
   ]
  },
  {
   "cell_type": "markdown",
   "id": "a89e34cb-85e6-4b6f-8004-7d6c634a156a",
   "metadata": {},
   "source": [
    "#### Load the Test Data on Pandas"
   ]
  },
  {
   "cell_type": "code",
   "execution_count": 29,
   "id": "95dea489-bcc9-434b-85a1-e17f691d7a0f",
   "metadata": {},
   "outputs": [
    {
     "name": "stdout",
     "output_type": "stream",
     "text": [
      "Loading test input data\n"
     ]
    },
    {
     "data": {
      "text/html": [
       "<div>\n",
       "<style scoped>\n",
       "    .dataframe tbody tr th:only-of-type {\n",
       "        vertical-align: middle;\n",
       "    }\n",
       "\n",
       "    .dataframe tbody tr th {\n",
       "        vertical-align: top;\n",
       "    }\n",
       "\n",
       "    .dataframe thead th {\n",
       "        text-align: right;\n",
       "    }\n",
       "</style>\n",
       "<table border=\"1\" class=\"dataframe\">\n",
       "  <thead>\n",
       "    <tr style=\"text-align: right;\">\n",
       "      <th></th>\n",
       "      <th>0</th>\n",
       "      <th>1</th>\n",
       "      <th>2</th>\n",
       "      <th>3</th>\n",
       "      <th>4</th>\n",
       "      <th>5</th>\n",
       "      <th>6</th>\n",
       "      <th>7</th>\n",
       "      <th>8</th>\n",
       "      <th>9</th>\n",
       "      <th>10</th>\n",
       "      <th>11</th>\n",
       "      <th>12</th>\n",
       "      <th>13</th>\n",
       "      <th>14</th>\n",
       "      <th>15</th>\n",
       "      <th>16</th>\n",
       "      <th>17</th>\n",
       "      <th>18</th>\n",
       "      <th>19</th>\n",
       "      <th>20</th>\n",
       "      <th>21</th>\n",
       "      <th>22</th>\n",
       "      <th>23</th>\n",
       "      <th>24</th>\n",
       "      <th>25</th>\n",
       "      <th>26</th>\n",
       "      <th>27</th>\n",
       "      <th>28</th>\n",
       "      <th>29</th>\n",
       "      <th>30</th>\n",
       "      <th>31</th>\n",
       "      <th>32</th>\n",
       "      <th>33</th>\n",
       "      <th>34</th>\n",
       "      <th>35</th>\n",
       "      <th>36</th>\n",
       "      <th>37</th>\n",
       "      <th>38</th>\n",
       "      <th>39</th>\n",
       "      <th>40</th>\n",
       "      <th>41</th>\n",
       "      <th>42</th>\n",
       "      <th>43</th>\n",
       "      <th>44</th>\n",
       "      <th>45</th>\n",
       "      <th>46</th>\n",
       "      <th>47</th>\n",
       "      <th>48</th>\n",
       "      <th>49</th>\n",
       "      <th>50</th>\n",
       "      <th>51</th>\n",
       "      <th>52</th>\n",
       "      <th>53</th>\n",
       "      <th>54</th>\n",
       "      <th>55</th>\n",
       "      <th>56</th>\n",
       "      <th>57</th>\n",
       "      <th>58</th>\n",
       "      <th>59</th>\n",
       "      <th>60</th>\n",
       "      <th>61</th>\n",
       "      <th>62</th>\n",
       "      <th>63</th>\n",
       "      <th>64</th>\n",
       "      <th>65</th>\n",
       "      <th>66</th>\n",
       "      <th>67</th>\n",
       "      <th>68</th>\n",
       "      <th>69</th>\n",
       "    </tr>\n",
       "  </thead>\n",
       "  <tbody>\n",
       "    <tr>\n",
       "      <th>0</th>\n",
       "      <td>0.0</td>\n",
       "      <td>186.0</td>\n",
       "      <td>0.0</td>\n",
       "      <td>137.8</td>\n",
       "      <td>97.0</td>\n",
       "      <td>187.7</td>\n",
       "      <td>118.0</td>\n",
       "      <td>146.4</td>\n",
       "      <td>85.0</td>\n",
       "      <td>8.7</td>\n",
       "      <td>6.0</td>\n",
       "      <td>1.0</td>\n",
       "      <td>0.0</td>\n",
       "      <td>0.0</td>\n",
       "      <td>0.0</td>\n",
       "      <td>0.0</td>\n",
       "      <td>0.0</td>\n",
       "      <td>0.0</td>\n",
       "      <td>0.0</td>\n",
       "      <td>0.0</td>\n",
       "      <td>0.0</td>\n",
       "      <td>0.0</td>\n",
       "      <td>0.0</td>\n",
       "      <td>0.0</td>\n",
       "      <td>0.0</td>\n",
       "      <td>0.0</td>\n",
       "      <td>0.0</td>\n",
       "      <td>0.0</td>\n",
       "      <td>1.0</td>\n",
       "      <td>0.0</td>\n",
       "      <td>0.0</td>\n",
       "      <td>0.0</td>\n",
       "      <td>0.0</td>\n",
       "      <td>0.0</td>\n",
       "      <td>0.0</td>\n",
       "      <td>0.0</td>\n",
       "      <td>0.0</td>\n",
       "      <td>0.0</td>\n",
       "      <td>0.0</td>\n",
       "      <td>0.0</td>\n",
       "      <td>0.0</td>\n",
       "      <td>0.0</td>\n",
       "      <td>0.0</td>\n",
       "      <td>0.0</td>\n",
       "      <td>0.0</td>\n",
       "      <td>0.0</td>\n",
       "      <td>0.0</td>\n",
       "      <td>0.0</td>\n",
       "      <td>0.0</td>\n",
       "      <td>0.0</td>\n",
       "      <td>0.0</td>\n",
       "      <td>0.0</td>\n",
       "      <td>0.0</td>\n",
       "      <td>0.0</td>\n",
       "      <td>0.0</td>\n",
       "      <td>0.0</td>\n",
       "      <td>0.0</td>\n",
       "      <td>0.0</td>\n",
       "      <td>0.0</td>\n",
       "      <td>0.0</td>\n",
       "      <td>0.0</td>\n",
       "      <td>0.0</td>\n",
       "      <td>0.0</td>\n",
       "      <td>0.0</td>\n",
       "      <td>0.0</td>\n",
       "      <td>1.0</td>\n",
       "      <td>1.0</td>\n",
       "      <td>0.0</td>\n",
       "      <td>1.0</td>\n",
       "      <td>0.0</td>\n",
       "    </tr>\n",
       "    <tr>\n",
       "      <th>1</th>\n",
       "      <td>0.0</td>\n",
       "      <td>132.0</td>\n",
       "      <td>25.0</td>\n",
       "      <td>113.2</td>\n",
       "      <td>96.0</td>\n",
       "      <td>269.9</td>\n",
       "      <td>107.0</td>\n",
       "      <td>229.1</td>\n",
       "      <td>87.0</td>\n",
       "      <td>7.1</td>\n",
       "      <td>7.0</td>\n",
       "      <td>2.0</td>\n",
       "      <td>0.0</td>\n",
       "      <td>0.0</td>\n",
       "      <td>0.0</td>\n",
       "      <td>0.0</td>\n",
       "      <td>0.0</td>\n",
       "      <td>0.0</td>\n",
       "      <td>0.0</td>\n",
       "      <td>0.0</td>\n",
       "      <td>0.0</td>\n",
       "      <td>0.0</td>\n",
       "      <td>0.0</td>\n",
       "      <td>0.0</td>\n",
       "      <td>0.0</td>\n",
       "      <td>0.0</td>\n",
       "      <td>0.0</td>\n",
       "      <td>0.0</td>\n",
       "      <td>0.0</td>\n",
       "      <td>0.0</td>\n",
       "      <td>0.0</td>\n",
       "      <td>1.0</td>\n",
       "      <td>0.0</td>\n",
       "      <td>0.0</td>\n",
       "      <td>0.0</td>\n",
       "      <td>0.0</td>\n",
       "      <td>0.0</td>\n",
       "      <td>0.0</td>\n",
       "      <td>0.0</td>\n",
       "      <td>0.0</td>\n",
       "      <td>0.0</td>\n",
       "      <td>0.0</td>\n",
       "      <td>0.0</td>\n",
       "      <td>0.0</td>\n",
       "      <td>0.0</td>\n",
       "      <td>0.0</td>\n",
       "      <td>0.0</td>\n",
       "      <td>0.0</td>\n",
       "      <td>0.0</td>\n",
       "      <td>0.0</td>\n",
       "      <td>0.0</td>\n",
       "      <td>0.0</td>\n",
       "      <td>0.0</td>\n",
       "      <td>0.0</td>\n",
       "      <td>0.0</td>\n",
       "      <td>0.0</td>\n",
       "      <td>0.0</td>\n",
       "      <td>0.0</td>\n",
       "      <td>0.0</td>\n",
       "      <td>0.0</td>\n",
       "      <td>0.0</td>\n",
       "      <td>0.0</td>\n",
       "      <td>0.0</td>\n",
       "      <td>0.0</td>\n",
       "      <td>1.0</td>\n",
       "      <td>0.0</td>\n",
       "      <td>1.0</td>\n",
       "      <td>0.0</td>\n",
       "      <td>0.0</td>\n",
       "      <td>1.0</td>\n",
       "    </tr>\n",
       "    <tr>\n",
       "      <th>2</th>\n",
       "      <td>0.0</td>\n",
       "      <td>112.0</td>\n",
       "      <td>17.0</td>\n",
       "      <td>183.2</td>\n",
       "      <td>95.0</td>\n",
       "      <td>252.8</td>\n",
       "      <td>125.0</td>\n",
       "      <td>156.7</td>\n",
       "      <td>95.0</td>\n",
       "      <td>9.7</td>\n",
       "      <td>3.0</td>\n",
       "      <td>0.0</td>\n",
       "      <td>0.0</td>\n",
       "      <td>0.0</td>\n",
       "      <td>0.0</td>\n",
       "      <td>0.0</td>\n",
       "      <td>0.0</td>\n",
       "      <td>0.0</td>\n",
       "      <td>0.0</td>\n",
       "      <td>0.0</td>\n",
       "      <td>0.0</td>\n",
       "      <td>0.0</td>\n",
       "      <td>0.0</td>\n",
       "      <td>0.0</td>\n",
       "      <td>0.0</td>\n",
       "      <td>0.0</td>\n",
       "      <td>0.0</td>\n",
       "      <td>0.0</td>\n",
       "      <td>0.0</td>\n",
       "      <td>0.0</td>\n",
       "      <td>0.0</td>\n",
       "      <td>1.0</td>\n",
       "      <td>0.0</td>\n",
       "      <td>0.0</td>\n",
       "      <td>0.0</td>\n",
       "      <td>0.0</td>\n",
       "      <td>0.0</td>\n",
       "      <td>0.0</td>\n",
       "      <td>0.0</td>\n",
       "      <td>0.0</td>\n",
       "      <td>0.0</td>\n",
       "      <td>0.0</td>\n",
       "      <td>0.0</td>\n",
       "      <td>0.0</td>\n",
       "      <td>0.0</td>\n",
       "      <td>0.0</td>\n",
       "      <td>0.0</td>\n",
       "      <td>0.0</td>\n",
       "      <td>0.0</td>\n",
       "      <td>0.0</td>\n",
       "      <td>0.0</td>\n",
       "      <td>0.0</td>\n",
       "      <td>0.0</td>\n",
       "      <td>0.0</td>\n",
       "      <td>0.0</td>\n",
       "      <td>0.0</td>\n",
       "      <td>0.0</td>\n",
       "      <td>0.0</td>\n",
       "      <td>0.0</td>\n",
       "      <td>0.0</td>\n",
       "      <td>0.0</td>\n",
       "      <td>0.0</td>\n",
       "      <td>0.0</td>\n",
       "      <td>0.0</td>\n",
       "      <td>1.0</td>\n",
       "      <td>0.0</td>\n",
       "      <td>1.0</td>\n",
       "      <td>0.0</td>\n",
       "      <td>0.0</td>\n",
       "      <td>1.0</td>\n",
       "    </tr>\n",
       "  </tbody>\n",
       "</table>\n",
       "</div>"
      ],
      "text/plain": [
       "    0      1     2      3     4      5      6      7     8    9    10   11  \\\n",
       "0  0.0  186.0   0.0  137.8  97.0  187.7  118.0  146.4  85.0  8.7  6.0  1.0   \n",
       "1  0.0  132.0  25.0  113.2  96.0  269.9  107.0  229.1  87.0  7.1  7.0  2.0   \n",
       "2  0.0  112.0  17.0  183.2  95.0  252.8  125.0  156.7  95.0  9.7  3.0  0.0   \n",
       "\n",
       "    12   13   14   15   16   17   18   19   20   21   22   23   24   25   26  \\\n",
       "0  0.0  0.0  0.0  0.0  0.0  0.0  0.0  0.0  0.0  0.0  0.0  0.0  0.0  0.0  0.0   \n",
       "1  0.0  0.0  0.0  0.0  0.0  0.0  0.0  0.0  0.0  0.0  0.0  0.0  0.0  0.0  0.0   \n",
       "2  0.0  0.0  0.0  0.0  0.0  0.0  0.0  0.0  0.0  0.0  0.0  0.0  0.0  0.0  0.0   \n",
       "\n",
       "    27   28   29   30   31   32   33   34   35   36   37   38   39   40   41  \\\n",
       "0  0.0  1.0  0.0  0.0  0.0  0.0  0.0  0.0  0.0  0.0  0.0  0.0  0.0  0.0  0.0   \n",
       "1  0.0  0.0  0.0  0.0  1.0  0.0  0.0  0.0  0.0  0.0  0.0  0.0  0.0  0.0  0.0   \n",
       "2  0.0  0.0  0.0  0.0  1.0  0.0  0.0  0.0  0.0  0.0  0.0  0.0  0.0  0.0  0.0   \n",
       "\n",
       "    42   43   44   45   46   47   48   49   50   51   52   53   54   55   56  \\\n",
       "0  0.0  0.0  0.0  0.0  0.0  0.0  0.0  0.0  0.0  0.0  0.0  0.0  0.0  0.0  0.0   \n",
       "1  0.0  0.0  0.0  0.0  0.0  0.0  0.0  0.0  0.0  0.0  0.0  0.0  0.0  0.0  0.0   \n",
       "2  0.0  0.0  0.0  0.0  0.0  0.0  0.0  0.0  0.0  0.0  0.0  0.0  0.0  0.0  0.0   \n",
       "\n",
       "    57   58   59   60   61   62   63   64   65   66   67   68   69  \n",
       "0  0.0  0.0  0.0  0.0  0.0  0.0  0.0  0.0  1.0  1.0  0.0  1.0  0.0  \n",
       "1  0.0  0.0  0.0  0.0  0.0  0.0  0.0  1.0  0.0  1.0  0.0  0.0  1.0  \n",
       "2  0.0  0.0  0.0  0.0  0.0  0.0  0.0  1.0  0.0  1.0  0.0  0.0  1.0  "
      ]
     },
     "execution_count": 29,
     "metadata": {},
     "output_type": "execute_result"
    }
   ],
   "source": [
    "print(\"Loading test input data\")\n",
    "test_path = \"test.csv\"\n",
    "df = pd.read_csv(test_path, header=None)\n",
    "df.head(3)"
   ]
  },
  {
   "cell_type": "code",
   "execution_count": 30,
   "id": "ff3c865c-d11d-472e-91d1-0521acb2c63d",
   "metadata": {},
   "outputs": [
    {
     "data": {
      "text/plain": [
       "(334, 70)"
      ]
     },
     "execution_count": 30,
     "metadata": {},
     "output_type": "execute_result"
    }
   ],
   "source": [
    "df.shape"
   ]
  },
  {
   "cell_type": "code",
   "execution_count": 31,
   "id": "519d75f2-93fc-41bd-b0ee-d95a3ca32510",
   "metadata": {},
   "outputs": [
    {
     "name": "stdout",
     "output_type": "stream",
     "text": [
      "Reading test data. We should get an `DMatrix` object...\n"
     ]
    },
    {
     "data": {
      "text/plain": [
       "<xgboost.core.DMatrix at 0x7f6e80d92a10>"
      ]
     },
     "execution_count": 31,
     "metadata": {},
     "output_type": "execute_result"
    }
   ],
   "source": [
    "print(\"Reading test data. We should get an `DMatrix` object...\")\n",
    "y_test = df.iloc[:, 0].to_numpy()\n",
    "df.drop(df.columns[0], axis=1, inplace=True)\n",
    "X_test = xgb.DMatrix(df.values)\n",
    "X_test"
   ]
  },
  {
   "cell_type": "markdown",
   "id": "c09bf97d-700f-48ce-8538-14b36c6ec32b",
   "metadata": {},
   "source": [
    "#### Make the prediction"
   ]
  },
  {
   "cell_type": "code",
   "execution_count": 55,
   "id": "8d8fda84-d843-42ac-8547-cf91072f25b0",
   "metadata": {},
   "outputs": [
    {
     "name": "stdout",
     "output_type": "stream",
     "text": [
      "Performing predictions against test data.\n"
     ]
    }
   ],
   "source": [
    "print(\"Performing predictions against test data.\")\n",
    "y_predictions_probs = xgb_model.predict(X_test)\n",
    "y_predictions = y_predictions_probs.round()"
   ]
  },
  {
   "cell_type": "code",
   "execution_count": 56,
   "id": "0d01621e-c397-4b79-aa87-5dd7b494ca3a",
   "metadata": {},
   "outputs": [
    {
     "data": {
      "text/plain": [
       "array([0.01391156, 0.00405734, 0.00540402, 0.22875902, 0.00782648],\n",
       "      dtype=float32)"
      ]
     },
     "execution_count": 56,
     "metadata": {},
     "output_type": "execute_result"
    }
   ],
   "source": [
    "y_predictions_probs[0:5]"
   ]
  },
  {
   "cell_type": "code",
   "execution_count": 57,
   "id": "5eca4074-5dc4-4583-9512-997468957313",
   "metadata": {},
   "outputs": [
    {
     "data": {
      "text/plain": [
       "array([0., 0., 0., 0., 0.], dtype=float32)"
      ]
     },
     "execution_count": 57,
     "metadata": {},
     "output_type": "execute_result"
    }
   ],
   "source": [
    "y_predictions[0:5]"
   ]
  },
  {
   "cell_type": "code",
   "execution_count": 58,
   "id": "c46635c2-4e9d-4fcf-aa76-ef55f9fd1673",
   "metadata": {},
   "outputs": [
    {
     "name": "stdout",
     "output_type": "stream",
     "text": [
      "Main metrics:\n",
      "AUC = 0.912004662004662\n",
      "Accuracy = 0.9580838323353293\n",
      "F1 Score = 0.8409090909090909\n",
      "recall = 0.7708333333333334\n",
      "precision = 0.925\n"
     ]
    }
   ],
   "source": [
    "print(\"Main metrics:\")\n",
    "auc = roc_auc_score(y_test, y_predictions_probs)\n",
    "accuracy = accuracy_score(y_test, y_predictions)\n",
    "f1 = f1_score(y_test, y_predictions)\n",
    "recall = recall_score(y_test, y_predictions)\n",
    "precision = precision_score(y_test, y_predictions)\n",
    "\n",
    "print(\"AUC =\", auc)\n",
    "print(\"Accuracy =\", accuracy)\n",
    "print(\"F1 Score =\", f1)\n",
    "print(\"recall =\", recall)\n",
    "print(\"precision =\", precision)"
   ]
  },
  {
   "cell_type": "markdown",
   "id": "020b18d1-5485-4c6e-b565-505d775957e0",
   "metadata": {},
   "source": [
    "#### Confusion Matrix"
   ]
  },
  {
   "cell_type": "code",
   "execution_count": 93,
   "id": "cff28e01-3d65-45f3-8c7a-01a79e8b082c",
   "metadata": {
    "scrolled": true
   },
   "outputs": [
    {
     "data": {
      "text/plain": [
       "array([[283,   3],\n",
       "       [ 11,  37]])"
      ]
     },
     "execution_count": 93,
     "metadata": {},
     "output_type": "execute_result"
    }
   ],
   "source": [
    "confusion_m =confusion_matrix(y_test, predictions)\n",
    "confusion_m"
   ]
  },
  {
   "cell_type": "code",
   "execution_count": 109,
   "id": "9c0569e9-b086-4e27-970c-6bf6598624c1",
   "metadata": {},
   "outputs": [
    {
     "data": {
      "text/plain": [
       "37"
      ]
     },
     "execution_count": 109,
     "metadata": {},
     "output_type": "execute_result"
    }
   ],
   "source": [
    "tp = confusion_m[1][1]\n",
    "tp"
   ]
  },
  {
   "cell_type": "code",
   "execution_count": 110,
   "id": "f22fcaa5-4485-44d4-ac6a-bc7bdd40e32a",
   "metadata": {},
   "outputs": [
    {
     "data": {
      "text/plain": [
       "3"
      ]
     },
     "execution_count": 110,
     "metadata": {},
     "output_type": "execute_result"
    }
   ],
   "source": [
    "fp = confusion_m[0][1]\n",
    "fp"
   ]
  },
  {
   "cell_type": "code",
   "execution_count": 111,
   "id": "fdea4fc1-9512-4cac-bbca-af2dc3bc981b",
   "metadata": {},
   "outputs": [
    {
     "data": {
      "text/plain": [
       "283"
      ]
     },
     "execution_count": 111,
     "metadata": {},
     "output_type": "execute_result"
    }
   ],
   "source": [
    "tn = confusion_m[0][0]\n",
    "tn"
   ]
  },
  {
   "cell_type": "code",
   "execution_count": 112,
   "id": "7f3293ac-0fdb-4522-b4b8-22f4f8a6dad8",
   "metadata": {},
   "outputs": [
    {
     "data": {
      "text/plain": [
       "11"
      ]
     },
     "execution_count": 112,
     "metadata": {},
     "output_type": "execute_result"
    }
   ],
   "source": [
    "fn = confusion_m[1][0]\n",
    "fn"
   ]
  },
  {
   "cell_type": "code",
   "execution_count": 113,
   "id": "510bc589-fbfd-4025-a6c0-d415c0448aa2",
   "metadata": {},
   "outputs": [
    {
     "data": {
      "text/plain": [
       "0.7708333333333334"
      ]
     },
     "execution_count": 113,
     "metadata": {},
     "output_type": "execute_result"
    }
   ],
   "source": [
    "re = tp / (tp + fn)\n",
    "re"
   ]
  },
  {
   "cell_type": "code",
   "execution_count": 114,
   "id": "397d489e-f81e-4ff1-9167-0e75ddadfdfb",
   "metadata": {},
   "outputs": [
    {
     "data": {
      "text/plain": [
       "0.925"
      ]
     },
     "execution_count": 114,
     "metadata": {},
     "output_type": "execute_result"
    }
   ],
   "source": [
    "pec = tp / (tp + fp)\n",
    "pec"
   ]
  },
  {
   "cell_type": "code",
   "execution_count": 115,
   "id": "c509335e-5abb-4602-9d31-bc002a1049dc",
   "metadata": {},
   "outputs": [
    {
     "data": {
      "text/plain": [
       "0.840909090909091"
      ]
     },
     "execution_count": 115,
     "metadata": {},
     "output_type": "execute_result"
    }
   ],
   "source": [
    "f1s = 2*re*pec / (re + pec)\n",
    "f1s"
   ]
  },
  {
   "cell_type": "code",
   "execution_count": 116,
   "id": "12839683-9a7c-4164-aa20-09b5b3c6819d",
   "metadata": {},
   "outputs": [
    {
     "data": {
      "text/plain": [
       "0.9580838323353293"
      ]
     },
     "execution_count": 116,
     "metadata": {},
     "output_type": "execute_result"
    }
   ],
   "source": [
    "ac = (tp + tn) / (tp + tn + fp + fn)\n",
    "ac"
   ]
  },
  {
   "cell_type": "markdown",
   "id": "55d9dd0e-2862-47bd-af5c-58cde137e1b0",
   "metadata": {},
   "source": [
    "#### Creating the Evaluation report"
   ]
  },
  {
   "cell_type": "code",
   "execution_count": 118,
   "id": "f80394a8-34e4-4322-83d6-4c3cc130c2f6",
   "metadata": {},
   "outputs": [
    {
     "name": "stdout",
     "output_type": "stream",
     "text": [
      "Classification report:\n",
      "{'binary_classification_metrics': {'accuracy': {'standard_deviation': 'NaN',\n",
      "                                                'value': 0.9580838323353293},\n",
      "                                   'auc': {'standard_deviation': 'NaN',\n",
      "                                           'value': 0.912004662004662},\n",
      "                                   'confusion_matrix': {'0': {'0': 283,\n",
      "                                                              '1': 11},\n",
      "                                                        '1': {'0': 3, '1': 37}},\n",
      "                                   'f1': {'standard_deviation': 'NaN',\n",
      "                                          'value': 0.8409090909090909},\n",
      "                                   'false_negative': {'standard_deviation': 'NaN',\n",
      "                                                      'value': 11},\n",
      "                                   'false_positive': {'standard_deviation': 'NaN',\n",
      "                                                      'value': 3},\n",
      "                                   'precision': {'standard_deviation': 'NaN',\n",
      "                                                 'value': 0.925},\n",
      "                                   'recall': {'standard_deviation': 'NaN',\n",
      "                                              'value': 0.7708333333333334},\n",
      "                                   'true_negative': {'standard_deviation': 'NaN',\n",
      "                                                     'value': 283},\n",
      "                                   'true_positive': {'standard_deviation': 'NaN',\n",
      "                                                     'value': 37}}}\n"
     ]
    }
   ],
   "source": [
    "import pprint\n",
    "# The metrics reported can change based on the model used - check the link for the documentation \n",
    "report_dict = {\n",
    "\"binary_classification_metrics\" : {\n",
    "    \"confusion_matrix\" : {\n",
    "      \"0\" : {\n",
    "        \"0\" : tn.item(),\n",
    "        \"1\" : fn.item()\n",
    "      },\n",
    "      \"1\" : {\n",
    "        \"0\" : fp.item(),\n",
    "        \"1\" : tp.item()\n",
    "      }\n",
    "    },\n",
    "    \"recall\" : {\n",
    "      \"value\" : recall,\n",
    "      \"standard_deviation\" : \"NaN\"\n",
    "    },\n",
    "    \"precision\" : {\n",
    "      \"value\" : precision,\n",
    "      \"standard_deviation\" : \"NaN\"\n",
    "    },\n",
    "    \"accuracy\" : {\n",
    "      \"value\" : accuracy,\n",
    "      \"standard_deviation\" : \"NaN\"\n",
    "    },\n",
    "    \"true_positive\" : {\n",
    "      \"value\" : tp.item(),\n",
    "      \"standard_deviation\" : \"NaN\"\n",
    "    },\n",
    "    \"true_negative\" : {\n",
    "      \"value\" : tn.item(),\n",
    "      \"standard_deviation\" : \"NaN\"\n",
    "    },\n",
    "    \"false_positive\" : {\n",
    "      \"value\" : fp.item() ,\n",
    "      \"standard_deviation\" : \"NaN\"\n",
    "    },\n",
    "    \"false_negative\" : {\n",
    "      \"value\" : fn.item(),\n",
    "      \"standard_deviation\" : \"NaN\"\n",
    "    },\n",
    "    \"auc\" : {\n",
    "      \"value\" : auc,\n",
    "      \"standard_deviation\" : \"NaN\"\n",
    "    },\n",
    "    \"f1\" : {\n",
    "      \"value\" : f1,\n",
    "      \"standard_deviation\" : \"NaN\"\n",
    "    }\n",
    "  }\n",
    "}\n",
    "\n",
    "print(\"Classification report:\")\n",
    "pprint.pprint(report_dict)"
   ]
  },
  {
   "cell_type": "code",
   "execution_count": 125,
   "id": "2c6ce4bd-cde7-43c4-9667-2151251be0b0",
   "metadata": {},
   "outputs": [
    {
     "name": "stdout",
     "output_type": "stream",
     "text": [
      "Saving classification report to ./evaluation-report.json\n"
     ]
    }
   ],
   "source": [
    "evaluation_output_path = os.path.join(\n",
    "    \".\", \"evaluation-report.json\"\n",
    ")\n",
    "print(\"Saving classification report to {}\".format(evaluation_output_path))\n",
    "\n",
    "with open(evaluation_output_path, \"w\") as f:\n",
    "    f.write(json.dumps(report_dict))"
   ]
  },
  {
   "cell_type": "markdown",
   "id": "7b92f99a-d768-43be-aaac-73832bbae2ed",
   "metadata": {},
   "source": [
    "#### Get and save parameters used to train the model"
   ]
  },
  {
   "cell_type": "code",
   "execution_count": 126,
   "id": "bc6c5075-3e64-43d7-8ddb-aace3e8662fd",
   "metadata": {},
   "outputs": [
    {
     "data": {
      "text/plain": [
       "{'eta': '0.2',\n",
       " 'gamma': '4',\n",
       " 'max_depth': '6',\n",
       " 'min_child_weight': '6',\n",
       " 'num_round': '700',\n",
       " 'objective': '\"binary:logistic\"',\n",
       " 'sagemaker_container_log_level': '20',\n",
       " 'sagemaker_job_name': '\"BYO-Code-xgboost-customer-churn-2024-05-23-12-21-15-728\"',\n",
       " 'sagemaker_program': '\"train.py\"',\n",
       " 'sagemaker_region': '\"us-east-1\"',\n",
       " 'sagemaker_submit_directory': '\"s3://bring-your-own-training-code-us-east-1-047922237497/BYO-Code-xgboost-customer-churn-2024-05-23-12-21-15-728/source/sourcedir.tar.gz\"',\n",
       " 'subsample': '0.8',\n",
       " 'verbosity': '0'}"
      ]
     },
     "execution_count": 126,
     "metadata": {},
     "output_type": "execute_result"
    }
   ],
   "source": [
    "estimator.hyperparameters()"
   ]
  },
  {
   "cell_type": "code",
   "execution_count": 128,
   "id": "d9a17570-9fc3-492e-81bc-35982ea702af",
   "metadata": {},
   "outputs": [
    {
     "name": "stdout",
     "output_type": "stream",
     "text": [
      "Saving parameters used to train the model to ./parameters.json\n"
     ]
    }
   ],
   "source": [
    "parameter_output_path = os.path.join(\n",
    "    \".\", \"parameters.json\"\n",
    ")\n",
    "print(\"Saving parameters used to train the model to {}\".format(parameter_output_path))\n",
    "\n",
    "with open(parameter_output_path, \"w\") as f:\n",
    "    f.write(json.dumps(estimator.hyperparameters()))"
   ]
  },
  {
   "cell_type": "markdown",
   "id": "7e5834e6-eb21-4598-ae44-d74b905c4a33",
   "metadata": {},
   "source": [
    "#### Push the Evaluation report, the test dataset, and the parameters to S3 Bucket"
   ]
  },
  {
   "cell_type": "code",
   "execution_count": 134,
   "id": "e5cca1b8-b132-406d-a66e-4d205a49ec0f",
   "metadata": {},
   "outputs": [
    {
     "data": {
      "text/plain": [
       "'s3://bring-your-own-training-code-us-east-1-047922237497/final_result/evaluation-report.json'"
      ]
     },
     "execution_count": 134,
     "metadata": {},
     "output_type": "execute_result"
    }
   ],
   "source": [
    "# Push evaluation-report.json to S3\n",
    "eval_report_path = \"evaluation-report.json\"\n",
    "prefix = \"final_result\"\n",
    "s3_location = f\"s3://{s3_bucket}/{prefix}\"\n",
    "location = sagemaker.s3.S3Uploader.upload(eval_report_path, s3_location)\n",
    "location"
   ]
  },
  {
   "cell_type": "code",
   "execution_count": 138,
   "id": "1e33b9c6-c8c6-4075-ab1d-5eb8155ff423",
   "metadata": {},
   "outputs": [],
   "source": [
    "#Set the prefix for the final result\n",
    "final_prefix = \"final_result\"\n",
    "s3_location = f\"s3://{s3_bucket}/{final_prefix}\""
   ]
  },
  {
   "cell_type": "code",
   "execution_count": 139,
   "id": "cd25a084-7d77-4682-a020-20efa5591fc7",
   "metadata": {},
   "outputs": [
    {
     "data": {
      "text/plain": [
       "'s3://bring-your-own-training-code-us-east-1-047922237497/final_result/test.csv'"
      ]
     },
     "execution_count": 139,
     "metadata": {},
     "output_type": "execute_result"
    }
   ],
   "source": [
    "# Push Test DataSet to S3\n",
    "test_dataSet_path = \"test.csv\"\n",
    "location = sagemaker.s3.S3Uploader.upload(test_dataSet_path, s3_location)\n",
    "location"
   ]
  },
  {
   "cell_type": "code",
   "execution_count": 140,
   "id": "2f556f3d-8043-472f-8f3b-2c6f1cd5723a",
   "metadata": {},
   "outputs": [
    {
     "data": {
      "text/plain": [
       "'s3://bring-your-own-training-code-us-east-1-047922237497/final_result/parameters.json'"
      ]
     },
     "execution_count": 140,
     "metadata": {},
     "output_type": "execute_result"
    }
   ],
   "source": [
    "# Push Parameters to S3\n",
    "param_path = \"parameters.json\"\n",
    "location = sagemaker.s3.S3Uploader.upload(param_path, s3_location)\n",
    "location"
   ]
  },
  {
   "cell_type": "code",
   "execution_count": 141,
   "id": "fc68eace-4003-4865-a33f-7667d13346a1",
   "metadata": {},
   "outputs": [
    {
     "data": {
      "text/plain": [
       "'s3://bring-your-own-training-code-us-east-1-047922237497/final_result/model.tar.gz'"
      ]
     },
     "execution_count": 141,
     "metadata": {},
     "output_type": "execute_result"
    }
   ],
   "source": [
    "# Push the model weights to the same location so we have every thing n the same place\n",
    "model_weights_path = \"model.tar.gz\"\n",
    "location = sagemaker.s3.S3Uploader.upload(model_weights_path, s3_location)\n",
    "location"
   ]
  },
  {
   "cell_type": "markdown",
   "id": "98b94d04-fbcc-40fe-9201-7ce405ecf925",
   "metadata": {},
   "source": [
    "#### Access the Bucket on S3"
   ]
  },
  {
   "cell_type": "code",
   "execution_count": 147,
   "id": "faad2bf6-2bf1-4957-a51c-b18a2de38147",
   "metadata": {},
   "outputs": [
    {
     "name": "stderr",
     "output_type": "stream",
     "text": [
      "/tmp/ipykernel_136/3151146016.py:1: DeprecationWarning: Importing display from IPython.core.display is deprecated since IPython 7.14, please import from IPython display\n",
      "  from IPython.core.display import display, HTML\n"
     ]
    }
   ],
   "source": [
    "from IPython.core.display import display, HTML\n",
    "s3_url_link = \"https://s3.console.aws.amazon.com/s3/buckets/{}?&prefix={}/\""
   ]
  },
  {
   "cell_type": "code",
   "execution_count": 148,
   "id": "f6fd187a-2c77-4f05-b28f-ee024d7763ea",
   "metadata": {},
   "outputs": [
    {
     "data": {
      "text/html": [
       "<a href=https://s3.console.aws.amazon.com/s3/buckets/bring-your-own-training-code-us-east-1-047922237497?&prefix=final_result/>Access the Bucket on S3</a>"
      ],
      "text/plain": [
       "<IPython.core.display.HTML object>"
      ]
     },
     "metadata": {},
     "output_type": "display_data"
    }
   ],
   "source": [
    "display(HTML(f\"<a href={s3_url_link.format(s3_bucket,final_prefix)}>Access the Bucket on S3</a>\"))"
   ]
  },
  {
   "cell_type": "code",
   "execution_count": null,
   "id": "4cc56b8b-56e8-454c-99e0-bcec52b41f1d",
   "metadata": {},
   "outputs": [],
   "source": []
  }
 ],
 "metadata": {
  "kernelspec": {
   "display_name": "Python 3 (ipykernel)",
   "language": "python",
   "name": "python3"
  },
  "language_info": {
   "codemirror_mode": {
    "name": "ipython",
    "version": 3
   },
   "file_extension": ".py",
   "mimetype": "text/x-python",
   "name": "python",
   "nbconvert_exporter": "python",
   "pygments_lexer": "ipython3",
   "version": "3.10.14"
  }
 },
 "nbformat": 4,
 "nbformat_minor": 5
}
