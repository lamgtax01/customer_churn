{
 "cells": [
  {
   "cell_type": "markdown",
   "id": "b1449d02-077f-43ef-ae9f-2784c9bd0e7d",
   "metadata": {},
   "source": [
    "# Register a Model Bring Your Own XGBoost training code"
   ]
  },
  {
   "cell_type": "markdown",
   "id": "0f264938-85f5-43df-8e00-dce54ccc72da",
   "metadata": {},
   "source": [
    "## 0. Configure Variables"
   ]
  },
  {
   "cell_type": "code",
   "execution_count": 5,
   "id": "c197893e-29c2-4506-bebc-65efe62fcdc5",
   "metadata": {},
   "outputs": [
    {
     "name": "stdout",
     "output_type": "stream",
     "text": [
      "sagemaker.config INFO - Not applying SDK defaults from location: /etc/xdg/sagemaker/config.yaml\n",
      "sagemaker.config INFO - Not applying SDK defaults from location: /home/sagemaker-user/.config/sagemaker/config.yaml\n"
     ]
    },
    {
     "name": "stderr",
     "output_type": "stream",
     "text": [
      "INFO:sagemaker.image_uris:Ignoring unnecessary instance type: None.\n"
     ]
    },
    {
     "name": "stdout",
     "output_type": "stream",
     "text": [
      "Looks like you already have a bucket of this name. That's good!\n"
     ]
    }
   ],
   "source": [
    "import pandas as pd\n",
    "import boto3\n",
    "import sagemaker\n",
    "from sagemaker.debugger import rule_configs, Rule, DebuggerHookConfig\n",
    "from sagemaker.experiments.run import Run, load_run\n",
    "sm_sess = sagemaker.session.Session()\n",
    "sm_exe_role = sagemaker.get_execution_role()\n",
    "\n",
    "boto3_sess = boto3.Session()\n",
    "sm_client = boto3_sess.client('sagemaker')\n",
    "\n",
    "aws_region = boto3_sess.region_name\n",
    "aws_account_id = boto3_sess.client('sts', region_name=aws_region).get_caller_identity()[\"Account\"]\n",
    "s3_bucket = 'bring-your-own-training-code-{}-{}'.format(aws_region, aws_account_id)\n",
    "s3_prefix = 'xgboost-churn'\n",
    "\n",
    "try:\n",
    "    if aws_region_name == \"us-east-1\":\n",
    "        boto3_sess.client('s3').create_bucket(Bucket=s3_bucket)\n",
    "    else:\n",
    "        boto3_sess.client('s3').create_bucket(Bucket=s3_bucket, \n",
    "                                        CreateBucketConfiguration={'LocationConstraint': aws_region})\n",
    "except Exception as e:\n",
    "    print(\"Looks like you already have a bucket of this name. That's good!\")\n",
    "\n",
    "sm_xgb_framework_version = '1.7-1'\n",
    "sm_xgb_image_name = sagemaker.image_uris.retrieve(framework='xgboost', region=aws_region, version=sm_xgb_framework_version)"
   ]
  },
  {
   "cell_type": "markdown",
   "id": "26c69ba4-88fc-499c-94ea-0374de4a83dc",
   "metadata": {},
   "source": [
    "## 1. Data Preparation"
   ]
  },
  {
   "cell_type": "markdown",
   "id": "1421ae15-2c67-4c1a-b128-30df8dd7b17f",
   "metadata": {},
   "source": [
    "#### Download the data and upload to S3"
   ]
  },
  {
   "cell_type": "code",
   "execution_count": 6,
   "id": "b3ed98be-3af2-4faa-9d95-cc802961d09f",
   "metadata": {},
   "outputs": [
    {
     "name": "stdout",
     "output_type": "stream",
     "text": [
      "--2024-06-06 15:39:11--  https://higheredbcs.wiley.com/legacy/college/larose/0470908742/ds/data_sets.zip\n",
      "Resolving higheredbcs.wiley.com (higheredbcs.wiley.com)... 104.18.40.34, 172.64.147.222, 2606:4700:4400::6812:2822, ...\n",
      "Connecting to higheredbcs.wiley.com (higheredbcs.wiley.com)|104.18.40.34|:443... connected.\n",
      "WARNING: cannot verify higheredbcs.wiley.com's certificate, issued by ‘CN=E1,O=Let's Encrypt,C=US’:\n",
      "  Unable to locally verify the issuer's authority.\n",
      "HTTP request sent, awaiting response... 200 OK\n",
      "Length: 1003616 (980K) [application/zip]\n",
      "Saving to: ‘data_sets.zip’\n",
      "\n",
      "data_sets.zip       100%[===================>] 980.09K  --.-KB/s    in 0.1s    \n",
      "\n",
      "2024-06-06 15:39:12 (9.54 MB/s) - ‘data_sets.zip’ saved [1003616/1003616]\n",
      "\n",
      "Archive:  data_sets.zip\n",
      " extracting: Data sets/adult.zip     \n",
      "  inflating: Data sets/cars.txt      \n",
      "  inflating: Data sets/cars2.txt     \n",
      "  inflating: Data sets/cereals.CSV   \n",
      "  inflating: Data sets/churn.txt     \n",
      "  inflating: Data sets/ClassifyRisk  \n",
      "  inflating: Data sets/ClassifyRisk - Missing.txt  \n",
      " extracting: Data sets/DKD2e data sets.zip  \n",
      "  inflating: Data sets/nn1.txt       \n"
     ]
    }
   ],
   "source": [
    "!wget https://higheredbcs.wiley.com/legacy/college/larose/0470908742/ds/data_sets.zip --no-check-certificate\n",
    "!unzip -o data_sets.zip\n",
    "!mv \"Data sets\"/churn.txt .\n",
    "!rm -rf \"Data sets\" data_sets.zip"
   ]
  },
  {
   "cell_type": "code",
   "execution_count": 7,
   "id": "8654a762-0f75-4971-b8f9-0d27606b4bb9",
   "metadata": {},
   "outputs": [],
   "source": [
    "# Convert data to CSV\n",
    "import pandas as pd\n",
    "data = pd.read_csv('churn.txt')\n",
    "data.to_csv('churn.csv', index=False)"
   ]
  },
  {
   "cell_type": "code",
   "execution_count": 8,
   "id": "6e159f8a-1412-4d01-9f23-2cfb162ec8de",
   "metadata": {},
   "outputs": [
    {
     "data": {
      "text/plain": [
       "'s3://bring-your-own-training-code-us-east-1-047922237497/xgboost-churn/data/raw/churn.csv'"
      ]
     },
     "execution_count": 8,
     "metadata": {},
     "output_type": "execute_result"
    }
   ],
   "source": [
    "# Push to S3\n",
    "local_raw_path = \"churn.csv\"\n",
    "raw_dir = f\"{s3_prefix}/data/raw\"\n",
    "s3uri_raw = sagemaker.s3.S3Uploader.upload(local_raw_path, f's3://{s3_bucket}/{raw_dir}')\n",
    "## Store the variable\n",
    "# %store s3uri_raw\n",
    "s3uri_raw"
   ]
  },
  {
   "cell_type": "markdown",
   "id": "b62605da-af07-4324-a840-bbd89d78dfd3",
   "metadata": {},
   "source": [
    "#### Import the libraries"
   ]
  },
  {
   "cell_type": "code",
   "execution_count": 9,
   "id": "0fda2e0c-1cab-4716-8863-8b05cad1a8a8",
   "metadata": {},
   "outputs": [],
   "source": [
    "import io\n",
    "import os\n",
    "import sys\n",
    "import time\n",
    "import json\n",
    "import re\n",
    "\n",
    "import pandas as pd\n",
    "import numpy as np\n",
    "import matplotlib.pyplot as plt\n",
    "\n",
    "from IPython.display import display as dis\n",
    "from time import strftime, gmtime\n",
    "from sagemaker.inputs import TrainingInput\n",
    "from sagemaker.serializers import CSVSerializer\n",
    "from IPython import display "
   ]
  },
  {
   "cell_type": "code",
   "execution_count": 10,
   "id": "98934e7b-3853-406e-8c3a-b7421c57cdcb",
   "metadata": {
    "scrolled": true
   },
   "outputs": [
    {
     "data": {
      "text/html": [
       "<div>\n",
       "<style scoped>\n",
       "    .dataframe tbody tr th:only-of-type {\n",
       "        vertical-align: middle;\n",
       "    }\n",
       "\n",
       "    .dataframe tbody tr th {\n",
       "        vertical-align: top;\n",
       "    }\n",
       "\n",
       "    .dataframe thead th {\n",
       "        text-align: right;\n",
       "    }\n",
       "</style>\n",
       "<table border=\"1\" class=\"dataframe\">\n",
       "  <thead>\n",
       "    <tr style=\"text-align: right;\">\n",
       "      <th></th>\n",
       "      <th>State</th>\n",
       "      <th>Account Length</th>\n",
       "      <th>Area Code</th>\n",
       "      <th>Phone</th>\n",
       "      <th>Int'l Plan</th>\n",
       "      <th>VMail Plan</th>\n",
       "      <th>VMail Message</th>\n",
       "      <th>Day Mins</th>\n",
       "      <th>Day Calls</th>\n",
       "      <th>Day Charge</th>\n",
       "      <th>Eve Mins</th>\n",
       "      <th>Eve Calls</th>\n",
       "      <th>Eve Charge</th>\n",
       "      <th>Night Mins</th>\n",
       "      <th>Night Calls</th>\n",
       "      <th>Night Charge</th>\n",
       "      <th>Intl Mins</th>\n",
       "      <th>Intl Calls</th>\n",
       "      <th>Intl Charge</th>\n",
       "      <th>CustServ Calls</th>\n",
       "      <th>Churn?</th>\n",
       "    </tr>\n",
       "  </thead>\n",
       "  <tbody>\n",
       "    <tr>\n",
       "      <th>0</th>\n",
       "      <td>KS</td>\n",
       "      <td>128</td>\n",
       "      <td>415</td>\n",
       "      <td>382-4657</td>\n",
       "      <td>no</td>\n",
       "      <td>yes</td>\n",
       "      <td>25</td>\n",
       "      <td>265.1</td>\n",
       "      <td>110</td>\n",
       "      <td>45.07</td>\n",
       "      <td>197.4</td>\n",
       "      <td>99</td>\n",
       "      <td>16.78</td>\n",
       "      <td>244.7</td>\n",
       "      <td>91</td>\n",
       "      <td>11.01</td>\n",
       "      <td>10.0</td>\n",
       "      <td>3</td>\n",
       "      <td>2.7</td>\n",
       "      <td>1</td>\n",
       "      <td>False.</td>\n",
       "    </tr>\n",
       "    <tr>\n",
       "      <th>1</th>\n",
       "      <td>OH</td>\n",
       "      <td>107</td>\n",
       "      <td>415</td>\n",
       "      <td>371-7191</td>\n",
       "      <td>no</td>\n",
       "      <td>yes</td>\n",
       "      <td>26</td>\n",
       "      <td>161.6</td>\n",
       "      <td>123</td>\n",
       "      <td>27.47</td>\n",
       "      <td>195.5</td>\n",
       "      <td>103</td>\n",
       "      <td>16.62</td>\n",
       "      <td>254.4</td>\n",
       "      <td>103</td>\n",
       "      <td>11.45</td>\n",
       "      <td>13.7</td>\n",
       "      <td>3</td>\n",
       "      <td>3.7</td>\n",
       "      <td>1</td>\n",
       "      <td>False.</td>\n",
       "    </tr>\n",
       "  </tbody>\n",
       "</table>\n",
       "</div>"
      ],
      "text/plain": [
       "  State  Account Length  Area Code     Phone Int'l Plan VMail Plan  \\\n",
       "0    KS             128        415  382-4657         no        yes   \n",
       "1    OH             107        415  371-7191         no        yes   \n",
       "\n",
       "   VMail Message  Day Mins  Day Calls  Day Charge  Eve Mins  Eve Calls  \\\n",
       "0             25     265.1        110       45.07     197.4         99   \n",
       "1             26     161.6        123       27.47     195.5        103   \n",
       "\n",
       "   Eve Charge  Night Mins  Night Calls  Night Charge  Intl Mins  Intl Calls  \\\n",
       "0       16.78       244.7           91         11.01       10.0           3   \n",
       "1       16.62       254.4          103         11.45       13.7           3   \n",
       "\n",
       "   Intl Charge  CustServ Calls  Churn?  \n",
       "0          2.7               1  False.  \n",
       "1          3.7               1  False.  "
      ]
     },
     "execution_count": 10,
     "metadata": {},
     "output_type": "execute_result"
    }
   ],
   "source": [
    "churn = pd.read_csv(\"./churn.csv\")\n",
    "pd.set_option(\"display.max_columns\", 500)\n",
    "churn.head(2)"
   ]
  },
  {
   "cell_type": "code",
   "execution_count": 11,
   "id": "197b207e-cd16-4c29-965e-dbee8858cec3",
   "metadata": {},
   "outputs": [
    {
     "data": {
      "text/plain": [
       "(3333, 21)"
      ]
     },
     "execution_count": 11,
     "metadata": {},
     "output_type": "execute_result"
    }
   ],
   "source": [
    "churn.shape"
   ]
  },
  {
   "cell_type": "markdown",
   "id": "6f2194cb-dc14-4336-a119-42a85a8e9a67",
   "metadata": {},
   "source": [
    "#### Change \"Area Code\" type and Drop columns"
   ]
  },
  {
   "cell_type": "code",
   "execution_count": 12,
   "id": "f4c2ffca-dcca-4460-9f90-796465f6d26f",
   "metadata": {},
   "outputs": [],
   "source": [
    "churn[\"Area Code\"] = churn[\"Area Code\"].astype(object)\n",
    "churn = churn.drop([\"Phone\", \"Day Charge\", \"Eve Charge\", \"Night Charge\", \"Intl Charge\"], axis=1)"
   ]
  },
  {
   "cell_type": "markdown",
   "id": "59eab990-0fcd-4955-828f-68d2d0913ffd",
   "metadata": {},
   "source": [
    "#### Convert our categorical features into numeric features and put Churn as the first column"
   ]
  },
  {
   "cell_type": "code",
   "execution_count": 13,
   "id": "5c507c16-29c6-4681-ab5a-22a2f2b08f62",
   "metadata": {},
   "outputs": [],
   "source": [
    "model_data = pd.get_dummies(churn)\n",
    "model_data = pd.concat(\n",
    "    [model_data[\"Churn?_True.\"], model_data.drop([\"Churn?_False.\", \"Churn?_True.\"], axis=1)], axis=1\n",
    ")\n",
    "model_data = model_data.astype(float)"
   ]
  },
  {
   "cell_type": "code",
   "execution_count": 14,
   "id": "63e62349-4069-4784-8f7d-7050d2a4ecb6",
   "metadata": {
    "scrolled": true
   },
   "outputs": [
    {
     "data": {
      "text/plain": [
       "(3333, 70)"
      ]
     },
     "execution_count": 14,
     "metadata": {},
     "output_type": "execute_result"
    }
   ],
   "source": [
    "model_data.shape"
   ]
  },
  {
   "cell_type": "code",
   "execution_count": 15,
   "id": "4cced061-489f-4e5d-a75e-64ce89a9c3ae",
   "metadata": {},
   "outputs": [
    {
     "data": {
      "text/html": [
       "<div>\n",
       "<style scoped>\n",
       "    .dataframe tbody tr th:only-of-type {\n",
       "        vertical-align: middle;\n",
       "    }\n",
       "\n",
       "    .dataframe tbody tr th {\n",
       "        vertical-align: top;\n",
       "    }\n",
       "\n",
       "    .dataframe thead th {\n",
       "        text-align: right;\n",
       "    }\n",
       "</style>\n",
       "<table border=\"1\" class=\"dataframe\">\n",
       "  <thead>\n",
       "    <tr style=\"text-align: right;\">\n",
       "      <th></th>\n",
       "      <th>Churn?_True.</th>\n",
       "      <th>Account Length</th>\n",
       "      <th>VMail Message</th>\n",
       "      <th>Day Mins</th>\n",
       "      <th>Day Calls</th>\n",
       "      <th>Eve Mins</th>\n",
       "      <th>Eve Calls</th>\n",
       "      <th>Night Mins</th>\n",
       "      <th>Night Calls</th>\n",
       "      <th>Intl Mins</th>\n",
       "      <th>Intl Calls</th>\n",
       "      <th>CustServ Calls</th>\n",
       "      <th>State_AK</th>\n",
       "      <th>State_AL</th>\n",
       "      <th>State_AR</th>\n",
       "      <th>State_AZ</th>\n",
       "      <th>State_CA</th>\n",
       "      <th>State_CO</th>\n",
       "      <th>State_CT</th>\n",
       "      <th>State_DC</th>\n",
       "      <th>State_DE</th>\n",
       "      <th>State_FL</th>\n",
       "      <th>State_GA</th>\n",
       "      <th>State_HI</th>\n",
       "      <th>State_IA</th>\n",
       "      <th>State_ID</th>\n",
       "      <th>State_IL</th>\n",
       "      <th>State_IN</th>\n",
       "      <th>State_KS</th>\n",
       "      <th>State_KY</th>\n",
       "      <th>State_LA</th>\n",
       "      <th>State_MA</th>\n",
       "      <th>State_MD</th>\n",
       "      <th>State_ME</th>\n",
       "      <th>State_MI</th>\n",
       "      <th>State_MN</th>\n",
       "      <th>State_MO</th>\n",
       "      <th>State_MS</th>\n",
       "      <th>State_MT</th>\n",
       "      <th>State_NC</th>\n",
       "      <th>State_ND</th>\n",
       "      <th>State_NE</th>\n",
       "      <th>State_NH</th>\n",
       "      <th>State_NJ</th>\n",
       "      <th>State_NM</th>\n",
       "      <th>State_NV</th>\n",
       "      <th>State_NY</th>\n",
       "      <th>State_OH</th>\n",
       "      <th>State_OK</th>\n",
       "      <th>State_OR</th>\n",
       "      <th>State_PA</th>\n",
       "      <th>State_RI</th>\n",
       "      <th>State_SC</th>\n",
       "      <th>State_SD</th>\n",
       "      <th>State_TN</th>\n",
       "      <th>State_TX</th>\n",
       "      <th>State_UT</th>\n",
       "      <th>State_VA</th>\n",
       "      <th>State_VT</th>\n",
       "      <th>State_WA</th>\n",
       "      <th>State_WI</th>\n",
       "      <th>State_WV</th>\n",
       "      <th>State_WY</th>\n",
       "      <th>Area Code_408</th>\n",
       "      <th>Area Code_415</th>\n",
       "      <th>Area Code_510</th>\n",
       "      <th>Int'l Plan_no</th>\n",
       "      <th>Int'l Plan_yes</th>\n",
       "      <th>VMail Plan_no</th>\n",
       "      <th>VMail Plan_yes</th>\n",
       "    </tr>\n",
       "  </thead>\n",
       "  <tbody>\n",
       "    <tr>\n",
       "      <th>0</th>\n",
       "      <td>0.0</td>\n",
       "      <td>128.0</td>\n",
       "      <td>25.0</td>\n",
       "      <td>265.1</td>\n",
       "      <td>110.0</td>\n",
       "      <td>197.4</td>\n",
       "      <td>99.0</td>\n",
       "      <td>244.7</td>\n",
       "      <td>91.0</td>\n",
       "      <td>10.0</td>\n",
       "      <td>3.0</td>\n",
       "      <td>1.0</td>\n",
       "      <td>0.0</td>\n",
       "      <td>0.0</td>\n",
       "      <td>0.0</td>\n",
       "      <td>0.0</td>\n",
       "      <td>0.0</td>\n",
       "      <td>0.0</td>\n",
       "      <td>0.0</td>\n",
       "      <td>0.0</td>\n",
       "      <td>0.0</td>\n",
       "      <td>0.0</td>\n",
       "      <td>0.0</td>\n",
       "      <td>0.0</td>\n",
       "      <td>0.0</td>\n",
       "      <td>0.0</td>\n",
       "      <td>0.0</td>\n",
       "      <td>0.0</td>\n",
       "      <td>1.0</td>\n",
       "      <td>0.0</td>\n",
       "      <td>0.0</td>\n",
       "      <td>0.0</td>\n",
       "      <td>0.0</td>\n",
       "      <td>0.0</td>\n",
       "      <td>0.0</td>\n",
       "      <td>0.0</td>\n",
       "      <td>0.0</td>\n",
       "      <td>0.0</td>\n",
       "      <td>0.0</td>\n",
       "      <td>0.0</td>\n",
       "      <td>0.0</td>\n",
       "      <td>0.0</td>\n",
       "      <td>0.0</td>\n",
       "      <td>0.0</td>\n",
       "      <td>0.0</td>\n",
       "      <td>0.0</td>\n",
       "      <td>0.0</td>\n",
       "      <td>0.0</td>\n",
       "      <td>0.0</td>\n",
       "      <td>0.0</td>\n",
       "      <td>0.0</td>\n",
       "      <td>0.0</td>\n",
       "      <td>0.0</td>\n",
       "      <td>0.0</td>\n",
       "      <td>0.0</td>\n",
       "      <td>0.0</td>\n",
       "      <td>0.0</td>\n",
       "      <td>0.0</td>\n",
       "      <td>0.0</td>\n",
       "      <td>0.0</td>\n",
       "      <td>0.0</td>\n",
       "      <td>0.0</td>\n",
       "      <td>0.0</td>\n",
       "      <td>0.0</td>\n",
       "      <td>1.0</td>\n",
       "      <td>0.0</td>\n",
       "      <td>1.0</td>\n",
       "      <td>0.0</td>\n",
       "      <td>0.0</td>\n",
       "      <td>1.0</td>\n",
       "    </tr>\n",
       "    <tr>\n",
       "      <th>1</th>\n",
       "      <td>0.0</td>\n",
       "      <td>107.0</td>\n",
       "      <td>26.0</td>\n",
       "      <td>161.6</td>\n",
       "      <td>123.0</td>\n",
       "      <td>195.5</td>\n",
       "      <td>103.0</td>\n",
       "      <td>254.4</td>\n",
       "      <td>103.0</td>\n",
       "      <td>13.7</td>\n",
       "      <td>3.0</td>\n",
       "      <td>1.0</td>\n",
       "      <td>0.0</td>\n",
       "      <td>0.0</td>\n",
       "      <td>0.0</td>\n",
       "      <td>0.0</td>\n",
       "      <td>0.0</td>\n",
       "      <td>0.0</td>\n",
       "      <td>0.0</td>\n",
       "      <td>0.0</td>\n",
       "      <td>0.0</td>\n",
       "      <td>0.0</td>\n",
       "      <td>0.0</td>\n",
       "      <td>0.0</td>\n",
       "      <td>0.0</td>\n",
       "      <td>0.0</td>\n",
       "      <td>0.0</td>\n",
       "      <td>0.0</td>\n",
       "      <td>0.0</td>\n",
       "      <td>0.0</td>\n",
       "      <td>0.0</td>\n",
       "      <td>0.0</td>\n",
       "      <td>0.0</td>\n",
       "      <td>0.0</td>\n",
       "      <td>0.0</td>\n",
       "      <td>0.0</td>\n",
       "      <td>0.0</td>\n",
       "      <td>0.0</td>\n",
       "      <td>0.0</td>\n",
       "      <td>0.0</td>\n",
       "      <td>0.0</td>\n",
       "      <td>0.0</td>\n",
       "      <td>0.0</td>\n",
       "      <td>0.0</td>\n",
       "      <td>0.0</td>\n",
       "      <td>0.0</td>\n",
       "      <td>0.0</td>\n",
       "      <td>1.0</td>\n",
       "      <td>0.0</td>\n",
       "      <td>0.0</td>\n",
       "      <td>0.0</td>\n",
       "      <td>0.0</td>\n",
       "      <td>0.0</td>\n",
       "      <td>0.0</td>\n",
       "      <td>0.0</td>\n",
       "      <td>0.0</td>\n",
       "      <td>0.0</td>\n",
       "      <td>0.0</td>\n",
       "      <td>0.0</td>\n",
       "      <td>0.0</td>\n",
       "      <td>0.0</td>\n",
       "      <td>0.0</td>\n",
       "      <td>0.0</td>\n",
       "      <td>0.0</td>\n",
       "      <td>1.0</td>\n",
       "      <td>0.0</td>\n",
       "      <td>1.0</td>\n",
       "      <td>0.0</td>\n",
       "      <td>0.0</td>\n",
       "      <td>1.0</td>\n",
       "    </tr>\n",
       "    <tr>\n",
       "      <th>2</th>\n",
       "      <td>0.0</td>\n",
       "      <td>137.0</td>\n",
       "      <td>0.0</td>\n",
       "      <td>243.4</td>\n",
       "      <td>114.0</td>\n",
       "      <td>121.2</td>\n",
       "      <td>110.0</td>\n",
       "      <td>162.6</td>\n",
       "      <td>104.0</td>\n",
       "      <td>12.2</td>\n",
       "      <td>5.0</td>\n",
       "      <td>0.0</td>\n",
       "      <td>0.0</td>\n",
       "      <td>0.0</td>\n",
       "      <td>0.0</td>\n",
       "      <td>0.0</td>\n",
       "      <td>0.0</td>\n",
       "      <td>0.0</td>\n",
       "      <td>0.0</td>\n",
       "      <td>0.0</td>\n",
       "      <td>0.0</td>\n",
       "      <td>0.0</td>\n",
       "      <td>0.0</td>\n",
       "      <td>0.0</td>\n",
       "      <td>0.0</td>\n",
       "      <td>0.0</td>\n",
       "      <td>0.0</td>\n",
       "      <td>0.0</td>\n",
       "      <td>0.0</td>\n",
       "      <td>0.0</td>\n",
       "      <td>0.0</td>\n",
       "      <td>0.0</td>\n",
       "      <td>0.0</td>\n",
       "      <td>0.0</td>\n",
       "      <td>0.0</td>\n",
       "      <td>0.0</td>\n",
       "      <td>0.0</td>\n",
       "      <td>0.0</td>\n",
       "      <td>0.0</td>\n",
       "      <td>0.0</td>\n",
       "      <td>0.0</td>\n",
       "      <td>0.0</td>\n",
       "      <td>0.0</td>\n",
       "      <td>1.0</td>\n",
       "      <td>0.0</td>\n",
       "      <td>0.0</td>\n",
       "      <td>0.0</td>\n",
       "      <td>0.0</td>\n",
       "      <td>0.0</td>\n",
       "      <td>0.0</td>\n",
       "      <td>0.0</td>\n",
       "      <td>0.0</td>\n",
       "      <td>0.0</td>\n",
       "      <td>0.0</td>\n",
       "      <td>0.0</td>\n",
       "      <td>0.0</td>\n",
       "      <td>0.0</td>\n",
       "      <td>0.0</td>\n",
       "      <td>0.0</td>\n",
       "      <td>0.0</td>\n",
       "      <td>0.0</td>\n",
       "      <td>0.0</td>\n",
       "      <td>0.0</td>\n",
       "      <td>0.0</td>\n",
       "      <td>1.0</td>\n",
       "      <td>0.0</td>\n",
       "      <td>1.0</td>\n",
       "      <td>0.0</td>\n",
       "      <td>1.0</td>\n",
       "      <td>0.0</td>\n",
       "    </tr>\n",
       "  </tbody>\n",
       "</table>\n",
       "</div>"
      ],
      "text/plain": [
       "   Churn?_True.  Account Length  VMail Message  Day Mins  Day Calls  Eve Mins  \\\n",
       "0           0.0           128.0           25.0     265.1      110.0     197.4   \n",
       "1           0.0           107.0           26.0     161.6      123.0     195.5   \n",
       "2           0.0           137.0            0.0     243.4      114.0     121.2   \n",
       "\n",
       "   Eve Calls  Night Mins  Night Calls  Intl Mins  Intl Calls  CustServ Calls  \\\n",
       "0       99.0       244.7         91.0       10.0         3.0             1.0   \n",
       "1      103.0       254.4        103.0       13.7         3.0             1.0   \n",
       "2      110.0       162.6        104.0       12.2         5.0             0.0   \n",
       "\n",
       "   State_AK  State_AL  State_AR  State_AZ  State_CA  State_CO  State_CT  \\\n",
       "0       0.0       0.0       0.0       0.0       0.0       0.0       0.0   \n",
       "1       0.0       0.0       0.0       0.0       0.0       0.0       0.0   \n",
       "2       0.0       0.0       0.0       0.0       0.0       0.0       0.0   \n",
       "\n",
       "   State_DC  State_DE  State_FL  State_GA  State_HI  State_IA  State_ID  \\\n",
       "0       0.0       0.0       0.0       0.0       0.0       0.0       0.0   \n",
       "1       0.0       0.0       0.0       0.0       0.0       0.0       0.0   \n",
       "2       0.0       0.0       0.0       0.0       0.0       0.0       0.0   \n",
       "\n",
       "   State_IL  State_IN  State_KS  State_KY  State_LA  State_MA  State_MD  \\\n",
       "0       0.0       0.0       1.0       0.0       0.0       0.0       0.0   \n",
       "1       0.0       0.0       0.0       0.0       0.0       0.0       0.0   \n",
       "2       0.0       0.0       0.0       0.0       0.0       0.0       0.0   \n",
       "\n",
       "   State_ME  State_MI  State_MN  State_MO  State_MS  State_MT  State_NC  \\\n",
       "0       0.0       0.0       0.0       0.0       0.0       0.0       0.0   \n",
       "1       0.0       0.0       0.0       0.0       0.0       0.0       0.0   \n",
       "2       0.0       0.0       0.0       0.0       0.0       0.0       0.0   \n",
       "\n",
       "   State_ND  State_NE  State_NH  State_NJ  State_NM  State_NV  State_NY  \\\n",
       "0       0.0       0.0       0.0       0.0       0.0       0.0       0.0   \n",
       "1       0.0       0.0       0.0       0.0       0.0       0.0       0.0   \n",
       "2       0.0       0.0       0.0       1.0       0.0       0.0       0.0   \n",
       "\n",
       "   State_OH  State_OK  State_OR  State_PA  State_RI  State_SC  State_SD  \\\n",
       "0       0.0       0.0       0.0       0.0       0.0       0.0       0.0   \n",
       "1       1.0       0.0       0.0       0.0       0.0       0.0       0.0   \n",
       "2       0.0       0.0       0.0       0.0       0.0       0.0       0.0   \n",
       "\n",
       "   State_TN  State_TX  State_UT  State_VA  State_VT  State_WA  State_WI  \\\n",
       "0       0.0       0.0       0.0       0.0       0.0       0.0       0.0   \n",
       "1       0.0       0.0       0.0       0.0       0.0       0.0       0.0   \n",
       "2       0.0       0.0       0.0       0.0       0.0       0.0       0.0   \n",
       "\n",
       "   State_WV  State_WY  Area Code_408  Area Code_415  Area Code_510  \\\n",
       "0       0.0       0.0            0.0            1.0            0.0   \n",
       "1       0.0       0.0            0.0            1.0            0.0   \n",
       "2       0.0       0.0            0.0            1.0            0.0   \n",
       "\n",
       "   Int'l Plan_no  Int'l Plan_yes  VMail Plan_no  VMail Plan_yes  \n",
       "0            1.0             0.0            0.0             1.0  \n",
       "1            1.0             0.0            0.0             1.0  \n",
       "2            1.0             0.0            1.0             0.0  "
      ]
     },
     "execution_count": 15,
     "metadata": {},
     "output_type": "execute_result"
    }
   ],
   "source": [
    "model_data.head(3)"
   ]
  },
  {
   "cell_type": "markdown",
   "id": "7c1fe4d1-0507-4051-a47c-d484d5da940a",
   "metadata": {},
   "source": [
    "#### Split the data into training, validation, and test sets."
   ]
  },
  {
   "cell_type": "code",
   "execution_count": 16,
   "id": "e207c52a-b5d7-4689-9710-5dcb71f8a523",
   "metadata": {},
   "outputs": [
    {
     "name": "stderr",
     "output_type": "stream",
     "text": [
      "/opt/conda/lib/python3.10/site-packages/numpy/core/fromnumeric.py:59: FutureWarning: 'DataFrame.swapaxes' is deprecated and will be removed in a future version. Please use 'DataFrame.transpose' instead.\n",
      "  return bound(*args, **kwds)\n"
     ]
    },
    {
     "data": {
      "text/plain": [
       "((2333, 70), (666, 70), (334, 70))"
      ]
     },
     "execution_count": 16,
     "metadata": {},
     "output_type": "execute_result"
    }
   ],
   "source": [
    "train_data, validation_data, test_data = np.split(\n",
    "    model_data.sample(frac=1, random_state=1729),\n",
    "    [int(0.7 * len(model_data)), int(0.9 * len(model_data))],\n",
    ")\n",
    "train_data.to_csv(\"train.csv\", header=False, index=False)\n",
    "validation_data.to_csv(\"validation.csv\", header=False, index=False)\n",
    "test_data.to_csv(\"test.csv\", header=False, index=False)\n",
    "train_data.shape, validation_data.shape, test_data.shape"
   ]
  },
  {
   "cell_type": "markdown",
   "id": "edff5d75-d558-4cdb-9024-30daecd404de",
   "metadata": {},
   "source": [
    "#### Upload these files to S3"
   ]
  },
  {
   "cell_type": "code",
   "execution_count": 17,
   "id": "b24e1656-165d-4c9a-9d20-acb82e4831f5",
   "metadata": {},
   "outputs": [],
   "source": [
    "boto3.Session().resource(\"s3\").Bucket(s3_bucket).Object(\n",
    "    os.path.join(s3_prefix, \"train/train.csv\")\n",
    ").upload_file(\"train.csv\")\n",
    "boto3.Session().resource(\"s3\").Bucket(s3_bucket).Object(\n",
    "    os.path.join(s3_prefix, \"validation/validation.csv\")\n",
    ").upload_file(\"validation.csv\")\n",
    "boto3.Session().resource(\"s3\").Bucket(s3_bucket).Object(\n",
    "    os.path.join(s3_prefix, \"test/test.csv\")\n",
    ").upload_file(\"test.csv\")"
   ]
  },
  {
   "cell_type": "markdown",
   "id": "411ceabf-d823-4854-b3ee-8c13acbdbfc6",
   "metadata": {},
   "source": [
    "#### Specify TrainingInput Data"
   ]
  },
  {
   "cell_type": "code",
   "execution_count": 18,
   "id": "17dd2ad1-a0b3-4db3-9584-489ae181aac3",
   "metadata": {},
   "outputs": [],
   "source": [
    "s3_input_train = TrainingInput(s3_data=\"s3://{}/{}/train\".format(s3_bucket, s3_prefix), content_type=\"csv\")\n",
    "s3_input_validation = TrainingInput(s3_data=\"s3://{}/{}/validation/\".format(s3_bucket, s3_prefix), content_type=\"csv\")\n",
    "\n",
    "#Store variable\n",
    "# %store s3_input_train\n",
    "# %store s3_input_validation"
   ]
  },
  {
   "cell_type": "markdown",
   "id": "58eaa6a2-dc9b-44f1-8e22-cc80c71b6900",
   "metadata": {},
   "source": [
    "## 2. Train the model"
   ]
  },
  {
   "cell_type": "markdown",
   "id": "09f93b88-3a77-4577-b959-4703221407fe",
   "metadata": {},
   "source": [
    "#### Set the Experiment"
   ]
  },
  {
   "cell_type": "code",
   "execution_count": 19,
   "id": "95c15507-b059-44a5-af84-42817b20f707",
   "metadata": {},
   "outputs": [],
   "source": [
    "# experiment_name\n",
    "create_date = lambda: strftime(\"%Y-%m-%d-%H-%M-%S\", gmtime())\n",
    "experiment_name=f\"byo-code-churn-prediction-xgboost-{create_date()}\""
   ]
  },
  {
   "cell_type": "markdown",
   "id": "942be122-ae61-4f10-889b-6055ddf7bc0b",
   "metadata": {},
   "source": [
    "#### Set Debugger"
   ]
  },
  {
   "cell_type": "code",
   "execution_count": 20,
   "id": "331a5ca5-af1c-4630-a8df-2500e52aea1b",
   "metadata": {},
   "outputs": [],
   "source": [
    "# Set Rules for SM Debugger\n",
    "debug_rules = [Rule.sagemaker(rule_configs.loss_not_decreasing()),\n",
    "               Rule.sagemaker(rule_configs.overtraining()),\n",
    "               Rule.sagemaker(rule_configs.overfit())\n",
    "              ]"
   ]
  },
  {
   "cell_type": "markdown",
   "id": "87ab4457-e9fe-45ff-8b2e-613338a083f6",
   "metadata": {},
   "source": [
    "#### Set Hyperparameter"
   ]
  },
  {
   "cell_type": "code",
   "execution_count": 21,
   "id": "cd5a5af9-46e1-4f1e-b077-21dfb18bd058",
   "metadata": {},
   "outputs": [],
   "source": [
    "#Set Hyperparameter\n",
    "hyperparams = {\"max_depth\":5,\n",
    "               \"subsample\":0.8,\n",
    "               \"num_round\":500,\n",
    "               \"eta\":0.2,\n",
    "               \"gamma\":4,\n",
    "               \"min_child_weight\":6,\n",
    "               \"objective\":'binary:logistic',\n",
    "               \"verbosity\": 0\n",
    "              }"
   ]
  },
  {
   "cell_type": "markdown",
   "id": "415ab438-f51e-44b5-9ffc-220406515df5",
   "metadata": {},
   "source": [
    "#### Set the Estimator"
   ]
  },
  {
   "cell_type": "code",
   "execution_count": 22,
   "id": "fbd95126-3588-4432-94dc-c04dfe786d83",
   "metadata": {},
   "outputs": [],
   "source": [
    "from sagemaker.xgboost.estimator import XGBoost\n",
    "train_script_name = 'train.py'\n",
    "model_xgb = XGBoost(image_uri=sm_xgb_image_name,\n",
    "                        entry_point=train_script_name,\n",
    "                        role=sm_exe_role,\n",
    "                        framework_version=sm_xgb_framework_version,\n",
    "                        py_version=\"py3\",\n",
    "                        hyperparameters=hyperparams,\n",
    "                        instance_count=1, \n",
    "                        instance_type='ml.m4.xlarge',\n",
    "                        output_path=f's3://{s3_bucket}/{s3_prefix}/output',\n",
    "                        base_job_name='BYO-Code-xgboost-customer-churn',\n",
    "                        sagemaker_session=sm_sess,\n",
    "                        rules=debug_rules\n",
    "                        )\n"
   ]
  },
  {
   "cell_type": "markdown",
   "id": "271312ba-a958-48a9-bdc5-9dd0c82c2c35",
   "metadata": {},
   "source": [
    "#### Fit the model - Wrapped up in Experiment Run/Trial"
   ]
  },
  {
   "cell_type": "code",
   "execution_count": 23,
   "id": "604e838f-8c32-40cb-9f6a-96c19cc5d507",
   "metadata": {},
   "outputs": [
    {
     "name": "stderr",
     "output_type": "stream",
     "text": [
      "INFO:sagemaker.image_uris:Defaulting to the only supported framework/algorithm version: latest.\n",
      "INFO:sagemaker.image_uris:Ignoring unnecessary instance type: None.\n",
      "INFO:sagemaker.image_uris:Defaulting to the only supported framework/algorithm version: latest.\n",
      "INFO:sagemaker.image_uris:Ignoring unnecessary instance type: None.\n",
      "INFO:sagemaker.image_uris:Defaulting to the only supported framework/algorithm version: latest.\n",
      "INFO:sagemaker.image_uris:Ignoring unnecessary instance type: None.\n",
      "INFO:sagemaker:Creating training-job with name: BYO-Code-xgboost-customer-churn-2024-06-06-15-40-14-731\n"
     ]
    },
    {
     "name": "stdout",
     "output_type": "stream",
     "text": [
      "2024-06-06 15:40:15 Starting - Starting the training job...\n",
      "2024-06-06 15:40:43 Starting - Preparing the instances for trainingLossNotDecreasing: InProgress\n",
      "Overtraining: InProgress\n",
      "Overfit: InProgress\n",
      "...\n",
      "2024-06-06 15:41:03 Downloading - Downloading input data...\n",
      "2024-06-06 15:41:43 Downloading - Downloading the training image......\n",
      "2024-06-06 15:42:44 Training - Training image download completed. Training in progress...\u001b[34m[2024-06-06 15:42:50.082 ip-10-0-115-124.ec2.internal:7 INFO utils.py:28] RULE_JOB_STOP_SIGNAL_FILENAME: None\u001b[0m\n",
      "\u001b[34m[2024-06-06 15:42:50.106 ip-10-0-115-124.ec2.internal:7 INFO profiler_config_parser.py:111] User has disabled profiler.\u001b[0m\n",
      "\u001b[34m[2024-06-06:15:42:50:INFO] Imported framework sagemaker_xgboost_container.training\u001b[0m\n",
      "\u001b[34m[2024-06-06:15:42:50:INFO] No GPUs detected (normal if no gpus installed)\u001b[0m\n",
      "\u001b[34m[2024-06-06:15:42:50:INFO] Invoking user training script.\u001b[0m\n",
      "\u001b[34m[2024-06-06:15:42:50:INFO] Module train does not provide a setup.py. \u001b[0m\n",
      "\u001b[34mGenerating setup.py\u001b[0m\n",
      "\u001b[34m[2024-06-06:15:42:50:INFO] Generating setup.cfg\u001b[0m\n",
      "\u001b[34m[2024-06-06:15:42:50:INFO] Generating MANIFEST.in\u001b[0m\n",
      "\u001b[34m[2024-06-06:15:42:50:INFO] Installing module with the following command:\u001b[0m\n",
      "\u001b[34m/miniconda3/bin/python3 -m pip install . \u001b[0m\n",
      "\u001b[34mProcessing /opt/ml/code\n",
      "  Preparing metadata (setup.py): started\n",
      "  Preparing metadata (setup.py): finished with status 'done'\u001b[0m\n",
      "\u001b[34mBuilding wheels for collected packages: train\n",
      "  Building wheel for train (setup.py): started\u001b[0m\n",
      "\u001b[34m  Building wheel for train (setup.py): finished with status 'done'\n",
      "  Created wheel for train: filename=train-1.0.0-py2.py3-none-any.whl size=4760 sha256=0e08e6377c0eb6031ca98541b3e424d23f306a2d1767abab7febfc7aadbed03a\n",
      "  Stored in directory: /home/model-server/tmp/pip-ephem-wheel-cache-lk1h3otu/wheels/f3/75/57/158162e9eab7af12b5c338c279b3a81f103b89d74eeb911c00\u001b[0m\n",
      "\u001b[34mSuccessfully built train\u001b[0m\n",
      "\u001b[34mInstalling collected packages: train\u001b[0m\n",
      "\u001b[34mSuccessfully installed train-1.0.0\u001b[0m\n",
      "\u001b[34mWARNING: Running pip as the 'root' user can result in broken permissions and conflicting behaviour with the system package manager. It is recommended to use a virtual environment instead: https://pip.pypa.io/warnings/venv\u001b[0m\n",
      "\u001b[34m[2024-06-06:15:42:52:INFO] No GPUs detected (normal if no gpus installed)\u001b[0m\n",
      "\u001b[34m[2024-06-06:15:42:52:INFO] Invoking user script\u001b[0m\n",
      "\u001b[34mTraining Env:\u001b[0m\n",
      "\u001b[34m{\n",
      "    \"additional_framework_parameters\": {},\n",
      "    \"channel_input_dirs\": {\n",
      "        \"train\": \"/opt/ml/input/data/train\",\n",
      "        \"validation\": \"/opt/ml/input/data/validation\"\n",
      "    },\n",
      "    \"current_host\": \"algo-1\",\n",
      "    \"framework_module\": \"sagemaker_xgboost_container.training:main\",\n",
      "    \"hosts\": [\n",
      "        \"algo-1\"\n",
      "    ],\n",
      "    \"hyperparameters\": {\n",
      "        \"eta\": 0.2,\n",
      "        \"gamma\": 4,\n",
      "        \"max_depth\": 5,\n",
      "        \"min_child_weight\": 6,\n",
      "        \"num_round\": 500,\n",
      "        \"objective\": \"binary:logistic\",\n",
      "        \"subsample\": 0.8,\n",
      "        \"verbosity\": 0\n",
      "    },\n",
      "    \"input_config_dir\": \"/opt/ml/input/config\",\n",
      "    \"input_data_config\": {\n",
      "        \"train\": {\n",
      "            \"ContentType\": \"csv\",\n",
      "            \"TrainingInputMode\": \"File\",\n",
      "            \"S3DistributionType\": \"FullyReplicated\",\n",
      "            \"RecordWrapperType\": \"None\"\n",
      "        },\n",
      "        \"validation\": {\n",
      "            \"ContentType\": \"csv\",\n",
      "            \"TrainingInputMode\": \"File\",\n",
      "            \"S3DistributionType\": \"FullyReplicated\",\n",
      "            \"RecordWrapperType\": \"None\"\n",
      "        }\n",
      "    },\n",
      "    \"input_dir\": \"/opt/ml/input\",\n",
      "    \"is_master\": true,\n",
      "    \"job_name\": \"BYO-Code-xgboost-customer-churn-2024-06-06-15-40-14-731\",\n",
      "    \"log_level\": 20,\n",
      "    \"master_hostname\": \"algo-1\",\n",
      "    \"model_dir\": \"/opt/ml/model\",\n",
      "    \"module_dir\": \"s3://bring-your-own-training-code-us-east-1-047922237497/BYO-Code-xgboost-customer-churn-2024-06-06-15-40-14-731/source/sourcedir.tar.gz\",\n",
      "    \"module_name\": \"train\",\n",
      "    \"network_interface_name\": \"eth0\",\n",
      "    \"num_cpus\": 4,\n",
      "    \"num_gpus\": 0,\n",
      "    \"output_data_dir\": \"/opt/ml/output/data\",\n",
      "    \"output_dir\": \"/opt/ml/output\",\n",
      "    \"output_intermediate_dir\": \"/opt/ml/output/intermediate\",\n",
      "    \"resource_config\": {\n",
      "        \"current_host\": \"algo-1\",\n",
      "        \"current_instance_type\": \"ml.m4.xlarge\",\n",
      "        \"current_group_name\": \"homogeneousCluster\",\n",
      "        \"hosts\": [\n",
      "            \"algo-1\"\n",
      "        ],\n",
      "        \"instance_groups\": [\n",
      "            {\n",
      "                \"instance_group_name\": \"homogeneousCluster\",\n",
      "                \"instance_type\": \"ml.m4.xlarge\",\n",
      "                \"hosts\": [\n",
      "                    \"algo-1\"\n",
      "                ]\n",
      "            }\n",
      "        ],\n",
      "        \"network_interface_name\": \"eth0\"\n",
      "    },\n",
      "    \"user_entry_point\": \"train.py\"\u001b[0m\n",
      "\u001b[34m}\u001b[0m\n",
      "\u001b[34mEnvironment variables:\u001b[0m\n",
      "\u001b[34mSM_HOSTS=[\"algo-1\"]\u001b[0m\n",
      "\u001b[34mSM_NETWORK_INTERFACE_NAME=eth0\u001b[0m\n",
      "\u001b[34mSM_HPS={\"eta\":0.2,\"gamma\":4,\"max_depth\":5,\"min_child_weight\":6,\"num_round\":500,\"objective\":\"binary:logistic\",\"subsample\":0.8,\"verbosity\":0}\u001b[0m\n",
      "\u001b[34mSM_USER_ENTRY_POINT=train.py\u001b[0m\n",
      "\u001b[34mSM_FRAMEWORK_PARAMS={}\u001b[0m\n",
      "\u001b[34mSM_RESOURCE_CONFIG={\"current_group_name\":\"homogeneousCluster\",\"current_host\":\"algo-1\",\"current_instance_type\":\"ml.m4.xlarge\",\"hosts\":[\"algo-1\"],\"instance_groups\":[{\"hosts\":[\"algo-1\"],\"instance_group_name\":\"homogeneousCluster\",\"instance_type\":\"ml.m4.xlarge\"}],\"network_interface_name\":\"eth0\"}\u001b[0m\n",
      "\u001b[34mSM_INPUT_DATA_CONFIG={\"train\":{\"ContentType\":\"csv\",\"RecordWrapperType\":\"None\",\"S3DistributionType\":\"FullyReplicated\",\"TrainingInputMode\":\"File\"},\"validation\":{\"ContentType\":\"csv\",\"RecordWrapperType\":\"None\",\"S3DistributionType\":\"FullyReplicated\",\"TrainingInputMode\":\"File\"}}\u001b[0m\n",
      "\u001b[34mSM_OUTPUT_DATA_DIR=/opt/ml/output/data\u001b[0m\n",
      "\u001b[34mSM_CHANNELS=[\"train\",\"validation\"]\u001b[0m\n",
      "\u001b[34mSM_CURRENT_HOST=algo-1\u001b[0m\n",
      "\u001b[34mSM_MODULE_NAME=train\u001b[0m\n",
      "\u001b[34mSM_LOG_LEVEL=20\u001b[0m\n",
      "\u001b[34mSM_FRAMEWORK_MODULE=sagemaker_xgboost_container.training:main\u001b[0m\n",
      "\u001b[34mSM_INPUT_DIR=/opt/ml/input\u001b[0m\n",
      "\u001b[34mSM_INPUT_CONFIG_DIR=/opt/ml/input/config\u001b[0m\n",
      "\u001b[34mSM_OUTPUT_DIR=/opt/ml/output\u001b[0m\n",
      "\u001b[34mSM_NUM_CPUS=4\u001b[0m\n",
      "\u001b[34mSM_NUM_GPUS=0\u001b[0m\n",
      "\u001b[34mSM_MODEL_DIR=/opt/ml/model\u001b[0m\n",
      "\u001b[34mSM_MODULE_DIR=s3://bring-your-own-training-code-us-east-1-047922237497/BYO-Code-xgboost-customer-churn-2024-06-06-15-40-14-731/source/sourcedir.tar.gz\u001b[0m\n",
      "\u001b[34mSM_TRAINING_ENV={\"additional_framework_parameters\":{},\"channel_input_dirs\":{\"train\":\"/opt/ml/input/data/train\",\"validation\":\"/opt/ml/input/data/validation\"},\"current_host\":\"algo-1\",\"framework_module\":\"sagemaker_xgboost_container.training:main\",\"hosts\":[\"algo-1\"],\"hyperparameters\":{\"eta\":0.2,\"gamma\":4,\"max_depth\":5,\"min_child_weight\":6,\"num_round\":500,\"objective\":\"binary:logistic\",\"subsample\":0.8,\"verbosity\":0},\"input_config_dir\":\"/opt/ml/input/config\",\"input_data_config\":{\"train\":{\"ContentType\":\"csv\",\"RecordWrapperType\":\"None\",\"S3DistributionType\":\"FullyReplicated\",\"TrainingInputMode\":\"File\"},\"validation\":{\"ContentType\":\"csv\",\"RecordWrapperType\":\"None\",\"S3DistributionType\":\"FullyReplicated\",\"TrainingInputMode\":\"File\"}},\"input_dir\":\"/opt/ml/input\",\"is_master\":true,\"job_name\":\"BYO-Code-xgboost-customer-churn-2024-06-06-15-40-14-731\",\"log_level\":20,\"master_hostname\":\"algo-1\",\"model_dir\":\"/opt/ml/model\",\"module_dir\":\"s3://bring-your-own-training-code-us-east-1-047922237497/BYO-Code-xgboost-customer-churn-2024-06-06-15-40-14-731/source/sourcedir.tar.gz\",\"module_name\":\"train\",\"network_interface_name\":\"eth0\",\"num_cpus\":4,\"num_gpus\":0,\"output_data_dir\":\"/opt/ml/output/data\",\"output_dir\":\"/opt/ml/output\",\"output_intermediate_dir\":\"/opt/ml/output/intermediate\",\"resource_config\":{\"current_group_name\":\"homogeneousCluster\",\"current_host\":\"algo-1\",\"current_instance_type\":\"ml.m4.xlarge\",\"hosts\":[\"algo-1\"],\"instance_groups\":[{\"hosts\":[\"algo-1\"],\"instance_group_name\":\"homogeneousCluster\",\"instance_type\":\"ml.m4.xlarge\"}],\"network_interface_name\":\"eth0\"},\"user_entry_point\":\"train.py\"}\u001b[0m\n",
      "\u001b[34mSM_USER_ARGS=[\"--eta\",\"0.2\",\"--gamma\",\"4\",\"--max_depth\",\"5\",\"--min_child_weight\",\"6\",\"--num_round\",\"500\",\"--objective\",\"binary:logistic\",\"--subsample\",\"0.8\",\"--verbosity\",\"0\"]\u001b[0m\n",
      "\u001b[34mSM_OUTPUT_INTERMEDIATE_DIR=/opt/ml/output/intermediate\u001b[0m\n",
      "\u001b[34mSM_CHANNEL_TRAIN=/opt/ml/input/data/train\u001b[0m\n",
      "\u001b[34mSM_CHANNEL_VALIDATION=/opt/ml/input/data/validation\u001b[0m\n",
      "\u001b[34mSM_HP_ETA=0.2\u001b[0m\n",
      "\u001b[34mSM_HP_GAMMA=4\u001b[0m\n",
      "\u001b[34mSM_HP_MAX_DEPTH=5\u001b[0m\n",
      "\u001b[34mSM_HP_MIN_CHILD_WEIGHT=6\u001b[0m\n",
      "\u001b[34mSM_HP_NUM_ROUND=500\u001b[0m\n",
      "\u001b[34mSM_HP_OBJECTIVE=binary:logistic\u001b[0m\n",
      "\u001b[34mSM_HP_SUBSAMPLE=0.8\u001b[0m\n",
      "\u001b[34mSM_HP_VERBOSITY=0\u001b[0m\n",
      "\u001b[34mPYTHONPATH=/miniconda3/bin:/:/miniconda3/lib/python/site-packages/xgboost/dmlc-core/tracker:/miniconda3/lib/python38.zip:/miniconda3/lib/python3.8:/miniconda3/lib/python3.8/lib-dynload:/miniconda3/lib/python3.8/site-packages\u001b[0m\n",
      "\u001b[34mInvoking script with the following command:\u001b[0m\n",
      "\u001b[34m/miniconda3/bin/python3 -m train --eta 0.2 --gamma 4 --max_depth 5 --min_child_weight 6 --num_round 500 --objective binary:logistic --subsample 0.8 --verbosity 0\u001b[0m\n",
      "\u001b[34m[2024-06-06 15:42:53.401 ip-10-0-115-124.ec2.internal:31 INFO utils.py:28] RULE_JOB_STOP_SIGNAL_FILENAME: None\u001b[0m\n",
      "\u001b[34m[2024-06-06 15:42:53.431 ip-10-0-115-124.ec2.internal:31 INFO profiler_config_parser.py:111] User has disabled profiler.\u001b[0m\n",
      "\u001b[34m[2024-06-06 15:42:53.474 ip-10-0-115-124.ec2.internal:31 INFO hook.py:206] tensorboard_dir has not been set for the hook. SMDebug will not be exporting tensorboard summaries.\u001b[0m\n",
      "\u001b[34m[2024-06-06 15:42:53.475 ip-10-0-115-124.ec2.internal:31 INFO hook.py:259] Saving to /opt/ml/output/tensors\u001b[0m\n",
      "\u001b[34m[2024-06-06 15:42:53.475 ip-10-0-115-124.ec2.internal:31 INFO state_store.py:77] The checkpoint config file /opt/ml/input/config/checkpointconfig.json does not exist.\u001b[0m\n",
      "\u001b[34m[0]#011train-logloss:0.55391#011validation-logloss:0.56351\u001b[0m\n",
      "\u001b[34m[2024-06-06 15:42:53.488 ip-10-0-115-124.ec2.internal:31 INFO hook.py:427] Monitoring the collections: metrics\u001b[0m\n",
      "\u001b[34m[2024-06-06 15:42:53.493 ip-10-0-115-124.ec2.internal:31 INFO hook.py:491] Hook is writing from the hook with pid: 31\u001b[0m\n",
      "\u001b[34m[1]#011train-logloss:0.45649#011validation-logloss:0.47718\u001b[0m\n",
      "\u001b[34m[2]#011train-logloss:0.38402#011validation-logloss:0.41103\u001b[0m\n",
      "\u001b[34m[3]#011train-logloss:0.33066#011validation-logloss:0.36148\u001b[0m\n",
      "\u001b[34m[4]#011train-logloss:0.29075#011validation-logloss:0.32655\u001b[0m\n",
      "\u001b[34m[5]#011train-logloss:0.26142#011validation-logloss:0.30352\u001b[0m\n",
      "\u001b[34m[6]#011train-logloss:0.23957#011validation-logloss:0.28609\u001b[0m\n",
      "\u001b[34m[7]#011train-logloss:0.22030#011validation-logloss:0.27007\u001b[0m\n",
      "\u001b[34m[8]#011train-logloss:0.20508#011validation-logloss:0.25862\u001b[0m\n",
      "\u001b[34m[9]#011train-logloss:0.19416#011validation-logloss:0.25169\u001b[0m\n",
      "\u001b[34m[10]#011train-logloss:0.18308#011validation-logloss:0.24472\u001b[0m\n",
      "\u001b[34m[11]#011train-logloss:0.17623#011validation-logloss:0.24082\u001b[0m\n",
      "\u001b[34m[12]#011train-logloss:0.16884#011validation-logloss:0.23610\u001b[0m\n",
      "\u001b[34m[13]#011train-logloss:0.16489#011validation-logloss:0.23516\u001b[0m\n",
      "\u001b[34m[14]#011train-logloss:0.16196#011validation-logloss:0.23534\u001b[0m\n",
      "\u001b[34m[15]#011train-logloss:0.15834#011validation-logloss:0.23434\u001b[0m\n",
      "\u001b[34m[16]#011train-logloss:0.15512#011validation-logloss:0.23275\u001b[0m\n",
      "\u001b[34m[17]#011train-logloss:0.15207#011validation-logloss:0.22999\u001b[0m\n",
      "\u001b[34m[18]#011train-logloss:0.14784#011validation-logloss:0.22678\u001b[0m\n",
      "\u001b[34m[19]#011train-logloss:0.14773#011validation-logloss:0.22710\u001b[0m\n",
      "\u001b[34m[20]#011train-logloss:0.14648#011validation-logloss:0.22785\u001b[0m\n",
      "\u001b[34m[21]#011train-logloss:0.14513#011validation-logloss:0.22797\u001b[0m\n",
      "\u001b[34m[22]#011train-logloss:0.14404#011validation-logloss:0.22702\u001b[0m\n",
      "\u001b[34m[23]#011train-logloss:0.14167#011validation-logloss:0.22698\u001b[0m\n",
      "\u001b[34m[24]#011train-logloss:0.13905#011validation-logloss:0.22506\u001b[0m\n",
      "\u001b[34m[25]#011train-logloss:0.13697#011validation-logloss:0.22638\u001b[0m\n",
      "\u001b[34m[26]#011train-logloss:0.13559#011validation-logloss:0.22647\u001b[0m\n",
      "\u001b[34m[27]#011train-logloss:0.13349#011validation-logloss:0.22925\u001b[0m\n",
      "\u001b[34m[28]#011train-logloss:0.13349#011validation-logloss:0.22916\u001b[0m\n",
      "\u001b[34m[29]#011train-logloss:0.13251#011validation-logloss:0.22884\u001b[0m\n",
      "\u001b[34m[30]#011train-logloss:0.13207#011validation-logloss:0.22839\u001b[0m\n",
      "\u001b[34m[31]#011train-logloss:0.13111#011validation-logloss:0.22928\u001b[0m\n",
      "\u001b[34m[32]#011train-logloss:0.13012#011validation-logloss:0.22864\u001b[0m\n",
      "\u001b[34m[33]#011train-logloss:0.12911#011validation-logloss:0.22866\u001b[0m\n",
      "\u001b[34m[34]#011train-logloss:0.12830#011validation-logloss:0.22981\u001b[0m\n",
      "\u001b[34m[35]#011train-logloss:0.12666#011validation-logloss:0.23020\u001b[0m\n",
      "\u001b[34m[36]#011train-logloss:0.12666#011validation-logloss:0.23013\u001b[0m\n",
      "\u001b[34m[37]#011train-logloss:0.12505#011validation-logloss:0.23038\u001b[0m\n",
      "\u001b[34m[38]#011train-logloss:0.12467#011validation-logloss:0.22944\u001b[0m\n",
      "\u001b[34m[39]#011train-logloss:0.12327#011validation-logloss:0.22921\u001b[0m\n",
      "\u001b[34m[40]#011train-logloss:0.12205#011validation-logloss:0.22817\u001b[0m\n",
      "\u001b[34m[41]#011train-logloss:0.12205#011validation-logloss:0.22826\u001b[0m\n",
      "\u001b[34m[42]#011train-logloss:0.12114#011validation-logloss:0.22815\u001b[0m\n",
      "\u001b[34m[43]#011train-logloss:0.12114#011validation-logloss:0.22828\u001b[0m\n",
      "\u001b[34m[44]#011train-logloss:0.12010#011validation-logloss:0.22953\u001b[0m\n",
      "\u001b[34m[45]#011train-logloss:0.12010#011validation-logloss:0.22977\u001b[0m\n",
      "\u001b[34m[46]#011train-logloss:0.11965#011validation-logloss:0.23094\u001b[0m\n",
      "\u001b[34m[47]#011train-logloss:0.11965#011validation-logloss:0.23106\u001b[0m\n",
      "\u001b[34m[48]#011train-logloss:0.11883#011validation-logloss:0.23037\u001b[0m\n",
      "\u001b[34m[49]#011train-logloss:0.11841#011validation-logloss:0.23094\u001b[0m\n",
      "\u001b[34m[50]#011train-logloss:0.11841#011validation-logloss:0.23094\u001b[0m\n",
      "\u001b[34m[51]#011train-logloss:0.11840#011validation-logloss:0.23090\u001b[0m\n",
      "\u001b[34m[52]#011train-logloss:0.11840#011validation-logloss:0.23073\u001b[0m\n",
      "\u001b[34m[53]#011train-logloss:0.11839#011validation-logloss:0.23058\u001b[0m\n",
      "\u001b[34m[54]#011train-logloss:0.11839#011validation-logloss:0.23048\u001b[0m\n",
      "\u001b[34m[55]#011train-logloss:0.11723#011validation-logloss:0.23110\u001b[0m\n",
      "\u001b[34m[56]#011train-logloss:0.11722#011validation-logloss:0.23074\u001b[0m\n",
      "\u001b[34m[57]#011train-logloss:0.11722#011validation-logloss:0.23076\u001b[0m\n",
      "\u001b[34m[58]#011train-logloss:0.11722#011validation-logloss:0.23064\u001b[0m\n",
      "\u001b[34m[59]#011train-logloss:0.11722#011validation-logloss:0.23095\u001b[0m\n",
      "\u001b[34m[60]#011train-logloss:0.11722#011validation-logloss:0.23074\u001b[0m\n",
      "\u001b[34m[61]#011train-logloss:0.11723#011validation-logloss:0.23111\u001b[0m\n",
      "\u001b[34m[62]#011train-logloss:0.11722#011validation-logloss:0.23091\u001b[0m\n",
      "\u001b[34m[63]#011train-logloss:0.11722#011validation-logloss:0.23079\u001b[0m\n",
      "\u001b[34m[64]#011train-logloss:0.11722#011validation-logloss:0.23074\u001b[0m\n",
      "\u001b[34m[65]#011train-logloss:0.11722#011validation-logloss:0.23083\u001b[0m\n",
      "\u001b[34m[66]#011train-logloss:0.11722#011validation-logloss:0.23077\u001b[0m\n",
      "\u001b[34m[67]#011train-logloss:0.11722#011validation-logloss:0.23055\u001b[0m\n",
      "\u001b[34m[68]#011train-logloss:0.11626#011validation-logloss:0.23087\u001b[0m\n",
      "\u001b[34m[69]#011train-logloss:0.11576#011validation-logloss:0.22914\u001b[0m\n",
      "\u001b[34m[70]#011train-logloss:0.11520#011validation-logloss:0.22925\u001b[0m\n",
      "\u001b[34m[71]#011train-logloss:0.11455#011validation-logloss:0.22847\u001b[0m\n",
      "\u001b[34m[72]#011train-logloss:0.11454#011validation-logloss:0.22881\u001b[0m\n",
      "\u001b[34m[73]#011train-logloss:0.11455#011validation-logloss:0.22897\u001b[0m\n",
      "\u001b[34m[74]#011train-logloss:0.11454#011validation-logloss:0.22883\u001b[0m\n",
      "\u001b[34m[75]#011train-logloss:0.11455#011validation-logloss:0.22896\u001b[0m\n",
      "\u001b[34m[76]#011train-logloss:0.11454#011validation-logloss:0.22889\u001b[0m\n",
      "\u001b[34m[77]#011train-logloss:0.11454#011validation-logloss:0.22885\u001b[0m\n",
      "\u001b[34m[78]#011train-logloss:0.11456#011validation-logloss:0.22930\u001b[0m\n",
      "\u001b[34m[79]#011train-logloss:0.11426#011validation-logloss:0.22927\u001b[0m\n",
      "\u001b[34m[80]#011train-logloss:0.11425#011validation-logloss:0.22882\u001b[0m\n",
      "\u001b[34m[81]#011train-logloss:0.11356#011validation-logloss:0.22972\u001b[0m\n",
      "\u001b[34m[82]#011train-logloss:0.11356#011validation-logloss:0.22962\u001b[0m\n",
      "\u001b[34m[83]#011train-logloss:0.11356#011validation-logloss:0.22971\u001b[0m\n",
      "\u001b[34m[84]#011train-logloss:0.11357#011validation-logloss:0.23003\u001b[0m\n",
      "\u001b[34m[85]#011train-logloss:0.11358#011validation-logloss:0.23021\u001b[0m\n",
      "\u001b[34m[86]#011train-logloss:0.11357#011validation-logloss:0.23010\u001b[0m\n",
      "\u001b[34m[87]#011train-logloss:0.11357#011validation-logloss:0.23005\u001b[0m\n",
      "\u001b[34m[88]#011train-logloss:0.11356#011validation-logloss:0.22973\u001b[0m\n",
      "\u001b[34m[89]#011train-logloss:0.11356#011validation-logloss:0.22976\u001b[0m\n",
      "\u001b[34m[90]#011train-logloss:0.11357#011validation-logloss:0.23016\u001b[0m\n",
      "\u001b[34m[91]#011train-logloss:0.11358#011validation-logloss:0.23026\u001b[0m\n",
      "\u001b[34m[92]#011train-logloss:0.11357#011validation-logloss:0.22991\u001b[0m\n",
      "\u001b[34m[93]#011train-logloss:0.11357#011validation-logloss:0.23017\u001b[0m\n",
      "\u001b[34m[94]#011train-logloss:0.11357#011validation-logloss:0.23007\u001b[0m\n",
      "\u001b[34m[95]#011train-logloss:0.11358#011validation-logloss:0.23024\u001b[0m\n",
      "\u001b[34m[96]#011train-logloss:0.11357#011validation-logloss:0.22992\u001b[0m\n",
      "\u001b[34m[97]#011train-logloss:0.11356#011validation-logloss:0.22970\u001b[0m\n",
      "\u001b[34m[98]#011train-logloss:0.11356#011validation-logloss:0.22973\u001b[0m\n",
      "\u001b[34m[99]#011train-logloss:0.11356#011validation-logloss:0.22960\u001b[0m\n",
      "\u001b[34m[100]#011train-logloss:0.11292#011validation-logloss:0.23004\u001b[0m\n",
      "\u001b[34m[101]#011train-logloss:0.11292#011validation-logloss:0.23015\u001b[0m\n",
      "\u001b[34m[102]#011train-logloss:0.11292#011validation-logloss:0.23001\u001b[0m\n",
      "\u001b[34m[103]#011train-logloss:0.11292#011validation-logloss:0.23013\u001b[0m\n",
      "\u001b[34m[104]#011train-logloss:0.11292#011validation-logloss:0.23009\u001b[0m\n",
      "\u001b[34m[105]#011train-logloss:0.11264#011validation-logloss:0.22956\u001b[0m\n",
      "\u001b[34m[106]#011train-logloss:0.11265#011validation-logloss:0.22976\u001b[0m\n",
      "\u001b[34m[107]#011train-logloss:0.11265#011validation-logloss:0.22981\u001b[0m\n",
      "\u001b[34m[108]#011train-logloss:0.11264#011validation-logloss:0.22960\u001b[0m\n",
      "\u001b[34m[109]#011train-logloss:0.11264#011validation-logloss:0.22960\u001b[0m\n",
      "\u001b[34m[110]#011train-logloss:0.11184#011validation-logloss:0.22927\u001b[0m\n",
      "\u001b[34m[111]#011train-logloss:0.11185#011validation-logloss:0.22947\u001b[0m\n",
      "\u001b[34m[112]#011train-logloss:0.11184#011validation-logloss:0.22914\u001b[0m\n",
      "\u001b[34m[113]#011train-logloss:0.11184#011validation-logloss:0.22926\u001b[0m\n",
      "\u001b[34m[114]#011train-logloss:0.11184#011validation-logloss:0.22907\u001b[0m\n",
      "\u001b[34m[115]#011train-logloss:0.11184#011validation-logloss:0.22913\u001b[0m\n",
      "\u001b[34m[116]#011train-logloss:0.11184#011validation-logloss:0.22910\u001b[0m\n",
      "\u001b[34m[117]#011train-logloss:0.11113#011validation-logloss:0.22886\u001b[0m\n",
      "\u001b[34m[118]#011train-logloss:0.11113#011validation-logloss:0.22896\u001b[0m\n",
      "\u001b[34m[119]#011train-logloss:0.11113#011validation-logloss:0.22877\u001b[0m\n",
      "\u001b[34m[120]#011train-logloss:0.11113#011validation-logloss:0.22880\u001b[0m\n",
      "\u001b[34m[121]#011train-logloss:0.11113#011validation-logloss:0.22881\u001b[0m\n",
      "\u001b[34m[122]#011train-logloss:0.11113#011validation-logloss:0.22899\u001b[0m\n",
      "\u001b[34m[123]#011train-logloss:0.11113#011validation-logloss:0.22883\u001b[0m\n",
      "\u001b[34m[124]#011train-logloss:0.11113#011validation-logloss:0.22882\u001b[0m\n",
      "\u001b[34m[125]#011train-logloss:0.11114#011validation-logloss:0.22864\u001b[0m\n",
      "\u001b[34m[126]#011train-logloss:0.11114#011validation-logloss:0.22853\u001b[0m\n",
      "\u001b[34m[127]#011train-logloss:0.11114#011validation-logloss:0.22866\u001b[0m\n",
      "\u001b[34m[128]#011train-logloss:0.11071#011validation-logloss:0.22914\u001b[0m\n",
      "\u001b[34m[129]#011train-logloss:0.11071#011validation-logloss:0.22907\u001b[0m\n",
      "\u001b[34m[130]#011train-logloss:0.11071#011validation-logloss:0.22910\u001b[0m\n",
      "\u001b[34m[131]#011train-logloss:0.11071#011validation-logloss:0.22927\u001b[0m\n",
      "\u001b[34m[132]#011train-logloss:0.11071#011validation-logloss:0.22938\u001b[0m\n",
      "\u001b[34m[133]#011train-logloss:0.11071#011validation-logloss:0.22945\u001b[0m\n",
      "\u001b[34m[134]#011train-logloss:0.11071#011validation-logloss:0.22919\u001b[0m\n",
      "\u001b[34m[135]#011train-logloss:0.11071#011validation-logloss:0.22922\u001b[0m\n",
      "\u001b[34m[136]#011train-logloss:0.11071#011validation-logloss:0.22917\u001b[0m\n",
      "\u001b[34m[137]#011train-logloss:0.11071#011validation-logloss:0.22915\u001b[0m\n",
      "\u001b[34m[138]#011train-logloss:0.11071#011validation-logloss:0.22910\u001b[0m\n",
      "\u001b[34m[139]#011train-logloss:0.11072#011validation-logloss:0.22878\u001b[0m\n",
      "\u001b[34m[140]#011train-logloss:0.10998#011validation-logloss:0.22910\u001b[0m\n",
      "\u001b[34m[141]#011train-logloss:0.10997#011validation-logloss:0.22923\u001b[0m\n",
      "\u001b[34m[142]#011train-logloss:0.10998#011validation-logloss:0.22898\u001b[0m\n",
      "\u001b[34m[143]#011train-logloss:0.10946#011validation-logloss:0.22951\u001b[0m\n",
      "\u001b[34m[144]#011train-logloss:0.10947#011validation-logloss:0.22947\u001b[0m\n",
      "\u001b[34m[145]#011train-logloss:0.10945#011validation-logloss:0.22985\u001b[0m\n",
      "\u001b[34m[146]#011train-logloss:0.10945#011validation-logloss:0.22989\u001b[0m\n",
      "\u001b[34m[147]#011train-logloss:0.10887#011validation-logloss:0.23114\u001b[0m\n",
      "\u001b[34m[148]#011train-logloss:0.10887#011validation-logloss:0.23076\u001b[0m\n",
      "\u001b[34m[149]#011train-logloss:0.10887#011validation-logloss:0.23080\u001b[0m\n",
      "\u001b[34m[150]#011train-logloss:0.10887#011validation-logloss:0.23097\u001b[0m\n",
      "\u001b[34m[151]#011train-logloss:0.10887#011validation-logloss:0.23119\u001b[0m\n",
      "\u001b[34m[152]#011train-logloss:0.10831#011validation-logloss:0.23249\u001b[0m\n",
      "\u001b[34m[153]#011train-logloss:0.10831#011validation-logloss:0.23231\u001b[0m\n",
      "\u001b[34m[154]#011train-logloss:0.10832#011validation-logloss:0.23254\u001b[0m\n",
      "\u001b[34m[155]#011train-logloss:0.10831#011validation-logloss:0.23226\u001b[0m\n",
      "\u001b[34m[156]#011train-logloss:0.10831#011validation-logloss:0.23221\u001b[0m\n",
      "\u001b[34m[157]#011train-logloss:0.10831#011validation-logloss:0.23211\u001b[0m\n",
      "\u001b[34m[158]#011train-logloss:0.10783#011validation-logloss:0.23188\u001b[0m\n",
      "\u001b[34m[159]#011train-logloss:0.10783#011validation-logloss:0.23214\u001b[0m\n",
      "\u001b[34m[160]#011train-logloss:0.10783#011validation-logloss:0.23203\u001b[0m\n",
      "\u001b[34m[161]#011train-logloss:0.10783#011validation-logloss:0.23220\u001b[0m\n",
      "\u001b[34m[162]#011train-logloss:0.10783#011validation-logloss:0.23217\u001b[0m\n",
      "\u001b[34m[163]#011train-logloss:0.10783#011validation-logloss:0.23223\u001b[0m\n",
      "\u001b[34m[164]#011train-logloss:0.10783#011validation-logloss:0.23213\u001b[0m\n",
      "\u001b[34m[165]#011train-logloss:0.10700#011validation-logloss:0.23326\u001b[0m\n",
      "\u001b[34m[166]#011train-logloss:0.10700#011validation-logloss:0.23332\u001b[0m\n",
      "\u001b[34m[167]#011train-logloss:0.10700#011validation-logloss:0.23330\u001b[0m\n",
      "\u001b[34m[168]#011train-logloss:0.10700#011validation-logloss:0.23324\u001b[0m\n",
      "\u001b[34m[169]#011train-logloss:0.10699#011validation-logloss:0.23307\u001b[0m\n",
      "\u001b[34m[170]#011train-logloss:0.10699#011validation-logloss:0.23305\u001b[0m\n",
      "\u001b[34m[171]#011train-logloss:0.10699#011validation-logloss:0.23296\u001b[0m\n",
      "\u001b[34m[172]#011train-logloss:0.10700#011validation-logloss:0.23281\u001b[0m\n",
      "\u001b[34m[173]#011train-logloss:0.10699#011validation-logloss:0.23307\u001b[0m\n",
      "\u001b[34m[174]#011train-logloss:0.10699#011validation-logloss:0.23306\u001b[0m\n",
      "\u001b[34m[175]#011train-logloss:0.10700#011validation-logloss:0.23319\u001b[0m\n",
      "\u001b[34m[176]#011train-logloss:0.10700#011validation-logloss:0.23342\u001b[0m\n",
      "\u001b[34m[177]#011train-logloss:0.10700#011validation-logloss:0.23335\u001b[0m\n",
      "\u001b[34m[178]#011train-logloss:0.10700#011validation-logloss:0.23328\u001b[0m\n",
      "\u001b[34m[179]#011train-logloss:0.10627#011validation-logloss:0.23409\u001b[0m\n",
      "\u001b[34m[180]#011train-logloss:0.10627#011validation-logloss:0.23378\u001b[0m\n",
      "\u001b[34m[181]#011train-logloss:0.10567#011validation-logloss:0.23476\u001b[0m\n",
      "\u001b[34m[182]#011train-logloss:0.10567#011validation-logloss:0.23456\u001b[0m\n",
      "\u001b[34m[183]#011train-logloss:0.10567#011validation-logloss:0.23466\u001b[0m\n",
      "\u001b[34m[184]#011train-logloss:0.10505#011validation-logloss:0.23502\u001b[0m\n",
      "\u001b[34m[185]#011train-logloss:0.10505#011validation-logloss:0.23483\u001b[0m\n",
      "\u001b[34m[186]#011train-logloss:0.10447#011validation-logloss:0.23484\u001b[0m\n",
      "\u001b[34m[187]#011train-logloss:0.10447#011validation-logloss:0.23484\u001b[0m\n",
      "\u001b[34m[188]#011train-logloss:0.10447#011validation-logloss:0.23472\u001b[0m\n",
      "\u001b[34m[189]#011train-logloss:0.10447#011validation-logloss:0.23476\u001b[0m\n",
      "\u001b[34m[190]#011train-logloss:0.10347#011validation-logloss:0.23489\u001b[0m\n",
      "\u001b[34m[191]#011train-logloss:0.10297#011validation-logloss:0.23544\u001b[0m\n",
      "\u001b[34m[192]#011train-logloss:0.10297#011validation-logloss:0.23533\u001b[0m\n",
      "\u001b[34m[193]#011train-logloss:0.10234#011validation-logloss:0.23482\u001b[0m\n",
      "\u001b[34m[194]#011train-logloss:0.10234#011validation-logloss:0.23488\u001b[0m\n",
      "\u001b[34m[195]#011train-logloss:0.10234#011validation-logloss:0.23482\u001b[0m\n",
      "\u001b[34m[196]#011train-logloss:0.10234#011validation-logloss:0.23503\u001b[0m\n",
      "\u001b[34m[197]#011train-logloss:0.10234#011validation-logloss:0.23478\u001b[0m\n",
      "\u001b[34m[198]#011train-logloss:0.10234#011validation-logloss:0.23486\u001b[0m\n",
      "\u001b[34m[199]#011train-logloss:0.10234#011validation-logloss:0.23510\u001b[0m\n",
      "\u001b[34m[200]#011train-logloss:0.10234#011validation-logloss:0.23481\u001b[0m\n",
      "\u001b[34m[201]#011train-logloss:0.10196#011validation-logloss:0.23465\u001b[0m\n",
      "\u001b[34m[202]#011train-logloss:0.10196#011validation-logloss:0.23471\u001b[0m\n",
      "\u001b[34m[203]#011train-logloss:0.10196#011validation-logloss:0.23466\u001b[0m\n",
      "\u001b[34m[204]#011train-logloss:0.10196#011validation-logloss:0.23482\u001b[0m\n",
      "\u001b[34m[205]#011train-logloss:0.10196#011validation-logloss:0.23469\u001b[0m\n",
      "\u001b[34m[206]#011train-logloss:0.10197#011validation-logloss:0.23447\u001b[0m\n",
      "\u001b[34m[207]#011train-logloss:0.10197#011validation-logloss:0.23435\u001b[0m\n",
      "\u001b[34m[208]#011train-logloss:0.10197#011validation-logloss:0.23446\u001b[0m\n",
      "\u001b[34m[209]#011train-logloss:0.10197#011validation-logloss:0.23453\u001b[0m\n",
      "\u001b[34m[210]#011train-logloss:0.10197#011validation-logloss:0.23437\u001b[0m\n",
      "\u001b[34m[211]#011train-logloss:0.10196#011validation-logloss:0.23460\u001b[0m\n",
      "\u001b[34m[212]#011train-logloss:0.10196#011validation-logloss:0.23467\u001b[0m\n",
      "\u001b[34m[213]#011train-logloss:0.10196#011validation-logloss:0.23476\u001b[0m\n",
      "\u001b[34m[214]#011train-logloss:0.10164#011validation-logloss:0.23432\u001b[0m\n",
      "\u001b[34m[215]#011train-logloss:0.10163#011validation-logloss:0.23445\u001b[0m\n",
      "\u001b[34m[216]#011train-logloss:0.10163#011validation-logloss:0.23452\u001b[0m\n",
      "\u001b[34m[217]#011train-logloss:0.10163#011validation-logloss:0.23464\u001b[0m\n",
      "\u001b[34m[218]#011train-logloss:0.10163#011validation-logloss:0.23450\u001b[0m\n",
      "\u001b[34m[219]#011train-logloss:0.10163#011validation-logloss:0.23456\u001b[0m\n",
      "\u001b[34m[220]#011train-logloss:0.10163#011validation-logloss:0.23453\u001b[0m\n",
      "\u001b[34m[221]#011train-logloss:0.10163#011validation-logloss:0.23444\u001b[0m\n",
      "\u001b[34m[222]#011train-logloss:0.10163#011validation-logloss:0.23445\u001b[0m\n",
      "\u001b[34m[223]#011train-logloss:0.10163#011validation-logloss:0.23446\u001b[0m\n",
      "\u001b[34m[224]#011train-logloss:0.10163#011validation-logloss:0.23459\u001b[0m\n",
      "\u001b[34m[225]#011train-logloss:0.10163#011validation-logloss:0.23465\u001b[0m\n",
      "\u001b[34m[226]#011train-logloss:0.10163#011validation-logloss:0.23451\u001b[0m\n",
      "\u001b[34m[227]#011train-logloss:0.10163#011validation-logloss:0.23482\u001b[0m\n",
      "\u001b[34m[228]#011train-logloss:0.10163#011validation-logloss:0.23466\u001b[0m\n",
      "\u001b[34m[229]#011train-logloss:0.10163#011validation-logloss:0.23472\u001b[0m\n",
      "\u001b[34m[230]#011train-logloss:0.10163#011validation-logloss:0.23463\u001b[0m\n",
      "\u001b[34m[231]#011train-logloss:0.10045#011validation-logloss:0.23522\u001b[0m\n",
      "\u001b[34m[232]#011train-logloss:0.10045#011validation-logloss:0.23492\u001b[0m\n",
      "\u001b[34m[233]#011train-logloss:0.10045#011validation-logloss:0.23499\u001b[0m\n",
      "\u001b[34m[234]#011train-logloss:0.10046#011validation-logloss:0.23484\u001b[0m\n",
      "\u001b[34m[235]#011train-logloss:0.10046#011validation-logloss:0.23474\u001b[0m\n",
      "\u001b[34m[236]#011train-logloss:0.10045#011validation-logloss:0.23498\u001b[0m\n",
      "\u001b[34m[237]#011train-logloss:0.10045#011validation-logloss:0.23510\u001b[0m\n",
      "\u001b[34m[238]#011train-logloss:0.10045#011validation-logloss:0.23498\u001b[0m\n",
      "\u001b[34m[239]#011train-logloss:0.10045#011validation-logloss:0.23507\u001b[0m\n",
      "\u001b[34m[240]#011train-logloss:0.10045#011validation-logloss:0.23513\u001b[0m\n",
      "\u001b[34m[241]#011train-logloss:0.10045#011validation-logloss:0.23536\u001b[0m\n",
      "\u001b[34m[242]#011train-logloss:0.10045#011validation-logloss:0.23534\u001b[0m\n",
      "\u001b[34m[243]#011train-logloss:0.10045#011validation-logloss:0.23521\u001b[0m\n",
      "\u001b[34m[244]#011train-logloss:0.10045#011validation-logloss:0.23542\u001b[0m\n",
      "\u001b[34m[245]#011train-logloss:0.10045#011validation-logloss:0.23546\u001b[0m\n",
      "\u001b[34m[246]#011train-logloss:0.09986#011validation-logloss:0.23601\u001b[0m\n",
      "\u001b[34m[247]#011train-logloss:0.09986#011validation-logloss:0.23570\u001b[0m\n",
      "\u001b[34m[248]#011train-logloss:0.09986#011validation-logloss:0.23572\u001b[0m\n",
      "\u001b[34m[249]#011train-logloss:0.09986#011validation-logloss:0.23591\u001b[0m\n",
      "\u001b[34m[250]#011train-logloss:0.09986#011validation-logloss:0.23587\u001b[0m\n",
      "\u001b[34m[251]#011train-logloss:0.09986#011validation-logloss:0.23601\u001b[0m\n",
      "\u001b[34m[252]#011train-logloss:0.09986#011validation-logloss:0.23591\u001b[0m\n",
      "\u001b[34m[253]#011train-logloss:0.09986#011validation-logloss:0.23591\u001b[0m\n",
      "\u001b[34m[254]#011train-logloss:0.09986#011validation-logloss:0.23571\u001b[0m\n",
      "\u001b[34m[255]#011train-logloss:0.09986#011validation-logloss:0.23570\u001b[0m\n",
      "\u001b[34m[256]#011train-logloss:0.09986#011validation-logloss:0.23548\u001b[0m\n",
      "\u001b[34m[257]#011train-logloss:0.09986#011validation-logloss:0.23569\u001b[0m\n",
      "\u001b[34m[258]#011train-logloss:0.09986#011validation-logloss:0.23587\u001b[0m\n",
      "\u001b[34m[259]#011train-logloss:0.09986#011validation-logloss:0.23583\u001b[0m\n",
      "\u001b[34m[260]#011train-logloss:0.09986#011validation-logloss:0.23569\u001b[0m\n",
      "\u001b[34m[261]#011train-logloss:0.09986#011validation-logloss:0.23569\u001b[0m\n",
      "\u001b[34m[262]#011train-logloss:0.09986#011validation-logloss:0.23541\u001b[0m\n",
      "\u001b[34m[263]#011train-logloss:0.09986#011validation-logloss:0.23567\u001b[0m\n",
      "\u001b[34m[264]#011train-logloss:0.09986#011validation-logloss:0.23567\u001b[0m\n",
      "\u001b[34m[265]#011train-logloss:0.09986#011validation-logloss:0.23590\u001b[0m\n",
      "\u001b[34m[266]#011train-logloss:0.09986#011validation-logloss:0.23588\u001b[0m\n",
      "\u001b[34m[267]#011train-logloss:0.09986#011validation-logloss:0.23590\u001b[0m\n",
      "\u001b[34m[268]#011train-logloss:0.09986#011validation-logloss:0.23573\u001b[0m\n",
      "\u001b[34m[269]#011train-logloss:0.09986#011validation-logloss:0.23580\u001b[0m\n",
      "\u001b[34m[270]#011train-logloss:0.09986#011validation-logloss:0.23571\u001b[0m\n",
      "\u001b[34m[271]#011train-logloss:0.09986#011validation-logloss:0.23581\u001b[0m\n",
      "\u001b[34m[272]#011train-logloss:0.09986#011validation-logloss:0.23576\u001b[0m\n",
      "\u001b[34m[273]#011train-logloss:0.09986#011validation-logloss:0.23597\u001b[0m\n",
      "\u001b[34m[274]#011train-logloss:0.09986#011validation-logloss:0.23576\u001b[0m\n",
      "\u001b[34m[275]#011train-logloss:0.09960#011validation-logloss:0.23651\u001b[0m\n",
      "\u001b[34m[276]#011train-logloss:0.09884#011validation-logloss:0.23719\u001b[0m\n",
      "\u001b[34m[277]#011train-logloss:0.09884#011validation-logloss:0.23736\u001b[0m\n",
      "\u001b[34m[278]#011train-logloss:0.09884#011validation-logloss:0.23726\u001b[0m\n",
      "\u001b[34m[279]#011train-logloss:0.09884#011validation-logloss:0.23741\u001b[0m\n",
      "\u001b[34m[280]#011train-logloss:0.09884#011validation-logloss:0.23707\u001b[0m\n",
      "\u001b[34m[281]#011train-logloss:0.09884#011validation-logloss:0.23720\u001b[0m\n",
      "\u001b[34m[282]#011train-logloss:0.09884#011validation-logloss:0.23721\u001b[0m\n",
      "\u001b[34m[283]#011train-logloss:0.09884#011validation-logloss:0.23722\u001b[0m\n",
      "\u001b[34m[284]#011train-logloss:0.09884#011validation-logloss:0.23704\u001b[0m\n",
      "\u001b[34m[285]#011train-logloss:0.09884#011validation-logloss:0.23725\u001b[0m\n",
      "\u001b[34m[286]#011train-logloss:0.09884#011validation-logloss:0.23732\u001b[0m\n",
      "\u001b[34m[287]#011train-logloss:0.09884#011validation-logloss:0.23721\u001b[0m\n",
      "\u001b[34m[288]#011train-logloss:0.09885#011validation-logloss:0.23695\u001b[0m\n",
      "\u001b[34m[289]#011train-logloss:0.09884#011validation-logloss:0.23722\u001b[0m\n",
      "\u001b[34m[290]#011train-logloss:0.09884#011validation-logloss:0.23713\u001b[0m\n",
      "\u001b[34m[291]#011train-logloss:0.09884#011validation-logloss:0.23707\u001b[0m\n",
      "\u001b[34m[292]#011train-logloss:0.09885#011validation-logloss:0.23690\u001b[0m\n",
      "\u001b[34m[293]#011train-logloss:0.09884#011validation-logloss:0.23708\u001b[0m\n",
      "\u001b[34m[294]#011train-logloss:0.09884#011validation-logloss:0.23712\u001b[0m\n",
      "\u001b[34m[295]#011train-logloss:0.09884#011validation-logloss:0.23740\u001b[0m\n",
      "\u001b[34m[296]#011train-logloss:0.09884#011validation-logloss:0.23755\u001b[0m\n",
      "\u001b[34m[297]#011train-logloss:0.09845#011validation-logloss:0.23700\u001b[0m\n",
      "\u001b[34m[298]#011train-logloss:0.09845#011validation-logloss:0.23704\u001b[0m\n",
      "\u001b[34m[299]#011train-logloss:0.09845#011validation-logloss:0.23701\u001b[0m\n",
      "\u001b[34m[300]#011train-logloss:0.09845#011validation-logloss:0.23696\u001b[0m\n",
      "\u001b[34m[301]#011train-logloss:0.09845#011validation-logloss:0.23701\u001b[0m\n",
      "\u001b[34m[302]#011train-logloss:0.09845#011validation-logloss:0.23701\u001b[0m\n",
      "\u001b[34m[303]#011train-logloss:0.09845#011validation-logloss:0.23707\u001b[0m\n",
      "\u001b[34m[304]#011train-logloss:0.09766#011validation-logloss:0.23787\u001b[0m\n",
      "\u001b[34m[305]#011train-logloss:0.09766#011validation-logloss:0.23812\u001b[0m\n",
      "\u001b[34m[306]#011train-logloss:0.09766#011validation-logloss:0.23812\u001b[0m\n",
      "\u001b[34m[307]#011train-logloss:0.09704#011validation-logloss:0.23789\u001b[0m\n",
      "\u001b[34m[308]#011train-logloss:0.09704#011validation-logloss:0.23767\u001b[0m\n",
      "\u001b[34m[309]#011train-logloss:0.09705#011validation-logloss:0.23747\u001b[0m\n",
      "\u001b[34m[310]#011train-logloss:0.09705#011validation-logloss:0.23752\u001b[0m\n",
      "\u001b[34m[311]#011train-logloss:0.09643#011validation-logloss:0.23654\u001b[0m\n",
      "\u001b[34m[312]#011train-logloss:0.09643#011validation-logloss:0.23656\u001b[0m\n",
      "\u001b[34m[313]#011train-logloss:0.09643#011validation-logloss:0.23669\u001b[0m\n",
      "\u001b[34m[314]#011train-logloss:0.09643#011validation-logloss:0.23686\u001b[0m\n",
      "\u001b[34m[315]#011train-logloss:0.09643#011validation-logloss:0.23689\u001b[0m\n",
      "\u001b[34m[316]#011train-logloss:0.09644#011validation-logloss:0.23712\u001b[0m\n",
      "\u001b[34m[317]#011train-logloss:0.09643#011validation-logloss:0.23697\u001b[0m\n",
      "\u001b[34m[318]#011train-logloss:0.09643#011validation-logloss:0.23699\u001b[0m\n",
      "\u001b[34m[319]#011train-logloss:0.09643#011validation-logloss:0.23674\u001b[0m\n",
      "\u001b[34m[320]#011train-logloss:0.09643#011validation-logloss:0.23667\u001b[0m\n",
      "\u001b[34m[321]#011train-logloss:0.09643#011validation-logloss:0.23669\u001b[0m\n",
      "\u001b[34m[322]#011train-logloss:0.09643#011validation-logloss:0.23659\u001b[0m\n",
      "\u001b[34m[323]#011train-logloss:0.09643#011validation-logloss:0.23655\u001b[0m\n",
      "\u001b[34m[324]#011train-logloss:0.09643#011validation-logloss:0.23671\u001b[0m\n",
      "\u001b[34m[325]#011train-logloss:0.09644#011validation-logloss:0.23721\u001b[0m\n",
      "\u001b[34m[326]#011train-logloss:0.09645#011validation-logloss:0.23734\u001b[0m\n",
      "\u001b[34m[327]#011train-logloss:0.09644#011validation-logloss:0.23720\u001b[0m\n",
      "\u001b[34m[328]#011train-logloss:0.09644#011validation-logloss:0.23721\u001b[0m\n",
      "\u001b[34m[329]#011train-logloss:0.09643#011validation-logloss:0.23695\u001b[0m\n",
      "\u001b[34m[330]#011train-logloss:0.09643#011validation-logloss:0.23676\u001b[0m\n",
      "\u001b[34m[331]#011train-logloss:0.09643#011validation-logloss:0.23667\u001b[0m\n",
      "\u001b[34m[332]#011train-logloss:0.09643#011validation-logloss:0.23671\u001b[0m\n",
      "\u001b[34m[333]#011train-logloss:0.09643#011validation-logloss:0.23670\u001b[0m\n",
      "\u001b[34m[334]#011train-logloss:0.09644#011validation-logloss:0.23647\u001b[0m\n",
      "\u001b[34m[335]#011train-logloss:0.09644#011validation-logloss:0.23633\u001b[0m\n",
      "\u001b[34m[336]#011train-logloss:0.09644#011validation-logloss:0.23629\u001b[0m\n",
      "\u001b[34m[337]#011train-logloss:0.09644#011validation-logloss:0.23646\u001b[0m\n",
      "\u001b[34m[338]#011train-logloss:0.09643#011validation-logloss:0.23663\u001b[0m\n",
      "\u001b[34m[339]#011train-logloss:0.09643#011validation-logloss:0.23671\u001b[0m\n",
      "\u001b[34m[340]#011train-logloss:0.09643#011validation-logloss:0.23692\u001b[0m\n",
      "\u001b[34m[341]#011train-logloss:0.09644#011validation-logloss:0.23706\u001b[0m\n",
      "\u001b[34m[342]#011train-logloss:0.09643#011validation-logloss:0.23685\u001b[0m\n",
      "\u001b[34m[343]#011train-logloss:0.09643#011validation-logloss:0.23672\u001b[0m\n",
      "\u001b[34m[344]#011train-logloss:0.09643#011validation-logloss:0.23693\u001b[0m\n",
      "\u001b[34m[345]#011train-logloss:0.09643#011validation-logloss:0.23656\u001b[0m\n",
      "\u001b[34m[346]#011train-logloss:0.09643#011validation-logloss:0.23660\u001b[0m\n",
      "\u001b[34m[347]#011train-logloss:0.09643#011validation-logloss:0.23653\u001b[0m\n",
      "\u001b[34m[348]#011train-logloss:0.09643#011validation-logloss:0.23649\u001b[0m\n",
      "\u001b[34m[349]#011train-logloss:0.09643#011validation-logloss:0.23660\u001b[0m\n",
      "\u001b[34m[350]#011train-logloss:0.09643#011validation-logloss:0.23661\u001b[0m\n",
      "\u001b[34m[351]#011train-logloss:0.09643#011validation-logloss:0.23671\u001b[0m\n",
      "\u001b[34m[352]#011train-logloss:0.09643#011validation-logloss:0.23665\u001b[0m\n",
      "\u001b[34m[353]#011train-logloss:0.09643#011validation-logloss:0.23678\u001b[0m\n",
      "\u001b[34m[354]#011train-logloss:0.09643#011validation-logloss:0.23702\u001b[0m\n",
      "\u001b[34m[355]#011train-logloss:0.09643#011validation-logloss:0.23686\u001b[0m\n",
      "\u001b[34m[356]#011train-logloss:0.09643#011validation-logloss:0.23675\u001b[0m\n",
      "\u001b[34m[357]#011train-logloss:0.09643#011validation-logloss:0.23691\u001b[0m\n",
      "\u001b[34m[358]#011train-logloss:0.09579#011validation-logloss:0.23743\u001b[0m\n",
      "\u001b[34m[359]#011train-logloss:0.09578#011validation-logloss:0.23713\u001b[0m\n",
      "\u001b[34m[360]#011train-logloss:0.09578#011validation-logloss:0.23713\u001b[0m\n",
      "\u001b[34m[361]#011train-logloss:0.09579#011validation-logloss:0.23701\u001b[0m\n",
      "\u001b[34m[362]#011train-logloss:0.09578#011validation-logloss:0.23713\u001b[0m\n",
      "\u001b[34m[363]#011train-logloss:0.09578#011validation-logloss:0.23716\u001b[0m\n",
      "\u001b[34m[364]#011train-logloss:0.09579#011validation-logloss:0.23756\u001b[0m\n",
      "\u001b[34m[365]#011train-logloss:0.09579#011validation-logloss:0.23773\u001b[0m\n",
      "\u001b[34m[366]#011train-logloss:0.09579#011validation-logloss:0.23766\u001b[0m\n",
      "\u001b[34m[367]#011train-logloss:0.09579#011validation-logloss:0.23753\u001b[0m\n",
      "\u001b[34m[368]#011train-logloss:0.09579#011validation-logloss:0.23738\u001b[0m\n",
      "\u001b[34m[369]#011train-logloss:0.09579#011validation-logloss:0.23742\u001b[0m\n",
      "\u001b[34m[370]#011train-logloss:0.09578#011validation-logloss:0.23728\u001b[0m\n",
      "\u001b[34m[371]#011train-logloss:0.09578#011validation-logloss:0.23719\u001b[0m\n",
      "\u001b[34m[372]#011train-logloss:0.09579#011validation-logloss:0.23746\u001b[0m\n",
      "\u001b[34m[373]#011train-logloss:0.09578#011validation-logloss:0.23731\u001b[0m\n",
      "\u001b[34m[374]#011train-logloss:0.09579#011validation-logloss:0.23740\u001b[0m\n",
      "\u001b[34m[375]#011train-logloss:0.09579#011validation-logloss:0.23704\u001b[0m\n",
      "\u001b[34m[376]#011train-logloss:0.09579#011validation-logloss:0.23694\u001b[0m\n",
      "\u001b[34m[377]#011train-logloss:0.09579#011validation-logloss:0.23692\u001b[0m\n",
      "\u001b[34m[378]#011train-logloss:0.09579#011validation-logloss:0.23696\u001b[0m\n",
      "\u001b[34m[379]#011train-logloss:0.09579#011validation-logloss:0.23701\u001b[0m\n",
      "\u001b[34m[380]#011train-logloss:0.09579#011validation-logloss:0.23698\u001b[0m\n",
      "\u001b[34m[381]#011train-logloss:0.09578#011validation-logloss:0.23713\u001b[0m\n",
      "\u001b[34m[382]#011train-logloss:0.09578#011validation-logloss:0.23719\u001b[0m\n",
      "\u001b[34m[383]#011train-logloss:0.09578#011validation-logloss:0.23721\u001b[0m\n",
      "\u001b[34m[384]#011train-logloss:0.09579#011validation-logloss:0.23757\u001b[0m\n",
      "\u001b[34m[385]#011train-logloss:0.09579#011validation-logloss:0.23749\u001b[0m\n",
      "\u001b[34m[386]#011train-logloss:0.09580#011validation-logloss:0.23775\u001b[0m\n",
      "\u001b[34m[387]#011train-logloss:0.09579#011validation-logloss:0.23771\u001b[0m\n",
      "\u001b[34m[388]#011train-logloss:0.09579#011validation-logloss:0.23758\u001b[0m\n",
      "\u001b[34m[389]#011train-logloss:0.09578#011validation-logloss:0.23718\u001b[0m\n",
      "\u001b[34m[390]#011train-logloss:0.09578#011validation-logloss:0.23718\u001b[0m\n",
      "\u001b[34m[391]#011train-logloss:0.09578#011validation-logloss:0.23720\u001b[0m\n",
      "\u001b[34m[392]#011train-logloss:0.09578#011validation-logloss:0.23719\u001b[0m\n",
      "\u001b[34m[393]#011train-logloss:0.09578#011validation-logloss:0.23711\u001b[0m\n",
      "\u001b[34m[394]#011train-logloss:0.09578#011validation-logloss:0.23717\u001b[0m\n",
      "\u001b[34m[395]#011train-logloss:0.09578#011validation-logloss:0.23720\u001b[0m\n",
      "\u001b[34m[396]#011train-logloss:0.09578#011validation-logloss:0.23714\u001b[0m\n",
      "\u001b[34m[397]#011train-logloss:0.09579#011validation-logloss:0.23698\u001b[0m\n",
      "\u001b[34m[398]#011train-logloss:0.09578#011validation-logloss:0.23732\u001b[0m\n",
      "\u001b[34m[399]#011train-logloss:0.09579#011validation-logloss:0.23742\u001b[0m\n",
      "\u001b[34m[400]#011train-logloss:0.09523#011validation-logloss:0.23636\u001b[0m\n",
      "\u001b[34m[401]#011train-logloss:0.09523#011validation-logloss:0.23631\u001b[0m\n",
      "\u001b[34m[402]#011train-logloss:0.09523#011validation-logloss:0.23648\u001b[0m\n",
      "\u001b[34m[403]#011train-logloss:0.09523#011validation-logloss:0.23656\u001b[0m\n",
      "\u001b[34m[404]#011train-logloss:0.09523#011validation-logloss:0.23626\u001b[0m\n",
      "\u001b[34m[405]#011train-logloss:0.09523#011validation-logloss:0.23591\u001b[0m\n",
      "\u001b[34m[406]#011train-logloss:0.09523#011validation-logloss:0.23599\u001b[0m\n",
      "\u001b[34m[407]#011train-logloss:0.09523#011validation-logloss:0.23605\u001b[0m\n",
      "\u001b[34m[408]#011train-logloss:0.09523#011validation-logloss:0.23604\u001b[0m\n",
      "\u001b[34m[409]#011train-logloss:0.09523#011validation-logloss:0.23608\u001b[0m\n",
      "\u001b[34m[410]#011train-logloss:0.09523#011validation-logloss:0.23634\u001b[0m\n",
      "\u001b[34m[411]#011train-logloss:0.09523#011validation-logloss:0.23618\u001b[0m\n",
      "\u001b[34m[412]#011train-logloss:0.09523#011validation-logloss:0.23601\u001b[0m\n",
      "\u001b[34m[413]#011train-logloss:0.09523#011validation-logloss:0.23611\u001b[0m\n",
      "\u001b[34m[414]#011train-logloss:0.09523#011validation-logloss:0.23632\u001b[0m\n",
      "\u001b[34m[415]#011train-logloss:0.09523#011validation-logloss:0.23619\u001b[0m\n",
      "\u001b[34m[416]#011train-logloss:0.09523#011validation-logloss:0.23639\u001b[0m\n",
      "\u001b[34m[417]#011train-logloss:0.09523#011validation-logloss:0.23646\u001b[0m\n",
      "\u001b[34m[418]#011train-logloss:0.09523#011validation-logloss:0.23659\u001b[0m\n",
      "\u001b[34m[419]#011train-logloss:0.09523#011validation-logloss:0.23659\u001b[0m\n",
      "\u001b[34m[420]#011train-logloss:0.09523#011validation-logloss:0.23657\u001b[0m\n",
      "\u001b[34m[421]#011train-logloss:0.09524#011validation-logloss:0.23666\u001b[0m\n",
      "\u001b[34m[422]#011train-logloss:0.09524#011validation-logloss:0.23676\u001b[0m\n",
      "\u001b[34m[423]#011train-logloss:0.09524#011validation-logloss:0.23667\u001b[0m\n",
      "\u001b[34m[424]#011train-logloss:0.09524#011validation-logloss:0.23667\u001b[0m\n",
      "\u001b[34m[425]#011train-logloss:0.09523#011validation-logloss:0.23656\u001b[0m\n",
      "\u001b[34m[426]#011train-logloss:0.09523#011validation-logloss:0.23650\u001b[0m\n",
      "\u001b[34m[427]#011train-logloss:0.09524#011validation-logloss:0.23667\u001b[0m\n",
      "\u001b[34m[428]#011train-logloss:0.09523#011validation-logloss:0.23637\u001b[0m\n",
      "\u001b[34m[429]#011train-logloss:0.09523#011validation-logloss:0.23650\u001b[0m\n",
      "\u001b[34m[430]#011train-logloss:0.09523#011validation-logloss:0.23649\u001b[0m\n",
      "\u001b[34m[431]#011train-logloss:0.09523#011validation-logloss:0.23648\u001b[0m\n",
      "\u001b[34m[432]#011train-logloss:0.09523#011validation-logloss:0.23620\u001b[0m\n",
      "\u001b[34m[433]#011train-logloss:0.09523#011validation-logloss:0.23628\u001b[0m\n",
      "\u001b[34m[434]#011train-logloss:0.09523#011validation-logloss:0.23625\u001b[0m\n",
      "\u001b[34m[435]#011train-logloss:0.09523#011validation-logloss:0.23621\u001b[0m\n",
      "\u001b[34m[436]#011train-logloss:0.09523#011validation-logloss:0.23614\u001b[0m\n",
      "\u001b[34m[437]#011train-logloss:0.09523#011validation-logloss:0.23625\u001b[0m\n",
      "\u001b[34m[438]#011train-logloss:0.09523#011validation-logloss:0.23631\u001b[0m\n",
      "\u001b[34m[439]#011train-logloss:0.09524#011validation-logloss:0.23668\u001b[0m\n",
      "\u001b[34m[440]#011train-logloss:0.09523#011validation-logloss:0.23647\u001b[0m\n",
      "\u001b[34m[441]#011train-logloss:0.09523#011validation-logloss:0.23636\u001b[0m\n",
      "\u001b[34m[442]#011train-logloss:0.09523#011validation-logloss:0.23622\u001b[0m\n",
      "\u001b[34m[443]#011train-logloss:0.09523#011validation-logloss:0.23635\u001b[0m\n",
      "\u001b[34m[444]#011train-logloss:0.09523#011validation-logloss:0.23623\u001b[0m\n",
      "\u001b[34m[445]#011train-logloss:0.09523#011validation-logloss:0.23605\u001b[0m\n",
      "\u001b[34m[446]#011train-logloss:0.09523#011validation-logloss:0.23605\u001b[0m\n",
      "\u001b[34m[447]#011train-logloss:0.09523#011validation-logloss:0.23577\u001b[0m\n",
      "\u001b[34m[448]#011train-logloss:0.09523#011validation-logloss:0.23578\u001b[0m\n",
      "\u001b[34m[449]#011train-logloss:0.09523#011validation-logloss:0.23582\u001b[0m\n",
      "\u001b[34m[450]#011train-logloss:0.09523#011validation-logloss:0.23575\u001b[0m\n",
      "\u001b[34m[451]#011train-logloss:0.09524#011validation-logloss:0.23569\u001b[0m\n",
      "\u001b[34m[452]#011train-logloss:0.09523#011validation-logloss:0.23592\u001b[0m\n",
      "\u001b[34m[453]#011train-logloss:0.09524#011validation-logloss:0.23569\u001b[0m\n",
      "\u001b[34m[454]#011train-logloss:0.09524#011validation-logloss:0.23558\u001b[0m\n",
      "\u001b[34m[455]#011train-logloss:0.09523#011validation-logloss:0.23580\u001b[0m\n",
      "\u001b[34m[456]#011train-logloss:0.09523#011validation-logloss:0.23578\u001b[0m\n",
      "\u001b[34m[457]#011train-logloss:0.09523#011validation-logloss:0.23600\u001b[0m\n",
      "\u001b[34m[458]#011train-logloss:0.09523#011validation-logloss:0.23582\u001b[0m\n",
      "\u001b[34m[459]#011train-logloss:0.09523#011validation-logloss:0.23615\u001b[0m\n",
      "\u001b[34m[460]#011train-logloss:0.09523#011validation-logloss:0.23594\u001b[0m\n",
      "\u001b[34m[461]#011train-logloss:0.09523#011validation-logloss:0.23599\u001b[0m\n",
      "\u001b[34m[462]#011train-logloss:0.09523#011validation-logloss:0.23597\u001b[0m\n",
      "\u001b[34m[463]#011train-logloss:0.09523#011validation-logloss:0.23584\u001b[0m\n",
      "\u001b[34m[464]#011train-logloss:0.09524#011validation-logloss:0.23569\u001b[0m\n",
      "\u001b[34m[465]#011train-logloss:0.09524#011validation-logloss:0.23566\u001b[0m\n",
      "\u001b[34m[466]#011train-logloss:0.09523#011validation-logloss:0.23584\u001b[0m\n",
      "\u001b[34m[467]#011train-logloss:0.09523#011validation-logloss:0.23609\u001b[0m\n",
      "\u001b[34m[468]#011train-logloss:0.09523#011validation-logloss:0.23628\u001b[0m\n",
      "\u001b[34m[469]#011train-logloss:0.09523#011validation-logloss:0.23613\u001b[0m\n",
      "\u001b[34m[470]#011train-logloss:0.09523#011validation-logloss:0.23651\u001b[0m\n",
      "\u001b[34m[471]#011train-logloss:0.09523#011validation-logloss:0.23630\u001b[0m\n",
      "\u001b[34m[472]#011train-logloss:0.09454#011validation-logloss:0.23665\u001b[0m\n",
      "\u001b[34m[473]#011train-logloss:0.09454#011validation-logloss:0.23681\u001b[0m\n",
      "\u001b[34m[474]#011train-logloss:0.09454#011validation-logloss:0.23683\u001b[0m\n",
      "\u001b[34m[475]#011train-logloss:0.09454#011validation-logloss:0.23708\u001b[0m\n",
      "\u001b[34m[476]#011train-logloss:0.09454#011validation-logloss:0.23703\u001b[0m\n",
      "\u001b[34m[477]#011train-logloss:0.09454#011validation-logloss:0.23696\u001b[0m\n",
      "\u001b[34m[478]#011train-logloss:0.09454#011validation-logloss:0.23714\u001b[0m\n",
      "\u001b[34m[479]#011train-logloss:0.09454#011validation-logloss:0.23714\u001b[0m\n",
      "\u001b[34m[480]#011train-logloss:0.09456#011validation-logloss:0.23747\u001b[0m\n",
      "\u001b[34m[481]#011train-logloss:0.09456#011validation-logloss:0.23752\u001b[0m\n",
      "\u001b[34m[482]#011train-logloss:0.09455#011validation-logloss:0.23727\u001b[0m\n",
      "\u001b[34m[483]#011train-logloss:0.09455#011validation-logloss:0.23717\u001b[0m\n",
      "\u001b[34m[484]#011train-logloss:0.09381#011validation-logloss:0.23712\u001b[0m\n",
      "\u001b[34m[485]#011train-logloss:0.09380#011validation-logloss:0.23699\u001b[0m\n",
      "\u001b[34m[486]#011train-logloss:0.09380#011validation-logloss:0.23703\u001b[0m\n",
      "\u001b[34m[487]#011train-logloss:0.09380#011validation-logloss:0.23708\u001b[0m\n",
      "\u001b[34m[488]#011train-logloss:0.09380#011validation-logloss:0.23701\u001b[0m\n",
      "\u001b[34m[489]#011train-logloss:0.09380#011validation-logloss:0.23707\u001b[0m\n",
      "\u001b[34m[490]#011train-logloss:0.09380#011validation-logloss:0.23685\u001b[0m\n",
      "\u001b[34m[491]#011train-logloss:0.09381#011validation-logloss:0.23649\u001b[0m\n",
      "\u001b[34m[492]#011train-logloss:0.09381#011validation-logloss:0.23638\u001b[0m\n",
      "\u001b[34m[493]#011train-logloss:0.09382#011validation-logloss:0.23628\u001b[0m\n",
      "\u001b[34m[494]#011train-logloss:0.09381#011validation-logloss:0.23646\u001b[0m\n",
      "\u001b[34m[495]#011train-logloss:0.09380#011validation-logloss:0.23666\u001b[0m\n",
      "\u001b[34m[496]#011train-logloss:0.09380#011validation-logloss:0.23694\u001b[0m\n",
      "\u001b[34m[497]#011train-logloss:0.09381#011validation-logloss:0.23735\u001b[0m\n",
      "\u001b[34m[498]#011train-logloss:0.09381#011validation-logloss:0.23728\u001b[0m\n",
      "\u001b[34m[499]#011train-logloss:0.09381#011validation-logloss:0.23730\u001b[0m\n",
      "\n",
      "2024-06-06 15:43:44 Uploading - Uploading generated training model\n",
      "2024-06-06 15:43:44 Completed - Training job completed\n",
      "Training seconds: 149\n",
      "Billable seconds: 149\n"
     ]
    }
   ],
   "source": [
    "with Run(\n",
    "    experiment_name=experiment_name,\n",
    "    run_name=f\"BYO-Code-03-framework-mode-run-{create_date()}\",\n",
    "    sagemaker_session=sm_sess,\n",
    ") as run:\n",
    "    run.log_parameters(hyperparams)\n",
    "    model_xgb.fit(inputs={\n",
    "                          'train': s3_input_train,\n",
    "                          'validation': s3_input_validation\n",
    "                             }\n",
    "                     )"
   ]
  },
  {
   "cell_type": "markdown",
   "id": "1ff635f5-4d97-41db-93bb-e52e6daa6438",
   "metadata": {},
   "source": [
    "## 3. Model Evaluation"
   ]
  },
  {
   "cell_type": "code",
   "execution_count": 24,
   "id": "2f9cc580-2398-430b-8f09-4bbb3f752e8d",
   "metadata": {},
   "outputs": [],
   "source": [
    "import json\n",
    "import os\n",
    "import tarfile\n",
    "import logging\n",
    "\n",
    "import pandas as pd\n",
    "import xgboost as xgb\n",
    "\n",
    "from sklearn import metrics"
   ]
  },
  {
   "cell_type": "markdown",
   "id": "32040eef-3e99-4766-ab38-51cea284bdbf",
   "metadata": {},
   "source": [
    "#### Get the last training Job"
   ]
  },
  {
   "cell_type": "code",
   "execution_count": 25,
   "id": "528e7c03-ceab-4e60-9494-a8eaf56586bf",
   "metadata": {},
   "outputs": [
    {
     "data": {
      "text/plain": [
       "'BYO-Code-xgboost-customer-churn-2024-06-06-15-40-14-731'"
      ]
     },
     "execution_count": 25,
     "metadata": {},
     "output_type": "execute_result"
    }
   ],
   "source": [
    "training_job_name = model_xgb.latest_training_job.job_name\n",
    "training_job_name"
   ]
  },
  {
   "cell_type": "markdown",
   "id": "3407c846-830d-47f3-92e6-952eaf57eaec",
   "metadata": {},
   "source": [
    "#### Download the weigths/file"
   ]
  },
  {
   "cell_type": "code",
   "execution_count": 26,
   "id": "9c0503a9-9612-4896-903b-026f3306fa28",
   "metadata": {},
   "outputs": [
    {
     "name": "stdout",
     "output_type": "stream",
     "text": [
      "\n",
      "2024-06-06 15:48:25 Starting - Preparing the instances for training\n",
      "2024-06-06 15:48:25 Downloading - Downloading the training image\n",
      "2024-06-06 15:48:25 Training - Training image download completed. Training in progress.\n",
      "2024-06-06 15:48:25 Uploading - Uploading generated training model\n",
      "2024-06-06 15:48:25 Completed - Training job completed\n",
      "\n",
      "s3uri_model = s3://bring-your-own-training-code-us-east-1-047922237497/xgboost-churn/output/BYO-Code-xgboost-customer-churn-2024-06-06-15-40-14-731/output/model.tar.gz\n"
     ]
    },
    {
     "data": {
      "text/plain": [
       "['./model.tar.gz']"
      ]
     },
     "execution_count": 26,
     "metadata": {},
     "output_type": "execute_result"
    }
   ],
   "source": [
    "estimator = sagemaker.estimator.Estimator.attach(training_job_name)\n",
    "s3uri_model = estimator.model_data\n",
    "print(\"\\ns3uri_model =\",s3uri_model)\n",
    "sagemaker.s3.S3Downloader.download(s3uri_model, \".\")"
   ]
  },
  {
   "cell_type": "markdown",
   "id": "2843997e-0981-4c0c-acc6-0b60cc583e20",
   "metadata": {},
   "source": [
    "#### Unzip the file"
   ]
  },
  {
   "cell_type": "code",
   "execution_count": 27,
   "id": "b0b3dcfc-45eb-44b5-89d2-cb572f8bf3ac",
   "metadata": {},
   "outputs": [],
   "source": [
    "model_zip_file = \"model.tar.gz\"\n",
    "with tarfile.open(model_zip_file) as tar:\n",
    "    tar.extractall(path=\".\")"
   ]
  },
  {
   "cell_type": "markdown",
   "id": "e7f08bae-986e-4141-bd0b-94f0f4a50043",
   "metadata": {},
   "source": [
    "#### Load the Model"
   ]
  },
  {
   "cell_type": "code",
   "execution_count": 28,
   "id": "4f7d7944-471f-45f0-8b15-8e80a66439cb",
   "metadata": {},
   "outputs": [
    {
     "name": "stdout",
     "output_type": "stream",
     "text": [
      "Loading xgboost model.\n"
     ]
    },
    {
     "data": {
      "text/plain": [
       "<xgboost.core.Booster at 0x7fb14925aa40>"
      ]
     },
     "execution_count": 28,
     "metadata": {},
     "output_type": "execute_result"
    }
   ],
   "source": [
    "import xgboost as xgb\n",
    "print(\"Loading xgboost model.\")\n",
    "xgb_model_file_path = \"xgboost-model.json\"\n",
    "xgb_model = xgb.Booster()\n",
    "xgb_model.load_model(xgb_model_file_path)\n",
    "xgb_model"
   ]
  },
  {
   "cell_type": "markdown",
   "id": "a89e34cb-85e6-4b6f-8004-7d6c634a156a",
   "metadata": {},
   "source": [
    "#### Load the Test Data on Pandas"
   ]
  },
  {
   "cell_type": "code",
   "execution_count": 29,
   "id": "95dea489-bcc9-434b-85a1-e17f691d7a0f",
   "metadata": {},
   "outputs": [
    {
     "name": "stdout",
     "output_type": "stream",
     "text": [
      "Loading test input data\n"
     ]
    },
    {
     "data": {
      "text/html": [
       "<div>\n",
       "<style scoped>\n",
       "    .dataframe tbody tr th:only-of-type {\n",
       "        vertical-align: middle;\n",
       "    }\n",
       "\n",
       "    .dataframe tbody tr th {\n",
       "        vertical-align: top;\n",
       "    }\n",
       "\n",
       "    .dataframe thead th {\n",
       "        text-align: right;\n",
       "    }\n",
       "</style>\n",
       "<table border=\"1\" class=\"dataframe\">\n",
       "  <thead>\n",
       "    <tr style=\"text-align: right;\">\n",
       "      <th></th>\n",
       "      <th>0</th>\n",
       "      <th>1</th>\n",
       "      <th>2</th>\n",
       "      <th>3</th>\n",
       "      <th>4</th>\n",
       "      <th>5</th>\n",
       "      <th>6</th>\n",
       "      <th>7</th>\n",
       "      <th>8</th>\n",
       "      <th>9</th>\n",
       "      <th>10</th>\n",
       "      <th>11</th>\n",
       "      <th>12</th>\n",
       "      <th>13</th>\n",
       "      <th>14</th>\n",
       "      <th>15</th>\n",
       "      <th>16</th>\n",
       "      <th>17</th>\n",
       "      <th>18</th>\n",
       "      <th>19</th>\n",
       "      <th>20</th>\n",
       "      <th>21</th>\n",
       "      <th>22</th>\n",
       "      <th>23</th>\n",
       "      <th>24</th>\n",
       "      <th>25</th>\n",
       "      <th>26</th>\n",
       "      <th>27</th>\n",
       "      <th>28</th>\n",
       "      <th>29</th>\n",
       "      <th>30</th>\n",
       "      <th>31</th>\n",
       "      <th>32</th>\n",
       "      <th>33</th>\n",
       "      <th>34</th>\n",
       "      <th>35</th>\n",
       "      <th>36</th>\n",
       "      <th>37</th>\n",
       "      <th>38</th>\n",
       "      <th>39</th>\n",
       "      <th>40</th>\n",
       "      <th>41</th>\n",
       "      <th>42</th>\n",
       "      <th>43</th>\n",
       "      <th>44</th>\n",
       "      <th>45</th>\n",
       "      <th>46</th>\n",
       "      <th>47</th>\n",
       "      <th>48</th>\n",
       "      <th>49</th>\n",
       "      <th>50</th>\n",
       "      <th>51</th>\n",
       "      <th>52</th>\n",
       "      <th>53</th>\n",
       "      <th>54</th>\n",
       "      <th>55</th>\n",
       "      <th>56</th>\n",
       "      <th>57</th>\n",
       "      <th>58</th>\n",
       "      <th>59</th>\n",
       "      <th>60</th>\n",
       "      <th>61</th>\n",
       "      <th>62</th>\n",
       "      <th>63</th>\n",
       "      <th>64</th>\n",
       "      <th>65</th>\n",
       "      <th>66</th>\n",
       "      <th>67</th>\n",
       "      <th>68</th>\n",
       "      <th>69</th>\n",
       "    </tr>\n",
       "  </thead>\n",
       "  <tbody>\n",
       "    <tr>\n",
       "      <th>0</th>\n",
       "      <td>0.0</td>\n",
       "      <td>186.0</td>\n",
       "      <td>0.0</td>\n",
       "      <td>137.8</td>\n",
       "      <td>97.0</td>\n",
       "      <td>187.7</td>\n",
       "      <td>118.0</td>\n",
       "      <td>146.4</td>\n",
       "      <td>85.0</td>\n",
       "      <td>8.7</td>\n",
       "      <td>6.0</td>\n",
       "      <td>1.0</td>\n",
       "      <td>0.0</td>\n",
       "      <td>0.0</td>\n",
       "      <td>0.0</td>\n",
       "      <td>0.0</td>\n",
       "      <td>0.0</td>\n",
       "      <td>0.0</td>\n",
       "      <td>0.0</td>\n",
       "      <td>0.0</td>\n",
       "      <td>0.0</td>\n",
       "      <td>0.0</td>\n",
       "      <td>0.0</td>\n",
       "      <td>0.0</td>\n",
       "      <td>0.0</td>\n",
       "      <td>0.0</td>\n",
       "      <td>0.0</td>\n",
       "      <td>0.0</td>\n",
       "      <td>1.0</td>\n",
       "      <td>0.0</td>\n",
       "      <td>0.0</td>\n",
       "      <td>0.0</td>\n",
       "      <td>0.0</td>\n",
       "      <td>0.0</td>\n",
       "      <td>0.0</td>\n",
       "      <td>0.0</td>\n",
       "      <td>0.0</td>\n",
       "      <td>0.0</td>\n",
       "      <td>0.0</td>\n",
       "      <td>0.0</td>\n",
       "      <td>0.0</td>\n",
       "      <td>0.0</td>\n",
       "      <td>0.0</td>\n",
       "      <td>0.0</td>\n",
       "      <td>0.0</td>\n",
       "      <td>0.0</td>\n",
       "      <td>0.0</td>\n",
       "      <td>0.0</td>\n",
       "      <td>0.0</td>\n",
       "      <td>0.0</td>\n",
       "      <td>0.0</td>\n",
       "      <td>0.0</td>\n",
       "      <td>0.0</td>\n",
       "      <td>0.0</td>\n",
       "      <td>0.0</td>\n",
       "      <td>0.0</td>\n",
       "      <td>0.0</td>\n",
       "      <td>0.0</td>\n",
       "      <td>0.0</td>\n",
       "      <td>0.0</td>\n",
       "      <td>0.0</td>\n",
       "      <td>0.0</td>\n",
       "      <td>0.0</td>\n",
       "      <td>0.0</td>\n",
       "      <td>0.0</td>\n",
       "      <td>1.0</td>\n",
       "      <td>1.0</td>\n",
       "      <td>0.0</td>\n",
       "      <td>1.0</td>\n",
       "      <td>0.0</td>\n",
       "    </tr>\n",
       "    <tr>\n",
       "      <th>1</th>\n",
       "      <td>0.0</td>\n",
       "      <td>132.0</td>\n",
       "      <td>25.0</td>\n",
       "      <td>113.2</td>\n",
       "      <td>96.0</td>\n",
       "      <td>269.9</td>\n",
       "      <td>107.0</td>\n",
       "      <td>229.1</td>\n",
       "      <td>87.0</td>\n",
       "      <td>7.1</td>\n",
       "      <td>7.0</td>\n",
       "      <td>2.0</td>\n",
       "      <td>0.0</td>\n",
       "      <td>0.0</td>\n",
       "      <td>0.0</td>\n",
       "      <td>0.0</td>\n",
       "      <td>0.0</td>\n",
       "      <td>0.0</td>\n",
       "      <td>0.0</td>\n",
       "      <td>0.0</td>\n",
       "      <td>0.0</td>\n",
       "      <td>0.0</td>\n",
       "      <td>0.0</td>\n",
       "      <td>0.0</td>\n",
       "      <td>0.0</td>\n",
       "      <td>0.0</td>\n",
       "      <td>0.0</td>\n",
       "      <td>0.0</td>\n",
       "      <td>0.0</td>\n",
       "      <td>0.0</td>\n",
       "      <td>0.0</td>\n",
       "      <td>1.0</td>\n",
       "      <td>0.0</td>\n",
       "      <td>0.0</td>\n",
       "      <td>0.0</td>\n",
       "      <td>0.0</td>\n",
       "      <td>0.0</td>\n",
       "      <td>0.0</td>\n",
       "      <td>0.0</td>\n",
       "      <td>0.0</td>\n",
       "      <td>0.0</td>\n",
       "      <td>0.0</td>\n",
       "      <td>0.0</td>\n",
       "      <td>0.0</td>\n",
       "      <td>0.0</td>\n",
       "      <td>0.0</td>\n",
       "      <td>0.0</td>\n",
       "      <td>0.0</td>\n",
       "      <td>0.0</td>\n",
       "      <td>0.0</td>\n",
       "      <td>0.0</td>\n",
       "      <td>0.0</td>\n",
       "      <td>0.0</td>\n",
       "      <td>0.0</td>\n",
       "      <td>0.0</td>\n",
       "      <td>0.0</td>\n",
       "      <td>0.0</td>\n",
       "      <td>0.0</td>\n",
       "      <td>0.0</td>\n",
       "      <td>0.0</td>\n",
       "      <td>0.0</td>\n",
       "      <td>0.0</td>\n",
       "      <td>0.0</td>\n",
       "      <td>0.0</td>\n",
       "      <td>1.0</td>\n",
       "      <td>0.0</td>\n",
       "      <td>1.0</td>\n",
       "      <td>0.0</td>\n",
       "      <td>0.0</td>\n",
       "      <td>1.0</td>\n",
       "    </tr>\n",
       "    <tr>\n",
       "      <th>2</th>\n",
       "      <td>0.0</td>\n",
       "      <td>112.0</td>\n",
       "      <td>17.0</td>\n",
       "      <td>183.2</td>\n",
       "      <td>95.0</td>\n",
       "      <td>252.8</td>\n",
       "      <td>125.0</td>\n",
       "      <td>156.7</td>\n",
       "      <td>95.0</td>\n",
       "      <td>9.7</td>\n",
       "      <td>3.0</td>\n",
       "      <td>0.0</td>\n",
       "      <td>0.0</td>\n",
       "      <td>0.0</td>\n",
       "      <td>0.0</td>\n",
       "      <td>0.0</td>\n",
       "      <td>0.0</td>\n",
       "      <td>0.0</td>\n",
       "      <td>0.0</td>\n",
       "      <td>0.0</td>\n",
       "      <td>0.0</td>\n",
       "      <td>0.0</td>\n",
       "      <td>0.0</td>\n",
       "      <td>0.0</td>\n",
       "      <td>0.0</td>\n",
       "      <td>0.0</td>\n",
       "      <td>0.0</td>\n",
       "      <td>0.0</td>\n",
       "      <td>0.0</td>\n",
       "      <td>0.0</td>\n",
       "      <td>0.0</td>\n",
       "      <td>1.0</td>\n",
       "      <td>0.0</td>\n",
       "      <td>0.0</td>\n",
       "      <td>0.0</td>\n",
       "      <td>0.0</td>\n",
       "      <td>0.0</td>\n",
       "      <td>0.0</td>\n",
       "      <td>0.0</td>\n",
       "      <td>0.0</td>\n",
       "      <td>0.0</td>\n",
       "      <td>0.0</td>\n",
       "      <td>0.0</td>\n",
       "      <td>0.0</td>\n",
       "      <td>0.0</td>\n",
       "      <td>0.0</td>\n",
       "      <td>0.0</td>\n",
       "      <td>0.0</td>\n",
       "      <td>0.0</td>\n",
       "      <td>0.0</td>\n",
       "      <td>0.0</td>\n",
       "      <td>0.0</td>\n",
       "      <td>0.0</td>\n",
       "      <td>0.0</td>\n",
       "      <td>0.0</td>\n",
       "      <td>0.0</td>\n",
       "      <td>0.0</td>\n",
       "      <td>0.0</td>\n",
       "      <td>0.0</td>\n",
       "      <td>0.0</td>\n",
       "      <td>0.0</td>\n",
       "      <td>0.0</td>\n",
       "      <td>0.0</td>\n",
       "      <td>0.0</td>\n",
       "      <td>1.0</td>\n",
       "      <td>0.0</td>\n",
       "      <td>1.0</td>\n",
       "      <td>0.0</td>\n",
       "      <td>0.0</td>\n",
       "      <td>1.0</td>\n",
       "    </tr>\n",
       "  </tbody>\n",
       "</table>\n",
       "</div>"
      ],
      "text/plain": [
       "    0      1     2      3     4      5      6      7     8    9    10   11  \\\n",
       "0  0.0  186.0   0.0  137.8  97.0  187.7  118.0  146.4  85.0  8.7  6.0  1.0   \n",
       "1  0.0  132.0  25.0  113.2  96.0  269.9  107.0  229.1  87.0  7.1  7.0  2.0   \n",
       "2  0.0  112.0  17.0  183.2  95.0  252.8  125.0  156.7  95.0  9.7  3.0  0.0   \n",
       "\n",
       "    12   13   14   15   16   17   18   19   20   21   22   23   24   25   26  \\\n",
       "0  0.0  0.0  0.0  0.0  0.0  0.0  0.0  0.0  0.0  0.0  0.0  0.0  0.0  0.0  0.0   \n",
       "1  0.0  0.0  0.0  0.0  0.0  0.0  0.0  0.0  0.0  0.0  0.0  0.0  0.0  0.0  0.0   \n",
       "2  0.0  0.0  0.0  0.0  0.0  0.0  0.0  0.0  0.0  0.0  0.0  0.0  0.0  0.0  0.0   \n",
       "\n",
       "    27   28   29   30   31   32   33   34   35   36   37   38   39   40   41  \\\n",
       "0  0.0  1.0  0.0  0.0  0.0  0.0  0.0  0.0  0.0  0.0  0.0  0.0  0.0  0.0  0.0   \n",
       "1  0.0  0.0  0.0  0.0  1.0  0.0  0.0  0.0  0.0  0.0  0.0  0.0  0.0  0.0  0.0   \n",
       "2  0.0  0.0  0.0  0.0  1.0  0.0  0.0  0.0  0.0  0.0  0.0  0.0  0.0  0.0  0.0   \n",
       "\n",
       "    42   43   44   45   46   47   48   49   50   51   52   53   54   55   56  \\\n",
       "0  0.0  0.0  0.0  0.0  0.0  0.0  0.0  0.0  0.0  0.0  0.0  0.0  0.0  0.0  0.0   \n",
       "1  0.0  0.0  0.0  0.0  0.0  0.0  0.0  0.0  0.0  0.0  0.0  0.0  0.0  0.0  0.0   \n",
       "2  0.0  0.0  0.0  0.0  0.0  0.0  0.0  0.0  0.0  0.0  0.0  0.0  0.0  0.0  0.0   \n",
       "\n",
       "    57   58   59   60   61   62   63   64   65   66   67   68   69  \n",
       "0  0.0  0.0  0.0  0.0  0.0  0.0  0.0  0.0  1.0  1.0  0.0  1.0  0.0  \n",
       "1  0.0  0.0  0.0  0.0  0.0  0.0  0.0  1.0  0.0  1.0  0.0  0.0  1.0  \n",
       "2  0.0  0.0  0.0  0.0  0.0  0.0  0.0  1.0  0.0  1.0  0.0  0.0  1.0  "
      ]
     },
     "execution_count": 29,
     "metadata": {},
     "output_type": "execute_result"
    }
   ],
   "source": [
    "print(\"Loading test input data\")\n",
    "test_path = \"test.csv\"\n",
    "df = pd.read_csv(test_path, header=None)\n",
    "df.head(3)"
   ]
  },
  {
   "cell_type": "code",
   "execution_count": 30,
   "id": "ff3c865c-d11d-472e-91d1-0521acb2c63d",
   "metadata": {},
   "outputs": [
    {
     "data": {
      "text/plain": [
       "(334, 70)"
      ]
     },
     "execution_count": 30,
     "metadata": {},
     "output_type": "execute_result"
    }
   ],
   "source": [
    "df.shape"
   ]
  },
  {
   "cell_type": "code",
   "execution_count": 31,
   "id": "519d75f2-93fc-41bd-b0ee-d95a3ca32510",
   "metadata": {},
   "outputs": [
    {
     "name": "stdout",
     "output_type": "stream",
     "text": [
      "Reading test data. We should get an `DMatrix` object...\n"
     ]
    },
    {
     "data": {
      "text/plain": [
       "<xgboost.core.DMatrix at 0x7fb14925ab00>"
      ]
     },
     "execution_count": 31,
     "metadata": {},
     "output_type": "execute_result"
    }
   ],
   "source": [
    "print(\"Reading test data. We should get an `DMatrix` object...\")\n",
    "y_test = df.iloc[:, 0].to_numpy()\n",
    "df.drop(df.columns[0], axis=1, inplace=True)\n",
    "X_test = xgb.DMatrix(df.values)\n",
    "X_test"
   ]
  },
  {
   "cell_type": "markdown",
   "id": "c09bf97d-700f-48ce-8538-14b36c6ec32b",
   "metadata": {},
   "source": [
    "#### Make the prediction"
   ]
  },
  {
   "cell_type": "code",
   "execution_count": 32,
   "id": "5c41c7ab-5b09-424a-97de-3df9f9675c49",
   "metadata": {},
   "outputs": [
    {
     "name": "stdout",
     "output_type": "stream",
     "text": [
      "Performing predictions against test data.\n"
     ]
    }
   ],
   "source": [
    "print(\"Performing predictions against test data.\")\n",
    "y_predictions_probs = xgb_model.predict(X_test)\n",
    "y_predictions = y_predictions_probs.round()"
   ]
  },
  {
   "cell_type": "code",
   "execution_count": 33,
   "id": "22c0af82-b48c-4451-8c59-ea69bd796973",
   "metadata": {},
   "outputs": [
    {
     "data": {
      "text/plain": [
       "array([0.01230374, 0.00619485, 0.0075826 ], dtype=float32)"
      ]
     },
     "execution_count": 33,
     "metadata": {},
     "output_type": "execute_result"
    }
   ],
   "source": [
    "y_predictions_probs[0:3]"
   ]
  },
  {
   "cell_type": "code",
   "execution_count": 34,
   "id": "55d2f846-d562-4079-99eb-6b6cfd2c0ca3",
   "metadata": {},
   "outputs": [
    {
     "data": {
      "text/plain": [
       "array([0., 0., 0.], dtype=float32)"
      ]
     },
     "execution_count": 34,
     "metadata": {},
     "output_type": "execute_result"
    }
   ],
   "source": [
    "y_predictions[0:3]"
   ]
  },
  {
   "cell_type": "markdown",
   "id": "48bf1129-6a93-4ec0-9d26-007df0ffe7a0",
   "metadata": {},
   "source": [
    "#### Get the Scores/Metrics"
   ]
  },
  {
   "cell_type": "code",
   "execution_count": 35,
   "id": "98da4639-5156-4a4c-b5e7-81dc8fcffdfe",
   "metadata": {},
   "outputs": [],
   "source": [
    "# Function to get different metrics\n",
    "def get_score(y_true,y_pred):\n",
    "    f1 = metrics.f1_score(y_true, y_pred)\n",
    "    precision = metrics.precision_score(y_true, y_pred)\n",
    "    recall = metrics.recall_score(y_true, y_pred)\n",
    "    accuracy = metrics.accuracy_score(y_true, y_pred)\n",
    "    tn, fp, fn, tp = metrics.confusion_matrix(y_true, y_pred).ravel()\n",
    "    return precision, recall, f1, accuracy, tn, fp, fn, tp"
   ]
  },
  {
   "cell_type": "markdown",
   "id": "e9a0f48b-36d4-41d3-b85d-d8bb3744e85c",
   "metadata": {},
   "source": [
    "#### Main Metrics"
   ]
  },
  {
   "cell_type": "code",
   "execution_count": 36,
   "id": "160efa2f-1a24-45d6-9358-9a50d0c13338",
   "metadata": {},
   "outputs": [
    {
     "name": "stdout",
     "output_type": "stream",
     "text": [
      "precision      0.902439\n",
      "recall         0.770833\n",
      "f1             0.831461\n",
      "accuracy       0.955090\n",
      "tp            37.000000\n",
      "fp             4.000000\n",
      "tn           282.000000\n",
      "fn            11.000000\n",
      "dtype: float64\n"
     ]
    }
   ],
   "source": [
    "precision, recall, f1, accuracy, tn, fp, fn, tp = get_score(y_test, y_predictions)\n",
    "output_columns = [precision,recall,f1,accuracy,tp, fp, tn, fn]\n",
    "output = pd.Series(output_columns, index=['precision', 'recall', 'f1', 'accuracy', 'tp', 'fp', 'tn', 'fn']) \n",
    "#print(output[['accuracy', 'tp', 'fp', 'tn', 'fn']])\n",
    "print(output)"
   ]
  },
  {
   "cell_type": "code",
   "execution_count": 37,
   "id": "787c772b-c5b2-4e01-ba51-8ef827e50e49",
   "metadata": {},
   "outputs": [
    {
     "name": "stdout",
     "output_type": "stream",
     "text": [
      "AUC = 0.9174679487179487\n"
     ]
    }
   ],
   "source": [
    "auc = metrics.roc_auc_score(y_test, y_predictions_probs)\n",
    "print(\"AUC =\", auc)"
   ]
  },
  {
   "cell_type": "markdown",
   "id": "9d08e2db-f718-4d32-8235-4b3362f13cd7",
   "metadata": {},
   "source": [
    "#### Classification Report"
   ]
  },
  {
   "cell_type": "code",
   "execution_count": 38,
   "id": "c910c70b-c0a6-4b5d-b67c-c348d33f1279",
   "metadata": {},
   "outputs": [
    {
     "name": "stdout",
     "output_type": "stream",
     "text": [
      "              precision    recall  f1-score   support\n",
      "\n",
      "         0.0       0.96      0.99      0.97       286\n",
      "         1.0       0.90      0.77      0.83        48\n",
      "\n",
      "    accuracy                           0.96       334\n",
      "   macro avg       0.93      0.88      0.90       334\n",
      "weighted avg       0.95      0.96      0.95       334\n",
      "\n"
     ]
    }
   ],
   "source": [
    "print(metrics.classification_report(y_test, y_predictions))"
   ]
  },
  {
   "cell_type": "code",
   "execution_count": 39,
   "id": "9afd259e-6ef1-4e0e-ab7e-805e226a578c",
   "metadata": {},
   "outputs": [
    {
     "data": {
      "text/plain": [
       "<sklearn.metrics._plot.confusion_matrix.ConfusionMatrixDisplay at 0x7fb1495b63e0>"
      ]
     },
     "execution_count": 39,
     "metadata": {},
     "output_type": "execute_result"
    },
    {
     "data": {
      "image/png": "[encoded data removed]",
      "text/plain": [
       "<Figure size 640x480 with 2 Axes>"
      ]
     },
     "metadata": {},
     "output_type": "display_data"
    }
   ],
   "source": [
    "confusion_m = metrics.confusion_matrix(y_test, y_predictions)\n",
    "# disp = ConfusionMatrixDisplay(confusion_matrix=confusion_m)\n",
    "# disp.plot()\n",
    "# or\n",
    "metrics.ConfusionMatrixDisplay.from_predictions(y_test, y_predictions)"
   ]
  },
  {
   "cell_type": "code",
   "execution_count": null,
   "id": "2b7919bd-110f-4d86-bdba-1d679a0d694b",
   "metadata": {},
   "outputs": [],
   "source": [
    "##############"
   ]
  },
  {
   "cell_type": "code",
   "execution_count": null,
   "id": "b7a43df6-d1ef-462a-99b0-d5c5283ae1e5",
   "metadata": {},
   "outputs": [],
   "source": []
  },
  {
   "cell_type": "code",
   "execution_count": 34,
   "id": "8d8fda84-d843-42ac-8547-cf91072f25b0",
   "metadata": {},
   "outputs": [
    {
     "name": "stdout",
     "output_type": "stream",
     "text": [
      "Performing predictions against test data.\n"
     ]
    }
   ],
   "source": [
    "print(\"Performing predictions against test data.\")\n",
    "y_predictions_probs = xgb_model.predict(X_test)\n",
    "y_predictions = y_predictions_probs.round()"
   ]
  },
  {
   "cell_type": "code",
   "execution_count": 35,
   "id": "0d01621e-c397-4b79-aa87-5dd7b494ca3a",
   "metadata": {},
   "outputs": [
    {
     "data": {
      "text/plain": [
       "array([0.01230374, 0.00619485, 0.0075826 , 0.16445525, 0.00404909],\n",
       "      dtype=float32)"
      ]
     },
     "execution_count": 35,
     "metadata": {},
     "output_type": "execute_result"
    }
   ],
   "source": [
    "y_predictions_probs[0:5]"
   ]
  },
  {
   "cell_type": "code",
   "execution_count": 36,
   "id": "5eca4074-5dc4-4583-9512-997468957313",
   "metadata": {},
   "outputs": [
    {
     "data": {
      "text/plain": [
       "array([0., 0., 0., 0., 0.], dtype=float32)"
      ]
     },
     "execution_count": 36,
     "metadata": {},
     "output_type": "execute_result"
    }
   ],
   "source": [
    "y_predictions[0:5]"
   ]
  },
  {
   "cell_type": "code",
   "execution_count": 33,
   "id": "c46635c2-4e9d-4fcf-aa76-ef55f9fd1673",
   "metadata": {},
   "outputs": [
    {
     "name": "stdout",
     "output_type": "stream",
     "text": [
      "Main metrics:\n",
      "AUC = 0.912004662004662\n",
      "Accuracy = 0.9580838323353293\n",
      "F1 Score = 0.8409090909090909\n",
      "recall = 0.7708333333333334\n",
      "precision = 0.925\n"
     ]
    }
   ],
   "source": [
    "print(\"Main metrics:\")\n",
    "auc = roc_auc_score(y_test, y_predictions_probs)\n",
    "accuracy = accuracy_score(y_test, y_predictions)\n",
    "f1 = f1_score(y_test, y_predictions)\n",
    "recall = recall_score(y_test, y_predictions)\n",
    "precision = precision_score(y_test, y_predictions)\n",
    "\n",
    "print(\"AUC =\", auc)\n",
    "print(\"Accuracy =\", accuracy)\n",
    "print(\"F1 Score =\", f1)\n",
    "print(\"recall =\", recall)\n",
    "print(\"precision =\", precision)"
   ]
  },
  {
   "cell_type": "markdown",
   "id": "020b18d1-5485-4c6e-b565-505d775957e0",
   "metadata": {},
   "source": [
    "#### Confusion Matrix"
   ]
  },
  {
   "cell_type": "code",
   "execution_count": 38,
   "id": "cff28e01-3d65-45f3-8c7a-01a79e8b082c",
   "metadata": {
    "scrolled": true
   },
   "outputs": [
    {
     "data": {
      "text/plain": [
       "array([[282,   4],\n",
       "       [ 11,  37]])"
      ]
     },
     "execution_count": 38,
     "metadata": {},
     "output_type": "execute_result"
    }
   ],
   "source": [
    "confusion_m =confusion_matrix(y_test, y_predictions)\n",
    "confusion_m"
   ]
  },
  {
   "cell_type": "code",
   "execution_count": 39,
   "id": "168badaf-7463-4ef9-b585-6af00352701c",
   "metadata": {},
   "outputs": [],
   "source": [
    "# ConfusionMatrixDisplay.from_estimator(model_xgb,X_test,y_test)  # But only support classifier"
   ]
  },
  {
   "cell_type": "code",
   "execution_count": 40,
   "id": "0df43275-8658-4d12-ad52-769050db5ff1",
   "metadata": {},
   "outputs": [
    {
     "data": {
      "text/plain": [
       "<sklearn.metrics._plot.confusion_matrix.ConfusionMatrixDisplay at 0x7f95b0b15f90>"
      ]
     },
     "execution_count": 40,
     "metadata": {},
     "output_type": "execute_result"
    },
    {
     "data": {
      "image/png": "[encoded data removed]",
      "text/plain": [
       "<Figure size 640x480 with 2 Axes>"
      ]
     },
     "metadata": {},
     "output_type": "display_data"
    }
   ],
   "source": [
    "disp = ConfusionMatrixDisplay(confusion_matrix=confusion_m)\n",
    "disp.plot()\n",
    "#ConfusionMatrixDisplay.from_predictions(y_test, y_predictions)"
   ]
  },
  {
   "cell_type": "code",
   "execution_count": 41,
   "id": "9c0569e9-b086-4e27-970c-6bf6598624c1",
   "metadata": {},
   "outputs": [
    {
     "data": {
      "text/plain": [
       "37"
      ]
     },
     "execution_count": 41,
     "metadata": {},
     "output_type": "execute_result"
    }
   ],
   "source": [
    "tp = confusion_m[1][1]\n",
    "tp"
   ]
  },
  {
   "cell_type": "code",
   "execution_count": 42,
   "id": "f22fcaa5-4485-44d4-ac6a-bc7bdd40e32a",
   "metadata": {},
   "outputs": [
    {
     "data": {
      "text/plain": [
       "4"
      ]
     },
     "execution_count": 42,
     "metadata": {},
     "output_type": "execute_result"
    }
   ],
   "source": [
    "fp = confusion_m[0][1]\n",
    "fp"
   ]
  },
  {
   "cell_type": "code",
   "execution_count": 43,
   "id": "fdea4fc1-9512-4cac-bbca-af2dc3bc981b",
   "metadata": {},
   "outputs": [
    {
     "data": {
      "text/plain": [
       "282"
      ]
     },
     "execution_count": 43,
     "metadata": {},
     "output_type": "execute_result"
    }
   ],
   "source": [
    "tn = confusion_m[0][0]\n",
    "tn"
   ]
  },
  {
   "cell_type": "code",
   "execution_count": 44,
   "id": "7f3293ac-0fdb-4522-b4b8-22f4f8a6dad8",
   "metadata": {},
   "outputs": [
    {
     "data": {
      "text/plain": [
       "11"
      ]
     },
     "execution_count": 44,
     "metadata": {},
     "output_type": "execute_result"
    }
   ],
   "source": [
    "fn = confusion_m[1][0]\n",
    "fn"
   ]
  },
  {
   "cell_type": "code",
   "execution_count": 45,
   "id": "510bc589-fbfd-4025-a6c0-d415c0448aa2",
   "metadata": {},
   "outputs": [
    {
     "data": {
      "text/plain": [
       "0.7708333333333334"
      ]
     },
     "execution_count": 45,
     "metadata": {},
     "output_type": "execute_result"
    }
   ],
   "source": [
    "re = tp / (tp + fn)\n",
    "re"
   ]
  },
  {
   "cell_type": "code",
   "execution_count": 46,
   "id": "397d489e-f81e-4ff1-9167-0e75ddadfdfb",
   "metadata": {},
   "outputs": [
    {
     "data": {
      "text/plain": [
       "0.9024390243902439"
      ]
     },
     "execution_count": 46,
     "metadata": {},
     "output_type": "execute_result"
    }
   ],
   "source": [
    "pec = tp / (tp + fp)\n",
    "pec"
   ]
  },
  {
   "cell_type": "code",
   "execution_count": 47,
   "id": "c509335e-5abb-4602-9d31-bc002a1049dc",
   "metadata": {},
   "outputs": [
    {
     "data": {
      "text/plain": [
       "0.8314606741573034"
      ]
     },
     "execution_count": 47,
     "metadata": {},
     "output_type": "execute_result"
    }
   ],
   "source": [
    "f1s = 2*re*pec / (re + pec)\n",
    "f1s"
   ]
  },
  {
   "cell_type": "code",
   "execution_count": 48,
   "id": "12839683-9a7c-4164-aa20-09b5b3c6819d",
   "metadata": {},
   "outputs": [
    {
     "data": {
      "text/plain": [
       "0.9550898203592815"
      ]
     },
     "execution_count": 48,
     "metadata": {},
     "output_type": "execute_result"
    }
   ],
   "source": [
    "ac = (tp + tn) / (tp + tn + fp + fn)\n",
    "ac"
   ]
  },
  {
   "cell_type": "code",
   "execution_count": 4,
   "id": "c88fe2dd-2f7a-452e-a314-237fdf06e0a9",
   "metadata": {},
   "outputs": [],
   "source": [
    "#################"
   ]
  },
  {
   "cell_type": "markdown",
   "id": "55d9dd0e-2862-47bd-af5c-58cde137e1b0",
   "metadata": {},
   "source": [
    "#### Creating the Evaluation report"
   ]
  },
  {
   "cell_type": "code",
   "execution_count": 40,
   "id": "f80394a8-34e4-4322-83d6-4c3cc130c2f6",
   "metadata": {},
   "outputs": [
    {
     "name": "stdout",
     "output_type": "stream",
     "text": [
      "Classification report:\n",
      "{'binary_classification_metrics': {'accuracy': {'standard_deviation': 'NaN',\n",
      "                                                'value': 0.9550898203592815},\n",
      "                                   'auc': {'standard_deviation': 'NaN',\n",
      "                                           'value': 0.9174679487179487},\n",
      "                                   'confusion_matrix': {'0': {'0': 282,\n",
      "                                                              '1': 11},\n",
      "                                                        '1': {'0': 4, '1': 37}},\n",
      "                                   'f1': {'standard_deviation': 'NaN',\n",
      "                                          'value': 0.8314606741573034},\n",
      "                                   'false_negative': {'standard_deviation': 'NaN',\n",
      "                                                      'value': 11},\n",
      "                                   'false_positive': {'standard_deviation': 'NaN',\n",
      "                                                      'value': 4},\n",
      "                                   'precision': {'standard_deviation': 'NaN',\n",
      "                                                 'value': 0.9024390243902439},\n",
      "                                   'recall': {'standard_deviation': 'NaN',\n",
      "                                              'value': 0.7708333333333334},\n",
      "                                   'true_negative': {'standard_deviation': 'NaN',\n",
      "                                                     'value': 282},\n",
      "                                   'true_positive': {'standard_deviation': 'NaN',\n",
      "                                                     'value': 37}}}\n"
     ]
    }
   ],
   "source": [
    "import pprint\n",
    "# The metrics reported can change based on the model used - check the link for the documentation \n",
    "report_dict = {\n",
    "\"binary_classification_metrics\" : {\n",
    "    \"confusion_matrix\" : {\n",
    "      \"0\" : {\n",
    "        \"0\" : tn.item(),\n",
    "        \"1\" : fn.item()\n",
    "      },\n",
    "      \"1\" : {\n",
    "        \"0\" : fp.item(),\n",
    "        \"1\" : tp.item()\n",
    "      }\n",
    "    },\n",
    "    \"recall\" : {\n",
    "      \"value\" : recall,\n",
    "      \"standard_deviation\" : \"NaN\"\n",
    "    },\n",
    "    \"precision\" : {\n",
    "      \"value\" : precision,\n",
    "      \"standard_deviation\" : \"NaN\"\n",
    "    },\n",
    "    \"accuracy\" : {\n",
    "      \"value\" : accuracy,\n",
    "      \"standard_deviation\" : \"NaN\"\n",
    "    },\n",
    "    \"true_positive\" : {\n",
    "      \"value\" : tp.item(),\n",
    "      \"standard_deviation\" : \"NaN\"\n",
    "    },\n",
    "    \"true_negative\" : {\n",
    "      \"value\" : tn.item(),\n",
    "      \"standard_deviation\" : \"NaN\"\n",
    "    },\n",
    "    \"false_positive\" : {\n",
    "      \"value\" : fp.item() ,\n",
    "      \"standard_deviation\" : \"NaN\"\n",
    "    },\n",
    "    \"false_negative\" : {\n",
    "      \"value\" : fn.item(),\n",
    "      \"standard_deviation\" : \"NaN\"\n",
    "    },\n",
    "    \"auc\" : {\n",
    "      \"value\" : auc,\n",
    "      \"standard_deviation\" : \"NaN\"\n",
    "    },\n",
    "    \"f1\" : {\n",
    "      \"value\" : f1,\n",
    "      \"standard_deviation\" : \"NaN\"\n",
    "    }\n",
    "  }\n",
    "}\n",
    "\n",
    "print(\"Classification report:\")\n",
    "pprint.pprint(report_dict)"
   ]
  },
  {
   "cell_type": "code",
   "execution_count": 41,
   "id": "2c6ce4bd-cde7-43c4-9667-2151251be0b0",
   "metadata": {},
   "outputs": [
    {
     "name": "stdout",
     "output_type": "stream",
     "text": [
      "Saving classification report to ./evaluation-report.json\n"
     ]
    }
   ],
   "source": [
    "evaluation_output_path = os.path.join(\n",
    "    \".\", \"evaluation-report.json\"\n",
    ")\n",
    "print(\"Saving classification report to {}\".format(evaluation_output_path))\n",
    "\n",
    "with open(evaluation_output_path, \"w\") as f:\n",
    "    f.write(json.dumps(report_dict))"
   ]
  },
  {
   "cell_type": "markdown",
   "id": "7b92f99a-d768-43be-aaac-73832bbae2ed",
   "metadata": {},
   "source": [
    "#### Get and save parameters used to train the model"
   ]
  },
  {
   "cell_type": "code",
   "execution_count": 42,
   "id": "bc6c5075-3e64-43d7-8ddb-aace3e8662fd",
   "metadata": {},
   "outputs": [
    {
     "data": {
      "text/plain": [
       "{'eta': '0.2',\n",
       " 'gamma': '4',\n",
       " 'max_depth': '5',\n",
       " 'min_child_weight': '6',\n",
       " 'num_round': '500',\n",
       " 'objective': '\"binary:logistic\"',\n",
       " 'sagemaker_container_log_level': '20',\n",
       " 'sagemaker_job_name': '\"BYO-Code-xgboost-customer-churn-2024-06-06-15-40-14-731\"',\n",
       " 'sagemaker_program': '\"train.py\"',\n",
       " 'sagemaker_region': '\"us-east-1\"',\n",
       " 'sagemaker_submit_directory': '\"s3://bring-your-own-training-code-us-east-1-047922237497/BYO-Code-xgboost-customer-churn-2024-06-06-15-40-14-731/source/sourcedir.tar.gz\"',\n",
       " 'subsample': '0.8',\n",
       " 'verbosity': '0'}"
      ]
     },
     "execution_count": 42,
     "metadata": {},
     "output_type": "execute_result"
    }
   ],
   "source": [
    "estimator.hyperparameters()"
   ]
  },
  {
   "cell_type": "code",
   "execution_count": 43,
   "id": "d9a17570-9fc3-492e-81bc-35982ea702af",
   "metadata": {},
   "outputs": [
    {
     "name": "stdout",
     "output_type": "stream",
     "text": [
      "Saving parameters used to train the model to ./parameters.json\n"
     ]
    }
   ],
   "source": [
    "parameter_output_path = os.path.join(\n",
    "    \".\", \"parameters.json\"\n",
    ")\n",
    "print(\"Saving parameters used to train the model to {}\".format(parameter_output_path))\n",
    "\n",
    "with open(parameter_output_path, \"w\") as f:\n",
    "    f.write(json.dumps(estimator.hyperparameters()))"
   ]
  },
  {
   "cell_type": "markdown",
   "id": "3d37b5e4-ae0f-4d90-81ad-b5152f0f07ec",
   "metadata": {},
   "source": [
    "#### Create the configuration file"
   ]
  },
  {
   "cell_type": "code",
   "execution_count": 44,
   "id": "737201d3-1699-4ecb-9d85-5aa6092b8b10",
   "metadata": {},
   "outputs": [
    {
     "data": {
      "text/plain": [
       "'683313688378.dkr.ecr.us-east-1.amazonaws.com/sagemaker-xgboost:1.7-1'"
      ]
     },
     "execution_count": 44,
     "metadata": {},
     "output_type": "execute_result"
    }
   ],
   "source": [
    "# Container image used to train the model\n",
    "estimator.training_image_uri()"
   ]
  },
  {
   "cell_type": "code",
   "execution_count": 45,
   "id": "02fcb7f0-b4aa-42cd-9608-afbb216339db",
   "metadata": {},
   "outputs": [
    {
     "name": "stdout",
     "output_type": "stream",
     "text": [
      "Configuration file:\n",
      "{'config': {'training_image_uri': {'value': '683313688378.dkr.ecr.us-east-1.amazonaws.com/sagemaker-xgboost:1.7-1'}}}\n"
     ]
    }
   ],
   "source": [
    "import pprint\n",
    "# The metrics reported can change based on the model used - check the link for the documentation \n",
    "configuration_file = {\n",
    "\"config\" : {\n",
    "    \"training_image_uri\" : {\n",
    "        \"value\" : estimator.training_image_uri()    \n",
    "    }\n",
    "  }\n",
    "}\n",
    "\n",
    "print(\"Configuration file:\")\n",
    "pprint.pprint(configuration_file)"
   ]
  },
  {
   "cell_type": "code",
   "execution_count": 46,
   "id": "da999a06-915b-4a36-b2ef-7b8f1d106a48",
   "metadata": {},
   "outputs": [
    {
     "name": "stdout",
     "output_type": "stream",
     "text": [
      "Saving configuration files to ./configuration-file.json\n"
     ]
    }
   ],
   "source": [
    "configuration_output_path = os.path.join(\n",
    "    \".\", \"configuration-file.json\"\n",
    ")\n",
    "print(\"Saving configuration files to {}\".format(configuration_output_path))\n",
    "\n",
    "with open(configuration_output_path, \"w\") as f:\n",
    "    f.write(json.dumps(configuration_file))"
   ]
  },
  {
   "cell_type": "markdown",
   "id": "7e5834e6-eb21-4598-ae44-d74b905c4a33",
   "metadata": {},
   "source": [
    "#### Push the Evaluation report, the test dataset, the parameters and the configuration file to S3 Bucket"
   ]
  },
  {
   "cell_type": "code",
   "execution_count": 47,
   "id": "e5cca1b8-b132-406d-a66e-4d205a49ec0f",
   "metadata": {},
   "outputs": [
    {
     "data": {
      "text/plain": [
       "'s3://bring-your-own-training-code-us-east-1-047922237497/final_result/evaluation-report.json'"
      ]
     },
     "execution_count": 47,
     "metadata": {},
     "output_type": "execute_result"
    }
   ],
   "source": [
    "# Push evaluation-report.json to S3\n",
    "eval_report_path = \"evaluation-report.json\"\n",
    "prefix = \"final_result\"\n",
    "s3_location = f\"s3://{s3_bucket}/{prefix}\"\n",
    "location = sagemaker.s3.S3Uploader.upload(eval_report_path, s3_location)\n",
    "location"
   ]
  },
  {
   "cell_type": "code",
   "execution_count": 48,
   "id": "1e33b9c6-c8c6-4075-ab1d-5eb8155ff423",
   "metadata": {},
   "outputs": [],
   "source": [
    "#Set the prefix for the final result\n",
    "final_prefix = \"final_result\"\n",
    "s3_location = f\"s3://{s3_bucket}/{final_prefix}\""
   ]
  },
  {
   "cell_type": "code",
   "execution_count": 49,
   "id": "cd25a084-7d77-4682-a020-20efa5591fc7",
   "metadata": {},
   "outputs": [
    {
     "data": {
      "text/plain": [
       "'s3://bring-your-own-training-code-us-east-1-047922237497/final_result/test.csv'"
      ]
     },
     "execution_count": 49,
     "metadata": {},
     "output_type": "execute_result"
    }
   ],
   "source": [
    "# Push Test DataSet to S3\n",
    "test_dataSet_path = \"test.csv\"\n",
    "location = sagemaker.s3.S3Uploader.upload(test_dataSet_path, s3_location)\n",
    "location"
   ]
  },
  {
   "cell_type": "code",
   "execution_count": 50,
   "id": "2f556f3d-8043-472f-8f3b-2c6f1cd5723a",
   "metadata": {},
   "outputs": [
    {
     "data": {
      "text/plain": [
       "'s3://bring-your-own-training-code-us-east-1-047922237497/final_result/parameters.json'"
      ]
     },
     "execution_count": 50,
     "metadata": {},
     "output_type": "execute_result"
    }
   ],
   "source": [
    "# Push Parameters to S3\n",
    "param_path = \"parameters.json\"\n",
    "location = sagemaker.s3.S3Uploader.upload(param_path, s3_location)\n",
    "location"
   ]
  },
  {
   "cell_type": "code",
   "execution_count": 51,
   "id": "fc68eace-4003-4865-a33f-7667d13346a1",
   "metadata": {},
   "outputs": [
    {
     "data": {
      "text/plain": [
       "'s3://bring-your-own-training-code-us-east-1-047922237497/final_result/configuration-file.json'"
      ]
     },
     "execution_count": 51,
     "metadata": {},
     "output_type": "execute_result"
    }
   ],
   "source": [
    "# Push the configuration file to S3\n",
    "config_file_path = \"configuration-file.json\"\n",
    "location = sagemaker.s3.S3Uploader.upload(config_file_path, s3_location)\n",
    "location"
   ]
  },
  {
   "cell_type": "code",
   "execution_count": 52,
   "id": "62c08b96-95a3-4e47-8f6d-7fe33c3cdacc",
   "metadata": {},
   "outputs": [
    {
     "data": {
      "text/plain": [
       "'s3://bring-your-own-training-code-us-east-1-047922237497/final_result/model.tar.gz'"
      ]
     },
     "execution_count": 52,
     "metadata": {},
     "output_type": "execute_result"
    }
   ],
   "source": [
    "# Push the model weights to the same location so we have every thing n the same place\n",
    "model_weights_path = \"model.tar.gz\"\n",
    "location = sagemaker.s3.S3Uploader.upload(model_weights_path, s3_location)\n",
    "location"
   ]
  },
  {
   "cell_type": "markdown",
   "id": "98b94d04-fbcc-40fe-9201-7ce405ecf925",
   "metadata": {},
   "source": [
    "#### Access the Bucket on S3"
   ]
  },
  {
   "cell_type": "code",
   "execution_count": 53,
   "id": "faad2bf6-2bf1-4957-a51c-b18a2de38147",
   "metadata": {},
   "outputs": [],
   "source": [
    "from IPython.display import display, HTML\n",
    "s3_url_link = \"https://s3.console.aws.amazon.com/s3/buckets/{}?&prefix={}/\""
   ]
  },
  {
   "cell_type": "code",
   "execution_count": 54,
   "id": "f6fd187a-2c77-4f05-b28f-ee024d7763ea",
   "metadata": {},
   "outputs": [
    {
     "data": {
      "text/html": [
       "<a href=https://s3.console.aws.amazon.com/s3/buckets/bring-your-own-training-code-us-east-1-047922237497?&prefix=final_result/>Access the Bucket on S3</a>"
      ],
      "text/plain": [
       "<IPython.core.display.HTML object>"
      ]
     },
     "metadata": {},
     "output_type": "display_data"
    }
   ],
   "source": [
    "display(HTML(f\"<a href={s3_url_link.format(s3_bucket,final_prefix)}>Access the Bucket on S3</a>\"))"
   ]
  },
  {
   "cell_type": "markdown",
   "id": "d3b384b3-431b-43e0-9116-0d73038c9b69",
   "metadata": {},
   "source": [
    "## 4. Model Registry"
   ]
  },
  {
   "cell_type": "markdown",
   "id": "131e0640-e9a2-452b-83bb-a3b48780586d",
   "metadata": {},
   "source": [
    "#### Variables needed"
   ]
  },
  {
   "cell_type": "code",
   "execution_count": 57,
   "id": "4bc85f19-0d8f-4fde-9da6-46cbaa05e2f7",
   "metadata": {},
   "outputs": [
    {
     "name": "stdout",
     "output_type": "stream",
     "text": [
      "sm_client: <botocore.client.SageMaker object at 0x7fb14c12d4e0>\n",
      "sm_xgb_image_name: 683313688378.dkr.ecr.us-east-1.amazonaws.com/sagemaker-xgboost:1.7-1\n",
      "s3uri_model: s3://bring-your-own-training-code-us-east-1-047922237497/xgboost-churn/output/BYO-Code-xgboost-customer-churn-2024-06-06-15-40-14-731/output/model.tar.gz\n"
     ]
    }
   ],
   "source": [
    "print(\"sm_client:\", sm_client)\n",
    "print(\"sm_xgb_image_name:\", sm_xgb_image_name)\n",
    "print(\"s3uri_model:\", s3uri_model)"
   ]
  },
  {
   "cell_type": "markdown",
   "id": "4018d507-6d49-4117-b169-2eccf0885ef6",
   "metadata": {},
   "source": [
    "#### Create a Model Group"
   ]
  },
  {
   "cell_type": "code",
   "execution_count": 58,
   "id": "28296d7c-0a13-44dd-9f9d-d1af5c00040e",
   "metadata": {},
   "outputs": [
    {
     "name": "stdout",
     "output_type": "stream",
     "text": [
      "ModelPackageGroup Arn : arn:aws:sagemaker:us-east-1:047922237497:model-package-group/Bring-Your-Own-Code-xgb-1717689147\n"
     ]
    }
   ],
   "source": [
    "import time\n",
    "model_package_group_name = \"Bring-Your-Own-Code-xgb-\" + str(round(time.time()))\n",
    "model_package_group_input_dict = {\n",
    " \"ModelPackageGroupName\" : model_package_group_name,\n",
    " \"ModelPackageGroupDescription\" : \"Model to predict Customers that may churn\"\n",
    "}\n",
    "\n",
    "create_model_package_group_response = sm_client.create_model_package_group(**model_package_group_input_dict)\n",
    "print('ModelPackageGroup Arn : {}'.format(create_model_package_group_response['ModelPackageGroupArn']))"
   ]
  },
  {
   "cell_type": "markdown",
   "id": "b8435beb-de9d-425e-850c-d3f83abecb7a",
   "metadata": {},
   "source": [
    "#### Register a Model Version"
   ]
  },
  {
   "cell_type": "code",
   "execution_count": 59,
   "id": "1f900897-87f4-4d30-9dd4-daaf4c38de0c",
   "metadata": {},
   "outputs": [],
   "source": [
    "modelpackage_inference_specification =  {\n",
    "    \"InferenceSpecification\": {\n",
    "      \"Containers\": [\n",
    "         {\n",
    "            \"Image\": sm_xgb_image_name,\n",
    "\t    \"ModelDataUrl\": s3uri_model\n",
    "         }\n",
    "      ],\n",
    "      \"SupportedContentTypes\": [ \"text/csv\" ],\n",
    "      \"SupportedResponseMIMETypes\": [ \"text/csv\" ],\n",
    "   }\n",
    " }"
   ]
  },
  {
   "cell_type": "code",
   "execution_count": 60,
   "id": "09d11a67-c25c-46fe-8159-488c15bf08cc",
   "metadata": {},
   "outputs": [],
   "source": [
    "# Alternatively, we can specify the model source like this:\n",
    "# modelpackage_inference_specification[\"InferenceSpecification\"][\"Containers\"][0][\"ModelDataUrl\"]=s3uri_model"
   ]
  },
  {
   "cell_type": "code",
   "execution_count": 61,
   "id": "03e9ab00-bf1e-4949-ae13-b120eee5c784",
   "metadata": {},
   "outputs": [
    {
     "data": {
      "text/plain": [
       "{'ModelPackageGroupName': 'Bring-Your-Own-Code-xgb-1717689147',\n",
       " 'ModelPackageDescription': 'Model to predict Customers that may churn',\n",
       " 'ModelApprovalStatus': 'PendingManualApproval',\n",
       " 'InferenceSpecification': {'Containers': [{'Image': '683313688378.dkr.ecr.us-east-1.amazonaws.com/sagemaker-xgboost:1.7-1',\n",
       "    'ModelDataUrl': 's3://bring-your-own-training-code-us-east-1-047922237497/xgboost-churn/output/BYO-Code-xgboost-customer-churn-2024-06-06-15-40-14-731/output/model.tar.gz'}],\n",
       "  'SupportedContentTypes': ['text/csv'],\n",
       "  'SupportedResponseMIMETypes': ['text/csv']}}"
      ]
     },
     "execution_count": 61,
     "metadata": {},
     "output_type": "execute_result"
    }
   ],
   "source": [
    "create_model_package_input_dict = {\n",
    "    \"ModelPackageGroupName\" : model_package_group_name,\n",
    "    \"ModelPackageDescription\" : \"Model to predict Customers that may churn\",\n",
    "    \"ModelApprovalStatus\" : \"PendingManualApproval\"\n",
    "}\n",
    "create_model_package_input_dict.update(modelpackage_inference_specification)\n",
    "create_model_package_input_dict"
   ]
  },
  {
   "cell_type": "code",
   "execution_count": 62,
   "id": "21af2d23-b984-46ab-8a3d-ce1e7a679cb1",
   "metadata": {},
   "outputs": [
    {
     "name": "stdout",
     "output_type": "stream",
     "text": [
      "ModelPackage Version ARN : arn:aws:sagemaker:us-east-1:047922237497:model-package/Bring-Your-Own-Code-xgb-1717689147/1\n"
     ]
    }
   ],
   "source": [
    "create_model_package_response = sm_client.create_model_package(**create_model_package_input_dict)\n",
    "model_package_arn = create_model_package_response[\"ModelPackageArn\"]\n",
    "print('ModelPackage Version ARN : {}'.format(model_package_arn))"
   ]
  },
  {
   "cell_type": "code",
   "execution_count": null,
   "id": "2bc0c91a-e2c9-47b1-980e-d25e58bc9dd4",
   "metadata": {},
   "outputs": [],
   "source": []
  }
 ],
 "metadata": {
  "kernelspec": {
   "display_name": "Python 3 (ipykernel)",
   "language": "python",
   "name": "python3"
  },
  "language_info": {
   "codemirror_mode": {
    "name": "ipython",
    "version": 3
   },
   "file_extension": ".py",
   "mimetype": "text/x-python",
   "name": "python",
   "nbconvert_exporter": "python",
   "pygments_lexer": "ipython3",
   "version": "3.10.14"
  }
 },
 "nbformat": 4,
 "nbformat_minor": 5
}
