{
 "cells": [
  {
   "cell_type": "code",
   "execution_count": null,
   "metadata": {
    "vscode": {
     "languageId": "plaintext"
    }
   },
   "outputs": [],
   "source": [
    "import boto3\n",
    "import sagemaker\n",
    "from sagemaker import Session\n",
    "from sagemaker.model import Model\n",
    "from sagemaker.transformer import Transformer\n",
    "\n",
    "# Initialize boto3 and SageMaker session\n",
    "session = sagemaker.Session()\n",
    "region = session.boto_region_name\n",
    "sm_client = boto3.client(\"sagemaker\", region_name=region)\n",
    "role = sagemaker.get_execution_role()\n",
    "\n",
    "# Variables (update these with your values)\n",
    "model_package_group_name = \"your-model-package-group-name\"  # Update with your model package group name\n",
    "model_version = \"1\"  # Specify the version of the model you want to use\n",
    "s3_input = \"s3://your-bucket-name/test.csv\"  # Path to your input data\n",
    "s3_output = \"s3://your-bucket-name/output/\"  # Path for batch transform output\n",
    "batch_transform_job_name = \"batch-transform-job\"  # Name for the batch job\n",
    "\n",
    "# Get the model ARN from the Model Registry\n",
    "model_package_arn = sm_client.describe_model_package(\n",
    "    ModelPackageGroupName=model_package_group_name,\n",
    "    ModelPackageVersion=model_version,\n",
    ")[\"ModelPackageArn\"]\n",
    "\n",
    "# Create a SageMaker model from the model package ARN\n",
    "model = Model(\n",
    "    model_data=model_package_arn,\n",
    "    role=role,\n",
    "    framework_version=\"0.23-1\",  # Update with your scikit-learn version\n",
    "    sagemaker_session=session,\n",
    ")\n",
    "\n",
    "# Deploy the model for batch transform\n",
    "transformer = Transformer(\n",
    "    model_name=model.name,\n",
    "    instance_type=\"ml.m5.large\",  # Choose the appropriate instance type\n",
    "    instance_count=1,  # Number of instances\n",
    "    output_path=s3_output,\n",
    "    sagemaker_session=session,\n",
    "    strategy=\"SingleRecord\",  # Change to \"MultiRecord\" if appropriate\n",
    ")\n",
    "\n",
    "# Start the batch transform job\n",
    "transformer.transform(\n",
    "    data=s3_input,\n",
    "    content_type=\"text/csv\",  # Update to the appropriate content type if needed\n",
    "    split_type=\"Line\",  # Update if needed (e.g., None, Line, RecordIO)\n",
    "    input_filter=\"$[1:]\",  # Update as required to filter input\n",
    ")\n",
    "\n",
    "# Wait for the job to finish\n",
    "transformer.wait()\n",
    "\n",
    "print(f\"Batch Transform Job completed. Results are saved at {s3_output}\")"
   ]
  }
 ],
 "metadata": {
  "language_info": {
   "name": "python"
  }
 },
 "nbformat": 4,
 "nbformat_minor": 2
}
