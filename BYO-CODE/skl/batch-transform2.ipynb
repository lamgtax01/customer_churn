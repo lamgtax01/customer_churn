{
 "cells": [
  {
   "cell_type": "markdown",
   "metadata": {},
   "source": [
    "from sagemaker.sklearn.model import SKLearnModel\n",
    "import sagemaker\n",
    "\n",
    "# SageMaker variables\n",
    "role = sagemaker.get_execution_role()\n",
    "output_path = f\"s3://your-bucket-name/batch-transform-output/\"\n",
    "instance_type = \"ml.m5.large\"\n",
    "\n",
    "# Get model artifact S3 URI from Model Registry\n",
    "sm_client = boto3.client('sagemaker', region_name='your-region')\n",
    "response = sm_client.describe_model_package(\n",
    "    ModelPackageGroupName=\"your-model-package-group-name\",  # Update with your Model Package Group Name\n",
    "    ModelPackageVersion=int(model_version)  # Update with your Model Version\n",
    ")\n",
    "model_tar_s3_uri = response['InferenceSpecification']['Containers'][0]['ModelDataUrl']\n",
    "print(f\"Model artifact S3 URI: {model_tar_s3_uri}\")\n",
    "\n",
    "# Create SKLearnModel with the retrieved model.tar.gz URI\n",
    "sklearn_model = SKLearnModel(\n",
    "    model_data=model_tar_s3_uri,\n",
    "    role=role,\n",
    "    entry_point=\"inference.py\",\n",
    "    framework_version=\"0.23-1\",  # Match your scikit-learn version\n",
    ")\n",
    "\n",
    "# Deploy the model to batch transform\n",
    "transformer = sklearn_model.transformer(\n",
    "    instance_count=1,\n",
    "    instance_type=instance_type,\n",
    "    output_path=output_path,\n",
    "    assemble_with=\"Line\",\n",
    "    accept=\"text/csv\",\n",
    ")\n",
    "\n",
    "# Start the batch transform job\n",
    "transformer.transform(\n",
    "    data=\"s3://your-bucket-name/test.csv\",\n",
    "    content_type=\"text/csv\",\n",
    "    split_type=\"Line\",\n",
    "    input_filter=\"$[1:]\",  # Update based on your input needs\n",
    ")\n",
    "\n",
    "# Wait for job completion\n",
    "transformer.wait()\n",
    "\n",
    "print(f\"Batch Transform Job completed. Output saved to {output_path}\")\n"
   ]
  }
 ],
 "metadata": {
  "language_info": {
   "name": "python"
  }
 },
 "nbformat": 4,
 "nbformat_minor": 2
}
